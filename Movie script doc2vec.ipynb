{
 "cells": [
  {
   "cell_type": "code",
   "execution_count": 2,
   "metadata": {},
   "outputs": [],
   "source": [
    "from collections import Counter, defaultdict\n",
    "import glob\n",
    "import json\n",
    "import os\n",
    "from os.path import join\n",
    "import re\n",
    "from typing import Dict, List\n",
    "\n",
    "from gensim.models.doc2vec import Doc2Vec, TaggedDocument\n",
    "from gensim.utils import simple_preprocess\n",
    "from gensim.parsing.preprocessing import preprocess_string, remove_stopwords, stem_text, strip_punctuation, strip_short\n",
    "import matplotlib.pyplot as plt\n",
    "import numpy as np\n",
    "import pandas as pd\n",
    "\n",
    "from sklearn.ensemble import RandomForestClassifier\n",
    "from sklearn.feature_extraction.text import TfidfVectorizer\n",
    "from sklearn.metrics import roc_auc_score\n",
    "from sklearn.model_selection import train_test_split, StratifiedKFold\n",
    "from sklearn.multioutput import MultiOutputClassifier\n",
    "from sklearn.pipeline import Pipeline\n",
    "from sklearn.preprocessing import MultiLabelBinarizer\n",
    "from sklearn.svm import SVC\n",
    "from xgboost import XGBClassifier"
   ]
  },
  {
   "cell_type": "code",
   "execution_count": 3,
   "metadata": {},
   "outputs": [],
   "source": [
    "# Change DATA_DIR per your local filepath\n",
    "\n",
    "DATA_DIR = '/home/mandar/Mandar/Tropes/TropesDataset'"
   ]
  },
  {
   "cell_type": "code",
   "execution_count": 4,
   "metadata": {},
   "outputs": [],
   "source": [
    "def get_genre_movie_list(genre: str) -> List[str]:\n",
    "    \"\"\"\n",
    "    This function returns all the json filenames containing movie dialogs\n",
    "    Args:\n",
    "        genre (str): String containing genre name.\n",
    "        \n",
    "    Returns:\n",
    "        List[str]: List of strings containing json filenames.\n",
    "    \"\"\"\n",
    "    movie_genre_json_list = []\n",
    "    if os.path.exists(join(DATA_DIR, 'ScreenPy', 'ParserOutput', genre)):\n",
    "        movies_per_genre = os.listdir(join(DATA_DIR, 'ScreenPy', 'ParserOutput', genre))\n",
    "        for movie in movies_per_genre:\n",
    "            if movie.endswith('.json'):\n",
    "                movie_genre_json_list.append(movie)\n",
    "    else:\n",
    "        print(\"Genre path does not exist!\")\n",
    "    return movie_genre_json_list"
   ]
  },
  {
   "cell_type": "code",
   "execution_count": 5,
   "metadata": {},
   "outputs": [],
   "source": [
    "def load_json_movie_dialog_file(genre: str, movie_filename: str) -> List[List[Dict[str, str]]]:\n",
    "    \"\"\"\n",
    "    Loads the json data contained in movie file:\n",
    "    Args:\n",
    "        genre (str): String containing genre name.\n",
    "        movie_filename (str): String containing movie filename.\n",
    "    \n",
    "    Returns:\n",
    "        List[List[Dict[str]]]: List of lists with each nested list containing a dictionary.\n",
    "    \"\"\"\n",
    "    with open(join(DATA_DIR, 'ScreenPy', 'ParserOutput', genre, movie_filename), 'r') as f:\n",
    "        movie_dialog_json = json.loads(f.read())\n",
    "    return movie_dialog_json"
   ]
  },
  {
   "cell_type": "code",
   "execution_count": 6,
   "metadata": {},
   "outputs": [],
   "source": [
    "def parse_movie_dialog_data(movie_json_data: List[List[Dict[str, str]]], \n",
    "                            verbose: bool = False):\n",
    "    \"\"\"\n",
    "    This function parses the movie json data, and collects the following information,\n",
    "        1. Unique characters with dialogs\n",
    "        2. Number of dialogs per character\n",
    "        3. Dialogs of all characters concatenated into a string\n",
    "    Args:\n",
    "        movie_json_data (List[List[Dict[str, str]]]): Json data containing movie character names and dialogs.\n",
    "        verbose (bool): Boolean indicating whether raw dialogs should be printed.\n",
    "        \n",
    "    Returns:\n",
    "        Dict[str, Any]: Dictionary with movie name as key and various nested dictionaries \n",
    "        containing data mentioned in function description.\n",
    "    \"\"\"\n",
    "    movie_characters = set()\n",
    "    movie_dialogs = list()\n",
    "    dialogs_per_character = defaultdict(int)\n",
    "    movie_info_dict = defaultdict()\n",
    "    for scene_dialogs in movie_json_data:\n",
    "        for dialog_info in scene_dialogs:\n",
    "            if 'speaker/title' in dialog_info['head_text']:\n",
    "                dialog_speaker = dialog_info['head_text']['speaker/title']\n",
    "                if verbose:\n",
    "                    print(f\"Speaker: {dialog_speaker}\")\n",
    "                    print(dialog_info['text'])\n",
    "                character = dialog_speaker.split('(')[0].strip()\n",
    "                movie_characters = movie_characters.union([character])\n",
    "                dialogs_per_character[character] += 1\n",
    "            movie_dialogs.append(dialog_info['text'])\n",
    "\n",
    "    movie_info_dict['characters'] = movie_characters\n",
    "    movie_info_dict['actor_dialog_count'] = dialogs_per_character\n",
    "    movie_info_dict['dialogs_list'] = movie_dialogs\n",
    "    movie_info_dict['dialogs'] = ' '.join(movie_dialogs)\n",
    "    return movie_info_dict"
   ]
  },
  {
   "cell_type": "code",
   "execution_count": 7,
   "metadata": {},
   "outputs": [
    {
     "name": "stdout",
     "output_type": "stream",
     "text": [
      "Action 290 263\n",
      "Drama 579 399\n",
      "Thriller 373 242\n",
      "Comedy 347 199\n",
      "Crime 201 122\n",
      "Romance 192 102\n",
      "Adventure 166 72\n",
      "Sci-Fi 155 90\n",
      "Horror 149 83\n",
      "Animation 35 3\n",
      "War 26 14\n",
      "Family 39 13\n",
      "Musical 22 11\n",
      "Mystery 107 60\n"
     ]
    }
   ],
   "source": [
    "# Read all movie script json files for Action genre\n",
    "genres = ['Action', 'Drama', 'Thriller', 'Comedy', 'Crime', 'Romance', 'Adventure', 'Sci-Fi', 'Horror', \n",
    "          'Animation', 'War', 'Family', 'Musical', 'Mystery']\n",
    "genre_movie_json_list = []\n",
    "movie_names = []\n",
    "tropes = []\n",
    "genre_list = []\n",
    "for genre in genres:\n",
    "    genre_movie_json_list = get_genre_movie_list(genre)\n",
    "    # Remove .json file extension from movie filenames\n",
    "    movie_list = [movie.split('.json')[0] for movie in genre_movie_json_list]\n",
    "    # Find movies that match with TvTropes\n",
    "    # Read csv file mapping movie names containing script data with their tropes\n",
    "    genre_movie_script_trope_df = pd.read_csv(join(DATA_DIR, f'{genre.lower()}_movie_script_trope_match.csv'))\n",
    "    movie_match_df = genre_movie_script_trope_df.loc[genre_movie_script_trope_df.Movie_Script.isin(movie_list)].copy()\n",
    "    print(genre, len(movie_list), len(movie_match_df))\n",
    "    movie_names += movie_match_df.Movie_Script.tolist()\n",
    "    tropes += movie_match_df.Movie_Trope.tolist()    \n",
    "    genre_list += [genre] * len(movie_match_df)\n",
    "\n",
    "movie_tropes_df = pd.DataFrame(list(zip(movie_names, tropes, genre_list)), columns=['Movies', 'Tropes', 'Genre'])"
   ]
  },
  {
   "cell_type": "code",
   "execution_count": 8,
   "metadata": {
    "scrolled": true
   },
   "outputs": [
    {
     "data": {
      "text/plain": [
       "(776, 3)"
      ]
     },
     "execution_count": 8,
     "metadata": {},
     "output_type": "execute_result"
    }
   ],
   "source": [
    "movie_tropes_df = movie_tropes_df.drop_duplicates(subset=['Movies', 'Tropes'])\n",
    "movie_tropes_df.shape"
   ]
  },
  {
   "cell_type": "markdown",
   "metadata": {},
   "source": [
    "## Read TvTropes Json file"
   ]
  },
  {
   "cell_type": "code",
   "execution_count": 9,
   "metadata": {},
   "outputs": [],
   "source": [
    "# Read json file contianing movie tropes\n",
    "with open(join(DATA_DIR, 'films_tropes_20190501.json'), 'rb') as file:\n",
    "    tvtropes_json_dict = json.load(file)"
   ]
  },
  {
   "cell_type": "code",
   "execution_count": 10,
   "metadata": {},
   "outputs": [
    {
     "data": {
      "text/plain": [
       "dict_keys(['ABCsOfDeath2', 'ABeautifulDayInTheNeighborhood', 'ABeautifulMind', 'ABetterTomorrow', 'ABirdersGuideToEverything', 'ABittersweetLife', 'ABoyAndHisDog', 'ABreathOfScandal', 'ABridesRevenge', 'ABridgeTooFar', 'ABrighterSummerDay', 'ABronxMorning', 'ABronxTale', 'ABucketOfBlood', 'ABulletForTheGeneral', 'ACanterburyTale', 'ACaseOfSpringFever', 'AChairyTale', 'AChineseGhostStory', 'AChineseOdyssey', 'AChristmasCarol1938', 'AChristmasCarol1984', 'AChristmasCarol1999', 'AChristmasCarol2000', 'AChristmasCarolGoesWrong', 'AChristmasCarolTheMusical', 'AChristmasHorrorStory', 'AChristmasPrince', 'AChristmasStory', 'ACinderellaStory', 'ACinderellaStoryOnceUponASong', 'AClockworkOrange', 'AColtIsMyPassport', 'ACornerInWheat', 'ACountryChristmas', 'ACureForPokeritis', 'ACureForWellness', 'ACuriousConjunctionOfCoincidences', 'ADangerousLife', 'ADangerousMethod', 'ADarkSong', 'ADateWithYourFamily', 'ADayAtTheRaces', 'ADayInTheCountry', 'ADayOfJudgment', 'ADayWithoutAMexican', 'ADogsLife', 'ADogsPurpose', 'ADoubleLife', 'AFaceInTheCrowd', 'AFairlyOddMovieGrowUpTimmyTurner', 'AFantasticFearOfEverything', 'AFantasticWoman', 'AFewGoodMen', 'AFieldInEngland', 'AFilmWithMeInIt', 'AFineMess', 'AFishCalledWanda', 'AFistfulOfDollars', 'AFistfulOfDynamite', 'AFoolThereWas', 'AForeignAffair', 'AFreeSoul', 'AFunnyThingHappenedOnTheWayToThorsHammer', 'AFutileAndStupidGesture', 'AGatheringOfEagles', 'AGeneration', 'AGhostStory', 'AGirlLikeHer', 'AGirlNamedSooner', 'AGirlWalksHomeAloneAtNight', 'AGnomeNamedGnorm', 'AGoodDayToDieHard', 'AGoodYear', 'AGuideToRecognizingYourSaints', 'AGunForGeorge', 'AGunfight', 'AGuyNamedJoe', 'AHardDay', 'AHardDaysNight', 'AHauntedHouse', 'AHenInTheWind', 'AHistoryOfViolence', 'AHorribleWayToDie', 'AIArtificialIntelligence', 'AKidInKingArthursCourt', 'AKingInNewYork', 'AKnightsTale', 'ALeagueOfTheirOwn', 'ALetterToThreeWives', 'ALifeLessOrdinary', 'ALonelyPlaceToDie', 'ALotLikeLove', 'AM1200', 'AMaSoeur', 'AManAndAWoman', 'AManEscaped', 'AMarineStory', 'AMatterOfFaith', 'AMatterOfLifeAndDeath', 'AMidnightClear', 'AMidsummerNightsSexComedy', 'AMightyHeart', 'AMightyWind', 'AMillionWaysToDieInTheWest', 'AMonsterCalls', 'AMostViolentYear', 'AMovie', 'AMurderOfCrows', 'ANewHope', 'ANewLeaf', 'ANightAtTheMovies', 'ANightAtTheOpera', 'ANightAtTheRoxbury', 'ANightToDismember', 'ANightToRemember', 'ANightmareOnElmStreet1984', 'ANightmareOnElmStreet2010', 'ANightmareOnElmStreet3DreamWarriors', 'ANightmareOnElmStreet4TheDreamMaster', 'ANightmareOnElmStreet5TheDreamChild', 'ANightmareOnElmStreetPart2FreddysRevenge', 'ANousLaLiberte', 'APageOfMadness', 'APatchOfBlue', 'APearlInTheForest', 'APerfectGetaway', 'APerfectMurder', 'APigeonSatOnABranchReflectingOnExistence', 'APlaceInTheSun', 'APlaceToStand', 'APrairieHomeCompanion', 'APrincessForChristmas', 'AProphet', 'AQuietPlace', 'ARQ', 'ARealFriend', 'AReportOnThePartyAndTheGuests', 'ARiverRunsThroughIt', 'ARoyalAffair', 'ARoyalNightOut', 'ASailorMadeMan', 'ASeparation', 'ASerbianFilm', 'ASeriesOfUnfortunateEvents2004', 'ASeriousMan', 'AShockToTheSystem', 'AShotInTheDark', 'ASimpleFavor', 'ASimplePlan', 'ASimpleWish', 'ASoldiersStory', 'ASongIsBorn', 'ASoundOfThunder', 'ASpecialDay', 'AStarIsBorn1937', 'AStarIsBorn1954', 'AStarIsBorn1976', 'AStarIsBorn2018', 'AStolenLife', 'AStoryOfFloatingWeeds', 'AStraightforwardBoy', 'AStreetcarNamedDesire', 'AStudyInReds', 'AStudyInTerror', 'ASummersTale', 'ASundayInTheCountry', 'ATL', 'ATaleOfTwoSisters', 'ATaleOfWinter', 'ATalkingCat', 'ATaxiDriver', 'AThousandClowns', 'AThousandWords', 'ATicklishAffair', 'ATimeForBurning', 'ATimeOutOfWar', 'ATimeToKill', 'ATouchOfClass', 'ATouchOfZen', 'ATripDownMarketStreet', 'ATripToTheMoon', 'AUnitedKingdom', 'AVeryHaroldAndKumar3DChristmas', 'AVeryLongEngagement', 'AViewToAKill', 'AWalkAmongTheTombstones', 'AWalkInTheSun', 'AWalkOnTheMoon', 'AWalkToRemember', 'AWar', 'AWedding', 'AWindowInLondon', 'AWomanAgedThirtyThree', 'AWomanOfParis', 'AWomanUnderTheInfluence', 'AWomansTale', 'AWrinkleInTime2003', 'AWrinkleInTime2018', 'AYearOfTheQuietSun', 'AbacusSmallEnoughToJail', 'AbbottAndCostelloMeetFrankenstein', 'AbductedInPlainSight', 'Abduction', 'AbductionOfEden', 'Abel', 'Abominable', 'AboutAlex', 'AboutLastNight', 'AboutSchmidt', 'AboutTime', 'AboveTheLaw', 'AbrahamLincoln1930', 'AbrahamLincolnVampireHunter', 'AbrahamLincolnVsZombies', 'AbraxasGuardianOfTheUniverse', 'Absentia', 'Absolon', 'AbsoluteBeginners', 'AbsolutePower', 'AbsolutelyAnything', 'Absurd', 'Accepted', 'AccidentMan', 'AccidentalHero', 'AccordingToGreta', 'AceHigh', 'AceInTheHole', 'AceOfAces', 'AceVentura', 'AceVenturaWhenNatureCalls', 'AcesGoPlaces', 'Acrimony', 'AcrossTheUniverse', 'ActOfValor', 'ActOfViolence', 'ActionJackson', 'Adam', 'AdamsApples', 'AdamsRib', 'Adaptation', 'AddictedToLove', 'AdeleHasntHadHerDinnerYet', 'Admiral', 'Admission', 'AdoptingTerror', 'Adrift', 'Adrift2018', 'AdultWorld', 'Advantageous', 'Adventureland', 'AdventuresInBabysitting', 'AdventuresInBabysitting2016', 'AdventuresInDinosaurCity', 'AdviseAndConsent', 'Aelita', 'AeonFlux', 'Afflicted', 'Affliction', 'After', 'AfterDarkMySweet', 'AfterDeath', 'AfterEarth', 'AfterHours', 'AfterLastSeason', 'AfterLife', 'AfterTheDark', 'AfterTheRain', 'AfterTheSunset', 'AfterTheThinMan', 'AfterTheWedding', 'Aftermath', 'AfternoonDelight', 'Aftershock', 'AgeOfConsent', 'AgeOfSummerhood', 'AgentCarter', 'AgentCodyBanks', 'AgentForHARM', 'AggieApplebyMakerOfMen', 'AgnesAndHisBrothers', 'AgnesOfGod', 'Agora', 'AguirreTheWrathOfGod', 'AhBoysToMen', 'AikokuSentaiDaiNippon', 'AintThemBodiesSaints', 'Air', 'AirAmerica', 'AirBud', 'AirBuddies2006', 'AirDoll', 'AirForce', 'AirForceOne', 'Airborne', 'Airheads', 'Airplane', 'AirplaneIITheSequel', 'Airport', 'AkeelahAndTheBee', 'Akunin', 'AlDiLaDellaLegge', 'Aladdin2019', 'Alaipayuthey', 'AlanPartridgeAlphaPapa', 'Alaska', 'AlexAndEmma', 'AlexCross', 'AlexInWonderland', 'Alexander', 'AlexanderAndTheTerribleHorribleNoGoodVeryBadDay', 'AlexanderNevsky', 'AlexandersRagtimeBand', 'Alfie', 'Algiers', 'Ali', 'AliFearEatsTheSoul', 'AliGIndahouse', 'Alibi1929', 'Alice1988', 'Alice1990', 'AliceDoesntLiveHereAnymore', 'AliceInMurderland', 'AliceInTheCities', 'AliceInWonderland1985', 'AliceInWonderland1999', 'AliceInWonderland2010', 'AliceSweetAlice', 'AliceThroughTheLookingGlass', 'AlicesRestaurant', 'Alien', 'Alien2OnEarth', 'Alien3', 'Alien40thAnniversaryShorts', 'AlienAbduction2014', 'AlienAbductionIncidentInLakeCounty', 'AlienCargo', 'AlienCovenant', 'AlienFromLA', 'AlienNation', 'AlienOutlaw', 'AlienRaiders', 'AlienResurrection', 'AlienSeige', 'AlienVsNinja', 'AlienVsPredator', 'Aliens', 'AliensInTheAttic', 'AliensVsPredatorRequiem', 'AlitaBattleAngel', 'Alive', 'AliveInJoburg', 'AllAboutEve', 'AllAboutLilyChouChou', 'AllAboutMyMother', 'AllAboutSteve', 'AllCheerleadersDie', 'AllHallowsEve', 'AllIWannaDo', 'AllIWantForChristmas', 'AllIsLost', 'AllMonstersAttack', 'AllMyLovedOnes', 'AllNighter', 'AllOfMe', 'AllQuietOnTheWesternFront', 'AllSuperheroesMustDie', 'AllThatHeavenAllows', 'AllThatJazz', 'AllTheBoysLoveMandyLane', 'AllTheMoneyInTheWorld', 'AllThePresidentsMen', 'AllTheTroublesOfTheWorld', 'AllThingsFair', 'AllThisAndHeavenToo', 'AllThroughTheNight', 'AlleluiaTheDevilsCarnival', 'AllesIsFamilie', 'AllesIsLiefde', 'Allied', 'Alligator', 'AlligatorPie', 'AlmightyThor', 'AlmostAnAngel', 'AlmostAngels', 'AlmostFamous', 'AlmostHeroes', 'Aloha', 'AloneInTheDark1982', 'AloneInTheDark2005', 'AlongCameASpider', 'AlongCamePolly', 'AlongWithTheGodsTheTwoWorlds', 'Alpha2018', 'AlphaDog', 'Alphaville', 'Alps', 'AlreadyTomorrowInHongKong', 'AlteredStates', 'Altitude', 'AlvinAndTheChipmunks', 'AlvinPurple', 'Always', 'AlwaysCrashingInTheSameCar', 'AlwaysWatchingAMarbleHornetsStory', 'Amadeus', 'Amal', 'AmandaKnoxMurderOnTrialInItaly', 'AmarTeDuele', 'Amarcord', 'AmazingGrace', 'AmazingGraceAndChuck', 'AmazonWomenOnTheMoon', 'Amazons', 'AmbassadorBill', 'AmberAlert', 'Amelie', 'Amen', 'AmeriGeddon', 'America3000', 'AmericaAmerica', 'AmericanAnimals', 'AmericanBeauty', 'AmericanDreamer', 'AmericanDreamz', 'AmericanGangster', 'AmericanGraffiti', 'AmericanHistoryX', 'AmericanHustle', 'AmericanJustice', 'AmericanMade', 'AmericanMary', 'AmericanMe', 'AmericanMeltdown', 'AmericanMovie', 'AmericanNightmare2002', 'AmericanNinja', 'AmericanPie', 'AmericanPsycho2AllAmericanGirl', 'AmericanSatan', 'AmericanSniper', 'AmericanUltra', 'AmericasSweethearts', 'Americathon', 'AmicheDaMorire', 'Amigo', 'Amistad', 'Amityville3D', 'AmityvilleANewGeneration', 'AmityvilleDollhouse', 'AmityvilleIIThePossession', 'AmityvilleItsAboutTime', 'AmityvilleTheAwakening', 'AmityvilleTheEvilEscapes', 'AmoresPerros', 'AmosAndAndrew', 'Amour', 'Amsterdamned', 'Amusement', 'Amy1998', 'Amy2015', 'AnActorsRevenge', 'AnAdventureInSpaceAndTime', 'AnAffairToRemember', 'AnAlanSmitheeFilmBurnHollywoodBurn', 'AnAmericanCarol', 'AnAmericanChristmasCarol', 'AnAmericanCrime', 'AnAmericanHaunting', 'AnAmericanHippieInIsrael', 'AnAmericanInParis', 'AnAmericanWerewolfInLondon', 'AnAmericanWerewolfInParis', 'AnArcticTale', 'AnAutumnAfternoon', 'AnEducation', 'AnElephantSittingStill', 'AnInconvenientTruth', 'AnInnocentMan', 'AnOfficerAndAGentleman', 'AnUnmarriedWoman', 'Ana', 'Anaconda', 'AnacondasTheHuntForTheBloodOrchid', 'AnalyzeThis', 'Anamorph', 'Anastasia', 'Anatomy', 'Anatomy2', 'AnatomyOfAMurder', 'AnatomyOfHell', 'Anchorman2TheLegendContinues', 'AnchormanTheLegendOfRonBurgundy', 'AnchorsAweigh', 'AndGodCreatedWoman', 'AndGodSaidToCain', 'AndJusticeForAll', 'AndNowTheScreamingStarts', 'AndQuietFlowsTheDon', 'AndSoonTheDarkness', 'AndStarringPanchoVillaAsHimself', 'AndTheBandPlayedOn', 'AndYouThoughtYourParentsWereWeird', 'Andhadhun', 'AndreiRublev', 'AndroclesAndTheLion', 'AndroidCop', 'AndyHardy', 'AndyWarholsBad', 'AngProbinsyano', 'AngelAndBigJoe', 'AngelAndTheBadman', 'AngelDog', 'AngelEyes', 'AngelFace', 'AngelHeart', 'AngelOnMyShoulder', 'AngelsInTheOutfield', 'AngelsRevenge', 'AngelsWithDirtyFaces', 'AngerManagement', 'AngryVideoGameNerdTheMovie', 'Angst1983', 'Angus', 'AnimalGames', 'AnimalHouse', 'AnimalKingdom', 'AnimalRoom', 'AnimalWinterGames', 'AnnaAndTheApocalypse', 'AnnaAndTheKing', 'AnnaKarenina1935', 'Annabelle', 'AnnabelleCreation', 'AnneOfTheIndies', 'Annie1982', 'Annie1999', 'Annie2014', 'AnnieARoyalAdventure', 'AnnieHall', 'Annihilation2018', 'Anon', 'Anonymous', 'AnotherCinderellaStory', 'AnotherCountry', 'AnotherEarth', 'AnotherGayMovie', 'AnotherMe', 'AnotherThinMan', 'AnotherTimeAnotherPlace', 'AnotherYear', 'AntMan', 'AntManAndTheWasp', 'AnthonyAdverse', 'Anthropoid', 'Antichrist', 'Antitrust', 'Antiviral', 'AntoineAndColette', 'AntoniasLine', 'AntwoneFisher', 'AnvilTheStoryOfAnvil', 'AnyGivenSunday', 'AnyQuestionsForBen', 'AnythingElse', 'Apaches', 'Aparajito', 'Apartment143', 'ApartmentZero', 'Apocalypse', 'ApocalypseNow', 'ApocalypseOfTheDead', 'Apocalypto', 'ApogeeOfFear', 'Apollo13', 'Apollo18', 'Apostle', 'Appaloosa', 'Applause', 'April9th', 'AprilFoolsDay', 'AprilShowers', 'ApurSansar', 'Aquaman2018', 'Aquamarine', 'AquaticWizards', 'Arachnia', 'Arachnophobia', 'Ararat', 'Arbitrage', 'Arcade', 'ArchieToRiverdaleAndBackAgain', 'Arctic', 'AreWeThereYet', 'AreYouAfraidOfTheDark', 'Area51', 'Arena1953', 'Arena1989', 'Argo', 'Ariel', 'ArizonaDream', 'ArjunReddy', 'ArlingtonRoad', 'Armageddon', 'ArmorOfGod', 'Armored', 'Army', 'ArmyOfDarkness', 'ArmyOfOne', 'ArmyOfShadows', 'AroundTheWorldInEightyDays1956', 'AroundTheWorldInEightyDays2004', 'Arrival', 'ArrowTheUltimateWeapon', 'Arrowhead', 'ArseneLupin1932', 'ArseneLupin2004', 'ArtemisFowl', 'Arthur', 'ArthurAndTheInvisibles', 'ArtistsAndModels', 'AsAboveSoBelow', 'AsGoodAsItGets', 'AsItIsInHeaven', 'AsOne', 'Asako1And2', 'AshIsPurestWhite', 'AshWaltz', 'AshesAndDiamonds', 'AskAnyGirl', 'AskFather', 'AspenExtreme', 'AssassinationGames', 'AssassinationNation', 'AssassinationOfAHighSchoolPresident', 'Assassins', 'AssassinsCreed2016', 'AssassinsCreedLineage', 'AssaultGirls', 'AssaultOnPrecinct131976', 'AssaultOnPrecinct132005', 'AssaultOnWallStreet', 'AssignmentVenezuela', 'AsterixAndObelixGodSaveBritannia', 'AsterixAndObelixMissionCleopatra', 'AsterixAndObelixTakeOnCaesar', 'Astro', 'AsylumBlackout', 'AtFiveInTheAfternoon', 'AtLongLastLove', 'AtanarjuatTheFastRunner', 'AtlanticCity', 'AtlanticRim', 'AtlanticWall', 'AtlasShrugged', 'AtomicBlonde', 'AtomicTrain', 'AtomicTwister', 'Atonement', 'Atragon', 'AttackForce', 'AttackOfThe50FootWoman', 'AttackOfTheClones', 'AttackOfTheCrabMonsters', 'AttackOfTheEyeCreatures', 'AttackOfTheGiantLeeches', 'AttackOfTheKillerTomatoes', 'AttackOfTheMoonZombies', 'AttackOfThePuppetPeople', 'AttackOnTitan2015', 'AttackTheBlock', 'AttackTheGasStation', 'Attenberg', 'AuHasardBalthazar', 'AuPair', 'AuRevoirLesEnfants', 'Audition', 'AugustRush', 'AugustUnderground', 'Aurora', 'Austenland', 'AustinPowers', 'Australia', 'AustralianRules', 'Automata', 'Autopsy', 'Autostop', 'AutumnInNewYork', 'AutumnSonata', 'Avalanche', 'Avalon', 'AvasPossessions', 'Avatar', 'AveMaria', 'AvengersAgeOfUltron', 'AvengersEndgame', 'AvengersGrimm', 'AvengersInfinityWar', 'AvengingForce', 'AwaitFurtherInstructions', 'Awake', 'Awakenings', 'AwayWeGo', 'AxEm', 'Axe', 'Axeman', 'Aya', 'Azumi', 'BAT21', 'BMXBandits', 'BPMBeatsPerMinute', 'BUTter', 'Baahubali', 'Babe', 'BabePigInTheCity', 'Babel', 'BabesInArms', 'BabesInToyland1934', 'BabettesFeast', 'BabyBoy', 'BabyDoll', 'BabyDriver', 'BabyFace', 'BabyGeniuses', 'BabyMama', 'BabySecretOfTheLostLegend', 'BabylonAD', 'BabysDayOut', 'BabysitterMassacre', 'BachelorMother', 'BachelorParty', 'Bachelorette', 'BackToSchool', 'BackToTheBeach', 'BackToTheFuture', 'BackToTheFuturePartII', 'BackToTheFuturePartIII', 'Backbeat', 'Backdraft', 'BackyardWedding', 'BadBoyBubby', 'BadBoys', 'BadBoysII', 'BadCompany', 'BadDayAtBlackRock', 'BadDreams1988', 'BadEducation2004', 'BadEggs', 'BadGenius', 'BadGirl', 'BadGirlsFromValleyHigh', 'BadGrandpa', 'BadInfluence', 'BadLieutenant', 'BadMoms', 'BadMoon', 'BadReputation', 'BadRonald', 'BadSamaritan', 'BadSanta', 'BadTaste', 'BadTeacher', 'BadTimesAtTheElRoyale', 'BadTiming', 'BadWords', 'Badass', 'Badlands', 'BadlyDrawnRoy', 'Baghead', 'Bait3D', 'BakuryuuSentaiAbarangerDELUXEAbareSummerIsFreezingCold', 'BakuryuuSentaiAbarangerVsHurricaneger', 'BallOfFire', 'BalladOfASoldier', 'BallisticEcksVsSever', 'BallsOfFury', 'Bamboozled', 'Bananas', 'BandOfRobbers', 'BandOfTheHand', 'BandeAPart', 'Bandidas', 'Bandits', 'Bandits1997', 'Bandolero1968', 'Bandslam', 'BangBoomBang', 'BankShot', 'Banlieue13', 'Banlieue13Ultimatum', 'Banshee2008', 'BansheeChapter', 'Baraka', 'BarbWire', 'Barbarella', 'BarbarianQueen', 'Barbershop', 'Barcelona', 'Barefoot', 'BarelyLethal', 'Barfly', 'BarryLyndon', 'BartonFink', 'Baseketball', 'Basic', 'BasicInstinct', 'BasicInstinct2', 'BasketCase', 'Baskin', 'BastardOutOfCarolina', 'Bastards', 'BastilleDay', 'Bataan', 'BatalhaDosGuararapes', 'BatesMotel1987', 'BatismoDeSangue', 'Batman1989', 'BatmanAndRobin', 'BatmanAndRobinSerial', 'BatmanBegins', 'BatmanForever', 'BatmanReturns', 'BatmanTheMovie', 'BatmanVSupermanDawnOfJustice', 'Bats', 'BatteriesNotIncluded', 'BattleBeyondTheStars', 'BattleBeyondTheSun', 'BattleCry1955', 'BattleForThePlanetOfTheApes', 'BattleInOuterSpace', 'BattleLosAngeles', 'BattleOfBritain', 'BattleOfMoscow', 'BattleOfOkinawa', 'BattleOfTheBulge', 'BattleOfTheSexes', 'BattlefieldBaseball', 'BattlefieldEarth', 'Battleground', 'BattlesWithoutHonorAndHumanity', 'Battleship', 'Baywatch2017', 'BeCool', 'BeKindRewind', 'BeWithYou', 'BeachBlanketBingo', 'Beaches', 'Bean', 'Beast2017', 'BeastOfTheYellowNight', 'BeastStalker', 'BeastsOfNoNation', 'BeastsOfTheSouthernWild', 'BeatTheDevil', 'BeauTravail', 'BeautifulBoy', 'BeautifulCreatures', 'BeautifulGirls', 'BeautyAndTheBeast1946', 'BeautyAndTheBeast2014', 'BeautyAndTheBeast2017', 'BeautyAndTheBestie', 'BeautyShop', 'Beck', 'Becket', 'Bedazzled1967', 'Bedazzled2000', 'Bedeviled', 'BedknobsAndBroomsticks', 'Bedlam', 'BedroomsAndHallways', 'BedtimeForBonzo', 'BedtimeStories', 'Beerfest', 'Beethoven', 'Beetlejuice', 'BeforeIFall', 'BeforeIGoToSleep', 'BeforeIWake', 'BeforeSunrise', 'BeforeSunset', 'BeforeTheDevilKnowsYoureDead', 'BeforeTheFall', 'BeforeTheRain', 'BeginAgain', 'BeginningOfTheEnd', 'Begotten', 'BehindEnemyLines', 'BehindTheCandelabra', 'BehindTheGreenDoor', 'BehindTheMaskTheRiseOfLeslieVernon', 'BehindTheWaterfall', 'BeingElmoAPuppeteersJourney', 'BeingHomerSimpson', 'BeingJohnMalkovich', 'BeingThere', 'BeingTwoIsntEasy', 'BellBookAndCandle', 'Belle', 'BelleDeJour', 'Belly', 'Below', 'Ben10AlienSwarm', 'Ben10RaceAgainstTime', 'BenAndArthur', 'BenX', 'Benchwarmers', 'BendItLikeBeckham', 'BendOfTheRiver', 'BeneathHill60', 'BeneathThePlanetOfTheApes', 'Benji', 'BennyAndJoon', 'Bent', 'Beowulf1999', 'BerberianSoundStudio', 'Bereavement', 'Bernie', 'Berserk1967', 'BertieAndElizabeth', 'Besouro', 'BestFriends', 'BestInShow', 'BestNightEver', 'BestOfTheBest', 'BestPlayer', 'BestSeller', 'BetelnutBeauty', 'BetterLivingThroughChemistry', 'BetterLuckTomorrow', 'BetterOffDead', 'BetterThanChocolate', 'BetterWatchOut', 'BettyBlue', 'BeverlyHillsChihuahua', 'BeverlyHillsCop', 'BeverlyHillsCopII', 'BeverlyHillsCopIII', 'BeverlyHillsNinja', 'BewareOfTheCar', 'BewareTheBlob', 'Bewitched', 'BeyondAReasonableDoubt', 'BeyondParadise', 'BeyondReAnimator', 'BeyondSherwoodForest', 'BeyondTheBlackRainbow', 'BeyondTheBorder', 'BeyondTheDarkness', 'BeyondTheForest', 'BeyondTheLaw', 'BeyondTheLights', 'BeyondTheLineOfDuty', 'BeyondTheMat', 'BeyondThePyramidsLegendOfTheWhiteLion', 'BeyondTheSea', 'BeyondTheValleyOfTheDolls', 'BicentennialMan', 'BicycleThieves', 'Big', 'BigAssSpider', 'BigBadWolf', 'BigBadWolves', 'BigBully', 'BigBusiness', 'BigDaddy', 'BigDealOnMadonnaStreet', 'BigEyes', 'BigFatLiar', 'BigFish', 'BigFunInTheBigTown', 'BigGame', 'BigJake', 'BigManJapan', 'BigMiracle', 'BigMommasHouse', 'BigMoneyHustlas', 'BigMoneyRustlas', 'BigNight', 'BigNothing', 'BigTitsZombie', 'BigTopPeeWee', 'BigTroubleInLittleChina', 'BiggerThanLife', 'BigglesAdventuresInTime', 'BikiniBeach', 'Bill', 'BillAndTed', 'BillAndTedsBogusJourney', 'BillAndTedsExcellentAdventure', 'BillboardDad', 'BillionaireBoysClub', 'BillyBathgate', 'BillyElliot', 'BillyJack', 'BillyLiar', 'BillyLynnsLongHalftimeWalk', 'BillyMadison', 'BiloxiBlues', 'Bingo', 'BioDome', 'BirdBox', 'BirdOnAWire', 'Birdemic', 'Birdemic2TheResurrection', 'Birdman', 'BirdmanOfAlcatraz', 'BirdsOfPassage', 'BirthdayGirl', 'BitchSlap', 'Bite', 'BiteMeFanboy', 'BitterLake', 'BitterMoon', 'Biutiful', 'BlacKkKlansman', 'BlackAndTan', 'BlackAndWhiteInColor', 'BlackBeltJones', 'BlackBook', 'BlackCaesar', 'BlackCatWhiteCat', 'BlackChristmas1974', 'BlackChristmas2006', 'BlackCloud', 'BlackDeath', 'BlackDynamite', 'BlackForest', 'BlackHawkDown', 'BlackKnight', 'BlackLizard', 'BlackMamaWhiteMama', 'BlackMass', 'BlackMirrorBandersnatch', 'BlackNarcissus', 'BlackOrWhite', 'BlackOrpheus', 'BlackPanther2018', 'BlackRage', 'BlackRain', 'BlackRobe', 'BlackSabbath', 'BlackScorpion', 'BlackSea', 'BlackSheep1996', 'BlackSheep2007', 'BlackSnakeMoan', 'BlackSunday', 'BlackSwan', 'BlackWater', 'BlackZoo', 'BlackbeardsGhost', 'Blackbird', 'BlackboardJungle', 'Blackhat', 'Blackjackets', 'Blackmail1929', 'Blackway', 'Blacula', 'Blade', 'BladeII', 'BladeRunner', 'BladeRunner2049', 'BladeRunnerShorts', 'BladeTrilogy', 'BladeTrinity', 'BladesOfGlory', 'BlairWitch', 'BlankCheck', 'Blankman', 'BlastFromThePast', 'BlastOfSilence', 'Blastfighter', 'BlazingSaddles', 'Bleach', 'BlessTheChild', 'BlindChance', 'BlindDate', 'BlindFury', 'BlindHorizon', 'BlindWomansCurse', 'Blindman', 'Blindness', 'BlindsidedTheGame', 'Bliss', 'Blitz', 'Blockers', 'BlondeCrazy', 'BlondeInBlackLeather', 'BlondeVenus', 'BlondieJohnson', 'BloodAndBlackLace', 'BloodAndBone', 'BloodAndDonuts', 'BloodAndIceCreamTrilogy', 'BloodAndWine', 'BloodCult', 'BloodDiamond', 'BloodFather', 'BloodFeast', 'BloodFest', 'BloodForDracula', 'BloodJunkie', 'BloodLakeAttackOfTheKillerLampreys', 'BloodMoney', 'BloodNightTheLegendOfMaryHatchet', 'BloodOfBeasts', 'BloodOnTheLand', 'BloodOrgyOfTheSheDevils', 'BloodPunch', 'BloodRage', 'BloodRayne', 'BloodRites', 'BloodSimple', 'BloodSlaughterMassacre', 'BloodSuckingPharaohsInPittsburgh', 'BloodSurf', 'BloodWasEverywhere', 'BloodWork', 'Bloodfist', 'Bloodlust', 'Bloodrayne', 'BloodrayneIIDeliverance', 'Bloodsport', 'BloodsuckersFromOuterSpace', 'BloodsuckingFreaks', 'BloodsuckingPharaohsInPittsburgh', 'Bloodwine', 'BloodyBirthday', 'BloodyBloodyBibleCamp', 'BloodyHomecoming', 'BloodyMallory', 'BloodyMoon', 'BloodyPitOfHorror', 'BloodySunday', 'BlossomsInTheDust', 'Blow', 'BlowDry', 'BlowOut', 'BlownAway', 'Blowup', 'BlueCrush', 'BlueDemon', 'BlueHawaii', 'BlueIsTheWarmestColor', 'BlueJasmine', 'BlueMonkey', 'BlueRuin', 'BlueSteel', 'BlueStreak', 'BlueSunshine', 'BlueThunder', 'BlueValentine', 'BlueVelvet', 'Bluebeard1972', 'Boa', 'Boar', 'BoardingSchool', 'BoatTrip', 'BobAndCarolAndTedAndAlice', 'BobLeFlambeur', 'BobRoberts', 'Bodied', 'BodyBags', 'BodyDouble', 'BodyHeat', 'BodyMelt', 'BodyOfEvidence', 'BodyOfLies', 'BodySnatchers', 'BoggyCreek2TheLegendContinues', 'BohemianRhapsody', 'BoilerRoom', 'Bolero', 'Bombshell', 'BonCopBadCop', 'BondOfSilence', 'BoneTomahawk', 'Bones2001', 'BonnieAndClyde', 'BonnieAndClydeVsDracula', 'Boo', 'BoogalooAndGraham', 'BoogieNights', 'BookOfShadowsBlairWitch2', 'BoomTown', 'Boomerang1947', 'Boomerang1992', 'BooneTheBountyHunter', 'BootHill', 'Borat', 'BordelloOfBlood', 'Border', 'Borderland', 'BoredOfEducation', 'Borgman', 'BorisAndNatasha', 'BornInEastLA', 'BornOfHope', 'BornToWin', 'Borsalino', 'BossNigger', 'BottleRocket', 'BottleShock', 'BouduSavedFromDrowning', 'BoulevardNights', 'Bound1996', 'Bound2015', 'BoundForGlory', 'BowBarracksForever', 'Bowfinger', 'BowlingForColumbine', 'BoxOfMoonlight', 'BoxcarBertha', 'BoxedIn', 'BoxingHelena', 'Boy1969', 'BoyCalledTwist', 'BoyEatsGirl', 'BoyErased', 'Boyhood', 'BoykaUndisputed', 'Boys', 'BoysDontCry', 'BoysOnTheSide', 'BoysTown', 'BoyzNTheHood', 'BradleysSummer', 'BrainDamage', 'BrainDonors', 'Braindead', 'Brainscan', 'Brainstorm', 'Brake', 'BramStokersDracula', 'BrandUponTheBrain', 'Branded', 'BrandedToKill', 'BrassedOff', 'Bratz', 'Braveheart', 'BrawlInCellBlock99', 'Brazil', 'Breach', 'Breakdown', 'BreakerBreaker', 'BreakerMorant', 'BreakfastAtTiffanys', 'BreakfastOnPluto', 'BreakfastWithScot', 'BreakheartPass', 'Breakin', 'Breakin2ElectricBoogaloo', 'BreakingAway', 'BreakingTheWaves', 'BreathingRoom', 'Breathless', 'BrendaStarr', 'BrennusEnemyOfRome', 'BrewsterMcCloud', 'BrexitTheUncivilWar', 'BriansSong', 'Brick', 'BrickMansions', 'BrideAndPrejudice', 'BrideOfChucky', 'BrideOfFrankenstein', 'BrideOfReAnimator', 'BrideOfTheMonster', 'BrideWars', 'Bridesmaids', 'BridgeOfSpies', 'BridgeToTheSun', 'BridgetJonesDiary', 'BridgetJonesTheEdgeOfReason', 'BriefEncounter', 'BriefMoment', 'BrighamCity', 'Bright', 'BrightBurn', 'BrightEyes', 'BrightLights', 'BrightLightsBigCity', 'BrightStar', 'BrigsbyBear', 'Brimstone', 'BringItOn', 'BringMeTheHeadOfAlfredoGarcia', 'BringMeTheHeadOfTheMachineGunWoman', 'BringingDownTheHouse', 'BringingUpBaby', 'BrinkOfLife', 'BroadcastNews', 'BroadwayDannyRose', 'BroadwayLove', 'BroadwayMelodyOf1936', 'BrokebackMountain', 'BrokedownPalace', 'BrokenArrow1950', 'BrokenArrow1996', 'BrokenBlossoms', 'BrokenFlowers', 'BrokenTrail', 'BroncoBilly', 'Bronson', 'Brooklyn', 'BrooklynBridge', 'BrooklynsFinest', 'Broomshakalaka', 'Brother', 'Brother2', 'BrotherhoodOfBlades', 'BrotherhoodOfDeath', 'BrotherhoodOfTheWolf', 'Brothers2009', 'BruceAlmighty', 'BruceLeeMyBrother', 'Bruiser', 'Bruno', 'BruteForce1947', 'BubbaHoTep', 'BubbaTheRedneckWerewolf', 'Bubble', 'BubbleBoy', 'Buddy', 'BuffaloSixtySix', 'BuffaloSoldiers', 'BuffyTheVampireSlayer', 'Bug', 'BugOff', 'Bugsy', 'BugsyMalone', 'BulgarskiPoscikk', 'BullDurham', 'BulldogDrummond', 'BulletInTheHead', 'BulletProofMonk', 'BulletToTheHead', 'Bulletproof', 'BulletsOverBroadway', 'Bullitt', 'Bullshot', 'Bully', 'Bulworth', 'Bumblebee', 'BumpingIntoBroadway', 'BunnyAndTheBull', 'Bunraku', 'BurialGroundTheNightsOfTerror', 'Buried', 'BurkeAndHare', 'Burlesque', 'Burn', 'BurnAfterReading', 'BurnNoticeTheFallOfSamAxe', 'Burning2014', 'Burning2018', 'Burnt', 'BurntByTheSun', 'BurntOfferings', 'BuryingTheEx', 'Bushwhacked', 'Bushwick', 'ButImACheerleader', 'ButchCassidyAndTheSundanceKid', 'ButcherBakerNightmareMaker', 'Buttons', 'BuyBust', 'ByDawnsEarlyLight', 'ByTheSword', 'Byzantium', 'CAM', 'CBGB', 'CHUD', 'CHiPs', 'CJ7', 'CKDezerterzy', 'CMeDance', 'CRAZY', 'CSATheConfederateStatesOfAmerica', 'Cabaret', 'CabinBoy', 'CabinByTheLake', 'CabinFever', 'CabinInTheSky', 'Cabiria', 'CacaMilis', 'Cache', 'Caddyshack', 'CadetKelly', 'CaesarAndCleopatra', 'CafeFlesh', 'CafeSetareh', 'Caged', 'CagedHeat', 'Cake2014', 'CalamityJane', 'CalendarGirls', 'CaliforniaSplit', 'Caligula', 'CallHerSavage', 'CallMeByYourName', 'CallawayWentThataway', 'Calvary', 'Camila', 'Camille1936', 'Camp2003', 'CampNowhere', 'CampRock', 'CampXRay', 'CampfireTales1991', 'CampfireTales1997', 'CanYouEverForgiveMe', 'CanadianBacon', 'Canaris', 'Candleshoe', 'Candy', 'Candyman', 'CandymanDayOfTheDead', 'CandymanFarewellToTheFlesh', 'CannibalApocalypse', 'CannibalFerox', 'CannibalGirls', 'CannibalHolocaust', 'CannibalTheMusical', 'CannibalWomenInTheAvocadoJungleOfDeath', 'CantBuyMeLove', 'CantHardlyWait', 'CantStopTheMusic', 'Cantinflas', 'CanyonPassage', 'CapeFear', 'Capernaum', 'CapitalismALoveStory', 'Capote', 'CapricornOne', 'CaptainAmerica1979', 'CaptainAmerica1990', 'CaptainAmericaCivilWar', 'CaptainAmericaIIDeathTooSoon', 'CaptainAmericaTheFirstAvenger', 'CaptainAmericaTheWinterSoldier', 'CaptainBlood', 'CaptainClegg', 'CaptainEO', 'CaptainFantastic', 'CaptainKronosVampireHunter', 'CaptainMarvel', 'CaptainMarvel2019', 'CaptainPhillips', 'CaptainRon', 'CaptainSabertooth', 'CaptainSindbad', 'CaptainThunderbolt', 'CaptiveState', 'Captivity', 'CarWash', 'Caravaggio', 'CardSubjectToChange', 'Carefree', 'CarlitosWay', 'CarlotaJoaquinaPrincesaDoBrasil', 'CarmenJones', 'Carnage', 'CarnageForTheDestroyer', 'CarnageRoad', 'CarnivalMagic', 'CarnivalOfSouls', 'Carnosaur', 'CaroDiario', 'Carol', 'Carrie', 'Carrie1976', 'Carrie2002', 'Carrie2013', 'Carriers', 'Carrington', 'CarryOn', 'CarryOnAbroad', 'CarryOnAgainDoctor', 'CarryOnAtYourConvenience', 'CarryOnBehind', 'CarryOnCabby', 'CarryOnCamping', 'CarryOnCleo', 'CarryOnColumbus', 'CarryOnConstable', 'CarryOnCowboy', 'CarryOnCruising', 'CarryOnDick', 'CarryOnDoctor', 'CarryOnEmmannuelle', 'CarryOnEngland', 'CarryOnGirls', 'CarryOnHenry', 'CarryOnJack', 'CarryOnLoving', 'CarryOnMatron', 'CarryOnNurse', 'CarryOnRegardless', 'CarryOnScreaming', 'CarryOnSergeant', 'CarryOnSeries', 'CarryOnSpying', 'CarryOnTeacher', 'CarryOnUpTheJungle', 'CarryOnUpTheKhyber', 'CartelLand', 'Cartouche', 'CartsOfDarkness', 'Carved', 'Carver', 'CasAndDylan', 'CasaDeMiPadre', 'Casablanca', 'Casanova', 'Case39', 'CaseForARookieHangman', 'Cashback', 'Casino', 'CasinoJack', 'CasinoRoyale1967', 'CasinoRoyale2006', 'Casper', 'CasperASpiritedBeginning', 'CasperMeetsWendy', 'CasqueDor', 'CassandrasDream', 'Casshern', 'CastADarkShadow', 'CastADeadlySpell', 'CastAway', 'CastawayOnTheMoon', 'CastleFreak', 'CastleKeep', 'CastleOfSand', 'CastroStreet', 'CasualtiesOfWar', 'CatBallou', 'CatChaser', 'CatPeople', 'CatSickBlues', 'CatWomenOfTheMoon', 'CatalinaCaper', 'Catch44', 'CatchMeIfYouCan', 'CatchThatKid', 'CatchTwentyTwo', 'CatchandRelease', 'CatchingTrouble', 'Catfight', 'Catfish', 'CatsAndDogs', 'CatsEye', 'Catwoman', 'Cavalcade', 'CaveOfForgottenDreams', 'Caveman', 'CecilBDemented', 'CedarRapids', 'Ceddo', 'Celebrity', 'CelesteAndJesseForever', 'Celia', 'CelineAndJulieGoBoating', 'Cell211', 'Cellular', 'CelticPride', 'CementerioDelTerror', 'CemeteryMan', 'CenterStage', 'CentralIntelligence', 'Centurion', 'Century21Calling', 'ChaharAngoshtIranianMovie', 'ChainLetter', 'Chained', 'ChairmanOfTheBoard', 'ChakushinAri', 'ChaletGirl', 'ChanIsMissing', 'Chang', 'Changeling', 'ChangingLanes', 'Chanthaly', 'Chaos', 'ChaosOnTheBridge', 'Chaplin', 'Chappaquiddick', 'Chappie', 'Character', 'Charade', 'Chariot', 'ChariotsOfFire', 'CharleyVarrick', 'CharlieAndTheChocolateFactory', 'CharlieBartlett', 'CharlieChan', 'CharlieStCloud', 'CharlieWilsonsWar', 'CharliesAngels', 'CharlottesWeb', 'Charly2002', 'CharmSchool', 'ChasingAmy', 'ChasingLiberty', 'ChasingMavericks', 'Chatroom', 'Che', 'CheapThrills', 'CheaperByTheDozen', 'Cheating', 'CheechAndChongsNextMovie', 'CheerleaderCamp', 'Chef', 'ChemicalWedding', 'ChernobylDiaries', 'Cherry2000', 'CherryFalls', 'Cherrybomb', 'Chicago', 'Child44', 'ChildBride', 'ChildOfGlass', 'ChildrenOfALesserGod', 'ChildrenOfMen', 'ChildrenOfParadise', 'ChildrenOfTheCorn', 'ChildrenOfTheCorn1984', 'ChildrenOfTheCorn2009', 'ChildrenOfTheCorn666IsaacsReturn', 'ChildrenOfTheCornGenesis', 'ChildrenOfTheCornIIIUrbanHarvest', 'ChildrenOfTheCornIITheFinalSacrifice', 'ChildrenOfTheCornIVTheGathering', 'ChildrenOfTheCornRevelation', 'ChildrenOfTheCornVFieldsOfTerror', 'ChildrenOfTheNight', 'ChildrenShouldntPlayWithDeadThings', 'ChildsPlay', 'ChildsPlay2', 'ChildsPlay2019', 'ChildsPlay3', 'ChillFactor', 'ChillyScenesOfWinter', 'ChimesAtMidnight', 'ChinaBlue', 'ChinaSeas', 'Chinatown', 'ChineseBox', 'ChineseTakeaway', 'ChinesischesRoulette', 'Chisum', 'ChittyChittyBangBang', 'Chloe', 'ChloeInTheAfternoon', 'ChoKamenRiderDenOAndDecadeNeoGenerationsTheOnigashimaWarship', 'Chocolat', 'Chocolate', 'ChooseMe', 'ChopShop', 'Chopper', 'ChoppingMall', 'ChoudenshiBioman', 'ChoujinkiMetalder', 'ChourikiSentaiOhranger', 'ChourikiSentaiOhrangerOhreVsKakuranger', 'ChoushinseiFlashman', 'Christine2016', 'ChristmasEvil', 'ChristmasInConnecticut', 'ChristmasInJuly', 'ChristmasMission', 'ChristmasWithTheKranks', 'ChristopherRobin', 'Chronicle', 'ChuckECheeseInTheGalaxy5000', 'ChungkingExpress', 'Chunhyang', 'ChurchBall', 'CigarettesAndCoffee', 'Cimarron', 'Cinderella', 'Cinderella1947', 'Cinderella2015', 'CinderellaFourByFour', 'CinderellaMan', 'CinemaParadiso', 'Circle', 'CircleOfIron', 'Circus', 'CircusOfFear', 'CircusOfHorrors', 'CirqueDuSoleilJourneyOfMan', 'CitizenKane', 'CitizenX', 'Citizenfour', 'CityBeneathTheSea', 'CityDragon', 'CityGirl', 'CityHunter', 'CityHunterTheCupidsPerfume', 'CityLights', 'CityLimits', 'CityOfAngels', 'CityOfEmber', 'CityOfGod', 'CityOfGold1957', 'CityOfIndustry', 'CityOfLifeAndDeath', 'CityOfTheDead', 'CityOfTheLivingDead', 'CityOnFire', 'CitySlickers', 'Civilization', 'ClairesKnee', 'ClashByNight', 'ClashOfTheTitans1981', 'ClashOfTheTitans2010', 'ClashOfTheWolves', 'ClassAct', 'ClassOf1984', 'ClassOfNukeEmHigh', 'ClawedTheLegendOfSasquatch', 'Clean', 'ClearAndPresentDanger', 'ClearHistory', 'CleoFrom5To7', 'Cleopatra', 'Cleopatra1934', 'CleopatraJones', 'Clerks', 'ClerksII', 'Click', 'Cliffhanger', 'Clifford', 'Climax', 'CloakAndDagger', 'Clockers', 'Clockstoppers', 'Clockwise', 'Clonus', 'CloseEncountersOfTheThirdKind', 'CloseMyEyes', 'CloseToEden', 'CloseUp', 'CloselyWatchedTrains', 'Closer', 'ClosetLand', 'CloudAtlas', 'CloudsOfSilsMaria', 'Cloverfield', 'Clown', 'ClubDread', 'ClubParadise', 'Clue', 'Clueless', 'ClunyBrown', 'CoachCarter', 'CoalMinersDaughter', 'Coalition', 'Cobra', 'CobraWoman', 'CocaineCowboys', 'CockneysVsZombies', 'Cocktail', 'Cocoon', 'Code46', 'CodeNameDiamondHead', 'CodeOfSilence', 'CodeRedTheRubiconConspiracy', 'CodeUnknown', 'CoffeeAndCigarettes', 'Coffy', 'CohenAndTate', 'Coherence', 'ColdComesTheNight', 'ColdCreekManor', 'ColdFish', 'ColdInJuly', 'ColdPrey', 'ColdPursuit', 'ColdSweat', 'ColdTurkey', 'ColdWar', 'ColdWar2012', 'ColdWarII', 'ColdWeather', 'Colette', 'Colin', 'Collateral', 'CollateralBeauty', 'CollateralDamage', 'College', 'Colombiana', 'ColonelKillMotherfuckers', 'ColorMeBloodRed', 'ColorOfNight', 'Colors', 'Colossal', 'ColossusAndTheHeadhunters', 'ColossusTheForbinProject', 'Comanche', 'ComancheMoon', 'CombatShock', 'ComeAndSee', 'ComeLiveWithMe', 'ComeOutAndPlay', 'ComeSunday', 'Comic8', 'ComicBookConfidential', 'ComingHome', 'ComingSoon', 'ComingToAmerica', 'Commando', 'Commissar', 'Companeros', 'Compliance', 'Compulsion', 'ComputerChess', 'ConAir', 'ConanTheBarbarian1982', 'ConanTheBarbarian2011', 'ConanTheDestroyer', 'Concussion', 'Condorman', 'Coneheads', 'ConeyIsland', 'Confessions', 'ConfessionsOfA', 'ConfessionsOfASeries', 'ConfessionsOfAShopaholic', 'ConfessionsOfATeenageDramaQueen', 'Confetti', 'ConfidentiallyYours', 'Congo', 'Conquest', 'ConquestOfThePlanetOfTheApes', 'Conspiracy', 'ConspiracyTheory', 'Constantine', 'Contact', 'Contagion', 'Contamination', 'Contempt', 'Contraband1980', 'Contracted', 'Control', 'Convict13', 'Convoy', 'CookiesFortune', 'CoolAsIce', 'CoolCatSavesTheKids', 'CoolHandLuke', 'CoolRunnings', 'CoolWorld', 'CooleyHigh', 'Cooties', 'Cop', 'CopAndAHalf', 'CopCar', 'CopLand', 'CopOut', 'Copacabana', 'Cops', 'Copycat', 'CorkyRomano', 'Cornered', 'CoronerCreek', 'CorrinaCorrina', 'Cosmopolis', 'CosmosWarOfThePlanets', 'Costa', 'CosyDens', 'CountYorga', 'CountdownToLookingGlass', 'CounterfeitTraitor', 'CountessDracula', 'CountryStrong', 'CourageUnderFire', 'Courageous', 'CousinCousine', 'CoverGirl', 'CowboysAndAliens', 'CowboysVsDinosaurs', 'CoyoteUgly', 'Crackers', 'Cracks', 'Cradle2TheGrave', 'Crank', 'Crash', 'Crawlspace', 'Crazed', 'CrazedFruit', 'CrazyBeautiful', 'CrazyPeople', 'CrazyRichAsians', 'CrazyStupidLove', 'Creation', 'Creation1931', 'CreatureFromTheBlackLagoon', 'CreatureWithTheAtomBrain', 'Creed', 'CreedII', 'Creep2004', 'Creep2014', 'CreepShow', 'Creepshow', 'Creepshow2', 'CriaCuervos', 'CriesAndWhispers', 'CrimeDoctor', 'CrimeOfTheAge', 'CrimeWave', 'CrimesAndMisdemeanors', 'CrimesOfTheFuture', 'Criminal', 'CriminallyInsane', 'CrimsonPeak', 'CrimsonTide', 'CrisisBehindAPresidentialCommitment', 'Critters', 'Critters2TheMainCourse', 'Crocodile', 'Crocodile2DeathSwamp', 'CrocodileDundee', 'CronacaDiUnAmore', 'Cronos', 'CrookedHouse', 'Crooklyn', 'CrossOfIron', 'Crossfire', 'CrossfireTrail', 'Crossroads2002', 'Crossworlds', 'CrouchingTigerHiddenDragon', 'CrouchingTigerHiddenDragonSwordOfDestiny', 'CrowsZero', 'CruelAndUnusual', 'CruelIntentions', 'CruelStoryOfYouth', 'Cruising', 'Crumb', 'Crush', 'CryBaby', 'CryBabyLane', 'CryFreedom', 'CryHavoc', 'CryWilderness', 'CryWolf', 'Cthulhu', 'CubanFury', 'Cube', 'Cube2Hypercube', 'CubeZero', 'Culloden', 'CultOfChucky', 'Cupcakes', 'Cure', 'Curfew', 'CurlySue', 'CurseOfChucky', 'CurseOfPirateDeath', 'CurseOfSnakesValley', 'CurseOfTheCrimsonAltar', 'CurseOfTheFly', 'CurseOfTheGoldenFlower', 'CurseOfTheKomodo', 'CurseOfTheSwampCreature', 'CurseOfTheZodiac', 'Cursed2005', 'Curtains', 'CutBank', 'CuttersWay', 'CutthroatIsland', 'CyberSeductionHisSecretLife', 'Cyberbully2011', 'Cyberbully2015', 'Cyberjack', 'Cyborg1989', 'Cypher', 'CyranoDeBergerac', 'Cyrus', 'Czechoslovakia1968', 'DARYL', 'DArtagnanAndThreeMusketeers', 'DCCab', 'DEBS', 'DEFAWesterns', 'DISCO2017', 'DOA', 'DOADeadOrAlive', 'DTox', 'DWar', 'DaddyDayCamp', 'DaddyDayCare', 'DaddyO', 'DaddysHome', 'DaddysLittleGirls', 'DadsArmy', 'Daens', 'DaftPunksElectroma', 'Dagon', 'DaiSentaiGoggleFive', 'DaigoroVsGoliath', 'Daimajin', 'Daisies', 'DaisyTown', 'DakotaHarris', 'DaleksInvasionEarth2150AD', 'DallasBuyersClub', 'Dames', 'DamienOmenII', 'DamnationAlley', 'Damnatus', 'DamselsInDistress', 'DanInRealLife', 'DanceGirlDance', 'DanceMeOutside', 'DanceOfTheDead', 'DancerInTheDark', 'DancesWithWolves', 'DangerDeathRay', 'DangerDiabolik', 'Dangerous', 'DangerousMen', 'DangerousMinds', 'DangerousMoves', 'DannyJohnsonSavesTheWorld', 'DannyTheDog', 'Dante01', 'DantesPeak', 'DaphneAndVelma', 'DarbyOGillAndTheLittlePeople', 'Daredevil', 'DarkAndStormyNight', 'DarkAngelTheAscent', 'DarkAsylum', 'DarkBlue', 'DarkCity', 'DarkCountry', 'DarkFloors', 'DarkHarvest', 'DarkNightOfTheScarecrow', 'DarkPassage', 'DarkPhoenix', 'DarkShadows', 'DarkSkies', 'DarkStar', 'DarkTouch', 'DarkUniverse', 'DarkVictory', 'DarkWasTheNight', 'DarkWater', 'DarkestHour2017', 'Darkman', 'DarkmanIIIDieDarkmanDie', 'DarkmanIITheReturnOfDurant', 'DarknessFalls', 'Darling', 'DarlingLili', 'DasBoot', 'DasExperiment', 'DasFinstereTal', 'DasepoSonyo', 'DateNight', 'DaughterOfShanghai', 'DaughtersOfDarkness', 'DaughtersOfTheDust', 'Dave', 'DaveMadeAMaze', 'DavidAndLisa', 'DavidBrentLifeOnTheRoad', 'DavidHolzmansDiary', 'DawnOfTheDead1978', 'DawnOfTheDead2004', 'DawnOfThePlanetOfTheApes', 'DawnPortraitOfATeenageRunaway', 'DayForNight', 'DayNightDayNight', 'DayOfDefense', 'DayOfTheAnimals', 'DayOfTheDead1985', 'DayOfTheDead2008', 'DayOfTheWolves', 'Daybreakers', 'Daylight', 'DaysOfBeingWild', 'DaysOfGlory', 'DaysOfHeaven', 'DaysOfThunder', 'DaysOfWineAndRoses', 'DazedAndConfused', 'DeJurk', 'DeKalbElementary', 'DeLift', 'DeNoorderlingen', 'DeNurembergANuremberg', 'DeadAgain', 'DeadAgainInTombstone', 'DeadAir2009', 'DeadAndBreakfast', 'DeadAndBuried', 'DeadBeforeDawn', 'DeadBirds', 'DeadCalm', 'DeadEnd', 'DeadEnd1937', 'DeadEndDriveIn', 'DeadFriend', 'DeadHeat', 'DeadHookerInATrunk', 'DeadInTombstone', 'DeadLands', 'DeadMan', 'DeadManOnCampus', 'DeadManWalking', 'DeadMansShoes', 'DeadMenDontWearPlaid', 'DeadMine', 'DeadNight', 'DeadOfNight', 'DeadPoetsSociety', 'DeadPresidents', 'DeadReckoning', 'DeadRight', 'DeadRingers', 'DeadRisingEndgame', 'DeadRisingWatchtower', 'DeadSeason', 'DeadSilence', 'DeadSnow', 'DeadSnowRedVsDead', 'DeadSushi', 'Deadfall', 'Deadgirl', 'DeadlyBlessing', 'DeadlyEyes', 'DeadlyFriend', 'DeadlyPrey', 'Deadman', 'Deadpool2', 'Deadpool2016', 'DeadpoolNoGoodDeed', 'Deafula', 'DearDiary', 'DearLemonLima', 'DearWendy', 'DearWhitePeople', 'DearZachary', 'DeathAcademy', 'DeathAndTheMaiden', 'DeathAtAFuneral', 'DeathBecomesHer', 'DeathBedTheBedThatEats', 'DeathBell', 'DeathGrip', 'DeathHouse', 'DeathHunt', 'DeathMachine', 'DeathNote2006', 'DeathNote2017', 'DeathNoteLightUpTheNewWorld', 'DeathNoteSeries', 'DeathNoteTheLastName', 'DeathOfAPresident', 'DeathOfAScoundrel', 'DeathOnDemand', 'DeathOnTheDiamond', 'DeathOnTheNile2019', 'DeathProof', 'DeathRace', 'DeathRace2000', 'DeathRacers', 'DeathRidesAHorse', 'DeathScreams', 'DeathSentence', 'DeathStopHolocaust', 'DeathTakesAHoliday', 'DeathToSmoochy', 'DeathWarmedUp', 'DeathWarrant', 'DeathWish', 'DeathWish1974', 'DeathWish2018', 'DeathWish3', 'DeathWish4TheCrackdown', 'DeathWishII', 'DeathWishVTheFaceOfDeath', 'Deathgasm', 'Deathstalker', 'DeathstalkerAndTheWarriorsFromHell', 'DeathstalkerIIDuelOfTheTitans', 'DeathstalkerIVMatchOfTheTitans', 'DeathstalkerSeries', 'Deathtrap', 'Deathwatch1966', 'Deathwatch2002', 'Decasia', 'DecemberHeat', 'DecisionBeforeDawn', 'DeckTheHalls', 'DeconstructingHarry', 'Decoys', 'DeepBlueSea', 'DeepBlueSea2', 'DeepCover', 'DeepEnd', 'DeepImpact', 'DeepRed', 'DeepRising', 'DeepStarSix', 'DeepwaterHorizon', 'Deewaar', 'DefenceOfTheRealm', 'DefendingYourLife', 'Defendor', 'Defiance', 'DefinitelyMaybe', 'DejaVu', 'Delicatessen', 'DelightfulForest', 'Delirious', 'Delirium2014', 'Delirium2018', 'DeliverUsFromEva', 'DeliverUsFromEvil', 'Deliverance', 'DeliveryMan', 'DeltaFarce', 'DeltaForce2TheColombianConnection', 'Dementia13', 'DemetriusAndTheGladiators', 'DemolitionMan', 'DemonHunter', 'DemonKnight', 'DemonSeed', 'DemonWithTheAtomicBrain', 'Demoni', 'Demoni2', 'DemonicToys', 'DemonsNeverDie', 'DenOfThieves', 'DengekiSentaiChangeman1', 'DengekiSentaiChangeman2', 'Denial', 'DenjiSentaiMegarangerVsCarranger', 'DennisTheMenace', 'DennisTheMenaceDinosaurHunter', 'DenshiSentaiDenziman', 'DepartmentQTheKeeperOfLostCauses', 'Departures', 'DerLetzteZug', 'DerSchuhDesManitu', 'DerWixxer', 'DesHommesEtDesDieux', 'Descendants', 'DesertFlower', 'DesertHearts', 'DesertHeat', 'DesertNights', 'DesignForDreaming', 'DesignForLiving', 'DesigningWoman', 'Desire1936', 'DeskSet', 'Desperado', 'DesperateJourney', 'DesperateLiving', 'DesperateMeasures', 'DesperatelySeekingSusan', 'DestinationMoon', 'DestinationTokyo', 'DestinationWedding', 'Destiny', 'DestroyAllMonsters', 'Destroyer', 'DestryRidesAgain', 'Detainment', 'DetectiveDee', 'DetectiveHeartOfAmericaTheFinalFreedom', 'Detention', 'Detonator2003', 'Detour', 'Detroit', 'DetroitRockCity', 'DeuceBigalow', 'DeuceBigalowEuropeanGigolo', 'Devil', 'DevilDoll', 'DevilFish', 'DevilGirlFromMars', 'DevilInABlueDress', 'DevilsPass', 'DevilsPrey', 'DevonsGhostLegendOfTheBloodyBoy', 'Devour', 'Dheepan', 'DiIngonNato', 'DialMForMurder', 'DiamondsAreForever', 'DiamondsOnWheels', 'DiaryOfAChambermaid1964', 'DiaryOfACountryPriest', 'DiaryOfALostGirl', 'DiaryOfAMadBlackWoman', 'DiaryOfTheDead', 'Dick', 'DickTracy', 'DickieRobertsFormerChildStar', 'DidYouHearAboutTheMorgans', 'Die1000AugenDesDrMabuse', 'DieAnotherDay', 'DieArtistenInDerZirkuskuppelRatlos', 'DieFeuerzangenbowle', 'DieHard2', 'DieHardWithAVengeance', 'DieMonsterDie', 'DieWelle', 'DieWildenKerle', 'DieYouZombieBastards', 'DieZombiejager', 'DifferentForGirls', 'DifferentFromTheOthers', 'Diggstown', 'Dillinger', 'Dillinger1945', 'DillingerEMorto', 'Dimples', 'Diner', 'DinnerAtEight', 'DinnerForSchmucks', 'Dinosaur1985', 'DinosaurIsland1994', 'DinosaurIsland2014', 'Dinosaurus', 'Dinoshark', 'DirtyDancing', 'DirtyDeeds', 'DirtyGrandpa', 'DirtyHarry', 'DirtyLaundry', 'DirtyLove', 'DirtyMaryCrazyLarry', 'DirtyPrettyThings', 'DirtyRottenScoundrels', 'DirtyWork', 'DisciplesOfTheCrow', 'Disclosure', 'DiscoGodfather', 'DiscoPigs', 'Disconnect', 'DishonoredLady', 'Dismissed', 'DisneylandDream', 'DisneysRocketMan', 'Disraeli', 'District9', 'Disturbia', 'DisturbingBehavior', 'Diva', 'Divergent', 'DivorceItalianStyle', 'Django', 'DjangoUnchained', 'Djinn', 'DoNotGrieve', 'DoTheRightThing', 'DoYouBelieve', 'DocHollywood', 'DocSavage', 'DoctorAkagi', 'DoctorBloodsCoffin', 'DoctorDetroit', 'DoctorDolittle', 'DoctorJack', 'DoctorJekyllAndSisterHyde', 'DoctorKrishna', 'DoctorMordrid', 'DoctorStrange2016', 'DoctorX', 'DoctorZhivago', 'Dodeskaden', 'DodgeCity', 'DodgeballATrueUnderdogStory', 'Dodsworth', 'DogDayAfternoon', 'DogSoldiers', 'DogStarMan', 'Doghouse', 'Dogma', 'Dogora', 'Dogtooth', 'Dogville', 'DoingTimeOnMapleDrive', 'Dolemite', 'DollFromHell', 'Dollars', 'DollarsTrilogy', 'Dolls', 'DolphinTale', 'DomHemingway', 'DomesticDisturbance', 'Domino', 'DonJon', 'DonJuanDemarco', 'DonJuanOrIfDonJuanWereAWoman', 'DonnieBrasco', 'DonnieDarko', 'DonovansReef', 'DonsParty', 'DontBeAMenaceToSouthCentralWhileDrinkingYourJuiceInTheHood', 'DontBeAfraidOfTheDark', 'DontBlink', 'DontBreathe', 'DontChangeYourHusband', 'DontCryItsOnlyThunder', 'DontEatThePictures', 'DontGoInTheHouse', 'DontGoInTheWoods', 'DontLookBack', 'DontLookDown', 'DontLookNow', 'DontLoseYourHead', 'DontMakeWaves', 'DontOpenTillChristmas', 'DontSayAWord', 'DontTellMomTheBabysittersDead', 'DontThinkTwice', 'DontTortureADuckling', 'DontTurnTheOtherCheek', 'Doom', 'DoomRunners', 'Doomsday', 'DoomsdayMachine', 'Dope', 'DoraAndTheLostCityOfGold', 'DoubleDragon', 'DoubleHarness', 'DoubleImpact', 'DoubleIndemnity', 'DoubleJeopardy', 'DoubleTake', 'DoubleTeam', 'DoubleTrouble', 'DoubleWedding', 'DoubleWhoopee', 'Doughboys', 'DownADarkHall', 'DownAndOutInBeverlyHills', 'DownArgentineWay', 'DownByLaw', 'DownOnTheFarm', 'DownPeriscope', 'DownToEarth', 'DownWithLove', 'Downfall', 'DownloadingNancy', 'Downsizing', 'Downstairs', 'DrCyclops', 'DrDolittle', 'DrGiggles', 'DrGoldfootAndTheBikiniMachine', 'DrJekyllAndMrHyde1931', 'DrJekyllAndMsHyde', 'DrKildare', 'DrMabuseTheGambler', 'DrMonica', 'DrNo', 'DrPhibesRisesAgain', 'DrStrangelove', 'DrTerrorsHouseOfHorrors', 'DrWhoAndTheDaleks', 'Dracula1931', 'Dracula1979', 'Dracula2000', 'DraculaAD1972', 'DraculaDeadAndLovingIt', 'DraculaHasRisenFromTheGrave', 'DraculaPrinceOfDarkness', 'DraculaTheDarkPrince', 'DraculaUntold', 'DraculasDaughter', 'DraftDay', 'DragMeToHell', 'DraggedAcrossConcrete', 'Dragnet', 'DragnetGirl', 'DragonBallFightForVictorySonGoku', 'DragonBallTheMagicBegins', 'DragonBlade', 'DragonStorm', 'DragonTheBruceLeeStory', 'DragonTigerGate', 'DragonWorld', 'DragonballEvolution', 'DragonettiTheRuthlessContractKiller', 'Dragonfly', 'Dragonheart', 'Dragonslayer', 'Dread', 'DreamHome', 'DreamHouse', 'DreamLover', 'DreamOfARarebitFiend', 'Dreamkeeper', 'DreamsOfALife', 'Dreamscape', 'Dredd', 'DressedToKill', 'DrillbitTaylor', 'DrinkingBuddies', 'Drive', 'DriveAngry', 'DriveInMassacre', 'DriveMeCrazy', 'DriveThru', 'Driven', 'DropDeadFred', 'DropDeadGorgeous', 'DrugstoreCowboy', 'Drumline', 'DrumsAlongTheMohawk', 'DrunkOnWomenAndPoetry', 'DrunkenAngel', 'DrunkenMaster', 'DuckAndCover', 'DuckSoup', 'DudeBroPartyMassacre3', 'DudeWheresMyCar', 'DueDate', 'DueEast', 'Duel', 'DuelInTheSun', 'DuelToTheDeath', 'Duets', 'DukeOfGroove', 'DumbAndDumber', 'DumbAndDumberTo', 'Dumbo2019', 'Dummy', 'Dumplin', 'Dune', 'DungeonsAndDragons', 'DungeonsAndDragonsTheBookOfVileDarkness', 'DungeonsAndDragonsWrathOfTheDragonGod', 'Dunkirk', 'DunstonChecksIn', 'Duplex', 'Duplicity', 'DurianDurian', 'Dust', 'DustDevil', 'Dutch', 'DyingBreed', 'EDtv', 'ETTheExtraTerrestrial', 'EXistenZ', 'EZMoney', 'EagleEye', 'EagleVsShark', 'EaglesGathered', 'EarlySummer', 'Earth', 'EarthGirlsAreEasy', 'EarthII', 'EarthToEcho', 'EarthVsTheFlyingSaucers', 'EarthVsTheSpider', 'Earthlings', 'Earthquake', 'EastIsEast', 'EastMeetsWatts', 'EastOfEden', 'EastOfKensington', 'EastWest', 'EasterBunnyKillKill', 'EasternPromises', 'EasyA', 'EasyLiving', 'EasyMoney', 'EasyRider', 'EasyStreet', 'EasyVirtue', 'EatDrinkManWoman', 'EatPrayLove', 'EatenAlive', 'EatingOut', 'EatingRaoul', 'EauxDArtifice', 'Ebenezer1998', 'EbirahHorrorOfTheDeep', 'Ecstasy', 'EdWood', 'EddieAndTheCruisers', 'EddieTheEagle', 'EdenLake', 'EdenLog', 'EdgarWallaceFilms', 'EdgeOfAmerica', 'EdgeOfDarkness1943', 'EdgeOfDarkness2010', 'EdgeOfTomorrow', 'Edison', 'Edmond2019', 'EdwardScissorhands', 'Eega', 'Eegah', 'EffroyablesJardins', 'EightAndAHalf', 'EightBelow', 'EightDaysToLive', 'EightHeadsInADuffelBag', 'EightLeggedFreaks', 'EightMM', 'EightMenOut', 'EightMile', 'EightWomen', 'EighthGrade', 'EighthWonderland', 'EightyEightMinutes', 'ElAlameinTheLineOfFire', 'ElCid', 'ElClan', 'ElCrimenDelPadreAmaro', 'ElDorado', 'ElMariachi', 'ElNorte', 'ElTopo', 'ElUltimoCuple', 'Election', 'ElectionNight1998', 'ElectricDreams', 'Elektra', 'Elephant', 'ElephantsDream', 'Elevated', 'ElevatorToTheGallows', 'ElevenFourteen', 'Elf', 'ElfieHopkinsCannibalHunter', 'Eliminators', 'Elizabeth', 'Elizabethtown', 'EllaCinders', 'EllaEnchanted', 'Elle', 'Eloise', 'ElvisFoundAlive', 'Elysium', 'Embers', 'EmbraceOfTheSerpent', 'Emma', 'Emmanuelle', 'EmoTheMusical', 'Emperor', 'EmperorOfTheNorth', 'Empire1964', 'EmpireOfTheSun', 'EmpireRecords', 'EmployeeOfTheMonth', 'EnPassion', 'Enchanted', 'EncinoMan', 'EncountersAtTheEndOfTheWorld', 'EndDay', 'EndOfDays', 'EndOfWatch', 'EndersGame', 'EnduringLove', 'Enemy', 'EnemyAtTheGates', 'EnemyMine', 'EnemyOfTheState', 'EngineSentaiGoOngerBoomBoomBangBangGekijoBang', 'EngineSentaiGoOngerVsGekiranger', 'EnglishVinglish', 'Enid', 'Enjo', 'Enough', 'EnronTheSmartestGuysInTheRoom', 'EnterTheDragon', 'EnterTheVoid', 'Entourage', 'Entrapment', 'Envy', 'Equals', 'Equilibrium', 'Equinox', 'EquinoxFlower', 'ErIstWiederDa', 'Eragon', 'Eraser', 'Eraserhead', 'ErikTheViking', 'ErinBrockovich', 'ErnestGoesToCamp', 'ErnestGoesToJail', 'ErnestPWorrell', 'ErnestRidesAgain', 'ErnestSavesChristmas', 'ErnestScaredStupid', 'Errementari', 'EscanabaInDaMoonlight', 'Escape2000', 'EscapeFromAlcatraz', 'EscapeFromLA', 'EscapeFromNewYork', 'EscapeFromSobibor', 'EscapeFromThePlanetOfTheApes', 'EscapeFromTomorrow', 'EscapePlan', 'EscapePlan2Hades', 'EscapeRoom', 'EscapeRoom2017', 'EscapeToAthena', 'EscapeToVictory', 'EscapeToWitchMountain', 'EspionLeveToi', 'EternalSunshineOfTheSpotlessMind', 'EuropaEuropa', 'EuropaReport', 'Europe51', 'Eurotrip', 'EvanAlmighty', 'EveOfDestruction', 'EvenDwarfsStartedSmall', 'EventHorizon', 'EverAfter', 'Everest', 'Everest2015', 'Everly', 'EveryTimeWeSayGoodbye', 'EveryWhichWayButLoose', 'EverybodyWantsSome', 'EverybodysFine', 'EveryoneSaysILoveYou', 'EverythingEverything', 'EverythingIsIlluminated', 'EverythingMustGo', 'EverythingWillBeOkay', 'EvesBayou', 'Evidence', 'EvilAlienConquerors', 'EvilAngels', 'EvilBong', 'EvilDead2', 'EvilDead2013', 'EvilDeadTrap', 'EvilEaster3', 'EvilEd', 'EvilLaugh', 'EvilRoySlade', 'Evilenko', 'Evilspeak', 'Evolution', 'Evolver', 'ExDrummer', 'ExMachina', 'Exam', 'Excalibur', 'ExceptionToTheRule', 'Excision', 'ExecutiveDecision', 'Exit2011', 'ExitSmiling', 'ExitThroughTheGiftShop', 'ExitWounds', 'Exodus', 'ExodusGodsAndKings', 'ExorcistIITheHeretic', 'ExorcistTheBeginning', 'Exotica', 'Expelled', 'Explorers', 'Extinction2018', 'Extract', 'ExtraordinaryMeasures', 'Extraterrestre', 'Extraterrestrial', 'ExtremeDays', 'ExtremeJob', 'ExtremeMeasures', 'ExtremePrejudice', 'ExtremelyWickedShockinglyEvilAndVile', 'EyeForAnEye', 'EyeInTheSky', 'EyeOfTheDevil', 'EyesInTheDark', 'EyesOfAStranger', 'EyesOfAnAngel', 'EyesWideShut', 'EyesWithoutAFace', 'FForFake', 'FIST', 'FTheProm', 'FXMurderByIllusion', 'FaceOff', 'FaceToFace', 'Faces', 'FacesOfDeath', 'FacesPlaces', 'FacingTheGiants', 'FacingYourDanger', 'FactoryGirl', 'Fahrenheit4512018', 'Fahrenheit911', 'FailSafe', 'FailureToLaunch', 'FairGame', 'FairGame1995', 'FairyTaleATrueStory', 'FakeFruitFactory', 'FalconRising', 'Fallen', 'FallenAngel1945', 'FallenAngels', 'FallingDown', 'FallingLeaves', 'Fame', 'FamilyBusiness', 'FamilyPlot', 'FamilyResemblances', 'Fanboys', 'Fandango', 'FangsOfTheLivingDead', 'Fanny', 'FannyAndAlexander', 'FantasticBeasts', 'FantasticBeastsAndWhereToFindThem', 'FantasticBeastsTheCrimesOfGrindelwald', 'FantasticFour2005', 'FantasticFour2015', 'FantasticVoyage', 'Fantastica', 'Fantomas', 'Fantozzi', 'FarAndAway', 'FarCry', 'FarCry5InsideEdensGate', 'FarceOfThePenguins', 'FarewellChina', 'FarewellFamiKamenRider', 'FarewellMyConcubine', 'FarewellMyLovely', 'FarewellMyQueen', 'FarewellToSpring', 'Fargo', 'FarmSluts', 'FastGirls', 'FastTimesAtRidgemontHigh', 'Faster', 'FasterPussycatKillKill', 'FatAlbert', 'FatCamp', 'FatGirl', 'FatHead', 'FatSlags', 'FatalBeauty', 'FatalDeviation', 'FatalInstinct', 'FateOfAMan', 'FatherFigures', 'FatherGoose', 'FatherOfTheBride1950', 'FatherOfTheBride1991', 'Fatherland', 'FathersDay2011', 'Fathom1967', 'Fatso', 'FattysTintypeTangle', 'Faust', 'FaustLoveOfTheDamned', 'Fauve', 'Fear', 'FearCity', 'FearDotCom', 'FearIsland', 'FearNoEvil', 'Fearless1993', 'Fearless2006', 'Feast', 'Feeders', 'Felicia', 'Felon', 'Female', 'FemaleAgents', 'FemalePerversions', 'FemaleTrouble', 'FemmeFatale2002', 'FenderBender', 'FermatsRoom', 'FerrisBuellersDayOff', 'Fido', 'FieldOfDreams', 'FiendWithoutAFace', 'FierceCreatures', 'FiercePeople', 'FifteenAndPregnant', 'FiftyFifty', 'FiftyFirstDates', 'FiftyFiveDaysAtPeking', 'FiftyFour', 'FiftyShadesOfBlack', 'FiftyShadesOfGrey', 'FightClub', 'FightForYourLife', 'FighterInTheWind', 'FightingElegy', 'FightingWithMyFamily', 'FileUnderMiscellaneous', 'Filibus', 'FillyBrown', 'FinalDeployment4QueenBattleWalkthrough', 'FinalDestination', 'FinalDestination1', 'FinalDestination2', 'FinalDestination3', 'FinalDestination4', 'FinalDestination5', 'FinalExam', 'FinalGirl', 'FinalJustice', 'FinalScore', 'FindingAltamira', 'FindingForrester', 'FindingNeverland', 'FireAtSea', 'FireBirds', 'FireDownBelow', 'FireInTheSky', 'FireMaidensFromOuterSpace', 'FireOverEngland', 'FireWithFire', 'Firebase', 'FiredUp', 'Firefox', 'Firehead', 'Fireproof', 'Firestorm', 'Firewall', 'FireworksWednesday', 'FirstBlood', 'FirstKnight', 'FirstMan', 'FirstReformed', 'FirstSpaceshipOnVenus', 'FirstSunday', 'FirstTheyKilledMyFather', 'FirstWinter', 'FishStory', 'FishTank', 'FistFight', 'FistOfFury', 'FistOfLegend', 'FistOfTheNorthStar', 'Fitzcarraldo', 'Fitzwilly', 'FiveBrandedWomen', 'FiveCameBack', 'FiveDeadlyVenoms', 'FiveEasyPieces', 'FiveFeetApart', 'FiveFingers1952', 'FiveFiveFive', 'FiveGirls', 'FiveGravesToCairo', 'FiveHundredDaysOfSummer', 'FiveMenAndALimo', 'FiveMilesToMidnight', 'FiveMillionYearsToEarth', 'FiveNightsAtFreddys', 'FiveRidersVsKingDark', 'FiveStarFinal', 'FiveWeeksInABalloon', 'FlagsOfOurFathers', 'Flakes', 'FlashGordon1980', 'FlashGordonSerial', 'FlashOfGenius', 'FlashPoint', 'Flashdance', 'FlashmanBigRallyTitanBoy', 'Flatliners', 'Fleisch', 'FleshAndBlood', 'FleshAndTheDevil', 'FleshEater', 'FleshForFrankenstein', 'FleshForTheBeast', 'Fletch', 'Flicka', 'FlickeringLights', 'Flight', 'FlightCrew', 'FlightOfTheIntruder', 'FlightOfTheNavigator', 'Flightplan', 'Flipped', 'Flipper', 'FlirtationWalk', 'FlirtingWithDisaster', 'FloatingWeeds', 'Flodder', 'Flood', 'FlorenceFosterJenkins', 'FlowersInTheAttic', 'FlowersOfShanghai', 'FlowersOfWar', 'Flubber', 'Fluke', 'FlyAwayHome', 'Flyboys', 'FlyingDownToRio', 'FlyingSwordsOfDragonGate', 'Focus', 'FogOverFrisco', 'FollowMeBoys', 'FollowThatCamel', 'FollowTheFleet', 'Following', 'Fonzo', 'FoodOfTheGods2', 'FoolishWives', 'FoolsForScandal', 'FoolsGold', 'FoolsRushIn', 'FootlightParade', 'Footloose', 'ForAFewDollarsMore', 'ForAGoodTimeCall', 'ForAllMankind', 'ForKeeps', 'ForLoveOrMoney1963', 'ForLoveOrMoney1993', 'ForRicherOrPoorer', 'ForTheBibleTellsMeSo', 'ForYourConsideration', 'ForYourEyesOnly', 'ForbiddenGames', 'ForbiddenLoveTheUnashamedStoriesOfLesbianLives', 'ForbiddenPassage', 'ForbiddenPlanet', 'ForbiddenWorld', 'ForbiddenZone', 'ForceOfEvil', 'ForceTenFromNavarone', 'ForcedVengeance', 'ForcesOfNature', 'ForeignCorrespondent', 'ForeverEvil', 'ForeverMyGirl', 'ForgetMeNot', 'ForgettingSarahMarshall', 'ForkliftDriverKlaus', 'ForrestGump', 'FortApache', 'FortMassacre', 'Fortress1992', 'Fortress2012', 'FortyDaysAndFortyNights', 'FortyEightHours', 'FortyGuns', 'FortyNineSeventeen', 'FortyNinthParallel', 'FortySecondStreet', 'FortySevenMetresDown', 'FortySevenRonin', 'FortyShadesOfBlue', 'FortyTwo', 'FoulPlay', 'Found', 'FoundFootage3D', 'FourAdventuresOfReinetteAndMirabelle', 'FourBrothers', 'FourClosed', 'FourDaughters', 'FourDaysInNovember', 'FourFliesOnGreyVelvet', 'FourHundredDays', 'FourLions', 'FourLittleGirls', 'FourRooms', 'FourSistersAndAWedding', 'FourThreeTwoOne', 'FourWeddingsAndAFuneral', 'FoursACrowd', 'FourteenNinetyTwoConquestOfParadise', 'FourteenOhEight', 'FourteenPlus', 'FoxAndHisFriends', 'Foxcatcher', 'Foxes', 'FoxyBrown', 'Fracture2007', 'Frailty', 'Frances', 'FrancesHa', 'FrancisPrayForMe', 'Frank', 'FrankAndJesse', 'Frankenfish', 'Frankenhooker', 'Frankenstein1910', 'Frankenstein1931', 'Frankenstein1970', 'Frankenstein2004', 'Frankenstein2015', 'FrankensteinAndTheMonsterFromHell', 'FrankensteinConquersTheWorld', 'FrankensteinMeetsTheWolfMan', 'FrankensteinsArmy', 'Franklyn', 'Frantic', 'Frantz', 'FranzKafkasItsAWonderfulLife', 'FraternityMassacreAtHellIsland', 'Freaked', 'Freaks', 'FreaksOfNature', 'FreakyFriday1976', 'FreakyFriday1995', 'FreakyFriday2003', 'FredClaus', 'FreddyGotFingered', 'FreddyVsJason', 'FreddysDeadTheFinalNightmare', 'FreeAndEasy', 'FreeEnterprise', 'FreeFire2017', 'FreeStateOfJones', 'FreeWilly', 'FreeWilly2TheAdventureHome', 'FreedomOnMyMind', 'FreedomWriters', 'Freejack', 'Freerunner', 'Freeway', 'FreezeFrame', 'FrenchCancan', 'FrenchFriedVacation', 'FrenchKiss', 'Frenzy', 'Frequencies', 'Frequency', 'FrequentlyAskedQuestionsAboutTimeTravel', 'Fresh', 'FreshMeat', 'Frida', 'Friday', 'FridayNightLights', 'FridayThe13th1980', 'FridayThe13th2009', 'FridayThe13thPart2', 'FridayThe13thPartIII', 'FridayThe13thPartVANewBeginning', 'FridayThe13thPartVIIIJasonTakesManhattan', 'FridayThe13thPartVIITheNewBlood', 'FridayThe13thPartVIJasonLives', 'FridayThe13thTheFinalChapter', 'FriendlyPersuasion', 'FriendsTilTheEnd', 'FriendsWithBenefits', 'FriendsWithKids', 'FriendsWithMoney', 'Friendship', 'FrightNight1985', 'FrightNight2011', 'FrightNight2NewBlood', 'Frightmare1974', 'Frightmare1983', 'FriscoJenny', 'FrogStory', 'Frogs', 'FromBeyond', 'FromDuskTillDawn', 'FromDuskTillDawn2TexasBloodMoney', 'FromDuskTillDawn3TheHangmansDaughter', 'FromHandToMouth', 'FromHell', 'FromHereToEternity', 'FromHomelessToHarvard', 'FromJustinToKelly', 'FromParisWithLove', 'FromRussiaWithLove', 'FromTheLifeOfTheMarionettes', 'FromTheMangerToTheCross', 'Frontiers', 'FrostNixon', 'Frostbite', 'FrostbiterWrathOfTheWendigo', 'Frozen2010', 'FrozenDays', 'FruitvaleStation', 'FugitiveAlien', 'FullCircle', 'FullEclipse', 'FullMetalJacket', 'FullMoonInParis', 'FullmetalAlchemist2017', 'FulltimeKiller', 'FunSize', 'FunWithDickAndJane', 'FuneralHome', 'FuneralInBerlin', 'FuneralParadeOfRoses', 'FunnyFace', 'FunnyGames', 'FunnyMan', 'FunnyPeople', 'FurAnImaginaryPortraitOfDianeArbus', 'FurryVengeance', 'Fury1936', 'Fury2014', 'FutureCops', 'FutureForce', 'FutureWar', 'FutureWorld', 'Fyre', 'FyreFraud', 'GAROKamiNoKiba', 'GBF', 'GForce', 'GIJane', 'GIJoeRetaliation', 'GIJoeTheRiseOfCobra', 'GIJoeTheRiseofCobra', 'GSaviour', 'GabrielOverTheWhiteHouse', 'Gainsbourg', 'GalaxyOfTerror', 'GalaxyQuest', 'Gallipoli', 'Gallowwalkers', 'Gambit', 'GameNight', 'GameOfAssassins', 'GameOfDeath', 'GameOverControlAltDeath', 'GameOverKasparovAndTheMachine', 'GameOverMan2018', 'Gamer', 'Gamera', 'Gamera2AdventOfLegion', 'Gamera3AwakeningOfIrys', 'GameraGuardianOfTheUniverse', 'GameraSuperMonster', 'GameraTheBrave', 'GameraVsBarugon', 'GameraVsGuiron', 'GameraVsGyaos', 'GameraVsJiger', 'GameraVsViras', 'GameraVsZigra', 'Gamers', 'GandarrapiddoTheRevengerSquad', 'Gandhi', 'GandhiAtTheBat', 'GangOfRoses', 'GangRelated', 'GangsOfNewYork', 'GangsterNo1', 'GangsterSquad', 'GarageDays', 'GarceasiOltenii', 'GardeAVue', 'GardenState', 'GardensOfTheNight', 'Garfield', 'GarlicIsAsGoodAsTenMothers', 'GarudaSuperhero', 'Gaslight', 'GateOfHell', 'GatesOfHeaven', 'GatorBait', 'Gattaca', 'GeekCharming', 'GekisouSentaiCarrangerVsOhranger', 'Gemini', 'GeneralIdiAminDadaASelfPortrait', 'GenghisKhan', 'Genocide1981', 'GentlemansAgreement', 'GentlemenOfFortune', 'GeorgeOfTheJungle', 'GeorgeWashingtonSleptHere', 'GeorgesIsland', 'GeorgyGirl', 'Geostorm', 'Geppetto', 'GermanyYearZero', 'Gerry', 'GetAClue', 'GetAJob', 'GetCarter', 'GetCrazy', 'GetHard', 'GetHimToTheGreek', 'GetOnUp', 'GetOut2017', 'GetOverIt', 'GetShorty', 'GetSmart', 'GetTheGringo', 'GetYourMan', 'Getaway', 'GettTheTrialOfVivianeAmsalem', 'GettingEvenWithDad', 'Gettysburg', 'GhidorahTheThreeHeadedMonster', 'Ghost1990', 'Ghost2012', 'GhostDad', 'GhostDogTheWayOfTheSamurai', 'GhostFromTheMachine', 'GhostGraduation', 'GhostInTheMachine', 'GhostInTheShell2017', 'GhostRider', 'GhostRiderSpiritOfVengeance', 'GhostShark', 'GhostShip', 'GhostStories2017', 'GhostStorm', 'GhostTown', 'GhostVoyage', 'Ghostbusters1984', 'Ghostbusters2016', 'Ghostbusters3', 'GhostbustersII', 'Ghostland', 'Ghosts2005', 'Ghosts2006', 'GhostsCantDoIt', 'GhostsOfGirlfriendsPast', 'GhostsOfMars', 'GhostsOfMississippi', 'Ghostwatch', 'Ghoulies', 'GhouliesII', 'GhouliesIIIGhouliesGoToCollege', 'GhouliesIV', 'Gia', 'Giant', 'GiantMonsterGamera', 'Gidget', 'GidgetGoesHawaiian', 'GidgetGoesToRome', 'Gifted', 'Gigi', 'Gigli', 'Gilda', 'GimmeShelter', 'GingerSnaps', 'GingerSnaps2Unleashed', 'GingerSnapsBackTheBeginning', 'Gintama', 'GinzaCosmetics', 'GirlHouse', 'GirlInGoldBoots', 'GirlInterrupted', 'GirlShy', 'GirlVsMonster', 'GirlWithAPearlEarring', 'Girlfight', 'Girlfriends', 'GirlsJustWantToHaveFun', 'GirlsTown', 'GirlsTrip', 'GirltrashAllNightLong', 'GiveEmHellMalone', 'GiveMeLiberty1936', 'GiveMyRegardsToBroadStreet', 'Gladiator', 'Glass2019', 'GleahanAndTheKnavesOfIndustry', 'GleamingTheCube', 'GlenOrGlenda', 'Glitter', 'Gloria', 'Glorious39', 'Glory', 'GloryRoad', 'GnomeAlone', 'Go', 'GoGoSentaiBoukengerTheMovieTheGreatestPrecious', 'GoGoSentaiBoukengerVsSuperSentai', 'GoJohnnyGo', 'GoTellTheSpartans', 'GoWest', 'GoWestYoungLady', 'GodBlessAmerica', 'GodForgivesIDont', 'GodHelpTheGirl', 'GodOfCookery', 'GodOfGamblers', 'GodOfLove', 'GodOnTrial', 'GodfreyHoNinjaMovies', 'GodsAndGenerals', 'GodsAndMonsters', 'GodsArmy', 'GodsGun', 'GodsNotDead', 'GodsNotDead2', 'GodsNotDeadALightInDarkness', 'GodsOfEgypt', 'GodsOwnCountry', 'Godsend', 'Godspell', 'Godzilla1954', 'Godzilla1998', 'Godzilla2000', 'Godzilla2014', 'GodzillaAgainstMechagodzilla', 'GodzillaAndMothraTheBattleForEarth', 'GodzillaFinalWars', 'GodzillaKingOfTheMonsters1956', 'GodzillaKingOfTheMonsters2019', 'GodzillaMothraKingGhidorahGiantMonstersAllOutAttack', 'GodzillaRaidsAgain', 'GodzillaTokyoSOS', 'GodzillaVsBiollante', 'GodzillaVsDestoroyah', 'GodzillaVsGigan', 'GodzillaVsHedorah', 'GodzillaVsKingGhidorah', 'GodzillaVsMechaGodzillaII', 'GodzillaVsMechagodzilla', 'GodzillaVsMechagodzillaII', 'GodzillaVsMegaguirus', 'GodzillaVsMegalon', 'GodzillaVsSpaceGodzilla', 'GodzillaVsSpacegodzilla', 'GoingByeBye', 'GoingInStyle1979', 'GoingInStyle2017', 'GoingMyWay', 'GoingOverboard', 'GoingTheDistance', 'Gojira', 'Gojitmal', 'Gojoe', 'GokaigerGoseigerSuperSentai199HeroGreatBattle', 'GokeBodySnatcherFromHell', 'GoldDiggersOf1933', 'GoldDiggersOf1935', 'GoldDiggersOf1937', 'GoldenBoy1939', 'GoldenEye', 'GoldenWinter', 'Goldfinger', 'Goldstone', 'Gomorrah', 'Gone', 'GoneFishin', 'GoneGirl', 'GoneInSixtySeconds1974', 'GoneInSixtySeconds2000', 'GoneWithTheWind', 'GoodAdvice', 'GoodBoy', 'GoodBoys', 'GoodBurger', 'GoodDick', 'GoodFences', 'GoodGirlsGoToParis', 'GoodLuckChuck', 'GoodMorning', 'GoodMorningVietnam', 'GoodNeighbors', 'GoodNightAndGoodLuck', 'GoodTime', 'GoodWillHunting', 'GoodbyeChristopherRobin', 'GoodbyeLenin', 'GoodbyeMissTurlock', 'GoodbyeMrChips', 'GoodbyePorkPie', 'GoodbyeUncleTom', 'Goodfellas', 'GoodnightMommy', 'Goon', 'Goosebumps', 'Goosebumps2HauntedHalloween', 'Gordy', 'GoreOrphanage', 'Gorgo', 'GorillasInTheMist', 'GoryGoryHallelujah', 'GoseiSentaiDairanger', 'GosfordPark', 'Gotcha', 'Goth2003', 'Gothic', 'Gothika', 'Gotti', 'GowriGanesha', 'GoyoAngBatangHeneral', 'Gozu', 'Grabbers', 'GraceOfMyHeart', 'GraduationDay', 'GranTorino', 'GrandCanyon', 'GrandHotel', 'GrandPiano', 'GrandPrix', 'GrandadOfRaces', 'GrandmasBoy1922', 'GrandmasBoy2006', 'Grass', 'GraveEncounters', 'GraveEncounters2', 'GraveOfTheVampire', 'GraveyardShift', 'Gravity', 'GrayLadyDown', 'GrayMatters', 'Grease', 'Grease2', 'GreasersPalace', 'GreatBallsOfFire', 'GreatExpectations1946', 'Greed', 'Greedy', 'GreenBook', 'GreenCard', 'GreenLantern', 'GreenRoom', 'GreenSnake', 'GreenStreet', 'GreenZone', 'Greetings', 'GregorysGirl', 'Gremlins', 'Gremlins2TheNewBatch', 'GreyGardens', 'GreyfriarsBobby', 'GreystokeTheLegendOfTarzanLordOfTheApes', 'Gridlock', 'GriffTheInvisible', 'Grimm', 'Grimsby', 'Grindhouse', 'Gringo', 'Grizzly', 'GrizzlyMan', 'GrizzlyPark', 'GrizzlyRage', 'GrossePointeBlank', 'GroundhogDay', 'GrownUps', 'Grudge', 'GrudgeMatch', 'GrumpierOldMen', 'GrumpyCatsWorstChristmasEver', 'GrumpyOldMen', 'Guardians', 'GuardiansOfTheGalaxy', 'GuardiansOfTheGalaxyVol2', 'GuessWhosComingToDinner', 'GuestHouseParadiso', 'GuiltyAsSin', 'GuiltyOfRomance', 'GulliversTravels2010', 'Gummo', 'GunCrazy', 'GungHo', 'GungaDin', 'Gunhed', 'Gunmen', 'GunsOfTheApocalypse', 'Gunslinger', 'Gus', 'GutPile', 'Gutterballs', 'GymTeacherTheMovie', 'Gymkata', 'HMPulhamEsq', 'HackOLantern', 'Hackers', 'HacksawRidge', 'HailCaesar', 'HailTheConqueringHero', 'Hairspray', 'HaleCountyThisMorningThisEvening', 'HalfBaked', 'HalfPastDead', 'HallPass', 'Hallelujah', 'Halloween1978', 'Halloween2007', 'Halloween2018', 'Halloween4TheReturnOfMichaelMyers', 'Halloween5TheRevengeOfMichaelMyers', 'HalloweenH20TwentyYearsLater', 'HalloweenII1981', 'HalloweenII2009', 'HalloweenIIISeasonOfTheWitch', 'HalloweenNight', 'HalloweenResurrection', 'HalloweenTheCurseOfMichaelMyers', 'Halloweentown', 'Halo4ForwardUntoDawn', 'HaloNightfall', 'HamburgerHill', 'Hamlet2', 'HammerHorror', 'HamossadHasagur', 'HanaBi', 'Hancock', 'HandsAcrossTheTable', 'HandsOfStone', 'HandsOfTheRipper', 'HandsUp', 'HangEmHigh', 'HangingUp', 'HangmansCurse', 'Hanna', 'HannahAndHerSisters', 'HannieCaulder', 'HansChristianAndersen1952', 'HanselAndGretel2007', 'HanselAndGretel2013', 'HanselAndGretelGetBaked', 'HanselAndGretelWarriorsOfWitchcraft', 'HanselAndGretelWitchHunters', 'HanselVsGretel', 'HanumanAndTheFiveRiders', 'HanzoTheRazor', 'HappinessIsInTheField', 'HappyAccidents', 'HappyBirthdayToMe', 'HappyDeathDay', 'HappyDeathDay2U', 'HappyEnd', 'HappyGilmore', 'HappyGoLucky', 'HappyHellNight', 'HappyTogether', 'HappyTreeFriends', 'Happythankyoumoreplease', 'Harakiri', 'HarbingerDown', 'HardBoiled', 'HardCandy', 'HardCoreLogo', 'HardEight', 'HardLuck', 'HardRain', 'HardRevengeMilly', 'HardTarget', 'HardTicketToHawaii', 'HardToGet', 'HardToKill', 'Hardball', 'Hardcore', 'HardcoreHenry', 'HardlyWorking', 'Hardware', 'HardwareWars', 'Hardwired', 'HarlanCountyUSA', 'HarlemNights', 'HarleyDavidsonAndTheMarlboroMan', 'Harmony', 'HaroldAndKumarEscapeFromGuantanamoBay', 'HaroldAndKumarGoToWhiteCastle', 'HaroldAndMaude', 'Harper', 'HarrietCraig', 'HarrietTheSpyBlogWars', 'HarryAndTheHendersons', 'HarryAndTonto', 'HarryBrown', 'HarryHillTheMovie', 'HarryPalmer', 'HarryPotter', 'HarryPotterAndTheChamberOfSecrets', 'HarryPotterAndTheDeathlyHallows', 'HarryPotterAndTheGobletOfFire', 'HarryPotterAndTheHalfBloodPrince', 'HarryPotterAndTheOrderOfThePhoenix', 'HarryPotterAndThePhilosophersStone', 'HarryPotterAndThePrisonerOfAzkaban', 'HarrysWar', 'HartsWar', 'Hatari', 'Hatchet', 'HatchingPete', 'HauntedForest', 'Haunter', 'Hausu', 'HavanaWidows', 'HawkTheSlayer', 'Hawking', 'Haxan', 'Haywire', 'HeDiedWithAFelafelInHisHand', 'HeKnowsYoureAlone', 'HeLovesMeHeLovesMeNot', 'HeNeverDied', 'HeSaidSheSaid', 'HeWalkedByNight', 'HeWasAQuietMan', 'HeWhoGetsSlapped', 'Head', 'HeadOfState', 'Headhunters', 'Headless', 'HeartAndSouls', 'HeartOfDarkness1958', 'HeartOfGlass', 'Heartbeats', 'Heartbeeps', 'HeartbreakRidge', 'Heartbreakers', 'Heartless', 'HeartsAndMinds', 'HeartsOfDarknessAFilmmakersApocalypse', 'HeartsOfTheWorld', 'Heat', 'HeatLightning', 'Heater', 'Heathers', 'HeavenAndEarth', 'HeavenCanWait1943', 'HeavenCanWait1978', 'HeavenIsForReal', 'HeavenKnowsMrAllison', 'HeavenlyCreatures', 'HeavensAbove', 'HeavensGate', 'HeavyTrip', 'Heavyweights', 'HectorAndTheSearchForHappiness', 'Heidi2015', 'Heima', 'HeiseiRiderVsShowaRiderKamenRiderWarsFeaturingSuperSentai', 'HelenOfTroy', 'Helios', 'Helium', 'HellDrivers', 'HellFest', 'HellHouseLLC', 'HellHouseLLCIITheAbaddonHotel', 'HellIsForHeroes', 'HellNight', 'HellOfTheLivingDead', 'HellOrHighWater', 'Hellbinders', 'Hellbound', 'HellboundHellraiserII', 'Hellboy2004', 'Hellboy2019', 'HellboyIITheGoldenArmy', 'Hellfighters', 'HelloMaryLouPromNightII', 'Hellraiser', 'HellraiserBloodline', 'HellraiserDeader', 'HellraiserHellseeker', 'HellraiserHellworld', 'HellraiserIIIHellOnEarth', 'HellraiserInferno', 'HellraiserJudgement', 'HellraiserRevelations', 'HellsAngels', 'HellsBloodyDevils', 'HellsHinges', 'Hellzapoppin', 'Help', 'HemingwayAndGellhorn', 'HeneralLuna', 'HenryPooleIsHere', 'HenryPortraitOfASerialKiller', 'Her', 'HerAlibi', 'HerDefiance', 'HerbieFullyLoaded', 'HerbieGoesBananas', 'HerbieGoesToMonteCarlo', 'HerbieRidesAgain', 'Hercules', 'Hercules1958', 'Hercules2014', 'HerculesAndTheCaptiveWomen', 'HerculesInNewYork', 'HereAlone', 'HereComeTheGirls', 'HereComesMrJordan', 'HereComesTheBoom', 'Hereafter', 'Hereditary', 'Hero', 'HeroAndTheTerror', 'HeroesForSale', 'HeroesShedNoTears', 'HeroicTrio', 'HesJustNotThatIntoYou', 'Hesher', 'HeureuxAnniversaire', 'HeyHeyItsEstherBlueburger', 'Hibernatus', 'Hick', 'Hidalgo', 'HiddenAgenda', 'HiddenFigures', 'HideAndSeek', 'HighAndLow', 'HighAndTight', 'HighAnxiety', 'HighArt', 'HighLife', 'HighNoon', 'HighPlainsDrifter', 'HighPlainsInvaders', 'HighRise', 'HighRisk', 'HighSchool', 'HighSchoolBigShot', 'HighSchoolConfidential', 'HighSchoolHigh', 'HighSchoolMusical', 'HighSchoolUSA', 'HighSierra', 'HighSociety', 'HighSpirits', 'HighStakes', 'HighTension', 'HigherLearning', 'Highlander', 'HighlanderEndgame', 'HighlanderIIITheSorcerer', 'HighlanderIITheQuickening', 'HighlanderTheSource', 'Highway61', 'Highwaymen', 'HikariSentaiMaskman', 'HillbillysInAHauntedHouse', 'Himala', 'HimitsuSentaiGoranger', 'HimitsuSentaiGorangerFireMountainsFinalExplosion', 'HimitsuSentaiGorangerTheBlueFortress', 'HimitsuSentaiGorangerTheRedDeathMatch', 'HimitsuSentaiGorengerTheBombHurricane', 'Hipsters', 'Hired', 'HirokinTheLastSamurai', 'HiroshimaMonAmour', 'HisGirlFriday', 'HisWeddingNight', 'Hisss', 'HistoryIsMadeAtNight', 'HistoryOfTheWorldPartI', 'HitTeam', 'Hitch', 'Hitchcock', 'HitlerDeadOrAlive', 'HitlersMadman', 'Hitman', 'HitmanAgent47', 'HiveMind', 'Hobgoblins', 'HoboWithAShotgun', 'HocusPocus', 'HoldBackTheDawn', 'HoldMeWhileImNaked', 'HoldTheDark', 'HoldYourBreath', 'HoldYourMan', 'HoldingTheMan', 'Holiday', 'HolidayAffair', 'HolidayInn', 'Holidays', 'HollowMan', 'HollywoodChainsawHookers', 'HollywoodEnding', 'HollywoodHomicide', 'HollywoodOnTrial', 'Hollywoodland', 'HolmesAndWatson', 'Holocaust2000', 'HolyFlyingCircus', 'HolyMotors', 'HolyRollers', 'Home1915', 'Home2003', 'Home2008', 'HomeAgain', 'HomeAlone', 'HomeMovie', 'HomeOfTheBrave', 'HomeSweetHome', 'Homecoming', 'HomewardBoundIILostInSanFrancisco', 'HomewardBoundTheIncredibleJourney', 'HoneyIBlewUpTheKid', 'HoneyIShrunkTheKids', 'HoneyWeShrunkOurselves', 'Honeymoon', 'HoneymoonAcademy', 'HongKilDong', 'Hoodlum', 'Hook', 'HoopDreams', 'Hoosiers', 'Hop', 'HopeAndGlory', 'HopeFloats', 'Hopscotch', 'HoratioHornblower', 'HornetsNest', 'Horns', 'HorribleBosses', 'HorridHenryTheMovie', 'HorrorExpress', 'HorrorOfDracula', 'HorrorsOfSpiderIsland', 'HorseFeathers', 'Horsemen', 'HospitalMassacre', 'Hostage', 'Hostel', 'Hostiles', 'HotFuzz', 'HotLeadAndColdFeet', 'HotPursuit', 'HotRod', 'HotShots', 'HotShotsPartDeux', 'HotToTrot', 'HotTubTimeMachine', 'HotTubTimeMachine2', 'Hotel', 'HotelArtemis', 'HotelForDogs', 'HotelMumbai', 'HotelRwanda', 'HoubaOnTheTrailOfTheMarsupilami', 'Hounddog', 'HourOfTheWolf', 'House', 'HouseArrest', 'HouseAtTheEndOfTheStreet', 'HouseByTheLake', 'HouseIITheSecondStory', 'HouseIV', 'HouseOf1000Corpses', 'HouseOf9', 'HouseOfBones', 'HouseOfDracula', 'HouseOfFlyingDaggers', 'HouseOfFrankenstein', 'HouseOfGames', 'HouseOfGhosts', 'HouseOfHarmony', 'HouseOfTheDead', 'HouseOfTheDeadIIDeadAim', 'HouseOfTheWolfMan', 'HouseOfUsher', 'HouseOfWax1953', 'HouseOfWax2005', 'HouseOfWhipcord', 'HouseOnHauntedHill1959', 'HouseOnHauntedHill1999', 'HouseOnTheEdgeOfThePark', 'HouseParty', 'Housebound', 'Houseguest', 'Housesitter', 'HowHigh', 'HowILiveNow', 'HowIUnleashedWorldWarII', 'HowItEnds', 'HowStellaGotHerGrooveBack', 'HowTheGrinchStoleChristmas', 'HowTheWestWasWon', 'HowToBe', 'HowToBeALatinLover', 'HowToBeASerialKiller', 'HowToBeSingle', 'HowToGetAheadInAdvertising', 'HowToGetRidOfCellulite', 'HowToLoseAGuyIn10Days', 'HowToLoseFriendsAndAlienatePeople', 'HowToMakeAnAmericanQuilt', 'HowToMarryAMillionaire', 'HowToSaveAMarriageAndRuinYourLife', 'HowToSleep', 'HowToStealAMillion', 'HowToStuffAWildBikini', 'HowToTalkToGirlsAtParties', 'HowardLovecraftAndTheFrozenKingdom', 'HowardTheDuck', 'HowardsEnd', 'Howl', 'HowlingIIITheMarsupials', 'HowlingIIStirbaWerewolfBitch', 'Hud', 'HudsonHawk', 'Hugo', 'Hulk', 'HumanNature', 'HumanTraffic', 'Humongous', 'Humoresque', 'Hunger', 'HunkyDory', 'HuntForTheWilderpeople', 'Hunted1952', 'HunterKiller', 'HunterPrey', 'HuntingHumans', 'HurricaneBianca', 'HusbandsAndWives', 'Hush', 'HushHushSweetCharlotte', 'HussarBallad', 'HustleAndFlow', 'HyakujuuSentaiGaorangerTheFireMountainRoars', 'HyakujuuSentaiGaorangerVsSuperSentai', 'HydeParkOnHudson', 'Hypocrites', 'Hysteria', 'IAccuseMyParents', 'IAmAFugitiveFromAChainGang', 'IAmAlone', 'IAmBigBird', 'IAmCuba', 'IAmJoaquin', 'IAmLegend', 'IAmNotASerialKiller', 'IAmNotAnEasyMan', 'IAmNotYourNegro', 'IAmSam', 'IAmThePrettyThingThatLivesInTheHouse', 'IAnActress', 'IBelieveInSantaClaus', 'IBoughtAVampireMotorcycle', 'ICantThinkStraight', 'IComeInPeace', 'IConfess', 'IDanielBlake', 'IDontFeelAtHomeInThisWorldAnymore', 'IDontWantToBeAMan', 'IDrinkYourBlood', 'IEatYourSkin', 'IFeelPretty', 'IFrankenstein', 'IGotFiveOnIt', 'IHeartHuckabees', 'IKilledMyMother', 'IKnewHerWell', 'IKnowThatVoice', 'IKnowWhatYouDidLastSummer', 'IKnowWhereImGoing', 'IKnowWhoKilledMe', 'ILiveInFear', 'ILoveTrouble', 'ILoveYouAgain', 'ILoveYouBethCooper', 'ILoveYouMan', 'ILoveYouPhillipMorris', 'ILoveYouToDeath', 'IMarriedAMonsterFromOuterSpace', 'IMarriedAWitch', 'IMonster', 'INotStupid', 'INowPronounceYouChuckAndLarry', 'IPugniInTasca', 'IReallyHateMyJob', 'IRememberMama', 'IRobot', 'ISawTheDevil', 'ISellTheDead', 'IShotJesseJames', 'ISpitOnYourGrave', 'IStandAlone', 'IStepThroughMoscow', 'IStillKnowWhatYouDidLastSummer', 'IThinkILoveMyWife', 'ITonya', 'IVitelloni', 'IWakeUpScreaming', 'IWalkedWithAZombie', 'IWannaHoldYourHand', 'IWantSomeoneToEatCheeseWith', 'IWantToLive', 'IWantedWings', 'IWasAMaleWarBride', 'IWasATeenageWerewolf', 'IWish', 'Icarus', 'IceColdInAlex', 'IceCreamMan', 'IcePrincess', 'IceStationZebra', 'Icebox', 'Icebreaker', 'Iceman1984', 'Ida', 'IdealHome', 'IdentificazioneDiUnaDonna', 'Identity', 'IdentityThief', 'Idiocracy', 'IdleHands', 'If', 'IfAManAnswers', 'IfATreeFallsAStoryOfTheEarthLiberationFront', 'IfBealeStreetCouldTalk', 'IfFootmenTireYouWhatWillHorsesDo', 'IfLooksCouldKill', 'IfYouBelieve', 'IgbyGoesDown', 'Ikiru', 'IlDesertoRosso', 'IlDivo', 'IlGrido', 'IlPostino', 'IlProfumoDellaSignoraInNero', 'IlRagazzoInvisibile', 'IlSorpasso', 'IllAlwaysKnowWhatYouDidLastSummer', 'IllBeHomeForChristmas', 'IllBeSeeingYou', 'IllFindAWay', 'IllKillYouIllBuryYouIllSpitOnYourGraveToo', 'IllWaitForYou', 'Illicit', 'IllusiveTracks', 'Ils', 'IlsaSheWolfOfTheSS', 'IlyaMuromets', 'ImACyborgButThatsOK', 'ImACyborgButThatsOk', 'ImGonnaGitYouSucka', 'ImJuli', 'ImNotAshamed', 'ImNotScared', 'ImNotThere', 'Images', 'Imaginaerum', 'ImagineMeAndYou', 'ImitationOfLife1934', 'ImitationOfLife1959', 'Immortal', 'ImmortalLove', 'Immortals', 'Imperium', 'Impostor', 'Imprint', 'Impromptu', 'InABetterWorld', 'InALonelyPlace', 'InAWorld', 'InAmerica', 'InAndOut', 'InBruges', 'InChinaTheyEatDogs', 'InHarmsWay', 'InHell', 'InNameOnly1939', 'InOldArizona', 'InOldChicago', 'InOrderOfDisappearance', 'InSearchOfDrSeuss', 'InTheAftermathAngelsNeverSleep', 'InTheBedroom', 'InTheBleakMidwinter', 'InTheCompanyOfMen', 'InTheHeartOfTheSea', 'InTheHeatOfTheNight', 'InTheLandOfTheHeadHunters', 'InTheLandOfWomen', 'InTheLineOfDutyTheFBIMurders', 'InTheLineOfFire', 'InTheLoop', 'InTheMood', 'InTheMoodForLove', 'InTheMouthOfMadness', 'InTheNameOfTheFather', 'InTheNameOfTheKing', 'InTheNameOfTheKing2TwoWorlds', 'InTheNameOfTheKing3LastMission', 'InTheRealmOfTheSenses', 'InTheValleyOfElah', 'InTheYearOfThePig', 'InThisOurLife', 'InTime', 'InWhichWeServe', 'InYourEyes', 'Incarnate', 'Incendies', 'Inception', 'IncestTheMusical', 'Inchon', 'IncidentAtLochNess', 'IndecentProposal', 'IndependenceDay', 'IndependenceDayResurgence', 'Indian', 'IndianSummer', 'IndianaJonesAndTheKingdomOfTheCrystalSkull', 'IndianaJonesAndTheLastCrusade', 'IndianaJonesAndTheTempleOfDoom', 'IndieGameTheMovie', 'Indigenous', 'IndiscretionOfAnAmericanWife', 'Indochine', 'Infection', 'Inferno', 'Infestation', 'Infini', 'InfinitelyPolarBear', 'InglouriousBasterds', 'IngridGoesWest', 'InherentVice', 'InitiationSilentNightDeadlyNight4', 'Inja', 'Ink', 'InlandEmpire', 'Innerspace', 'InnocentBlood', 'InnocentWitness', 'Inseparable', 'Insiang', 'Inside', 'InsideLlewynDavis', 'InsideMan', 'InsideNaziGermany', 'Insidious', 'Insomnia', 'InspectorBlunder', 'InspectorGadget', 'InspectorGadget2', 'InsteadOfAbracadabra', 'InstructionsNotIncluded', 'IntensiveCare', 'Intermission', 'InternalAffairs', 'InternationalGuerillas', 'Interstate60', 'Interstellar', 'InterviewWithTheVampire', 'IntoTheArmsOfStrangersStoriesOfTheKindertransport', 'IntoTheBlue', 'IntoTheForest', 'IntoTheNight', 'IntoTheStorm2009', 'IntoTheStorm2014', 'IntoTheWhite', 'IntoTheWild', 'IntoTheWoods', 'IntolerableCruelty', 'Intolerance', 'Intouchables', 'Intruder', 'Intruders', 'InvasionOfAstroMonster', 'InvasionOfTheBeeGirls', 'InvasionOfTheBodySnatchers', 'InvasionOfTheBodySnatchers1956', 'InvasionOfTheBodySnatchers1978', 'InvasionOfTheNeptuneMen', 'InvasionOfTheSaucerMen', 'InvasionUSA1952', 'InvasionUSA1985', 'InvestigationOfACitizenAboveSuspicion', 'Invictus', 'InvisibleInvaders', 'InvisibleMom', 'InvisibleSister', 'InvitationToHell', 'IpMan', 'IpMan2', 'IpMan3', 'IpMan4', 'IpManFilmSeries', 'IrmaVep', 'IronEagle', 'IronJawedAngels', 'IronMan', 'IronMan1', 'IronMan2', 'IronMan3', 'IronMonkey', 'IronSky', 'IronSkyTheComingRace', 'IronWill', 'Ironclad', 'IrrationalMan', 'IrreconcilableDifferences', 'Irreversible', 'IsParisBurning', 'IsThisLove', 'Ishtar', 'IslandOfLostSouls', 'IslandOfTerror', 'IsleOfTheDead', 'IsntItRomantic', 'It1927', 'It1990', 'It2017', 'ItCameFromAnotherWorld', 'ItCameFromBeneathTheSea', 'ItCameFromHollywood', 'ItCameFromOuterSpace', 'ItChapterTwo', 'ItComesAtNight', 'ItConqueredTheWorld', 'ItCouldHappenToYou', 'ItFollows', 'ItHappenedHere', 'ItHappenedInAthens', 'ItHappenedOnFifthAvenue', 'ItHappenedOneNight', 'ItLivesByNight', 'ItRunsInTheFamily', 'ItShouldHappenToYou', 'ItTakesTwo', 'ItTheTerrorFromBeyondSpace', 'ItalianoMedio', 'Item47', 'ItsABoyGirlThing', 'ItsADisaster', 'ItsAGift', 'ItsAMadMadMadMadWorld', 'ItsAVeryMerryMuppetChristmasMovie', 'ItsAWonderfulLife', 'ItsAWonderfulWorld', 'ItsAlive', 'ItsAllGood', 'ItsComplicated', 'ItsLoveImAfter', 'ItsMyPartyAndIllDieIfIWantTo', 'ItsPat', 'IvanTheTerrible', 'IvanVasilievichChangesProfession', 'Ivanhoe', 'IvansChildhood', 'JAKQDengekitai', 'JAKQDengekitaiVsGoranger', 'JCVD', 'JEdgar', 'JFK', 'JMenForever', 'Jabberwocky', 'Jack1996', 'JackAndJill', 'JackBrooksMonsterSlayer', 'JackEmPopoy', 'JackFrost1997', 'JackFrost1998', 'JackO', 'JackReacher', 'JackReacherNeverGoBack', 'JackRyanShadowRecruit', 'JackStrong', 'JackTheGiantKiller', 'JackTheGiantSlayer', 'JackalOfNahueltoro', 'JackbootsOnWhitehall', 'Jackie', 'JackieBrown', 'JacksBack', 'JacksonCountyJail', 'JacobsLadder', 'Jade', 'JagArNyfiken', 'JailBait', 'Jailbait2014', 'JailhouseRock', 'JakobTheLiar', 'JamesBond', 'JamminTheBlues', 'JaneEyre', 'JapaneseSummerDoubleSuicide', 'Jarhead', 'Jasminum', 'JasonAndTheArgonauts', 'JasonBourne', 'JasonGoesToHellTheFinalFriday', 'JasonX', 'Jawbreaker', 'Jaws', 'Jaws2', 'Jaws3D', 'JawsTheRevenge', 'JayAndSilentBobStrikeBack', 'JazzOnASummersDay', 'JealousGods', 'JeanDeFlorette', 'JeanneDielman23QuaiDuCommerce1080Bruxelles', 'JeepersCreepers', 'JeepersCreepers2', 'JeffWhoLivesAtHome', 'JemAndTheHolograms', 'Jennifer', 'JennifersBody', 'JeremiahJohnson', 'JerryMaguire', 'JerseyGirl', 'JerusalemCountdown', 'JesseJamesMeetsFrankensteinsDaughter', 'Jesus1979', 'JesusBro', 'JesusCamp', 'JesusChristVampireHunter', 'JesusOfMontreal', 'JeuneEtJolie', 'JewSuss1934', 'JewSuss1940', 'JewelRobbery', 'Jezebel', 'Jigsaw', 'JingleAllTheWay', 'JiroDreamsOfSushi', 'Jo', 'JoanOfArc', 'JobOrTheLastBrainCell', 'Jobs', 'Joe', 'JoeDirt', 'JoeVersusTheVolcano', 'JoesApartment', 'JohnCarpentersVampires', 'JohnCarter', 'JohnDiesAtTheEnd', 'JohnQ', 'JohnTuckerMustDie', 'JohnWick', 'JohnWickChapter2', 'JohnWickChapter3Parabellum', 'JohnnyAtTheFair', 'JohnnyBelinda', 'JohnnyCool', 'JohnnyDangerously', 'JohnnyEnglish', 'JohnnyEnglishReborn', 'JohnnyEnglishStrikesAgain', 'JohnnyGaddaar', 'JohnnyGuitar', 'JohnnyHandsome', 'JohnnyLingo', 'JohnnyMnemonic', 'JohnnyReno', 'JointSecurityArea', 'JojoRabbit', 'Joker2019', 'JollyRogerMassacreAtCuttersCove', 'JonahHex', 'Jonestown', 'Joshua', 'JoshuuSasori', 'Josie', 'JosieAndThePussycats', 'JourDeFete', 'JourneyIntoFear', 'JourneyToItaly', 'JourneyToTheSeventhPlanet', 'JourneyToTheWestConqueringTheDemons', 'JourneyToTheWestTheDemonsStrikeBack', 'Joy2015', 'Joy2016', 'JoyRide', 'JoyRide2DeadAhead', 'JoyRide3Roadkill', 'JoyeuxNoel', 'Joysticks', 'JuDou', 'JuRei', 'JuanInAMillion', 'JuanOfTheDead', 'Jubal', 'Jubilee', 'JudgeDredd', 'JudgeMinty', 'JudgmentAtNuremberg', 'JudgmentNight', 'Judy', 'JugFace', 'Juggernaut', 'Juice', 'JukenSentaiGekirangerNeiNeiHouHouHongKongDecisiveBattle', 'JukenSentaiGekirangerVsBoukenger', 'JulesAndJim', 'JulesVernesMysteryOnMonsterIsland', 'Julia', 'JuliaMisbehaves', 'JuliaX', 'JuliasEyes', 'JulieAndJulia', 'JulienDonkeyBoy', 'JulietOfTheSpirits', 'July22', 'Jumanji', 'JumanjiWelcomeToTheJungle', 'Jumper', 'JumpinJackFlash', 'JumpingTheBroom', 'JuneBug', 'Jungle2Jungle', 'JungleBook', 'JungleFever', 'JungleGoddess', 'Jungleground', 'Junior', 'Juno', 'Juon', 'JupiterAscending', 'JurassicPark', 'JurassicParkIII', 'JurassicWorld', 'JurassicWorldFallenKingdom', 'JustBeforeDawn', 'JustBuried', 'JustCause', 'JustFriends', 'JustGoWithIt', 'JustImagine', 'JustLikeHeaven', 'JustMarried', 'JustMyLuck', 'JustSaying', 'JustVisiting', 'JusteAvantLaNuit', 'JusticeLeague2017', 'JusticeLeagueOfAmerica', 'JuukouBFighter', 'JuwannaMann', 'K-9', 'K19TheWidowmaker', 'K20LegendOfTheMask', 'KPax', 'Kaboom', 'Kafka', 'KagakuSentaiDynaman', 'Kagemusha', 'Kairo', 'KaizokuSentaiGokaigerTheMovieTheFlyingGhostShip', 'KaizokuSentaiGokaigerVsSpaceSheriffGavanTheMovie', 'Kalifornia', 'KamenRider', 'KamenRider1', 'KamenRider555ParadiseLost', 'KamenRiderAgitoProjectG4', 'KamenRiderAmazon', 'KamenRiderBlackHurryToOnigashima', 'KamenRiderBladeMissingAce', 'KamenRiderDecadeAllRidersVsDaiShocker', 'KamenRiderDenOAndKivaClimaxDeka', 'KamenRiderDenOImBorn', 'KamenRiderDriveSurpriseFuture', 'KamenRiderEightRidersVsGalaxyKing', 'KamenRiderFourzeTheMovieEveryoneSpaceIsHere', 'KamenRiderGaimGreatSoccerBattleGoldenFruitsCup', 'KamenRiderGaimTheMovieTheGreatSoccerMatchTheGoldenFruitCup', 'KamenRiderGenerationsDrPacmanVsExAidAndGhostWithLegendaryRiders', 'KamenRiderHibikiAndTheSevenSenki', 'KamenRiderIchigo', 'KamenRiderKabutoGodSpeedLove', 'KamenRiderKivaKingOfTheCastleInTheDemonWorld', 'KamenRiderOOOWonderfulTheShogunAndThe21CoreMedals', 'KamenRiderRunAllOverTheWorld', 'KamenRiderRyukiEpisodeFinal', 'KamenRiderStronger', 'KamenRiderSuper1', 'KamenRiderTerrifyingThePhantomHouseOfDevilPass', 'KamenRiderTheFirst', 'KamenRiderTheNext', 'KamenRiderV3', 'KamenRiderV3VsDestronMutants', 'KamenRiderVsAmbassadorHell', 'KamenRiderVsShocker', 'KamenRiderWForeverAToZTheGaiaMemoriesOfFate', 'KamenRiderWizardInMagicLand', 'KamenRiderWorld', 'KamenRiderX', 'KamenRiderXKamenRiderDriveAndGaimMovieWarFullThrottle', 'KamenRiderXKamenRiderFourzeAndOOOMovieWarMegaMax', 'KamenRiderXKamenRiderGaimAndWizardTheFatefulSengokuMovieBattle', 'KamenRiderXKamenRiderGhostAndDriveSuperMovieWarGenesis', 'KamenRiderXKamenRiderOOOAndWFeaturingSkullMovieWarCore', 'KamenRiderXKamenRiderWAndDecadeMovieWar2010', 'KamenRiderXKamenRiderWizardAndFourzeMovieWarUltimatum', 'KamenRiderXSuperSentaiChouSuperHeroTaisen', 'KamenRiderXSuperSentaiSuperHeroTaisen', 'KamenRiderXSuperSentaiXSpaceSheriffSuperHeroTaisenZ', 'KamenRiderZO', 'Kaminey', 'Kana', 'Kanal', 'KangarooJack', 'Kapo', 'Karla', 'KateAndLeopold', 'KathyO', 'KayfabeAFakeRealMovieAboutAFakeRealSport', 'Kazaam', 'Keanu', 'Kedi', 'KeepingMum', 'KeepingTheFaith', 'KeepingUpWithTheJoneses', 'Keith', 'KellysHeroes', 'KenPark', 'Kenau', 'Kenny', 'Keoma', 'KermitsSwampYears', 'Kes', 'KevinAndPerryGoLarge', 'KevinOfTheNorth', 'KeyLargo', 'Khadak', 'Khartoum', 'KichikuDaiEnkai', 'KickAss', 'KickAss2', 'Kickboxer', 'KickboxingAcademy', 'KickinItOldSchool', 'KickingAndScreaming', 'Kidnap', 'KidnappingCaucasianStyle', 'KidnappingGrannyK', 'KidouKeijiJiban', 'Kids', 'KidsInAmerica', 'KidsInTheHallBrainCandy', 'Kiler', 'KillAndKillAgain', 'KillBill', 'KillList', 'KillYourDarlings', 'Killdozer', 'KillerBeanForever', 'KillerElite', 'KillerJoe', 'KillerKlownsFromOuterSpace', 'KillerNerd', 'KillerOfSheep', 'KillerToon', 'Killers', 'KillersKiss', 'KillingBono', 'KillingGunther', 'KillingThemSoftly', 'KillingZoe', 'Killshot', 'KimPossible', 'Kin2018', 'KinDzaDza', 'KindHeartsAndCoronets', 'KindergartenCop', 'KingArthur', 'KingArthurLegendOfTheSword', 'KingCobra1999', 'KingDavid', 'KingDinosaur', 'KingKong', 'KingKong1933', 'KingKong1976', 'KingKong2005', 'KingKongEscapes', 'KingKongLives', 'KingKongVsGodzilla', 'KingOfBeggars', 'KingOfDevilsIsland', 'KingOfHearts', 'KingOfJazz', 'KingOfKings', 'KingOfNewYork', 'KingOfTheLostWorld', 'KingOfTheZombies', 'KingOfThieves', 'KingRalph', 'KingdomOfHeaven', 'KingdomOfTheSpiders', 'Kingpin', 'Kings2018', 'KingsAndQueen', 'KingsRow', 'Kingsman', 'KingsmanTheGoldenCircle', 'KingsmanTheGreatGame', 'KingsmanTheSecretService', 'KinjiteForbiddenSubjects', 'KinkyBoots', 'Kinsey', 'KisUykusu', 'Kismet1944', 'KissKissBangBang', 'KissLovesYou', 'KissMeDeadly', 'KissMeStupid', 'KissMeetsThePhantomOfThePark', 'KissOfDeath', 'KissOfTheDragon', 'KissOfTheTarantula', 'KissTheGirls', 'KissingAFool', 'KissingJessicaStein', 'KitKittredgeAnAmericanGirl', 'Kite', 'KittenWithAWhip', 'KittyFoyle', 'Klute', 'KnifeForTheLadies', 'KnifeInTheWater', 'KnightAndDay', 'KnightMoves', 'KnightWithoutArmour', 'KnightsOfBadassdom', 'KnightsOfTheRoundTable', 'KnivesOut', 'KnockKnock2015', 'KnockedUp', 'KnockinOnHeavensDoor', 'Knowing', 'KnuteRockneAllAmerican', 'Kokoda', 'Kolberg', 'Kolya', 'Komaa', 'Komodo', 'KonTiki', 'KonTiki2012', 'KongSkullIsland', 'Konga', 'Kongo', 'Kontroll', 'KousokuSentaiTurboranger', 'Koyaanisqatsi', 'Krai', 'KramerVsKramer', 'Krampus', 'Krull', 'Kuffs', 'Kukushka', 'KullTheConqueror', 'KumikoTheTreasureHunter', 'Kundun', 'KungFuCultMaster', 'KungFuHustle', 'KungFury', 'KungPowEnterTheFist', 'KuroObi', 'Kwaidan', 'KyuukyuuSentaiGoGoFiveSuddenShockANewSuperWarrior', 'KyuukyuuSentaiGoGoFiveVsGingaman', 'LAConfidential', 'LAStory', 'LArgent', 'LAtalante', 'LAvventura', 'LChangeTheWorld', 'LOL', 'LStorm', 'LaBelleNoiseuse', 'LaBeteHumaine', 'LaCageAuxFolles', 'LaCasa3', 'LaCasaDalleFinestreCheRidono', 'LaCeremonie', 'LaChienne', 'LaCiteDeLaPeur', 'LaCollectionneuse', 'LaColonia', 'LaCucaracha', 'LaDolceVita', 'LaFamilleBelier', 'LaGrandeBouffe', 'LaGrandeVadrouille', 'LaHabanera', 'LaHaine', 'LaHorse', 'LaJetee', 'LaLaLand', 'LaMoutardeMeMonteAuNez', 'LaPielQueHabito', 'LaReineMargot', 'LaRevolucionEsUnSuenoEterno', 'LaSignoraSenzaCamelie', 'LaSoupeAuxChoux', 'LaSourianteMadameBeudet', 'LaStrada', 'LaTerraTrema', 'LaVieEnRose', 'LaVilleDesPirates', 'LaVioletera', 'LaZizanie', 'Labyrinth', 'LacombeLucien', 'Ladder49', 'LadderOfSwords', 'LadiesTheyTalkAbout', 'LadyAndTheTramp', 'LadyBird', 'LadyBloodfight', 'LadyCarolineLamb', 'LadyForADay', 'LadyFrankenstein', 'LadyInCement', 'LadyInTheDark', 'LadyInTheLake', 'LadyInTheWater', 'LadyKiller', 'LadyMacbeth', 'LadyOfBurlesque', 'LadyOfTheNight', 'LadySnowblood', 'LadySnowblood2LoveSongOfVengeance', 'Ladybugs', 'Ladyhawke', 'LaidToRest', 'LakeBodom', 'LakeMungo', 'LakePlacid', 'LakePlacidVsAnaconda', 'LakeviewTerrace', 'Lambchops', 'LamoreMolesto', 'LancelotDuLac', 'LandOfTheBlind', 'LandOfTheDead', 'LandOfTheLost', 'LandOfThePharaohs', 'Lanotte', 'Lantana', 'LaraCroftTombRaider', 'LarryCrowne', 'LarsAndTheRealGirl', 'LasVegasBloodbath', 'LaserMission', 'Laserblast', 'Lassie', 'LassieComeHome', 'LastActionHero', 'LastClearChance', 'LastDaysInVietnam', 'LastFlagFlying', 'LastHoliday', 'LastKnownAddress', 'LastManStanding1996', 'LastNight', 'LastOfTheWildHorses', 'LastOrders', 'LastOunceOfCourage', 'LastShift', 'LastTangoInParis', 'LastTrainFromGunHill', 'LastTrainHome', 'LastVegas', 'LastYearAtMarienbad', 'LateAutumn', 'LatePhases', 'LateSpring', 'LatterDays', 'Laura', 'Lavalantula', 'LawAbidingCitizen', 'Lawless', 'LawnDogs', 'LawrenceOfArabia', 'LayerCake', 'LazerTeam', 'LazerTeam2', 'LeAmiche', 'LeBossu1959', 'LeBoucher', 'LeCapitaineFracasse', 'LeCapitan', 'LeCercleRouge', 'LeDernierVol', 'LeDiableProbablement', 'LeDoulos', 'LeFantomeDeLaLiberte', 'LeGendarmeANewYork', 'LeGendarmeDeSaintTropez', 'LeGendarmeEnBalade', 'LeGendarmeEtLesExtraTerrestres', 'LeGendarmeEtLesGendarmettes', 'LeGendarmeSeMarie', 'LeHavre', 'LeJaguar', 'LeMagnifique', 'LeMans', 'LeMillion', 'LeProfessionnel', 'LeSamourai', 'LeSilencieux', 'LeTrou', 'LeVieuxFusil', 'LeadMeAstray', 'LeanOnMe', 'Leap', 'LeapOfFaith', 'LeapYear', 'LeapYear1921', 'LearningToLie', 'Leatherface', 'LeatherfaceTheTexasChainsawMassacreIII', 'Leatherheads', 'LeaveHerToHeaven', 'LeavingLasVegas', 'Lebanon', 'Leclisse', 'LeftBank', 'LeftBehind2000', 'LeftBehind2014', 'LegallyBlonde', 'Legend1985', 'Legend2015', 'LegendOfDinosaursAndMonsterBirds', 'LegendOfTheBlackScorpion', 'LegendOfTheEightSamurai', 'LegendOfTheHeroOfTheRealm', 'LegendaryAssassin', 'LegendsOfTheFall', 'LegendsOfTheHiddenTemple', 'Legion', 'LegionOfTheDead', 'LemonTreePassage', 'LemonadeJoe', 'LemonadeMouth', 'Lenny', 'Leolo', 'LeonMorinPriest', 'LeonardPart6', 'Leprechaun', 'Leprechaun2', 'Leprechaun3', 'Leprechaun4InSpace', 'LeprechaunBack2ThaHood', 'LeprechaunInTheHood', 'LeprechaunOrigins', 'LeprechaunReturns', 'LesBarbouzes', 'LesBiches', 'LesBonnesFemmes', 'LesBoys', 'LesChoristes', 'LesComperes', 'LesDiaboliques', 'LesEnfantsTerribles', 'LesGrandesVacances', 'LesMiserables1998', 'LesMiserables2012', 'LesPasseurs', 'LesRisquesDuMetier', 'LesSaignantes', 'LesTontonsFlingueurs', 'LesValseuses', 'LesVampires', 'LesVisiteurs', 'LesbianVampireKillers', 'LeslieNielsenGolfTrilogy', 'LessThanZero', 'LetHimHaveIt', 'LetItBe', 'LetItRide', 'LetMeIn', 'LetTheRightOneIn', 'LetThereBeLight1946', 'LetThereBeLight2017', 'Lethal', 'LethalWeapon', 'LetsBeCops', 'LetsGoToPrison', 'LetterFromAnUnknownWoman', 'LetterNeverSent', 'LettersFromIwoJima', 'LettersToJuliet', 'Leviathan1989', 'Leviathan2014', 'LiarLiar', 'Libel', 'LibeledLady', 'LiberalArts', 'LicenceToKill', 'Life1999', 'Life2017', 'LifeAfterBeth', 'LifeAnimated', 'LifeBlood', 'LifeInAFishbowl', 'LifeIsBeautiful', 'LifeItself', 'LifeOfAnAmericanFireman', 'LifeOfTheParty', 'LifeOfTheParty2018', 'LifePartners', 'LifeSize', 'LifeWithFather', 'Lifeboat', 'Lifeforce', 'Lifepod', 'Lighthouse', 'LightningJack', 'LightsOfNewYork', 'LightsOut2016', 'LikeCrazy', 'LikeFatherLikeSon', 'LikeMike', 'Lili', 'LiliacSphere', 'LiliesOfTheField', 'Liliom', 'Lilting', 'LilyaFourEver', 'Limelight', 'Limitless', 'Lincoln', 'Linda1929', 'LindaLindaLinda', 'Lion', 'Lionheart', 'LionsForLambs', 'LiquidSky', 'LisaAndTheDevil', 'LisaTheFoxfairy', 'Lisztomania', 'Litalien', 'Little2019', 'LittleAlvinAndTheMiniMunks', 'LittleAnnieRooney', 'LittleBigLeague', 'LittleBigMan', 'LittleBlackBook', 'LittleBoy', 'LittleCaesar', 'LittleChildren', 'LittleDarlings', 'LittleEvil', 'LittleFugitive', 'LittleGiants', 'LittleIndianBigCity', 'LittleMan', 'LittleManTate', 'LittleManhattan', 'LittleMissMarker', 'LittleMissSunshine', 'LittleMonsters', 'LittleNicky', 'LittleNikita', 'LittleOdessa', 'LittleOrphanAnnie', 'LittleOtik', 'LittleShopOfHorrors', 'LittleSpies', 'LittleSweetheart', 'LiveAndLetDie', 'LiveByNight', 'LiveFreeOrDieHard', 'Livid', 'LivingDeadSeries', 'LivingInOblivion', 'LivingOutLoud', 'LivingTilTheEnd', 'LivingWill', 'LizAndDick', 'Lo', 'LoadedWeapon1', 'LocalHero', 'LockStockAndTwoSmokingBarrels', 'LockUp', 'Locke', 'Lockout', 'LocustsTheEightPlague', 'Loft', 'Logan', 'LoganLucky', 'LogansRun', 'Lola', 'LolaMontes', 'LondonHasFallen', 'LoneStar', 'LoneStarStateOfMind', 'LoneSurvivor', 'LoneWolfAndCub', 'LoneWolfMcQuade', 'LonelyAreTheBrave', 'LonelyHearts', 'Lonesome', 'LongPigs', 'LongWeekend', 'LookBothWays', 'LookWhosTalking', 'Looker', 'LookingForAlibrandi', 'LooneyTunesBackInAction', 'Looper', 'LooseCannons', 'LooseScrews', 'LordLoveADuck', 'LordOfIllusions', 'LordOfTears', 'LordOfTheDance1997', 'LordOfWar', 'LordsOfChaos', 'LordsOfDogtown', 'LosCronocrimenes', 'LosOlvidados', 'LosinIt', 'LosingIsaiah', 'LostAfterDark', 'LostAndDelirious', 'LostContinent', 'LostHighway', 'LostHorizon', 'LostInAmerica', 'LostInLaMancha', 'LostInParadise', 'LostInSpace', 'LostInTranslation', 'LostRiver', 'LostSouls', 'LouisTheChildKing', 'LouisianaStory', 'Love', 'Love2015', 'LoveActually', 'LoveAffair', 'LoveAndBasketball', 'LoveAndDeath', 'LoveAndHonor', 'LoveAndMercy', 'LoveAndOtherDrugs', 'LoveAndPeace', 'LoveAtFirstBite', 'LoveBeforeBreakfast', 'LoveCrime', 'LoveDontCostAThing', 'LoveExposure', 'LoveFindsAndyHardy', 'LoveHappens', 'LoveHappy', 'LoveHate', 'LoveInAPuff', 'LoveInTheAfternoon', 'LoveIsAManySplendoredThing', 'LoveLetters', 'LoveMeTonight', 'LoveOnDelivery', 'LoveRosie', 'LoveSimon', 'LoveSoDivine', 'LoveSongs', 'LoveStinks', 'LoveStory', 'LoveTheCoopers', 'LoveWithTheProperStranger', 'Lovelace', 'Loveless2017', 'Loveling', 'LovelyButDeadly', 'LovelyMolly', 'LoverComeBack', 'LoversLane', 'Loving', 'LovingAnnabelle', 'LtRobinCrusoeUSN', 'LuckyBastard', 'LuckyNumberSlevin', 'LuckyStar', 'LuckyYou', 'Lucy', 'LumiereFilms', 'Lunopolis', 'LustCaution', 'Luther', 'LuxuryCar', 'Lydia', 'M', 'MASH', 'MW', 'MaVieEnRose', 'MabelsBlunder', 'MabelsStrangePredicament', 'Mabo', 'MacAndMe', 'MacGruber', 'Machete', 'MacheteKills', 'MachineGunPreacher', 'MackennasGold', 'MadDogMorgan', 'MadLove', 'MadMax', 'MadMax1', 'MadMax2TheRoadWarrior', 'MadMaxBeyondThunderdome', 'MadMaxFuryRoad', 'Madadayo', 'MadamSatan', 'MadameCurie', 'MadameRosa', 'MadameSousatzka', 'MadchenInUniform', 'Made', 'MadeForEachOther', 'MadeInAmerica', 'MadeInMongolia', 'MadeaGoesToJail', 'MadeasFamilyReunion', 'Madeline', 'Madhouse', 'Madhouse2004', 'Madman', 'Madre', 'Maggie', 'Magic', 'MagicBeyondWordsTheJKRowlingStory', 'MagicCamp', 'MagicInTheMirror', 'MagicInTheMoonlight', 'MagicIsland', 'MagicMike', 'MagicMikeXXL', 'MagicalDisappearingMoney', 'MagicalLegendOfTheLeprechauns', 'MagicalMysteryTour', 'Magicians', 'MagnetOfDoom', 'MagnificentObsession', 'Magnifico', 'Magnolia', 'MagnumForce', 'MahouSentaiMagirangerTheMovieBrideOfInfershia', 'MahouSentaiMagirangerVsDekaranger', 'MaidInManhattan', 'MainStreetOnTheMarch', 'MajorDundee', 'MajorLeague', 'MajorPayne', 'MajorasMaskTerribleFate', 'Makdee', 'MakeMineMink', 'MakeTheYuletideGay', 'MakeWayForTomorrow', 'MakingContact', 'Malavita', 'Malcolm', 'MalcolmX', 'MaleAndFemale', 'Maleficent', 'MaleficentMistressOfEvil', 'Malena', 'Malevolent2002', 'MalibusMostWanted', 'Malice', 'Mallrats', 'Mama', 'MammaMiaHereWeGoAgain', 'Mammoth', 'ManBitesDog', 'ManInTheMirrorTheMichaelJacksonStory', 'ManOfAThousandFaces1957', 'ManOfIron', 'ManOfSteel', 'ManOfTaiChi', 'ManOfTheHouse', 'ManOfTheWest', 'ManOfTheYear', 'ManOnALedge', 'ManOnFire', 'ManOnTheMoon', 'ManOnWire', 'ManThing', 'ManUp', 'ManVs', 'ManVsWoman', 'ManWithAMovieCamera', 'ManWithAPlan', 'ManWithTheScreamingBrain', 'Manborg', 'ManchesterByTheSea', 'Mandalay', 'Mandy2018', 'Maneater', 'Manhatta', 'Manhattan', 'ManhattanMelodrama', 'ManhattanMurderMystery', 'Manhunter', 'Maniac', 'Maniac1934', 'ManiacCop', 'ManiacCop2', 'ManiacCop3BadgeOfSilence', 'Mannequin', 'ManonDesSources', 'ManosTheHandsOfFate', 'MansBestFriend', 'MansCastle', 'MansFavoriteSport', 'MansfieldPark', 'Manson1973', 'MapsToTheStars', 'MarathonMan', 'MarchOfThePenguins', 'MarciX', 'MareNostrum', 'Marebito', 'MarginCall', 'Marguerite', 'Marguerite2017', 'MariaLabo', 'Marianne', 'MarieAntoinette', 'Marina', 'MarkOfTheVampire', 'MarkedForDeath', 'MarketaLazarova', 'MarleyAndMe', 'Marlowe', 'Marmaduke', 'Marnie', 'Marooned', 'MarriageBlue', 'MarriageItalianStyle', 'MarriedToTheMob', 'MarryMe', 'MarsAttacks', 'MarsNeedsWomen', 'MarthaMarcyMayMarlene', 'Martin', 'Marty', 'Martyrs', 'MarvelOneShots', 'Marwencol', 'MaryOfScotland', 'MaryPoppins', 'MaryPoppinsReturns', 'MaryQueenOfScots', 'MaryQueenOfScots2018', 'MaryReilly', 'MaryShelleysFrankenstein', 'MaryStevensMD', 'Mascots', 'MasculinFeminin', 'Mask', 'MaskedAvengers', 'MassacreAtCentralHigh', 'MasterAndCommander', 'MasterOfTheFlyingGuillotine', 'MasterOfTheWorld', 'MasterZTheIpManLegacy', 'Masterminds', 'Masterminds2016', 'MastersOfTheUniverse', 'MataHari', 'Matango', 'MatchPoint', 'MatchstickMen', 'Matewan', 'Matilda', 'Matinee', 'MatrimonysSpeedLimit', 'Maurice', 'Maverick', 'Max', 'MaxKeeblesBigMove', 'MaxKnightUltraSpy', 'MaxManus', 'MaxPayne', 'MaxSteel', 'Maxie', 'MaximumOverdrive', 'MaximumRide', 'MaximumRisk', 'May', 'MaybeBaby', 'Mayhem', 'MazeRunnerTheDeathCure', 'MazeRunnerTheScorchTrials', 'MazesAndMonsters', 'McCabeAndMrsMiller', 'McFarlandUSA', 'McLintock', 'MeAndEarlAndTheDyingGirl', 'MeAndOrsonWelles', 'MeBeforeYou', 'MeMyselfAndIrene', 'MeanCreek', 'MeanGirls', 'MeanGuns', 'MeanStreets', 'MeatballMachine', 'Meatballs', 'MedicineMan', 'MediumCool', 'MeetDave', 'MeetJoeBlack', 'MeetJohnDoe', 'MeetMeInStLouis', 'MeetTheBlacks', 'MeetTheFeebles', 'MeetTheParents', 'MeetingPeopleIsEasy', 'MegaMonsterBattleUltraGalaxyLegends', 'MegaSharkVsGiantOctopus', 'Megaforce', 'MeganIsMissing', 'Melancholia', 'MelindaAndMelinda', 'MelodySWALK', 'Memento', 'MementoMori', 'MemorialDay', 'MemoriesOfMatsuko', 'MemoriesOfMurder', 'MemphisBelle', 'MenAndDust', 'MenBehindTheSun', 'MenDontTell', 'MenInBlack', 'MenInBlack3', 'MenInBlackII', 'MenInBlackInternational', 'MenOfHonor', 'MenOfWar', 'MenWithBrooms', 'MenWomenAndChildren', 'MenaceIISociety', 'Mental', 'Menu', 'Mephisto', 'Merantau', 'MercForce', 'Mercenaries', 'MercuryRising', 'MercyStreets', 'MerlinsShopOfMysticalWonders', 'Mermaid', 'Mermaids', 'MerryChristmasMrLawrence', 'MerryWivesOfReno', 'MeshesOfTheAfternoon', 'Mesrine', 'MessageFromSpace', 'MessageInABottle', 'MessageInACellPhone', 'Meteor', 'MetriShishoNimIranianMovie', 'Metro', 'Metropolis', 'MexicanWerewolfInTexas', 'MiamiConnection', 'MiamiVice', 'MiaoMiao', 'Michael', 'MichaelBoltonsBigSexyValentinesDaySpecial', 'MichaelClayton', 'MichaelCollins', 'MichaelJacksonsGhosts', 'MichielDeRuyter', 'Mickey', 'MickeyBlueEyes', 'Micmacs', 'Mid90s', 'MiddleMan', 'MiddleMen', 'MiddleOfTheNight', 'Midnight1939', 'MidnightCowboy', 'MidnightExpress', 'MidnightInParis', 'MidnightInTheGardenOfGoodAndEvil', 'MidnightLace', 'MidnightMadness', 'MidnightMary', 'MidnightMovie', 'MidnightRun', 'MidnightSpecial', 'MidnightSun', 'Midsommar', 'Midway', 'MidwayToHeaven', 'MightyAphrodite', 'MightyJoeYoung', 'MightyLikeAMoose', 'MightyMorphinPowerRangersTheMovie', 'Mihmiverse', 'MikeAndDaveNeedWeddingDates', 'MikeBassettEnglandManager', 'Mikey', 'MikeyAndNicky', 'Mile22', 'Milk', 'MilkMoney', 'Millennium', 'MillersCrossing', 'Millie', 'MillionDollarArm', 'MillionDollarBaby', 'Millions', 'Mimic', 'Mimino', 'MinAndBill', 'MinAndMax', 'Mindhunters', 'Mindscape', 'Mindwarp', 'MinistryOfFear', 'MinorityReport', 'Minotaur', 'MinusculeValleyOfTheLostAnts', 'Minutemen', 'MiracleMile', 'MiracleOnThirtyFourthStreet', 'MiraclesFromHeaven', 'Mirage1965', 'MiraiSentaiTimerangerVsGoGoFive', 'MirrorMask', 'MirrorMirror', 'Mirrors', 'Mischief', 'MisfitHeights', 'MishimaALifeInFourChapters', 'MishimaALifeinFourChapters', 'MissBala2019', 'MissCongeniality', 'MissMarch', 'MissMend', 'MissNobody', 'MissPeregrinesHomeForPeculiarChildren', 'MissPettigrewLivesForADay', 'MissSloane', 'MissViolence', 'MissileToTheMoon', 'Missing', 'MissingInAction', 'MissionImpossible1996', 'MissionImpossibleFallout', 'MissionImpossibleFilmSeries', 'MissionImpossibleGhostProtocol', 'MissionImpossibleII', 'MissionImpossibleIII', 'MissionImpossibleRogueNation', 'MissionToMars', 'MissionToMoscow', 'MississippiBurning', 'MisterFrost', 'MisterLonely', 'Mistress', 'Mitchell', 'MixedNuts', 'MoMoney', 'Mobsters', 'MobstersAndMormons', 'MobyDick', 'ModelShop', 'ModernProblems', 'ModernTimes', 'ModernVampires', 'ModestyBlaise', 'Mogambo', 'MohammadMessengerOfGod', 'MollysGame', 'MomAndDad', 'MomAndDadSaveTheWorld', 'Momentum2015', 'MommieDearest', 'MomsGotADateWithAVampire', 'MomsNightOut', 'MonOncle', 'MonOncleAntoine', 'MonOncleDAmerique', 'MonaLisaSmile', 'MondoCane', 'MoneyMonster', 'MoneyTalks', 'MoneyTrain', 'Moneyball', 'Mongol', 'MonkeyBusiness', 'MonkeyBusiness1952', 'MonkeyShines', 'MonkeyTrouble', 'Monkeybone', 'MonsieurHire', 'MonsieurVerdoux', 'MonsieurVincent', 'MonsoonWedding', 'Monster', 'MonsterAGoGo', 'MonsterBrawl', 'MonsterHunt', 'MonsterInLaw', 'MonsterInTheCloset', 'MonsterMan', 'MonsterTrucks', 'MonsterVerse', 'Monsters2010', 'MonstersBall', 'MonstersCrashThePajamaParty', 'MonstersDarkContinent', 'MonteCarlo', 'MonteCarlo1930', 'MontereyPop', 'MontyPythonAndTheHolyGrail', 'MontyPythonLiveAtTheHollywoodBowl', 'MontyPythonMostlyLiveOneDownFiveToGo', 'MontyPythonsLifeOfBrian', 'MontyPythonsTheMeaningOfLife', 'Moolaade', 'Moon', 'MoonChild', 'MoonOverMiami', 'MoonOverParador', 'MoonZeroTwo', 'Moonlight2016', 'Moonraker', 'MoonriseKingdom', 'Moonstruck', 'Moontrap', 'Moonwalker', 'Moonwalkers', 'Morbius2020', 'Morgan', 'MorganASuitableCaseForTreatment', 'MorganMMorgansen', 'Morituri', 'MorningDeparture', 'MorningForTheOsoneFamily', 'MorningGlory', 'Morocco', 'MoronFiveAndTheCryingLady', 'Morozko', 'MortalEngines', 'MortalKombatAnnihilation', 'MortalKombatTheMovie', 'Mortdecai', 'MorteAVenezia', 'MoscowCassiopeia', 'MoscowDoesNotBelieveInTears', 'MoscowOnTheHudson', 'MoscowStrikesBack', 'Mosquito', 'MostLikelyToDie', 'MostWanted', 'MotelHell', 'Mother1996', 'Mother2009', 'Mother2017', 'MotherGooseRockNRhyme', 'MotherJugsAndSpeed', 'MotherOfTears', 'MothersDay', 'MothersDay2016', 'Mothra', 'MothraVsGodzilla', 'MotorHomeMassacre', 'Mouchette', 'MoulinRouge', 'MoulinRouge1952', 'MouseHunt', 'MouthToMouth', 'Movie43', 'MovieCrazy', 'MovingViolations', 'Mowgli', 'MozartAndTheWhale', 'MrAndMrsSmith1941', 'MrAndMrsSmith2005', 'MrArkadin', 'MrBNatural', 'MrBeansHoliday', 'MrBrooks', 'MrDeeds', 'MrDeedsGoesToTown', 'MrDestiny', 'MrDrakesDuck', 'MrHollandsOpus', 'MrHolmes', 'MrHulotsHoliday', 'MrJones2013', 'MrMagoo', 'MrMagoriumsWonderEmporium', 'MrMajestyk', 'MrMom', 'MrNoLegs', 'MrNobody', 'MrPeabodyAndTheMermaid', 'MrPoppersPenguins', 'MrRight', 'MrSardonicus', 'MrSaturdayNight', 'MrSkeffington', 'MrSmithGoesToWashington', 'MrTurner', 'MrVampire', 'MrWoodcock', 'MrsDoubtfire', 'MrsHendersonPresents', 'MrsMiniver', 'MrsSantaClaus', 'MrsWinterbourne', 'Ms45', 'MuchAdoAboutNothing1993', 'MuchAdoAboutNothing2012', 'Mud', 'Mudbound', 'Mulan2020', 'MulanRiseOfAWarrior', 'MulhollandDrive', 'MulhollandFalls', 'MultipleSidosis', 'Multiplicity', 'Mumford', 'Munchausen2013', 'Munchhausen', 'Munchie', 'Munich', 'MuoiTheLegendOfAPortrait', 'MuppetTreasureIsland', 'MuppetsFromSpace', 'MuppetsMostWanted', 'Murder', 'MurderAt1600', 'MurderAtTheBaskervilles', 'MurderByDeath', 'MurderByDecree', 'MurderByNumbers', 'MurderInTheFirst', 'MurderMySweet', 'MurderOnTheOrientExpress1974', 'MurderOnTheOrientExpress2017', 'MurderParty', 'Murderball', 'MurdersInTheRueMorgue', 'MurdersInTheZoo', 'MurielsWedding', 'MusashiDreamOfTheLastSamurai', 'MusicAndLyrics', 'MusicOfTheHeart', 'MusicWithin', 'MustLoveDogs', 'Mustang', 'Musudan', 'Mutafukaz', 'MutantGirlsSquad', 'Mute2018', 'MutinyOnTheBounty', 'MutinyOnTheBounty1962', 'Muttertag', 'MyAllAmerican', 'MyAwkwardSexualAdventure', 'MyBeautifulJinjiimaa', 'MyBestFriendIsAVampire', 'MyBestFriendsGirl', 'MyBestFriendsWedding', 'MyBigFatGreekWedding', 'MyBloodyValentine', 'MyBloodyValentine3D', 'MyBlueHeaven', 'MyBossDaughter', 'MyBoyfriendsBack', 'MyBreakfastWithBlassie', 'MyBrilliantCareer', 'MyCousinRachel', 'MyCousinVinny', 'MyDarlingClementine', 'MyDateWithThePresidentsDaughter', 'MyDinnerWithAndre', 'MyDinnerWithHerve', 'MyDogSkip', 'MyEffortlessBrilliance', 'MyFairLady', 'MyFatherTheHero', 'MyFathersGuests', 'MyFavoriteBlonde', 'MyFavoriteMartian', 'MyFavoriteWife', 'MyFavoriteYear', 'MyFellowAmericans', 'MyFriendIvanLapshin', 'MyFriends', 'MyGirl', 'MyLeftFoot', 'MyLifeAsADog', 'MyLifeToLive', 'MyLittleBossings', 'MyLittleEye', 'MyManGodfrey', 'MyNameIsBruce', 'MyNameIsEmily', 'MyNameIsNobody', 'MyNightAtMauds', 'MyOldLady', 'MyOwnPrivateIdaho', 'MyPetMonster', 'MyRainyDays', 'MyReputation', 'MySassyGirl', 'MySistersKeeper', 'MySoulToTake', 'MyStepmotherIsAnAlien', 'MySummerOfLove', 'MySuperExGirlfriend', 'MySuperPsychoSweet16', 'MyTomorrowYourYesterday', 'MyWay', 'MyWeekWithMarilyn', 'MyWifesRelations', 'MyWinnipeg', 'MyraBreckinridge', 'MysteriesOfEgypt', 'MysteriousIsland', 'MysteriousSkin', 'MysteryDate', 'MysteryMen', 'MysteryOfTheWaxMuseum', 'MysteryRoad', 'MysteryTeam', 'MysteryTrain', 'MysticPizza', 'Mythica', 'NaFiorghael', 'Naboer', 'NachoLibre', 'Nadja', 'NakedLunch', 'NakedWeapon', 'NamAngels', 'NancyDrew', 'NannyMcPhee', 'NanookOfTheNorth', 'Napoleon', 'Napoleon1995', 'NapoleonDynamite', 'Narc', 'Nashville', 'NateAndHayes', 'Nathalie', 'NationalLampoon', 'NationalLampoonsChristmasVacation', 'NationalLampoonsEuropeanVacation', 'NationalLampoonsMenInWhite', 'NationalLampoonsVacation', 'NationalSecurity', 'NationalTreasure', 'Nativity', 'Nativity2DangerInTheManger', 'Nativity3DudeWheresMyDonkey', 'NativityRocks', 'NaturalBornKillers', 'NatutulogPaAngDiyos', 'NavajoJoe', 'NavySEALS', 'NavySeals', 'NeTeRetournePas', 'NearDark', 'Nebraska', 'NecessaryRoughness', 'Necronomicon', 'NedKelly', 'NeedForSpeed', 'Neighbors1920', 'Neighbors2014', 'Neighbours', 'Nekromantik', 'Nell', 'Nemesis', 'Nemo', 'NeonManiacs', 'NeptunesDaughter', 'Nerve', 'Network', 'NevadaSmith', 'NeverBackDown', 'NeverBeenKissed', 'NeverCryWerewolf', 'NeverGiveASuckerAnEvenBreak', 'NeverLookAway', 'NeverSayNeverAgain', 'NeverWeaken', 'Neverwas', 'NewBestFriend', 'NewBoy', 'NewDragonInn', 'NewInTown', 'NewJackCity', 'NewKids', 'NewPoliceStory', 'NewYearsEve', 'NewYearsEvil', 'NewYorkMinute', 'NewYorkNewYork', 'NewYorkStories', 'Newsies', 'Next', 'NextGoalWins', 'NextOfKin1982', 'NextOfKin1989', 'Niagara', 'NiceDreams', 'NicholasAndAlexandra', 'NickAndNorahsInfinitePlaylist', 'NickOfTime', 'NightAndDay1946', 'NightAndFog', 'NightAndTheCity', 'NightAngel', 'NightAtTheMuseum', 'NightCrossing', 'NightHunter', 'NightMoves', 'NightMustFall', 'NightNurse', 'NightOfTheBigHeat', 'NightOfTheBloodBeast', 'NightOfTheBloodyApes', 'NightOfTheComet', 'NightOfTheCreeps', 'NightOfTheDemon', 'NightOfTheDemons1988', 'NightOfTheDemons2', 'NightOfTheDemons2009', 'NightOfTheDemons3', 'NightOfTheGhouls', 'NightOfTheLepus', 'NightOfTheLivingDead1968', 'NightOfTheLivingDead1990', 'NightOfTheTemplar', 'NightOfTheTwisters', 'NightSchool', 'NightSchool1981', 'NightShift', 'NightSong', 'NightTrainToLisbon', 'NightTrainToMunich', 'Nightbreed', 'Nightcrawler', 'Nightfall', 'Nightfall1988', 'Nightfall2000', 'Nighthawks', 'Nightmare', 'NightmareAlley', 'Nightmares', 'NightsOfCabiria', 'Nightwatch1994', 'Nightwish', 'Nikita', 'NineAndAHalfWeeks', 'NineDaysOfOneYear', 'NineDead', 'NineDeadGayGuys', 'NineEleven', 'NineLives1957', 'NineLives2002', 'NineLives2016', 'NineMonthStretch', 'NineMonths', 'NineSevenSixEvil', 'NineSevenSixEvil2TheAstralFactor', 'NineSongs', 'NineToFive', 'NineteenFortyOne', 'NineteenTwentyTwo', 'NinetyNineRiverStreet', 'Ninja2009', 'NinjaAssassin', 'NinjaCheerleaders', 'NinjaSentaiKakuranger', 'NinjaTerminator', 'Ninotchka', 'NinpuuSentaiHurricaneger10YearsAfter', 'NinpuuSentaiHurricanegerShushuutoTheMovie', 'NinpuuSentaiHurricanegerVsGaoranger', 'NintendoPowerPromoVideos', 'NinthCompany', 'Nixon', 'No', 'NoBladeOfGrass', 'NoCountryForOldMen', 'NoDepositNoReturn', 'NoEscape', 'NoGodNoMaster', 'NoGoodDeed2002', 'NoGoodDeed2014', 'NoHoldsBarred', 'NoManOfHerOwn1932', 'NoManOfHerOwn1950', 'NoMansLand', 'NoMoreBaths', 'NoNameOnTheBullet', 'NoOneLives', 'NoOneWouldTell', 'NoRegretsForOurYouth', 'NoRetreatNoSurrender', 'NoStringsAttached', 'NoTearsForTheDead', 'NoWayOut', 'NoWayToTreatALady', 'Noah', 'NobodysFool', 'NocturnalAnimals', 'NoisesOff', 'Nomis', 'NonStop', 'NoneButTheLonelyHeart', 'NoobLaCroiseeDesDestins', 'NoobLaQueteLegendaire', 'Noobz', 'NoraPrentiss', 'Norbit', 'NormaRae', 'Normal2003', 'NoroiTheCurse', 'North', 'NorthByNorthwest', 'NorthCountry', 'NorthFace', 'NorthSeaHijack', 'NorthSeaTexas', 'NorthToAlaska', 'NorthWestFrontier', 'NorthwestPassage', 'Nosferatu', 'Nostalgia1971', 'NotAnotherTeenMovie', 'NotCinderellasType', 'NotCool', 'NotFadeAway', 'NotLikeEveryoneElse', 'NotQuiteHuman', 'NotSafeForWork', 'NotesOnAScandal', 'Nothing', 'NothingButAMan', 'NothingButTrouble', 'NothingInCommon', 'NothingSacred', 'NothingToLose', 'Notorious', 'NottingHill', 'NovaZembla', 'Novecento', 'Novitiate', 'Novocaine', 'NowAndThen', 'NowVoyager', 'NowYouSeeHimNowYouDont', 'NowYouSeeIt2005', 'NowYouSeeMe', 'NowYouSeeMe2', 'Nowhere', 'NowhereBoy', 'NowhereBoysTheBookOfShadows', 'NudistColonyOfTheDead', 'Nukie', 'Numb', 'NunsOnTheRun', 'NurseBetty', 'Nymphomaniac', 'O', 'OBrotherWhereArtThou', 'OHenrysFullHouse', 'OOODenOAllRidersLetsGoKamenRiders', 'OPagadorDePromessas', 'OSS117CairoNestOfSpies', 'OSS117LostInRio', 'OYouth', 'ObjectiveBurma', 'Oblivion1994', 'Oblivion2013', 'ObserveAndReport', 'Obsessed', 'Obsession', 'ObviousChild', 'Occupation', 'Oceans11', 'OceansEight', 'OceansEleven', 'October', 'OctoberBaby', 'OctoberSky', 'Octopussy', 'Oculus', 'OddManOut', 'OddObsession', 'OddThomas', 'OddsAgainstTomorrow', 'OdeToMyFather', 'OfDiceAndMen', 'OfUnknownOrigin', 'OffOn', 'OffTheBlack', 'OfficeChristmasParty', 'OfficeRomance', 'OfficeSpace', 'OfficeUprising', 'Ogre', 'OhGod', 'OhHeavenlyDog', 'OhWhatALovelyWar', 'Okja', 'OldAcquaintance', 'OldFashioned', 'OldSchool', 'Oldboy2003', 'Oldboy2013', 'Olga', 'OlsenBanden', 'Olympia', 'OlympusHasFallen', 'OmenIIITheFinalConflict', 'OmenIVTheAwakening', 'Omnibus', 'OnBodyAndSoul', 'OnDangerousGround', 'OnDeadlyGround', 'OnDrakon', 'OnGuard', 'OnHerMajestysSecretService', 'OnMoonlightBay', 'OnOurOwn', 'OnTheBasisOfSex', 'OnTheBowery', 'OnTheJob', 'OnTheSilverGlobe', 'OnTheWaterfront', 'Once', 'OnceBitten', 'OnceIWasABeehive', 'OnceUponABrothersGrimm', 'OnceUponAHoneymoon', 'OnceUponATexasTrain', 'OnceUponATimeInAmerica', 'OnceUponATimeInChina', 'OnceUponATimeInHighSchool', 'OnceUponATimeInHollywood', 'OnceUponATimeInMexico', 'OnceUponATimeInShanghai', 'OnceUponATimeInTheWest', 'OnceWereWarriors', 'Ondine', 'OneArmedSwordsman', 'OneCrazySummer', 'OneEyedJacks', 'OneEyedMenAreKings', 'OneFlewOverTheCuckoosNest', 'OneFootInHeaven', 'OneForTheMoney', 'OneGotFat', 'OneHourPhoto', 'OneHourWithYou', 'OneHundredAndOneDalmatians', 'OneHundredAndTwentySevenHours', 'OneHundredAndTwoDalmatians', 'OneHundredBloodyAcres', 'OneHundredFeet', 'OneHundredGirls', 'OneHundredRifles', 'OneHundredTears', 'OneMagicChristmas', 'OneMansJustice', 'OneMillionYearsBC', 'OneMissedCall', 'OneMoreTomorrow', 'OneNightAtMcCools', 'OneNightInLisbon', 'OneNightOfLove', 'OneNightStand1997', 'OneNightSurprise', 'OneNightWithTheKing', 'OneOfOurAircraftIsMissing', 'OneOfOurDinosaursIsMissing', 'OneOnOne', 'OneSurvivorRemembers', 'OneTouchOfVenus', 'OneTrueThing', 'OneTwoThree', 'OneWayPassage', 'OneWeek', 'OneWonderfulSunday', 'OngBak', 'Onibaba', 'OnlyAngelsHaveWings', 'OnlyGodForgives', 'OnlyLoversLeftAlive', 'OnlyOldMenAreGoingToBattle', 'OnlyOnce', 'OnlyStwpdCowzTxtNDrive', 'OnlyTheBrave', 'OnlyTheStrong', 'OnlyTheValiant', 'OnlyYou', 'Onmyoji', 'OoNinaBobo', 'OpenGrave', 'OpenRange', 'OpenSeason1974', 'OpenWater', 'Opera', 'OperationAvalanche', 'OperationChromite', 'OperationDouble007', 'OperationDumboDrop', 'OperationEndgame', 'OperationLovebirds', 'OperationPetticoat', 'OperationThunderbolt', 'OperationYAndShuriksOtherAdventures', 'OptionZero', 'OrangeCounty', 'OrcWars', 'OrcaTheKillerWhale', 'OrderNo027', 'Ordet', 'Oresama', 'Orgazmo', 'OriginalSin2001', 'Orlando', 'Orphan', 'OrphansOfTheStorm', 'Orpheus', 'Osama', 'Oscar1967', 'OsmosisJones', 'Othello1951', 'Othello1995', 'OtherHalves', 'OtherPeoplesMoney', 'Otto', 'OttoOrUpWithDeadPeople', 'Ouija', 'OuijaOriginOfEvil', 'OurBlushingBrides', 'OurBrandIsCrisis', 'OurDailyBread', 'OurDancingDaughters', 'OurDay', 'OurHospitality', 'OurIdiotBrother', 'OurKindOfTraitor', 'OurLittleSister', 'OurManFlint', 'OurMothersHouse', 'OurRobocopRemake', 'OutAtTheWedding', 'OutCold', 'OutForJustice', 'OutOfAfrica', 'OutOfReach', 'OutOfSight', 'OutOfTheFurnace', 'OutOfThePast', 'OutOfTime', 'Outbreak', 'Outland', 'Outlander', 'OutlawKing', 'Outpost', 'Outpost37', 'Outrage', 'Outrageous', 'OutrageousFortune', 'Outsourced', 'OutwardBound', 'OverTheEdge', 'OverTheTop', 'Overboard', 'Overboard2018', 'OverdrawnAtTheMemoryBank', 'Overlord2018', 'OvernightDelivery', 'Oyayubihime', 'OzTheGreatAndPowerful', 'P2', 'PCU', 'PMO', 'PacificHeights', 'PacificRim', 'PacificRimUprising', 'Paddington', 'Paddington2', 'PadrePadrone', 'PageEight', 'PageOneInsideTheNewYorkTimes', 'PaidInFull', 'PainAndGain', 'PaintYourWagon', 'Paisan', 'PalJoey', 'PaleFlower', 'PaleRider', 'PalmTreesInTheSnow', 'Pan', 'PandoraAndTheFlyingDutchman', 'PandorasBox', 'Pandorum', 'PanicInTheStreets', 'PanicRoom', 'PannaANetvor', 'PansLabyrinth', 'Paparazzi', 'PaperHeart', 'PaperMoon', 'PaperTowns', 'PaperbackHero', 'Parable', 'Paradise', 'ParadiseRoad', 'Parallels', 'Paranoia2011', 'Paranoia2013', 'Paranoiac', 'ParanormalActivity', 'Parasite', 'ParasiteEve', 'Parenthood', 'Pariah', 'ParisIsBurning', 'ParisJeTAime', 'ParisTexas', 'ParisWhenItSizzles', 'Parker', 'PartingGlances', 'PartingShots', 'PartyGirl', 'PartyMonster', 'Parvaneh', 'PasDeDeux', 'PassTheGravy', 'PassageToMarseille', 'Passchendaele', 'Passenger57', 'Passengers2008', 'Passengers2016', 'Passion', 'PassportToPimlico', 'PastoralToDieInTheCountry', 'PatGarrettAndBillyTheKid', 'PatayinMoSaSindakSiBarbara', 'PatchAdams', 'Patchwork', 'Paterson', 'PathToWar', 'Pathfinder', 'Pathfinder1987', 'Pathogen', 'PathsOfGlory', 'Patrick', 'PatriotGames', 'PatriotsDay', 'Patton', 'PattyHearst', 'Paul', 'PaulApostleOfChrist', 'PaulBlartMallCop', 'PaulMcCartneyReallyIsDead', 'Paulie', 'PaulineAtTheBeach', 'PawnSacrifice', 'PayDay', 'PayItForward', 'Payback', 'Paycheck', 'PeachBlossomWeepsTearsOfBlood', 'Peacock', 'PearlHarbor', 'Pecker', 'PeeWeesBigAdventure', 'Peel', 'PeepingTom', 'PeggySueGotMarried', 'PekingOperaBlues', 'PelleTheConqueror', 'Penelope', 'PennAndTellerGetKilled', 'PennySerenade', 'PepeLeMoko', 'Peppermint', 'PerAsperaAdAstra', 'PercyJacksonAndTheOlympians', 'PerfectAssassins', 'PerfectCreature', 'PerfectStranger', 'Performance', 'PerriersBounty', 'Persecuted', 'Persona1966', 'PersonalShopper', 'Persuasion', 'Pervert', 'Pet', 'PetSematary2019', 'PetSemataryTwo', 'PetShop', 'PeterPan', 'PeterRabbit', 'PetersFriends', 'PetesDragon1977', 'PetesDragon2016', 'PetticoatPlanet', 'PetualanganSingaPemberaniDinoterra', 'Petulia', 'Phantasm', 'PhantomOfTheMegaplex', 'PhantomOfTheOpera1943', 'PhantomOfTheParadise', 'PhantomThread', 'Pharaoh', 'PhaseIV', 'PhatBeach', 'PhatGirlz', 'Phenomena', 'Phenomenon', 'Phffft', 'Philadelphia', 'Philanthropy', 'Philomena', 'PhoenixWrightAceAttorney', 'Phone', 'PhoneBooth', 'Pi', 'Piccadilly', 'Pickpocket', 'PickupOnSouthStreet', 'PicnicAtHangingRock', 'PictureDay', 'PicturePerfect', 'Pieces', 'PierrotLeFou', 'Pieta', 'Pilgrimage', 'PillowTalk', 'PimpernelSmith', 'Pin', 'PineappleExpress', 'PingPongPlaya', 'PinkFlamingos', 'Pinocchio2002', 'Piranha', 'Piranha3D', 'Piranha3DD', 'PiranhaPartTwoTheSpawning', 'Pirates', 'PiratesOfSiliconValley', 'PiratesOfTheCaribbeanAtWorldsEnd', 'PiratesOfTheCaribbeanDeadMansChest', 'PiratesOfTheCaribbeanDeadMenTellNoTales', 'PiratesOfTheCaribbeanOnStrangerTides', 'PiratesOfTheCaribbeanTalesOfTheCodeWedlocked', 'PiratesOfTheCaribbeanTheCurseOfTheBlackPearl', 'PiratesOfTheGreatSaltLake', 'PitchBlack', 'PitchPerfect', 'PixelPerfect', 'Pixels', 'Pixote', 'PlacesInTheHeart', 'Placido', 'Plan9FromOuterSpace', 'PlanB', 'PlanBScheissAufPlanA', 'PlanNineFromOuterSpace', 'PlanesTrainsAndAutomobiles', 'PlanetOfStorms', 'PlanetOfTheApes1968', 'PlanetOfTheApes2001', 'PlanetOfTheDinosaurs', 'PlanetOfTheVampires', 'PlanetTerror', 'Platoon', 'PlayDirty', 'PlayItAgainSam', 'PlayMistyForMe', 'PlayingByHeart', 'PlayingItCool', 'Playtime', 'Pleasantville', 'PleasuresOfTheFlesh', 'PlunkettAndMacleane', 'PocketfulOfMiracles', 'PocongPastiBerlalu', 'Pod', 'PodPeople', 'PoeticJustice', 'PointBlank', 'PointBreak1991', 'PointBreak2015', 'PointOfNoReturn', 'PoisonBerryInMyBrain', 'PoisonIvy', 'Pokemon', 'PokemonDetectivePikachu', 'PokerNight', 'Polaroid', 'Police', 'PoliceAcademy', 'PoliceStory', 'PoliceStory2', 'PolishWedding', 'PolitePeople', 'Pollyanna1960', 'Poltergeist', 'PoltergeistIII', 'PoltergeistIITheOtherSide', 'Polyester', 'Pompeii', 'Pontypool', 'PoolboyDrowningOutTheFury', 'PoolhallJunkies', 'PoorAlbertAndLittleAnnie', 'PootieTang', 'Popcorn', 'PopeJohnPaulII', 'Popeye', 'PopeyeDoyle', 'PopstarNeverStopNeverStopping', 'Populaire', 'Population436', 'PorLaLibre', 'PorkChopHill', 'Porkys', 'PortArthur', 'PortraitOfJason', 'PortraitOfJennie', 'Poseidon', 'Posse', 'PosseFromHell', 'Possessed1931', 'Possession', 'PossiblyInMichigan', 'PouicPouic', 'PoultrygeistNightOfTheChickenDead', 'Pound', 'Powder', 'PowerRangers2017', 'PowersOfTen', 'PracticalMagic', 'Prancer', 'PraybeytBenjamin', 'PrayersForBobby', 'PreachersKid', 'PreachingToThePerverted', 'Precious', 'PreciousImages', 'Predator', 'Predator2', 'Predators', 'Predestination', 'PrehistoricWomen', 'PremiumRush', 'Premonition', 'PresidentsDay2010', 'PressStart', 'PresumedInnocent', 'PretAPorter', 'PrettyBaby', 'PrettyCool', 'PrettyCoolToo', 'PrettyInPink', 'PrettyMaidsAllInARow', 'PrettyPersuasion', 'PrettyPoison', 'PrettyWoman', 'PreyForRockAndRoll', 'PrickUpYourEars', 'Pride', 'PrideAndPrejudice', 'PrideAndPrejudice1940', 'PrideAndPrejudice2005', 'PrideAndPrejudiceALatterDayComedy', 'PrideAndPrejudiceAndZombies', 'Priest1994', 'Priest2011', 'PrimalFear', 'Primary', 'PrimeCut', 'Primer', 'Primeval', 'PrinceCaspian', 'PrinceCharming', 'PrinceOfDarkness', 'PrinceOfPersiaTheSandsOfTime', 'PrinceOfSpace', 'PrinceOfTheCity', 'PrinceValiant1954', 'PrinceValiant1997', 'Princess', 'PrincessNicotine', 'PrincessORourke', 'PrincessOfThieves', 'PrincessProtectionProgram', 'PrincessYangKweiFei', 'Prison', 'PrisonerOfTheMountains', 'Prisoners', 'PrisonersOfTheLostUniverse', 'PrivateBenjamin', 'PrizzisHonor', 'ProWrestlersVsZombies', 'ProblemChild', 'ProfessorMarstonAndTheWonderWomen', 'ProgressIslandUSA', 'ProjectALF', 'ProjectAlmanac', 'ProjectMetalBeast', 'ProjectMoonbase', 'ProjectX', 'Prom', 'PromNight1980', 'PromNight2008', 'PromNightIIITheLastKiss', 'PromNightIVDeliverUsFromEvil', 'Prometheus', 'PropertyOfTheRepublic', 'PropheciesOfNostradamus', 'Prophecy', 'Prospect', 'Proteus', 'Prowl', 'Psycho', 'PsychoBeachParty', 'PsychoCop', 'PsychoCopReturns', 'PsychoII', 'PsychoIII', 'PsychoIVTheBeginning', 'PublicEnemies', 'PuertaDeHierro', 'Puhdistus', 'Pulgasari', 'PullMyDaisy', 'PulpFiction', 'Pulse', 'PumaMan', 'PumpUpTheVolume', 'Pumpkinhead', 'PumpkinheadAshesToAshes', 'PumpkinheadBloodFeud', 'PumpkinheadIIBloodWings', 'Pumzi', 'Punch', 'PunchDrunkLove', 'PunisherWarZone', 'PuppetMaster', 'PupsIsPups', 'PureLuck', 'Purgatory', 'PurpleNoon', 'PurpleRain', 'PurpleSunset', 'Push', 'Pusher', 'PutneySwope', 'Puzzlehead', 'Python', 'QAndA', 'QTheWingedSerpent', 'Quadrophenia', 'Quantez', 'QuantumOfSolace', 'Quarantine', 'Quartet', 'Queen', 'QueenChristina', 'QueenOfBlood', 'QueenOfKatwe', 'QueenOfOuterSpace', 'QueenOfTheDamned', 'QueensLogic', 'QuestForFire', 'QuestOfTheDeltaKnights', 'QuezonsGame', 'Quick', 'QuickChange', 'Quigley', 'QuigleyDownUnder', 'Quills', 'Quintet', 'QuizShow', 'R100', 'RBG', 'REC', 'RIPD', 'ROTOR', 'RV', 'Raazi', 'RabbitProofFence', 'Rabid', 'RabidDogs', 'RabidGrannies', 'Rabies', 'RaceForTheYankeeZephyr', 'RaceToWitchMountain', 'RaceWithTheDevil', 'RachelGettingMarried', 'RachelRachel', 'RacingDaylight', 'RacingStripes', 'RacketGirls', 'Rad', 'RadarMenFromTheMoon', 'RadarSecretService', 'Radio', 'RadioDays', 'RadioFlyer', 'RadioRebel', 'RadioactiveDreams', 'RagingBull', 'RagingPhoenix', 'Rahman1400IranianMovie', 'RaidersOfTheLostArk', 'RainMan', 'Rainbow', 'RainbowWar', 'RaiseTheRedLantern', 'RaiseTheTitanic', 'RaiseYourVoice', 'RaisingArizona', 'RaisingCain', 'RaisingHelen', 'Rakka', 'RamboFirstBloodPartII', 'RamboIII', 'RamboIV', 'RamboV', 'RamonaAndBeezus', 'Rampage2009', 'Rampage2018', 'Rampant', 'Ran', 'RanchoNotorious', 'RandomHarvest', 'RangerRick', 'Ransom', 'RaptorRanch', 'RapturePalooza', 'RareExportsAChristmasTale', 'Rashomon', 'RasputinTheMadMonk', 'RatRace', 'RatsNightOfTerror', 'Ratter', 'Ravenous1999', 'Ravenous2017', 'Raw', 'RawDeal', 'RawheadRex', 'Ray', 'RazorBladeSmile', 'Razorback', 'ReAnimator', 'ReachMe', 'ReadItAndWeep', 'ReadyPlayerOne2018', 'ReadyToRumble', 'RealGenius', 'RealSteel', 'RealTime', 'RealWomenHaveCurves', 'Reality2012', 'Reality2014', 'RealityBites', 'RearWindow', 'ReazioneACatena', 'RebeccaOfSunnybrookFarm', 'RebelWithoutACause', 'RebirthOfMothra', 'RebirthOfMothra2', 'RebirthOfMothra3', 'Reborn', 'ReclaimingTheBlade', 'RecordOfATenementGentleman', 'RecordedLive', 'Red', 'RedBeard', 'RedCliff', 'RedDawn1984', 'RedDawn2012', 'RedDog', 'RedDust', 'RedEye', 'RedHeadedWoman', 'RedHeat', 'RedHill', 'RedLights', 'RedLion', 'RedMist', 'RedNightmare', 'RedPlanet', 'RedReaper', 'RedRidingHood', 'RedRiver', 'RedRockWest', 'RedRosesAndPetrol', 'RedRover', 'RedScorpion', 'RedSonja', 'RedSparrow', 'RedState', 'RedSun', 'RedTails', 'RedWater', 'RedWerewolfHunter', 'RedZoneCuba', 'Redbelt', 'Reds', 'ReeferMadness', 'ReeferMadnessTheMusical', 'Reeker', 'ReformSchoolGirls', 'Regeneration', 'RehearsalForMurder', 'ReignOfFire', 'ReignOverMe', 'Reincarnation', 'ReindeerGames', 'Religulous', 'Remember', 'RememberMe', 'RememberTheNight', 'RememberTheTitans', 'RemoWilliamsTheAdventureBegins', 'RenaissanceMan', 'Repast', 'Repeaters', 'RepliKate', 'Replica2005', 'Replicant', 'RepoChick', 'RepoMan', 'RepoMen', 'RepoTheGeneticOpera', 'Report', 'ReportFromTheAleutians', 'Repossessed', 'Reptilicus', 'Repulsion', 'RequiemForAHeavyweight', 'ReservoirDogs', 'ResidentEvil', 'ResidentEvilAfterlife', 'ResidentEvilApocalypse', 'ResidentEvilExtinction', 'ResidentEvilRetribution', 'ResidentEvilTheFinalChapter', 'Resolution', 'ResshaSentaiTokkyugerTheMovieGalaxyLineSOS', 'ResshaSentaiTokkyugerVsKyoryugerTheMovie', 'RestlessNatives', 'Restrepo', 'ResurrectingTheChamp', 'Resurrection1980', 'Resurrection1999', 'RetakGading', 'Retroactive', 'ReturnOfTheFly', 'ReturnOfTheJedi', 'ReturnOfTheLivingDead', 'ReturnOfTheLivingDead3', 'ReturnOfTheLivingDeadNecropolis', 'ReturnOfTheLivingDeadPartII', 'ReturnOfTheLivingDeadRaveToTheGrave', 'ReturnOfTheSecaucusSeven', 'ReturnToGlennascaul', 'ReturnToHorrorHigh', 'ReturnToHouseOnHauntedHill', 'ReturnToMayberry', 'ReturnToMe', 'ReturnToOz', 'ReturnToSleepawayCamp', 'ReturnWithHonor', 'Revanche', 'Revenge', 'RevengeOfTheCreature', 'RevengeOfTheMusketeers', 'RevengeOfTheNerds', 'RevengeOfThePinkPanther', 'RevengeOfTheSith', 'ReversalOfFortune', 'ReverseRunner', 'Revolution1967', 'Revolution1968', 'Revolution1985', 'Revolution1989', 'Revolver', 'Rewind2013', 'Rhinestone', 'RhymesForYoungGhouls', 'RichardIII', 'RichardPryorLiveInConcert', 'RichieRich', 'RickiAndTheFlash', 'Ricochet', 'Riddick', 'RideACrookedTrail', 'RideAlong', 'RideClearOfDiablo', 'RideTheHighCountry', 'RideThePinkHorse', 'RideWithTheDevil', 'RidingInCarsWithBoys', 'Rififi', 'RightAtYourDoor', 'RighteousKill', 'Rigoletto', 'RikiOhTheStoryOfRicky', 'RinTinTin', 'RingOfTerror', 'Rings', 'RioBravo', 'RipVanWinkle', 'RiseBloodHunter', 'RiseOfThePlanetOfTheApes', 'Risen', 'RiskyBusiness', 'RiversEdge', 'Road47', 'RoadGames', 'RoadHard', 'RoadHouse', 'RoadHouse1948', 'RoadTo', 'RoadToHell', 'RoadToMorocco', 'RoadToPerdition', 'RoadToZanzibar', 'RoadTrain', 'RoadTrip', 'Roadracers', 'RobRoy', 'RobertFrostALoversQuarrelWithTheWorld', 'Roberta', 'RobinAndMarian', 'RobinHood1922', 'RobinHood1991', 'RobinHood2010', 'RobinHood2018', 'RobinHoodMenInTights', 'RobinHoodPrinceOfThieves', 'RobinsonCrusoeOnMars', 'RobinsonCrusoeland', 'RoboCop1987', 'RoboCop2', 'RoboCop2014', 'RoboCop3', 'RoboGeisha', 'RoboVampire', 'Robot', 'Robot2', 'RobotAndFrank', 'RobotHolocaust', 'RobotJox', 'RobotMonster', 'RobotWars', 'Robotropolis', 'RoccoAndHisBrothers', 'RockAndRollHighSchool', 'RockAroundTheClock', 'RockItsYourDecision', 'RockMonster', 'RockNRollNightmare', 'RockNRolla', 'RockOfAges', 'RockSlyde', 'RockStar', 'RockTheKasbah', 'RockabillyZombieWeekend', 'RocketAttackUSA', 'Rocketman2019', 'RocketshipXM', 'RocknRoll', 'Rockula', 'Rocky', 'RockyBalboa', 'RockyII', 'RockyIII', 'RockyIV', 'RockyV', 'Rodan', 'RogerAndMe', 'RogerDodger', 'Rogue', 'RogueOne', 'RoleModels', 'RollBounce', 'RollerBlade', 'Rollerball', 'Rollercoaster', 'RolliAmazingTales', 'RollingBomberSpecial', 'RollingThunder', 'RollingVengeance', 'RolloAndTheSpiritOfTheWoods', 'Roma', 'RomanHoliday', 'RomanJIsraelEsq', 'Romance', 'RomancingTheStone', 'RomeOpenCity', 'RomeoIsBleeding', 'RomeoMustDie', 'Romeos', 'RomperStomper', 'RomyAndMichelesHighSchoolReunion', 'Ronin', 'RookieOfTheYear', 'RoomAtTheTop', 'RoomInRome', 'RoosterCogburn', 'RoryOSheaWasHere', 'RoseHobart', 'RosemarysBaby', 'RosenFuerDenStaatsanwalt', 'Rosetta', 'Rosewater', 'Rosita', 'RoughNight', 'Rounders', 'RoundhayGardenScene', 'Roxanne', 'Rubber', 'RubinAndEd', 'RubySparks', 'Rudy', 'RugglesOfRedGap', 'RulesOfEngagement', 'RumbleInTheBronx', 'Rumpelstiltskin', 'RunAllNight', 'RunFatboyRun', 'RunLolaRun', 'RunSilentRunDeep', 'Runaway', 'RunawayBride', 'RunawayJury', 'RunawayTrain', 'RunnerRunner', 'RunningOnEmpty', 'RunningScared1986', 'RunningScared2006', 'RurouniKenshin', 'RurouniKenshinKyotoInferno', 'RurouniKenshinTheLegendEnds', 'Rush2013', 'RushHour', 'Rushmore', 'RussianArk', 'RussianTerminator', 'RustlersRhapsody', 'RuthlessPeople', 'RyansBabe', 'RyansDaughter', 'S1m0ne', 'SAGACurseOfTheShadow', 'SDarko', 'SLCPunk', 'SOB', 'SSTDeathFlight', 'SStorm', 'SWAT', 'Sabotage1936', 'Sabotage2014', 'Saboteur', 'Sabretooth', 'Sabrina1954', 'Sabrina1995', 'SabrinaDownUnder', 'SabrinaGoesToRome', 'SadakoVsKayako', 'SadieThompson', 'Sadko', 'Safe2012', 'SafeHouse', 'SafeInHell', 'SafetyLast', 'SafetyNotGuaranteed', 'Sahara1943', 'Sahara2005', 'SailorFukuToKikanjuu', 'SailorOfTheKing', 'Salesman', 'Sally', 'SaloOrThe120DaysOfSodom', 'Salt', 'SaltOfTheEarth', 'Salvage', 'SalvationBoulevard', 'Sam', 'SamaritanGirl', 'SamsonVsTheVampireWomen', 'SamuraiCop', 'SamuraiIMusashiMiyamoto', 'SamuraiRebellion', 'SamuraiReincarnation', 'SamuraiSentaiShinkengerTheMovieTheFatefulWar', 'SamuraiSentaiShinkengerVsGoOngerGinmakuBang', 'SanAndreas', 'SanFrancisco1936', 'SanFranciscoInternationalAirport', 'Sanctum', 'SandakanNo8', 'Sandra', 'SandsOfIwoJima', 'Sanjuro', 'SanpeiTheFisherBoy', 'SansSoleil', 'SanshiroSugata', 'SanshiroSugataPartII', 'SanshoTheBailiff', 'SantaAndTheIceCreamBunny', 'SantaBaby', 'SantaClaus1959', 'SantaClausConquersTheMartians', 'SantaClausIsAStinker', 'SantaClausTheMovie', 'SantaHunters', 'SantaSangre', 'SantaWithMuscles', 'SantasSlay', 'SantoContraCapulina', 'SantoEnElTesoroDeDracula', 'SantoVsLaHijaDeFrankestein', 'SantoYBlueDemonContraDraculaYElHombreLobo', 'SarabaKamenRiderDenOFinalCountdown', 'SarahsKey', 'Saratoga', 'Sartana', 'SatansChildren', 'SatansLittleHelper', 'Satansbraten', 'Satantango', 'SaturdayNightAndSundayMorning', 'SaturdayNightFever', 'Saturn3', 'Sauna', 'Savaged', 'Savageland', 'Savages', 'SavagesCrossing', 'SaveMe', 'SaveTheGreenPlanet', 'SaveTheLastDance', 'SaveYourLegs', 'Saved', 'SavingChristmas', 'SavingFace', 'SavingGrace', 'SavingMrBanks', 'SavingPrivateRyan', 'SavingSally', 'SavingSarahCain', 'SavingSilverman', 'SavingTheTitanic', 'Savior', 'Saw3D', 'SawI', 'SawII', 'SawIII', 'SawIV', 'SawV', 'SawVI', 'SayAWordForPoorHussar', 'SayAnything', 'SayItIsntSo', 'Sayonara', 'Scalps', 'Scandal1950', 'ScannerCop', 'ScannerCopII', 'Scanners', 'ScannersIIITheTakeover', 'ScannersIITheNewOrder', 'Scaramouche', 'Scarecrow', 'Scarecrow1973', 'ScarecrowSlayer', 'Scarecrows', 'ScaredStiff', 'Scarface1932', 'Scarface1983', 'ScarletStreet', 'ScarsOfDracula', 'ScaryGodmother', 'ScaryMovie', 'ScaryOrDie', 'ScaryStoriesToTellInTheDark', 'ScaryStoriesToTellInTheDark2019', 'ScavengerHunt1979', 'ScenesFromAMarriage', 'ScentOfAWoman', 'SchindlersList', 'SchoolForScoundrels', 'SchoolOfRock', 'SchoolOfTheHolyBeast', 'SchoolTies', 'SchoolWaltz', 'Schtonk', 'Schwarzfahrer', 'ScoobyDoo', 'ScoobyDooCurseOfTheLakeMonster', 'ScoobyDooMonstersUnleashed', 'ScoobyDooTheMysteryBegins', 'Scoop', 'ScotlandPA', 'ScotlandYard1941', 'ScottPilgrimVsTheWorld', 'ScoutsGuideToTheZombieApocalypse', 'Scream', 'Scream1981', 'Scream1996', 'Scream2', 'Scream3', 'Scream4', 'ScreamBloodyMurder', 'ScreamForHelp', 'ScreamPark', 'Screamers', 'ScreamersTheHunting', 'Scrooge1951', 'Scrooge1970', 'Scrooged', 'Scum', 'Se7en', 'Seabiscuit', 'SeachdTheInaccessiblePinnacle', 'Seance', 'Searching', 'SearchingForBobbyFischer', 'SearchingForSugarMan', 'SeasonOfTheWitch', 'SecondAct', 'SecondString', 'SecondhandLions', 'Seconds', 'SecretAgent1936', 'SecretAgentSuperDragon', 'SecretBeyondTheDoor', 'SecretHonor', 'SecretInTheirEyes', 'SecretReunion', 'SecretWindow', 'Secretariat', 'Secretary', 'Secrets1933', 'SecretsAndLies', 'SecretsOfAnActress', 'Sector236TheWrathOfThor', 'SeeNoEvil', 'SeeNoEvil2', 'SeeNoEvilHearNoEvil', 'SeedOfChucky', 'SeekingAFriendForTheEndOfTheWorld', 'SeijuuSentaiGingamanVsMegaranger', 'Selena', 'SelfDefense', 'Selfless', 'Selkie', 'Selma', 'SemiPro', 'SenseAndSensibility', 'Senso', 'SeparateTables', 'SepatuDahlan', 'September', 'SeraphimFalls', 'Serena', 'Serenade', 'Serendipity', 'Serenity', 'Serenity2019', 'SergeantYork', 'SerialMom', 'Series7TheContenders', 'Serpico', 'SesameStreetPresentsFollowThatBird', 'Session9', 'SessionMan', 'SetItOff', 'SetItUp', 'SevenBeauties', 'SevenBridesForSevenBrothers', 'SevenChances', 'SevenDaysInHell', 'SevenFacesOfDrLao', 'SevenInHeaven', 'SevenPounds', 'SevenPsychopaths', 'SevenSamurai', 'SevenSwords', 'SevenThousandFiveHundred', 'SevenWaysFromSundown', 'SevenYearsInTibet', 'SeventeenAgain', 'SeventeenMiracles', 'SeventeenSeconds', 'SeventhHeaven', 'SeventhSon2015', 'SeventyOne', 'Severance', 'SexAndDeath101', 'SexAndTheCity', 'SexDrive', 'SexEd', 'SexLiesAndVideoViolence', 'SexLiesAndVideotape', 'SexMission', 'SexTape', 'Sextette', 'SexyBeast', 'SexyEvilGenius', 'SgtBilko', 'SgtKabukimanNYPD', 'SgtPeppersLonelyHeartsClubBand', 'ShaPoLang', 'ShaPoLangIIATimeForConsequences', 'ShadowKillersTigerForce', 'ShadowOfADoubt', 'ShadowOfTheThinMan', 'ShadowOfTheVampire', 'ShadowPeople', 'Shadowboxer', 'Shadowlands', 'Shadows', 'ShadowsAndFog', 'ShadowsOfForgottenAncestors', 'Shaft', 'Shaft2000', 'Shaft2019', 'ShakeRattleAndRock', 'ShakesTheClown', 'ShakespeareInLove', 'Shakma', 'ShallWeDance', 'ShallowGrave', 'ShallowHal', 'Shame', 'Shampoo', 'ShandraTheJungleGirl', 'Shane', 'ShanghaiExpress', 'ShanghaiNoon', 'Shaolin', 'ShaolinAndWuTang', 'ShaolinSoccer', 'Shapeshifter', 'Shara', 'SharkAttack', 'SharkAttack3Megalodon', 'SharkInVenice', 'SharkNight', 'Sharknado', 'Sharknado2TheSecondOne', 'Sharknado3OhHellNo', 'Sharknado5GlobalSwarming', 'SharknadoThe4thAwakens', 'Sharks3D', 'Sharktopus', 'SharkysMachine', 'ShatteredGlass', 'ShaunOfTheDead', 'Shazam2019', 'She1935', 'She1965', 'SheChotic', 'SheDevil', 'SheDoneHimWrong', 'SheHateMe', 'SheShallHaveMusic', 'SheWolfOfLondon', 'SheWoreAYellowRibbon', 'Sheena', 'Shelter', 'Shenandoah', 'SherinasAdventure', 'SherlockHolmes2009', 'SherlockHolmesAGameOfShadows', 'SherlockHolmesAndTheDeadlyNecklace', 'SherlockHolmesAndTheDeadyNecklace', 'SherlockHolmesInNewYork', 'SherlockJr', 'ShermansMarch', 'Sherrybaby', 'ShesAllThat', 'ShesDatingTheGangster', 'ShesGottaHaveIt', 'ShesOutOfControl', 'ShesOutOfMyLeague', 'ShesTheMan', 'ShinGodzilla', 'ShinKamenRiderPrologue', 'Shine', 'ShinjukuIncident', 'ShipOfFools', 'ShipOfMonsters', 'ShipsWithWings', 'Shiri', 'ShishOBesh', 'Shiver', 'Shivers', 'Shoah', 'ShockCorridor', 'ShockEmDead', 'ShockTreatment', 'ShockWaves', 'Shocker', 'ShockingDark', 'Shockwave', 'Shoeshine', 'ShootEmUp', 'ShootOutAtMedicineBend', 'ShootThePianoPlayer', 'Shooter', 'Shoplifters', 'ShortCircuit', 'ShortCuts', 'ShortTime', 'Shortbus', 'Shorts', 'ShotCaller', 'Shotgun', 'ShoulderArms', 'ShowDogs', 'ShowMeLove', 'ShowPeople', 'ShowdownInLittleTokyo', 'ShowdownInSeattle', 'Showgirls', 'Showtime', 'ShriekIfYouKnowWhatIDidLastFridayTheThirteenth', 'Shrooms', 'ShurikenSentaiNinningerTheMovieTheDinosaurLordsSplendidNinjaScroll', 'ShurikenSentaiNinningerVsTokkyugerTheMovieNinjasInWonderland', 'ShutIn', 'Shutter', 'ShutterIsland', 'Shuttle', 'ShyPeople', 'Siberiade', 'Sicario', 'SicarioDayOfTheSoldado', 'SicilianGhostStory', 'SickGirl', 'Sicko', 'SideEffects', 'Sidekicks', 'SidewalkStories', 'SidewalksOfNewYork', 'Sideways', 'SiebenZwerge', 'Siege', 'SiegeOfTheDead', 'SiegeOfTheSaxons', 'SierraBurgessIsALoser', 'Sightseers', 'Signs', 'Silence', 'SilentHill', 'SilentHillRevelation3D', 'SilentHouse', 'SilentMovie', 'SilentNight', 'SilentNightDeadlyNight', 'SilentNightDeadlyNight5TheToyMaker', 'SilentNightDeadlyNightIIIBetterWatchOut', 'SilentNightDeadlyNightPart2', 'SilentRage', 'SilentRunning', 'SilipDaughtersOfEve', 'SilkStockings', 'Silkwood', 'SilverBullet', 'SilverLiningsPlaybook', 'SilverStreak', 'Silverado', 'SimonAndTheOaks', 'SimonOfTheDesert', 'SimonSez', 'SinCity', 'SinCityADameToKillFor', 'SinNombre', 'SinTakesAHoliday', 'SinbadAndTheEyeOfTheTiger', 'SinbadOfTheSevenSeas', 'SinbadTheSailor', 'SinceYouWentAway', 'Sing2016', 'SingStreet', 'Singham', 'SinginInTheRain', 'SingleWhiteFemale', 'Singles', 'Sinister', 'SinkTheBismarck', 'Siren2010', 'Siren2016', 'Sirens', 'SisterAct', 'Sisters1973', 'Sisters2015', 'SistersOfDeath', 'SixDaysSevenNights', 'SixMoralTales', 'SixShooter', 'SixSouls', 'SixStringSamurai', 'SixTheMarkUnleashed', 'SixteenBlocks', 'SixteenCandles', 'Skammen', 'SkateKitchen', 'Skaterdater', 'Skidoo', 'Skin', 'Skin2018Short', 'SkinDeep', 'SkinTrade', 'Skins', 'Skippy', 'SkyCaptainAndTheWorldOfTomorrow', 'SkyHigh1922', 'SkyHigh2005', 'Skyfall', 'Skyline', 'Skyscraper', 'Slacker', 'SladeInFlame', 'SlapHerShesFrench', 'SlapShot', 'SlapTheMonsterOnPageOne', 'SlaughterHigh', 'SlaughterhouseRulez', 'SlaveOfLove', 'SlaveWidow', 'Sledgehammer', 'SleepTight', 'SleepawayCamp', 'SleepawayCampIIITeenageWasteland', 'SleepawayCampIIUnhappyCampers', 'SleepawayCampIVTheSurvivor', 'Sleeper', 'Sleepers', 'SleepingBeauty', 'SleepingBeauty2011', 'SleepingDogs', 'SleepingDogsLie', 'SleepingWithTheEnemy', 'Sleepless', 'SleeplessInSeattle', 'Sleepover', 'SleepwalkWithMe', 'Sleepwalkers', 'SleepyHollow1999', 'Sleight', 'SlenderMan', 'SlidingDoors', 'SlingBlade', 'Slipstream1989', 'Slither', 'Sliver', 'SlowWest', 'Slugs', 'SlumberPartyMassacreII', 'SlumberPartyMassacreIII', 'SlumdogMillionaire', 'SlumsOfBeverlyHills', 'SmallFaces', 'SmallSoldiers', 'SmallTimeCrooks', 'SmallerAndSmallerCircles', 'SmartHouse', 'Smarty', 'Smashed', 'SmettoQuandoVoglio', 'SmettoQuandoVoglioAdHonorem', 'SmettoQuandoVoglioMasterclass', 'SmilesOfASummerNight', 'Smiley', 'SmileyFace', 'SmilinThrough', 'Smoke', 'SmokeAlarmTheUnfilteredTruthAboutCigarettes', 'SmokeSignals', 'SmokeyAndTheBandit', 'SmokinAces', 'SmokinAces2AssassinsBall', 'Smolensk', 'SnakeEyes', 'SnakeInTheEaglesShadow', 'SnakesOnAPlane', 'Snapshot1979', 'Snatch', 'Sneakers', 'Sniper', 'Snitch', 'Snix', 'SnowCake', 'SnowDay', 'SnowDogs', 'SnowFallingOnCedars', 'SnowSteamIron', 'SnowWhite1916', 'SnowWhiteATaleOfTerror', 'SnowWhiteAndTheHuntsman', 'SnowWhiteAndTheThreeStooges', 'Snowden', 'Snowpiercer', 'Snuff102', 'SoClose', 'SoIMarriedAnAxeMurderer', 'SoThisIsHarris', 'SoUndercover', 'SoYouThinkYoureNotGuilty', 'SoYouWantToBeInPictures', 'SoYoungSoBad', 'Soapdish', 'Society', 'Soegija', 'Solace', 'Solarbabies', 'Solaris1972', 'Solaris2002', 'Soldier', 'SoldierBlue', 'SoldierBoyz', 'SoldierOfOrange', 'SollysDiner', 'Solo', 'SolomonKane', 'SomeCameRunning', 'SomeKindOfWonderful', 'SomeLikeItHot', 'SomebodyUpThereLikesMe', 'SomethingBorrowed', 'SomethingNew', 'SomethingNew1920', 'SomethingWicked', 'SomethingsGottaGive', 'SometimesInApril', 'Somewhere', 'SomewhereInTime', 'SonInLaw', 'SonOfDracula', 'SonOfFrankenstein', 'SonOfGod', 'SonOfGodzilla', 'SonOfRambow', 'SonOfSaul', 'SonOfTheMask', 'SonOfTheMorningStar', 'Sonatine', 'SongOfTheSouth', 'SonicTheHedgehog2019', 'SonsOfLiberty', 'SonsOfTheDesert', 'SonysUniverseOfMarvelCharacters', 'SophieSchollTheFinalDays', 'SophiesChoice', 'Sorcerer', 'Sorcerers', 'Sorceress', 'SororityBoys', 'SororityRow', 'SorryThanks', 'SorryToBotherYou', 'SorryWrongNumber', 'SosYourOldMan', 'SoulFood', 'SoulKitchen', 'SoulSurfer', 'Soulkeeper', 'SoulsForSale', 'Soultaker', 'SoundOfMyVoice', 'SoundOfTheMountain', 'SourGrapes', 'SourceCode', 'SouthBronxHeroes', 'Southbound', 'SouthernComfort', 'SouthlandTales', 'Southpaw', 'SouthsideWithYou', 'SoylentGreen', 'SpaceAmoeba', 'SpaceBattleshipYamato', 'SpaceCamp', 'SpaceCop', 'SpaceCowboys', 'SpaceIsThePlace', 'SpaceJam', 'SpaceMutiny', 'SpacePirateCaptainHarlock2013', 'SpaceSheriffGavanTheMovie', 'SpaceSheriffShaider', 'SpaceSheriffShaiderNEXTGENERATION', 'SpaceSheriffShaiderPursuitTheStrangeKidnappers', 'SpaceSheriffSharivanNEXTGENERATION', 'SpaceTruckers', 'Spaceballs', 'SpacedInvaders', 'SpacehunterAdventuresInTheForbiddenZone', 'Spanglish', 'SpankingTheMonkey', 'Sparkle', 'Sparrows', 'Spartacus', 'Spartan', 'Spawn', 'SpecialBulletin', 'SpecialCorrespondents', 'SpecialWhenLit', 'Species', 'SpeciesII', 'Spectral', 'Spectre', 'SpeechAndDebate', 'Speechless', 'Speed', 'Speed2CruiseControl', 'SpeedRacer', 'Speedy', 'Spellbound', 'Sphere', 'SpiceWorld', 'Spider', 'SpiderBabyOrTheMaddestStoryEverTold', 'SpiderLilies', 'SpiderMan1', 'SpiderMan2', 'SpiderMan3', 'SpiderManFarFromHome', 'SpiderManHomecoming', 'SpiderManTrilogy', 'Spiders', 'SpidersIIBreedingGround', 'Spielberg', 'Spies', 'SpiesLikeUs', 'Spijt', 'Spiral', 'SpiritsOfTheDead', 'SpiteMarriage', 'Splash', 'SplendorInTheGrass', 'Splice', 'Splinter', 'Split', 'SplitSecond', 'SplittingHeirs', 'SpontaneousCombustion', 'Spotlight', 'Spring', 'SpringBreakers', 'SpringDreams', 'SpringSummerFallWinterAndSpring', 'Spy', 'SpyGame', 'SpyHard', 'SpyKids', 'SpyKids1', 'SpyKids2IslandOfLostDreams', 'SpyKids3DGameOver', 'SpyKidsAllTheTimeInTheWorld', 'Squatters', 'Squirm', 'StElmosFire', 'StTrinians', 'StTrinians2TheLegendOfFrittonsGold', 'StVincent', 'StVincent2014', 'StageDoor', 'StageFright', 'StageFright2014', 'StageFrightAquarius', 'Stagecoach', 'StairwayToLight', 'StakeLand', 'Stakeout', 'Stalag17', 'StalagLuft', 'Stalingrad1993', 'Stalingrad2013', 'Stalker', 'StanAndOllie', 'StanHelsing', 'StandAlone', 'StandAndDeliver', 'StandByMe', 'StandIn', 'StandUpGuys', 'StandingOvation', 'Star80', 'StarInTheNight', 'StarKid', 'StarTheatre', 'StarTrek2009', 'StarTrekBeyond', 'StarTrekFirstContact', 'StarTrekGenerations', 'StarTrekIIITheSearchForSpock', 'StarTrekIITheWrathOfKhan', 'StarTrekIVTheVoyageHome', 'StarTrekInsurrection', 'StarTrekIntoDarkness', 'StarTrekNemesis', 'StarTrekTheMotionPicture', 'StarTrekVITheUndiscoveredCountry', 'StarTrekVTheFinalFrontier', 'StarWarsEwokAdventures', 'StarWarsRevelations', 'Starcrash', 'Stardust', 'StardustMemories', 'Stargate', 'StargateContinuum', 'StargateTheArkOfTruth', 'StarkLove', 'Starman', 'StarryEyes', 'StarshipInvasions', 'StarshipTroopers', 'StarshipTroopers2HeroOfTheFederation', 'StarshipTroopers3Marauder', 'StarskyAndHutch', 'Starstruck', 'StartTheRevolutionWithoutMe', 'StarterForTen', 'StateAndMain', 'StateFair', 'StateOfPlay', 'StatesOfGrace', 'Static', 'StationsOfTheCross', 'StatusUpdate', 'Stay', 'StayAlive', 'StayTuned', 'StayingAlive', 'StealingHarvard', 'Stealth', 'SteamboatBillJr', 'Steel', 'SteelDawn', 'SteelFrontier', 'SteelMagnolias', 'StellaDallas', 'StellaMaris', 'StepBrothers', 'StepUp', 'Stephanie', 'Stepmom', 'StepsTroddenBlack', 'StepsisterFromPlanetWeird', 'Sterne', 'SteveJobs', 'SteveNilesRemains', 'StickIt', 'Stigmata', 'StillAlice', 'StillCrazy', 'StillOfTheNight', 'StillSmokin', 'Stilyagi', 'StingraySam', 'StirCrazy', 'StirOfEchoes', 'Stitches2001', 'Stitches2012', 'Stoker', 'StolenKisses', 'StolzDerNation', 'Stone', 'StoneCold', 'StonehearstAsylum', 'StopLookAndListen', 'StopLoss', 'StopMakingSense', 'StopOrMyMomWillShoot', 'StormBoy', 'StormOverAsia', 'Stormbreaker', 'StormingJuno', 'StormyWeather', 'Stowaway', 'StraightOuttaCompton', 'StraightStory', 'StraightToHell', 'StraightUp', 'StrandedInSpace', 'StrangeBedfellows1965', 'StrangeBedfellows2004', 'StrangeBrew', 'StrangeCargo', 'StrangeCircus', 'StrangeDays', 'StrangeInvaders', 'StrangePsychokineticStrategy', 'StrangeThingsHappenAtSundown', 'StrangeWilderness', 'StrangerByTheLake', 'StrangerOnTheThirdFloor', 'StrangerThanFiction', 'StrangerThanParadise', 'StrangersOnATrain', 'Strapped', 'StrategicAirCommand', 'StrawDogs', 'StrawDogs1971', 'StrawDogs2011', 'StrayDog', 'StrayDogKerberosPanzerCops', 'StreetAngel', 'StreetFight', 'StreetFighter', 'StreetFighterTheLegendOfChunLi', 'StreetKings', 'StreetOfShame', 'StreetSociety', 'StreetTrash', 'Streetdance', 'StreetsOfFire', 'StrictlyBallroom', 'Strike', 'StrikeCommando', 'StrikingDistance', 'Strings2004', 'Stripes', 'Striptease', 'StrokerAce', 'Stromboli', 'StrongIsland', 'Stroszek', 'StruckByLightning', 'StuartLittle', 'StuckOnYou', 'StudentBodies', 'StudentServices', 'Stunts', 'Stutterer', 'SubjectTwo', 'Submarine', 'Subspecies', 'SuburbanCommando', 'Suburbia', 'Suburbicon', 'Suck', 'SuckerPunch', 'SuddenDeath', 'SuddenImpact', 'Suddenly', 'Suffragette', 'SugarAndSpice', 'SuicideClub', 'SuicideKings', 'SuicideSquad2016', 'SuitsOnTheLoose', 'SukiyakiWesternDjango', 'SullivansTravels', 'Sully', 'SummerCampNightmare', 'SummerEleven', 'SummerHoliday', 'SummerLovers', 'SummerOf42', 'SummerOfEightyFour', 'SummerOfSam', 'SummerRental', 'SummerSchool', 'SummerWithMonika', 'SummerofEightyFour', 'Summertime', 'SundayBloodySunday', 'SundaySchoolMusical', 'SundaysAndCybele', 'Sunny', 'SunnySideUp', 'Sunnyside', 'Sunrise', 'SunriseAtCampobello', 'Sunset', 'SunsetBoulevard', 'SunsetGrill', 'Sunshine', 'SunshineCleaning', 'Sunspring', 'Super', 'Super8', 'SuperCapers', 'SuperCometAfterTheImpact', 'SuperCop', 'SuperDarkTimes', 'SuperFly', 'SuperFuzz', 'SuperHeroTaisenGPKamenRider3', 'SuperMarioBros', 'SuperSentaiWorld', 'SuperSizeMe', 'SuperTroopers', 'Superbad', 'Supergirl', 'SuperheroMovie', 'SuperiorUltraman8Brothers', 'Superman', 'SupermanII', 'SupermanIII', 'SupermanIVTheQuestForPeace', 'SupermanReturns', 'SupermanTheMovie', 'Supernova', 'SupersonicMan', 'Superstar', 'Superstition', 'Supervolcano', 'SupportTheGirls', 'SupportYourLocalSheriff', 'SurfNazisMustDie', 'SurfNinjas', 'Surrogates', 'Surveillance', 'SurvivalOfTheDead', 'Survive', 'SurvivingTheGame', 'Survivor2015', 'SusannahOfTheMounties', 'SusieQ', 'Suspect', 'SuspectZero', 'Suspicion', 'Suspiria1977', 'Suspiria2018', 'SuzannesCareer', 'SuzhouRiver', 'Suzy', 'SwampDiamonds', 'SwampThing', 'SwanSong1992', 'Swearnet', 'SweatyBeards', 'SweeneyToddTheDemonBarberOfFleetStreet', 'SweetAndLowdown', 'SweetCountry', 'SweetHome', 'SweetHomeAlabama', 'SweetMovie', 'SweetNovember', 'SweetSixteen', 'SweetSmellOfSuccess', 'SweetSweetbacksBaadasssssSong', 'Sweetwater', 'SweptAway', 'Swimfan', 'SwimmingPool', 'SwimmingWithSharks', 'Swindle', 'SwingHighSwingLow', 'SwingKids', 'SwingParadeOf1946', 'SwingShift', 'SwingTime', 'Swingers', 'SwingtimeInTheMovies', 'SwissArmyMan', 'SwissFamilyRobinson', 'Switch1991', 'SwitchbladeSisters', 'SwordOfDesperation', 'SwordOfTheAssassin', 'Swordfish', 'Swordsman', 'Swordsmen', 'SyFyChannelOriginalMovie', 'Sybil', 'SydneyWhite', 'SyfyChannelOriginalMovie', 'SyfyOriginalMovie', 'SylviaScarlett', 'SymbiopsychotaxiplasmTakeOne', 'SympathyForLadyVengeance', 'SympathyForMrVengeance', 'SynecdocheNewYork', 'Syriana', 'T2Trainspotting', 'THX1138', 'TILT', 'TRexBackToTheCretaceous', 'Table19', 'Tabu', 'Taegukgi', 'TaeterCity', 'Tag', 'TagRiaruOnigokko', 'Taggart', 'TaiChiMaster', 'TaiChiZero', 'TaiyouSentaiSunVulcan', 'TakeShelter', 'TakeTheMoneyAndRun', 'Taken', 'Takers', 'TakingChance', 'TakingLives', 'TakingWoodstock', 'TaleOfTales', 'TalesForAll', 'TalesFromMuppetlandTheFrogPrince', 'TalesFromTheCrypt', 'TalesFromTheDarksideTheMovie', 'TalesFromTheHood', 'TalesOfAnAncientEmpire', 'TalesOfHalloween', 'TalkOfTheTown', 'TalkToHer', 'TallTale', 'TalladegaNightsTheBalladOfRickyBobby', 'Tamara', 'Tammy', 'TammyAndTheTRex', 'Tampopo', 'Tangerine', 'Tangerines', 'TangoAndCash', 'Tanguy', 'Tania', 'Tank', 'TankGirl', 'Tanna', 'Tape407', 'Taps', 'Tarantula', 'Targets', 'TarzanAndHisMate', 'TarzanOfTheApes', 'TarzanTheApeMan1981', 'TasmanianDevils', 'TasteOfCherry', 'TasteTheBloodOfDracula', 'Tau', 'Taxi', 'Taxi1932', 'Taxi2004', 'TaxiDriver', 'Tchaikovsky', 'TeaAndSympathy', 'Teachers', 'TeachersPet1958', 'TeachingMrsTingle', 'TeamAmericaWorldPolice', 'TearsOfSteel', 'TearsOfTheSun', 'Ted', 'Ted2', 'TedBundy', 'TeddyTheRoughRider', 'TeenAgeStrangler', 'TeenBeachMovie', 'TeenSpirit', 'TeenWarlock', 'TeenWitch', 'TeenWolf', 'TeenageCaveman', 'TeenageCrimeWave', 'TeenageMutantNinjaTurtles', 'TeenageMutantNinjaTurtles2014', 'TeenageMutantNinjaTurtlesIII', 'TeenageMutantNinjaTurtlesIITheSecretOfTheOoze', 'TeenageMutantNinjaTurtlesOutOfTheShadows', 'TeenagersFromOuterSpace', 'Teeth', 'Tejut', 'Tekken', 'Telefon', 'TellItToTheMarines', 'TellMeHowIDie', 'TellNoOne', 'TempleGrandin', 'TemptationIsland', 'Ten', 'TenCanoes', 'TenCloverfieldLane', 'TenInchHero', 'TenItemsOrLess', 'TenRillingtonPlace', 'TenThingsIHateAboutYou', 'TenThousandBC', 'TenToMidnight', 'TenaciousDInThePickOfDestiny', 'TenderMercies', 'Tenebre', 'TensouSentaiGoseigerEpicOnTheMovie', 'TensouSentaiGoseigerVsShinkengerEpicOnGinmaku', 'Teorema', 'TequilaSunrise', 'TerminalCityRicochet', 'TerminalVelocity1994', 'Terminator2JudgmentDay', 'Terminator3RiseOfTheMachines', 'TerminatorDarkFate', 'TerminatorGenisys', 'TerminatorSalvation', 'Terminus', 'TermsOfEndearment', 'Terrifier', 'TerrorFirmer', 'TerrorFromBeneathTheEarth', 'TerrorFromTheYear5000', 'TerrorInATexasTown', 'TerrorOfMechagodzilla', 'TerrorTrain', 'TerrorVision', 'Tesis', 'TessOfTheStormCountry', 'TestPilot', 'Testament', 'TestamentOfYouth', 'TetsuoTheIronMan', 'Tevya', 'TexasChainsaw3D', 'TexasChainsawMassacreTheNextGeneration', 'Texasville', 'ThankGodItsFriday', 'ThankYouCinta', 'ThankYouForPlaying', 'ThankYouForSmoking', 'Thankskilling', 'ThatAwkwardMoment', 'ThatColdDayInThePark', 'ThatDarnCat', 'ThatHamiltonWoman', 'ThatLadyInErmine', 'ThatLittleBandOfGold', 'ThatMothersMightLive', 'ThatObscureObjectOfDesire', 'ThatSinkingFeeling', 'ThatThingYouDo', 'ThatTouchOfMink', 'ThatsCarryOn', 'ThatsMyBoy', 'ThatsTheWayOfTheWorld', 'The300Spartans', 'The36thChamberOfShaolin', 'The39Steps', 'The39Steps1935', 'The3WorldsOfGulliver', 'The400Blows', 'The47Ronin', 'The5000FingersOfDrT', 'The51stState', 'The6thDay', 'The7thVoyageOfSinbad', 'TheABCsOfDeath', 'TheATeam', 'TheAbominableDrPhibes', 'TheAbominableSnowman', 'TheAbsentMindedProfessor', 'TheAbsentMindedWaiter', 'TheAbyss', 'TheAccidentalTourist', 'TheAccountant', 'TheAccountant2001', 'TheAccused', 'TheAceOfHearts', 'TheActOfKilling', 'TheAddamsFamily', 'TheAdjustmentBureau', 'TheAdventureOfSherlockHolmesSmarterBrother', 'TheAdventurer', 'TheAdventuresOfAntoineDoinel', 'TheAdventuresOfBaronMunchausen', 'TheAdventuresOfBuckarooBanzaiAcrossThe8thDimension', 'TheAdventuresOfCaptainMarvel', 'TheAdventuresOfElmoInGrouchland', 'TheAdventuresOfFordFairlane', 'TheAdventuresOfMiloAndOtis', 'TheAdventuresOfPicasso', 'TheAdventuresOfPinocchio', 'TheAdventuresOfPlutoNash', 'TheAdventuresOfPriscillaQueenOfTheDesert', 'TheAdventuresOfRobinHood', 'TheAdventuresOfRockyAndBullwinkle', 'TheAdventuresOfSharkboyAndLavagirl', 'TheAdventuresOfSherlockHolmes1939', 'TheAdventuresOfTartu', 'TheAeronants', 'TheAffairOfTheNecklace', 'TheAfricanDoctor', 'TheAfricanQueen', 'TheAgeOfAdaline', 'TheAgeOfShadows', 'TheAgonyAndTheEcstasy', 'TheAirIBreathe', 'TheAlamo1960', 'TheAlamo2004', 'TheAlienFactor', 'TheAlligatorPeople', 'TheAlphabetKiller', 'TheAlzheimersCase', 'TheAmazingBulk', 'TheAmazingColossalMan', 'TheAmazingMrBlunden', 'TheAmazingPandaAdventure', 'TheAmazingSpiderMan', 'TheAmazingSpiderMan2', 'TheAmazingSpiderManSeries', 'TheAmazingTransparentMan', 'TheAmerican', 'TheAmericanAstronaut', 'TheAmericanFriend', 'TheAmericanPresident', 'TheAmericanizationOfEmily', 'TheAmityvilleCurse', 'TheAmityvilleHorror1979', 'TheAmityvilleHorror2005', 'TheAndromedaStrain', 'TheAngelsShare', 'TheAngryRedPlanet', 'TheAnimal', 'TheAnimalKingdom', 'TheAnnunciation', 'TheAnthropophagusBeast', 'TheApartment', 'TheApparition', 'TheApple', 'TheAppleDumplingGang', 'TheAppointmentsOfDennisJennings', 'TheAristocrats', 'TheArrangement', 'TheArrival', 'TheArtOfSelfDefense', 'TheArtOfWar', 'TheArtist', 'TheAscent', 'TheAsphaltJungle', 'TheAssassinationBureau', 'TheAssassinationOfJesseJamesByTheCowardRobertFord', 'TheAssassinationOfRichardNixon', 'TheAssignment1997', 'TheAssociate', 'TheAsthenicSyndrome', 'TheAstroZombies', 'TheAstronautFarmer', 'TheAstronautsWife', 'TheAtomicBrain', 'TheAuteur', 'TheAutopsyOfJaneDoe', 'TheAvengers1998', 'TheAvengers2012', 'TheAviator', 'TheAwakening', 'TheAwfulTruth', 'TheBFG', 'TheBaaderMeinhofComplex', 'TheBabadook', 'TheBaby', 'TheBabySittersClub', 'TheBabysitter', 'TheBachelorAndTheBobbySoxer', 'TheBadAndTheBeautiful', 'TheBadEducationMovie', 'TheBadLieutenantPortOfCallNewOrleans', 'TheBadNewsBears', 'TheBadSeed1956', 'TheBadSeed1985', 'TheBadSleepWell', 'TheBadlanders', 'TheBagman', 'TheBakerStreetDozen', 'TheBakersWife', 'TheBakeryGirlOfMonceau', 'TheBalladOfBusterScruggs', 'TheBalladOfCableHogue', 'TheBalladOfNarayama', 'TheBandWagon', 'TheBandsVisit', 'TheBankDick', 'TheBankJob', 'TheBarbarianInvasions', 'TheBarbarians', 'TheBarberOfSiberia', 'TheBarefootContessa', 'TheBargain', 'TheBarrens', 'TheBarrettsOfWimpoleStreet', 'TheBasketballDiaries', 'TheBastardSword', 'TheBatPeople', 'TheBatman', 'TheBattery', 'TheBattleOfAlgiers', 'TheBattleOfMidway', 'TheBattleOfRussia', 'TheBattleOfSanPietro', 'TheBattleshipIsland', 'TheBattleshipPotemkin', 'TheBaxter', 'TheBay', 'TheBear', 'TheBearAndTheDoll', 'TheBeast', 'TheBeastFromTwentyThousandFathoms', 'TheBeastInHeat', 'TheBeastMustDie', 'TheBeastOfHollowMountain', 'TheBeastOfWar', 'TheBeastOfYuccaFlats', 'TheBeastmaster', 'TheBeatThatMyHeartSkipped', 'TheBeatniks', 'TheBeauBrummels', 'TheBeauticianAndTheBeast', 'TheBeaver', 'TheBeaverTrilogy', 'TheBedroomWindow', 'TheBeguiled', 'TheBeliever', 'TheBelkoExperiment', 'TheBellWitchHaunting', 'TheBellboy', 'TheBellsOfStMarys', 'TheBermudaDepths', 'TheBespokeOvercoat', 'TheBestExoticMarigoldHotel', 'TheBestIntentions', 'TheBestLittleWhorehouseInTexas', 'TheBestMan', 'TheBestOfYouth', 'TheBestOffer', 'TheBestTwoYears', 'TheBestYearsOfOurLives', 'TheBeyond', 'TheBible1966', 'TheBigBlue', 'TheBigBoss', 'TheBigChill', 'TheBigCombo', 'TheBigCountry', 'TheBigEasy', 'TheBigGayMusical', 'TheBigGreen', 'TheBigHeat', 'TheBigHit', 'TheBigHouse', 'TheBigLebowski', 'TheBigParade', 'TheBigRedOne', 'TheBigRestaurant', 'TheBigShort', 'TheBigSick', 'TheBigSleep', 'TheBigTease', 'TheBigTrail', 'TheBigWedding', 'TheBigYear', 'TheBigamist', 'TheBiggestBundleOfThemAll', 'TheBirdPeopleInChina', 'TheBirdWithTheCrystalPlumage', 'TheBirdcage', 'TheBirds', 'TheBirthOfANation1915', 'TheBirthOfANation1916', 'TheBirthOfANation2016', 'TheBishopsWife', 'TheBitterTeaOfGeneralYen', 'TheBitterTearsOfPetraVonKant', 'TheBlackBellyOfTheTarantula', 'TheBlackCat', 'TheBlackCobra', 'TheBlackDahlia', 'TheBlackGodfather', 'TheBlackHand', 'TheBlackHole', 'TheBlackPirate', 'TheBlackRoom', 'TheBlackScorpion', 'TheBlackSix', 'TheBlackSwan1942', 'TheBlackbird', 'TheBlacksmith', 'TheBladeMaster', 'TheBlairWitchProject', 'TheBlingRing', 'TheBlob1958', 'TheBlob1988', 'TheBloodBeastTerror', 'TheBloodOfJesus', 'TheBloodOnSatansClaw', 'TheBloodWatersOfDrZ', 'TheBloodyOlive', 'TheBloodyVideoHorrorThatMadeMePukeOnMyAuntGertrude', 'TheBlot', 'TheBlueAngel', 'TheBlueDahlia', 'TheBlueGardenia', 'TheBlueKite', 'TheBlueLagoon', 'TheBlueMax', 'TheBluesBrothers', 'TheBoat', 'TheBoatThatRocked', 'TheBody2012', 'TheBodySnatcher', 'TheBodyguard', 'TheBohemianGirl', 'TheBoneCollector', 'TheBoob', 'TheBoogeyMan', 'TheBoogeyman', 'TheBookOfEli', 'TheBookOfHenry', 'TheBookOfManson', 'TheBookOfRevelation', 'TheBoondockSaints', 'TheBorrower', 'TheBorrowers1997', 'TheBorrowers2011', 'TheBoss', 'TheBostonStrangler', 'TheBothersomeMan', 'TheBounty', 'TheBountyHunter', 'TheBourneIdentity', 'TheBourneLegacy', 'TheBourneSeries', 'TheBourneSupremacy', 'TheBourneUltimatum', 'TheBox', 'TheBoy', 'TheBoy2015', 'TheBoyInThePlasticBubble', 'TheBoyNextDoor', 'TheBoyWhoCouldFly', 'TheBoyWhoCriedWerewolf', 'TheBoysInCompanyC', 'TheBradyBunch', 'TheBradyBunchMovie', 'TheBrain1969', 'TheBrain1988', 'TheBrainFromPlanetArous', 'TheBrainThatWouldntDie', 'TheBrandNewTestament', 'TheBrassTeapot', 'TheBravados', 'TheBraveOne', 'TheBreakUp', 'TheBreakfastClub', 'TheBrideWithWhiteHair', 'TheBridesOfDracula', 'TheBridge1959', 'TheBridgeAtRemagen', 'TheBridgeOnTheRiverKwai', 'TheBridgesAtTokoRi', 'TheBroadwayMelody', 'TheBroken', 'TheBrokenHeartsClubARomanticComedy', 'TheBrood', 'TheBrotherhoodOfSatan', 'TheBrothersBloom', 'TheBrothersGrimm', 'TheBrothersKaramazov1969', 'TheBrownBunny', 'TheBruteMan', 'TheBubble', 'TheBucketList', 'TheBuddyHollyStory', 'TheBullfighters', 'TheBunker2001', 'TheBurbs', 'TheBurmeseHarp', 'TheBurning', 'TheBurningBed', 'TheBurningMoon', 'TheBurningOfRedLotusTemple', 'TheBurrowers', 'TheBus', 'TheButchers', 'TheButler', 'TheButtercreamGang', 'TheButterflyCircus', 'TheButterflyEffect', 'TheByeByeMan', 'TheCabinInTheWoods', 'TheCabinetOfDrCaligari', 'TheCableGuy', 'TheCalamariWrestler', 'TheCall', 'TheCallOfCthulhu', 'TheCallOfTheCumberlands', 'TheCameraman', 'TheCampaign', 'TheCandidate', 'TheCandyTangerineMan', 'TheCannibalInTheJungle', 'TheCannonballRun', 'TheCaptainHatesTheSea', 'TheCaptiveHeart', 'TheCar', 'TheCarmillaMovie', 'TheCarriersAreWaiting', 'TheCarsThatAteParis', 'TheCaseForChrist', 'TheCaseOfTheCuriousBride', 'TheCastle', 'TheCastleOfFuManchu', 'TheCatFromOuterSpace', 'TheCatInTheHat', 'TheCatONineTails', 'TheCatWithHands', 'TheCatcher', 'TheCatsMeow', 'TheCave', 'TheCaveOfTheYellowDog', 'TheCavern', 'TheCelebration', 'TheCell', 'TheCelluloidCloset', 'TheCenterOfTheWorld', 'TheChamp', 'TheChangeUp', 'TheChangeling', 'TheChantOfJimmieBlacksmith', 'TheChargeAtFeatherRiver', 'TheChargeOfTheLightBrigade', 'TheChargeOfTheLightBrigade1936', 'TheChase', 'TheChaser', 'TheCheapDetective', 'TheCheat', 'TheChechahcos', 'TheCheetahGirls', 'TheCheyenneSocialClub', 'TheChildren', 'TheChinaSyndrome', 'TheChoice', 'TheChristmasBunny', 'TheChristmasThatAlmostWasnt', 'TheChristmasToy', 'TheChroniclesOfNarnia', 'TheChroniclesOfRiddick', 'TheChurch', 'TheCincinnatiKid', 'TheCinemaSnobMovie', 'TheCircle1925', 'TheCircle2017', 'TheCircus', 'TheCitadel', 'TheCityOfLostChildren', 'TheClass', 'TheClient', 'TheClonesOfBruceLee', 'TheClovehitchKiller', 'TheCloverfieldParadox', 'TheCobbler', 'TheCobweb', 'TheCocoanuts', 'TheCollector', 'TheColony', 'TheColorOfFriendship', 'TheColorOfMoney', 'TheColorOfPomegranates', 'TheComancheros', 'TheComedyOfTerrors', 'TheCommitments', 'TheCommuter', 'TheCompanyMen', 'TheCompanyOfWolves', 'TheComputerWoreTennisShoes', 'TheCondemned', 'TheCongress', 'TheConjuring', 'TheConjuringII', 'TheConjuringUniverse', 'TheConqueror', 'TheConspiracy', 'TheConspirator', 'TheConstantGardener', 'TheConstantNymph', 'TheConsultant', 'TheContender', 'TheConversation', 'TheCook', 'TheCookTheThiefHisWifeAndHerLover', 'TheCooler', 'TheCore', 'TheCorpseGrinders', 'TheCorpseVanishes', 'TheCossacks', 'TheCottage', 'TheCottonClub', 'TheCounselor', 'TheCountOfMonteCristo2002', 'TheCounterfeiters', 'TheCountryBears', 'TheCountryDoctor', 'TheCountryGirl', 'TheCoup', 'TheCourtJester', 'TheCourtMartialOfBillyMitchell', 'TheCove', 'TheCovenant', 'TheCoveredWagon', 'TheCowboys', 'TheCraft', 'TheCranesAreFlying', 'TheCrawlingEye', 'TheCrawlingHand', 'TheCrazies1973', 'TheCrazies2010', 'TheCrazyFamily', 'TheCreatureWalksAmongUs', 'TheCreepingTerror', 'TheCremator', 'TheCrew', 'TheCrimeDoctorsStrangestCase', 'TheCriminal', 'TheCrimsonKimono', 'TheCrimsonPirate', 'TheCrimsonRivers', 'TheCrossing', 'TheCrow', 'TheCrowCityOfAngels', 'TheCrowSalvation', 'TheCrowWickedPrayer', 'TheCrowd', 'TheCrucible', 'TheCrucifiedLovers', 'TheCrush', 'TheCrush2010', 'TheCryOfTheChildren', 'TheCryingGame', 'TheCube', 'TheCuencaCrime', 'TheCure', 'TheCuriosityOfChance', 'TheCuriousCaseOfBenjaminButton', 'TheCurse', 'TheCurseOfElCharro', 'TheCurseOfFrankenstein', 'TheCurseOfLaLlorona', 'TheCurseOfQuonGwon', 'TheCurseOfTheJadeScorpion', 'TheCurseOfTheMummysTomb', 'TheCurseOfTheWerewolf', 'TheCurtainPole', 'TheCyclops', 'TheDamBusters', 'TheDamned1947', 'TheDamned1969', 'TheDanishGirl', 'TheDarjeelingLimited', 'TheDark1979', 'TheDark2005', 'TheDark2018', 'TheDarkBackward', 'TheDarkCrystal', 'TheDarkHorse', 'TheDarkKnight', 'TheDarkKnightRises', 'TheDarkKnightTrilogy', 'TheDarkMaidens', 'TheDarkSideOfChocolate', 'TheDarkSideOfTheMoon', 'TheDarkTower2017', 'TheDarkWind', 'TheDarkestDawn', 'TheDarkestHour', 'TheDarkestMinds', 'TheDarkness', 'TheDaughterOfDawn', 'TheDawnPatrol', 'TheDawnsHereAreQuiet', 'TheDayAfter', 'TheDayAfterTomorrow', 'TheDayBritainStopped', 'TheDayTheClownCried', 'TheDayTheEarthCaughtFire', 'TheDayTheEarthFroze', 'TheDayTheEarthStoodStill1951', 'TheDayTheEarthStoodStill2008', 'TheDayTimeEnded', 'TheDaysOfOurYears', 'TheDead', 'TheDead1987', 'TheDeadDontDie', 'TheDeadGirl', 'TheDeadMatter', 'TheDeadNextDoor', 'TheDeadOfTheNight', 'TheDeadOne', 'TheDeadPit', 'TheDeadPool', 'TheDeadTalkBack', 'TheDeadZone', 'TheDeadlyBees', 'TheDeadlyCompanions', 'TheDeadlyMantis', 'TheDeadlySpawn', 'TheDeal2003', 'TheDeal2008', 'TheDeathOfStalin', 'TheDeathsOfIanStone', 'TheDebt', 'TheDecalogue', 'TheDeclineOfWesternCivilization', 'TheDecoyBride', 'TheDeepBlueSea', 'TheDeerHunter', 'TheDefiantOnes', 'TheDeltaForce', 'TheDen', 'TheDentist', 'TheDeparted', 'TheDescendants', 'TheDescent', 'TheDescentPart2', 'TheDesertFox', 'TheDesertRats', 'TheDeserter', 'TheDesperateHours', 'TheDevilAndMaxDevlin', 'TheDevilAndMissJones', 'TheDevilBat', 'TheDevilDoll', 'TheDevilInside', 'TheDevilRidesOut', 'TheDevilWithinHer', 'TheDevils', 'TheDevilsAdvocate', 'TheDevilsBackbone', 'TheDevilsBrigade', 'TheDevilsCandy', 'TheDevilsCarnival', 'TheDevilsCarnivalAlleluia', 'TheDevilsDouble', 'TheDevilsHairpin', 'TheDevilsOwn', 'TheDevilsRejects', 'TheDiamondArm', 'TheDiaryOfAnneFrank', 'TheDictator', 'TheDilemma', 'TheDinnerGame', 'TheDinosaurProject', 'TheDirties', 'TheDirtyDozen', 'TheDisappearanceOfAliceCreed', 'TheDisappearanceOfEleanorRigby', 'TheDisappointmentsRoom', 'TheDisasterArtist', 'TheDiscreetCharmOfTheBourgeoisie', 'TheDish', 'TheDistinguishedGentleman', 'TheDivergentSeriesAllegiant', 'TheDivergentSeriesAscendant', 'TheDivergentSeriesInsurgent', 'TheDivide', 'TheDivorceOfLadyX', 'TheDivorcee', 'TheDocksofNewYork', 'TheDoctorTakesAWife', 'TheDoll', 'TheDoloritaPassionDance', 'TheDoomGeneration', 'TheDoor', 'TheDoors1991', 'TheDormThatDrippedBlood', 'TheDouble', 'TheDoubleLifeOfVeronique', 'TheDove', 'TheDragonPainter', 'TheDraughtsmansContract', 'TheDreamers', 'TheDresser', 'TheDressmaker', 'TheDrillerKiller', 'TheDriver', 'TheDrop', 'TheDrowningGhost', 'TheDrowningPool', 'TheDrownsman', 'TheDuchess', 'TheDuellists', 'TheDuff', 'TheDukeOfBurgundy', 'TheDukesOfHazzard', 'TheDungeonmaster', 'TheDustFactory', 'TheDybbuk', 'TheEagle1925', 'TheEagle2011', 'TheEagleHasLanded', 'TheEagleHuntress', 'TheEarringsOfMadameDe', 'TheEarthDaySpecial', 'TheEast', 'TheEdge', 'TheEdgeOfSeventeen', 'TheEdukators', 'TheElectricHorseman', 'TheElementOfCrime', 'TheElephantMan', 'TheEliteSquad', 'TheElusiveAvengers', 'TheEmeraldForest', 'TheEmperorAndTheAssassin', 'TheEmperorOfParis', 'TheEmperorsClub', 'TheEmperorsNewClothes', 'TheEmpireStateBuildingMurders', 'TheEmpireStrikesBack', 'TheEmptyMirror', 'TheEndOfSummer', 'TheEndless', 'TheEndlessSummer', 'TheEnemyBelow', 'TheEnforcer', 'TheEnglishmanWhoWentUpAHillButCameDownAMountain', 'TheEnigmaOfKasparHauser', 'TheEntity', 'TheEqualizer', 'TheEqualizer2', 'TheEscapist', 'TheEvidenceOfTheFilm', 'TheEvil', 'TheEvilDead1981', 'TheEvilOfFrankenstein', 'TheEvilThatMenDo', 'TheEvilWithin', 'TheExMrsBradford', 'TheExecutionOfGaryGlitter', 'TheExorcismOfEmilyRose', 'TheExorcist', 'TheExorcistIII', 'TheExpendables', 'TheExpendables2', 'TheExpendables3', 'TheExpert', 'TheExterminatingAngel', 'TheExterminator', 'TheExterminatorsOfTheYear3000', 'TheExtraGirl', 'TheExtraordinaryAdventuresOfAdeleBlancSec', 'TheEye', 'TheFP', 'TheFWord', 'TheFabulousBakerBoys', 'TheFaceOfAnother', 'TheFactsInTheCaseOfMisterHollow', 'TheFaculty', 'TheFalconAndTheSnowman', 'TheFall', 'TheFallOfTheHouseOfUsher1928France', 'TheFallOfTheHouseOfUsher1928USA', 'TheFallOfTheRomanEmpire', 'TheFamily', 'TheFamilyMan', 'TheFamilySecret', 'TheFamilyStone', 'TheFamilyThatPreys', 'TheFan', 'TheFantasticFour', 'TheFarCountry', 'TheFastAndTheFurious', 'TheFavourite', 'TheFearlessVampireKillers', 'TheFencer', 'TheFiendishPlotOfDrFuManchu', 'TheFifteenSeventeenToParis', 'TheFifthElement', 'TheFifthEstate', 'TheFifthWave', 'TheFighter', 'TheFightingGeneration', 'TheFightingLady', 'TheFightingPrinceOfDonegal', 'TheFinal', 'TheFinalCountdown', 'TheFinalGirls', 'TheFinalOption', 'TheFinalSacrifice', 'TheFinalTerror', 'TheFinestHours', 'TheFinishingLine', 'TheFiremensBall', 'TheFirm', 'TheFirstNudieMusical', 'TheFirstOption', 'TheFirstPower', 'TheFirstPurge', 'TheFirstWivesClub', 'TheFisherKing', 'TheFiveYearEngagement', 'TheFlamingoKid', 'TheFleshAndBloodShow', 'TheFlightOfThePhoenix1965', 'TheFlightOfThePhoenix2004', 'TheFlintStreetNativity', 'TheFlintstones', 'TheFlintstonesInVivaRockVegas', 'TheFloorwalker', 'TheFloridaProject', 'TheFlowerGirl', 'TheFly1958', 'TheFly1986', 'TheFlyII', 'TheFlyingDeuces', 'TheFlyingMan', 'TheFog', 'TheFogOfWar', 'TheFoodOfTheGods', 'TheFootballFactory', 'TheForbiddenKingdom', 'TheForceAwakens', 'TheForeigner2017', 'TheForest1982', 'TheForest2016', 'TheForgotten', 'TheForgottenFrontier', 'TheForsaken', 'TheFortuneCookie', 'TheFortyYearOldVirgin', 'TheFounder', 'TheFountain', 'TheFourFeathers', 'TheFourHorsemenOfTheApocalypse', 'TheFourSkullsOfJonathanDrake', 'TheFourthKind', 'TheFrenchConnection', 'TheFreshman1925', 'TheFrighteners', 'TheFront', 'TheFrontLine', 'TheFrontPage', 'TheFrontPage1931', 'TheFugitive', 'TheFullMonty', 'TheFundamentalsOfCaring', 'TheFuneral', 'TheFunhouse', 'TheFurtherAdventuresOfWaltsFrozenHead', 'TheFury', 'TheFuture', 'TheGalaxyInvader', 'TheGallows', 'TheGame', 'TheGamePlan', 'TheGamers', 'TheGamersDorknessRising', 'TheGamersHandsOfFate', 'TheGangsAllHere', 'TheGarage', 'TheGarage1980', 'TheGarbagePailKidsMovie', 'TheGarbagePickingFieldGoalKickingPhiladelphiaPhenomenon', 'TheGardenOfTheFinziContinis', 'TheGate', 'TheGauntlet', 'TheGayDivorcee', 'TheGeneral', 'TheGeneralsDaughter', 'TheGerman', 'TheGetaway', 'TheGhost1963', 'TheGhost1982', 'TheGhostAndMrChicken', 'TheGhostAndMrsMuir', 'TheGhostAndTheDarkness', 'TheGhostDance', 'TheGhostGoesWest', 'TheGhostOfFrankenstein', 'TheGhostOfYotsuya', 'TheGhostWriter', 'TheGhoul', 'TheGiantBehemoth', 'TheGiantClaw', 'TheGiantGilaMonster', 'TheGiantSpider', 'TheGiantSpiderInvasion', 'TheGift2000', 'TheGift2015', 'TheGifted', 'TheGingerbreadMan', 'TheGingerdeadMan', 'TheGirlAndTheEcho', 'TheGirlCantHelpIt', 'TheGirlInLoversLane', 'TheGirlInTheSpidersWeb', 'TheGirlNextDoor2004', 'TheGirlNextDoor2007', 'TheGirlWithAllTheGifts', 'TheGirlWithTheDragonTattoo', 'TheGirlWithTheDragonTattoo2011', 'TheGiver', 'TheGladiators', 'TheGlassCastle', 'TheGleanersAndI', 'TheGlennMillerStory', 'TheGoat', 'TheGoddess', 'TheGodfather', 'TheGodfatherPartII', 'TheGodsMustBeCrazy', 'TheGodson', 'TheGoldOfNaples', 'TheGoldRush', 'TheGoldenChild', 'TheGoldenCoach', 'TheGoldenCompass', 'TheGoldenFish', 'TheGoldenVoyageOfSinbad', 'TheGolem', 'TheGoodGirl', 'TheGoodShepherd', 'TheGoodSon', 'TheGoodTheBadAndTheUgly', 'TheGoodTheBadTheWeird', 'TheGoodThief', 'TheGoodbyeGirl', 'TheGoodsLiveHardSellHard', 'TheGoonies', 'TheGoreGoreGirls', 'TheGorgon', 'TheGospelAccordingToStMatthew', 'TheGospelOfJohn', 'TheGraduate', 'TheGrandBudapestHotel', 'TheGrandIllusion', 'TheGrandmaster', 'TheGrapesOfWrath', 'TheGrayMan', 'TheGreasyStrangler', 'TheGreatBankRobbery', 'TheGreatBattle', 'TheGreatBeauty', 'TheGreatDictator', 'TheGreatEscape', 'TheGreatGatsby', 'TheGreatGatsby1974', 'TheGreatMcGinty', 'TheGreatMuppetCaper', 'TheGreatOutdoors', 'TheGreatRace', 'TheGreatRaid', 'TheGreatSilence', 'TheGreatTexasDynamiteChase', 'TheGreatTrainRobbery', 'TheGreatWaldoPepper', 'TheGreatWall', 'TheGreatWarriorSkanderbeg', 'TheGreatWhiteHype', 'TheGreatYokaiWar', 'TheGreatZiegfeld', 'TheGreatestShowOnEarth', 'TheGreatestShowman', 'TheGreatestStoryEverTold', 'TheGreeksHadAWordForThem', 'TheGreenBerets', 'TheGreenButchers', 'TheGreenDevilsOfMonteCassino', 'TheGreenElephant', 'TheGreenHornet', 'TheGreenHornetSerials', 'TheGreenInferno', 'TheGreenMile', 'TheGreenPastures', 'TheGreenRay', 'TheGreenSlime', 'TheGrey', 'TheGreyFox', 'TheGreyZone', 'TheGrifters', 'TheGrudge', 'TheGuard', 'TheGuardian', 'TheGuardian1990', 'TheGuernseyLiteraryAndPotatoPeelPieSociety', 'TheGuest', 'TheGuillotines', 'TheGuilty', 'TheGumballRally', 'TheGunfighter', 'TheGunman', 'TheGuyFromHarlem', 'TheGypsyMoths', 'TheHairdressersHusband', 'TheHairyBird', 'TheHalfBreed', 'TheHallelujahTrail', 'TheHallow', 'TheHamiltons', 'TheHammer', 'TheHandThatRocksTheCradle', 'TheHandmaiden', 'TheHangover', 'TheHappening', 'TheHappinessOfTheKatakuris', 'TheHappytimeMurders', 'TheHardWay', 'TheHarderTheyCome', 'TheHarderTheyFall', 'TheHarveyGirls', 'TheHastyHeart', 'TheHateUGive', 'TheHatefulEight', 'TheHauntedHotel', 'TheHauntedHouse', 'TheHauntedMansion', 'TheHaunting1963', 'TheHaunting1999', 'TheHauntingHour', 'TheHauntingOfMollyHartley', 'TheHauntingOfWhaleyHouse', 'TheHeadHunter', 'TheHealing', 'TheHeartIsDeceitfulAboveAllThings', 'TheHeartbreakKid1972', 'TheHeartbreakKid2007', 'TheHeat', 'TheHebrewHammer', 'TheHeiress', 'TheHellcats', 'TheHelp', 'TheHidden', 'TheHiddenFortress', 'TheHideousSunDemon', 'TheHighSign', 'TheHighwaymen', 'TheHillsHaveEyes1977', 'TheHillsHaveEyes2', 'TheHillsHaveEyes2006', 'TheHillsHaveEyesPartII', 'TheHillsRunRed', 'TheHindenburg1975', 'TheHiredHand', 'TheHistoryOfFutureFolk', 'TheHitchHiker', 'TheHitcher', 'TheHitchhikersGuideToTheGalaxy', 'TheHitman', 'TheHitmansBodyguard', 'TheHive', 'TheHoax', 'TheHobbit', 'TheHobbitAnUnexpectedJourney', 'TheHobbitTheBattleOfTheFiveArmies', 'TheHobbitTheDesolationOfSmaug', 'TheHole', 'TheHoleInTheGround', 'TheHoliday', 'TheHollow', 'TheHollowChild', 'TheHollywoodKnights', 'TheHollywoodRevueOf1929', 'TheHolyMountain', 'TheHomeTeachers', 'TheHoneymoonKillers', 'TheHorrorAt37000Feet', 'TheHorrorOfFrankenstein', 'TheHorrorOfPartyBeach', 'TheHorrorShow', 'TheHorseWhisperer', 'TheHospital', 'TheHost', 'TheHotChick', 'TheHotRock', 'TheHottieAndTheNottie', 'TheHoundOfTheBaskervilles', 'TheHourOfThePig', 'TheHouseBunny', 'TheHouseByTheCemetery', 'TheHouseILiveIn', 'TheHouseInTheMiddle', 'TheHouseIsBlack', 'TheHouseOfRothschild', 'TheHouseOfTheDevil', 'TheHouseOfYes', 'TheHouseOnSororityRow', 'TheHouseThatDrippedBlood', 'TheHouseThatDripsBloodOnAlex', 'TheHouseThatJackBuilt', 'TheHouseWithAClockInItsWalls', 'TheHousemaid1960', 'TheHousemaid2010', 'TheHousesOctoberBuilt', 'TheHowardsOfVirginia', 'TheHowling', 'TheHudsuckerProxy', 'TheHumanCentipede', 'TheHumanComedy', 'TheHumanCondition', 'TheHumanDuplicators', 'TheHunchbackOfNotreDame', 'TheHunger', 'TheHungerGames', 'TheHungerGamesCatchingFire', 'TheHungerGamesMockingjay', 'TheHunt', 'TheHuntForRedOctober', 'TheHunted1995', 'TheHunted2003', 'TheHunter', 'TheHunter1980', 'TheHunters', 'TheHuntingParty', 'TheHuntsmanWintersWar', 'TheHurtLocker', 'TheHustler', 'TheIcePirates', 'TheIceStorm', 'TheIceman', 'TheIdesOfMarch', 'TheIdiot1951', 'TheIdiots', 'TheIdleClass', 'TheIdolmaker', 'TheIllusionist', 'TheIllustratedMan', 'TheImaginariumOfDoctorParnassus', 'TheImitationGame', 'TheImmaculateConceptionOfLittleDizzle', 'TheImmigrant', 'TheImpossible', 'TheImpostors', 'TheInLaws', 'TheInbetweeners', 'TheInbetweeners2', 'TheIncident', 'TheIncredibleArmyOfBrancaleone', 'TheIncredibleBurtWonderstone', 'TheIncredibleHulk', 'TheIncredibleMeltingMan', 'TheIncredibleMrLimpet', 'TheIncredibleShrinkingMan', 'TheIncrediblyStrangeCreatures', 'TheIncrediblyTrueAdventureOfTwoGirlsInLove', 'TheIndependent', 'TheIndestructibleMan', 'TheIndianInTheCupboard', 'TheInfernalAffairsTrilogy', 'TheInfidel', 'TheInfiltrator', 'TheInformant2009', 'TheInformer', 'TheInnOfTheSixthHappiness', 'TheInnerCircle', 'TheInnkeepers', 'TheInnocents', 'TheInquestOfPilotPirx', 'TheInsider', 'TheInsult', 'TheIntern', 'TheInternational', 'TheInternship', 'TheInterpreter', 'TheIntervention', 'TheIntervention1968', 'TheInterview', 'TheIntruder', 'TheIntruders', 'TheInvasion', 'TheInventionOfLying', 'TheInventorOutForBloodInSiliconValley', 'TheInvisible', 'TheInvisibleGuest', 'TheInvisibleMan', 'TheInvisibleManReturns', 'TheInvisibleManiac', 'TheInvisibleRay', 'TheInvisibleWar', 'TheInvisibleWoman1940', 'TheInvisibleWoman1983', 'TheInvitation', 'TheIpcressFile', 'TheIrishman', 'TheIronHorse', 'TheIronLady', 'TheIronMask', 'TheIronMask1962', 'TheIronyOfFate', 'TheIsland', 'TheIslandAtTheTopOfTheWorld', 'TheIslandOfDoctorMoreau', 'TheIsle', 'TheItalian', 'TheItalianJob1969', 'TheItalianJob2003', 'TheJackal', 'TheJacket', 'TheJaneAustenBookClub', 'TheJazzSinger', 'TheJerk', 'TheJourneyOfNattyGann', 'TheJudge', 'TheJungleBook', 'TheJungleBook2016', 'TheJurassicGames', 'TheKarateKid', 'TheKarateKid1984', 'TheKarateKid2010', 'TheKarateKidPartII', 'TheKarateKidPartIII', 'TheKeep', 'TheKegParty', 'TheKennelMurderCase', 'TheKentuckyFriedMovie', 'TheKeystoneCops', 'TheKid1921', 'TheKid2000', 'TheKidAndI', 'TheKidBrother', 'TheKidWhoWouldBeKing', 'TheKidsAreAllRight', 'TheKidsAreAlright', 'TheKidsGuideToTheInternet', 'TheKiller', 'TheKillerElite', 'TheKillerInsideMe', 'TheKillerShrews', 'TheKillers', 'TheKilling', 'TheKillingFields', 'TheKillingOfAChineseBookie', 'TheKillingOfASacredDeer', 'TheKillingOfJohnLennon', 'TheKillingOfSatan', 'TheKillingRoom', 'TheKingAndTheClown', 'TheKingOfComedy', 'TheKingOfKings', 'TheKingOfKong', 'TheKingdom2007', 'TheKingsChoice', 'TheKingsOfSummer', 'TheKingsSpeech', 'TheKiss', 'TheKiss1929', 'TheKiss1958', 'TheKissingBooth', 'TheKlansman', 'TheKnifeThatKilledMe', 'TheKnockout', 'TheLadiesGetTheirSay', 'TheLadiesMan', 'TheLadyEve', 'TheLadyFromShanghai', 'TheLadyVanishes', 'TheLadykillers1955', 'TheLadykillers2004', 'TheLairOfTheWhiteWorm', 'TheLandBeyondTheSunset', 'TheLandOfFarAway', 'TheLastAirbender', 'TheLastBoyScout', 'TheLastBroadcast', 'TheLastCastle', 'TheLastChanceDetectives', 'TheLastChase', 'TheLastCircus', 'TheLastCommand', 'TheLastDaysOfDisco', 'TheLastDaysOnMars', 'TheLastDetail', 'TheLastDinosaur', 'TheLastDragon', 'TheLastEmperor', 'TheLastExorcism', 'TheLastGangster', 'TheLastHardMen', 'TheLastHeist', 'TheLastHouseOnTheLeft', 'TheLastJedi', 'TheLastKingOfScotland', 'TheLastKiss', 'TheLastLaugh', 'TheLastLegion', 'TheLastLovecraftRelicOfCthulhu', 'TheLastManOnEarth', 'TheLastMetro', 'TheLastMimzy', 'TheLastMovie', 'TheLastOfMrsCheney', 'TheLastOfSheila', 'TheLastOfTheMohicans', 'TheLastPictureShow', 'TheLastProm', 'TheLastRemakeOfBeauGeste', 'TheLastSamurai', 'TheLastSeduction', 'TheLastShark', 'TheLastSharknadoItsAboutTime', 'TheLastSlumberParty', 'TheLastStand', 'TheLastStarfighter', 'TheLastSunset', 'TheLastSupper', 'TheLastTemptationOfChrist', 'TheLastValley', 'TheLastVoyage', 'TheLastWagon', 'TheLastWaltz', 'TheLastWar', 'TheLastWave', 'TheLastWillOfDrMabuse', 'TheLastWinter', 'TheLastWitchHunter', 'TheLateNightDoubleFeature', 'TheLavenderHillMob', 'TheLawnmowerMan', 'TheLayover', 'TheLazarusEffect', 'TheLeadShoes', 'TheLeagueOfExtraordinaryGentlemen', 'TheLeagueOfGentlemen', 'TheLearningTree', 'TheLedge', 'TheLeechWoman', 'TheLegacy', 'TheLegendOfAwesomestMaximus', 'TheLegendOfBaggerVance', 'TheLegendOfBillieJean', 'TheLegendOfBoggyCreek', 'TheLegendOfFrenchieKing', 'TheLegendOfHercules', 'TheLegendOfJohnnyLingo', 'TheLegendOfLobo', 'TheLegendOfLylahClare', 'TheLegendOfTarzan', 'TheLegendOfThe7GoldenVampires', 'TheLegendOfWasco', 'TheLegendOfZorro', 'TheLeopard', 'TheLeopardMan', 'TheLetter', 'TheLibertine', 'TheLibrarian', 'TheLifeAndDeathOf9413AHollywoodExtra', 'TheLifeAndDeathOfColonelBlimp', 'TheLifeAndDeathOfPeterSellers', 'TheLifeAndTimesOfJudgeRoyBean', 'TheLifeAndTimesOfRosieTheRiveter', 'TheLifeAquaticWithSteveZissou', 'TheLifeOfDavidGale', 'TheLifeOfEmileZola', 'TheLifeOfOharu', 'TheLightBetweenOceans', 'TheLightThatFailed', 'TheLimehouseGolem', 'TheLimey', 'TheLimitsOfControl', 'TheLincolnLawyer', 'TheLine', 'TheLinguiniIncident', 'TheLionKing2019', 'TheLionTheWitchAndTheWardrobe', 'TheLittleBather', 'TheLittleColonel', 'TheLittleDeath', 'TheLittleGirlWhoLivesDownTheLane', 'TheLittleHours', 'TheLittleMermaid2018', 'TheLittleRascals', 'TheLittleShopOfHorrors', 'TheLittlestRebel', 'TheLivesOfABengalLancer', 'TheLivesOfOthers', 'TheLivingDaylights', 'TheLivingDeadAtManchesterMorgue', 'TheLivingDesert', 'TheLivingEnd', 'TheLivingWake', 'TheLobster', 'TheLochNessHorror', 'TheLodger', 'TheLoneRanger', 'TheLonelinessOfTheLongDistanceRunner', 'TheLonelyGuy', 'TheLonelyLady', 'TheLonelyVilla', 'TheLoners', 'TheLongGoodFriday', 'TheLongGoodbye', 'TheLongHotSummer', 'TheLongKissGoodnight', 'TheLongShips', 'TheLongVoyageHome', 'TheLongWayHome', 'TheLongestDay', 'TheLongestRide', 'TheLongestYard', 'TheLookOfSilence', 'TheLookout', 'TheLordOfTheGStrings', 'TheLordOfTheRings', 'TheLordOfTheRingsTheFellowshipOfTheRing', 'TheLordOfTheRingsTheReturnOfTheKing', 'TheLordOfTheRingsTheTwoTowers', 'TheLordsOfSalem', 'TheLosers', 'TheLosers1970', 'TheLostBoys', 'TheLostCityOfZ', 'TheLostCoastTapes', 'TheLostContinent', 'TheLostPatrol', 'TheLostSkeletonOfCadavra', 'TheLostWeekend', 'TheLostWorld', 'TheLostWorld1998', 'TheLostWorldJurassicPark', 'TheLoveBug', 'TheLoveGuru', 'TheLoveLight', 'TheLoveNest', 'TheLoveOfSiam', 'TheLoveParade', 'TheLoveWitch', 'TheLovedOne', 'TheLovedOnes', 'TheLovelyBones', 'TheLover', 'TheLovesOfABlonde', 'TheLovesOfHercules', 'TheLowerDepths1957', 'TheLuckOfTheIrish', 'TheLuckiestGuyInTheWorld', 'TheLunchDate', 'TheLure', 'TheMachine', 'TheMachineGirl', 'TheMachinist', 'TheMadAdventuresOfRabbiJacob', 'TheMadMissManton', 'TheMadMonster', 'TheMadnessOfKingGeorge', 'TheMafiaKillsOnlyInTheSummer', 'TheMagdaleneSisters', 'TheMagicChristian', 'TheMagicSword', 'TheMagician', 'TheMagnificentAmbersons', 'TheMagnificentSeven1960', 'TheMagnificentSeven2016', 'TheMaidenHeist', 'TheMaids', 'TheMajestic', 'TheMajorAndTheMinor', 'TheMalibuBikiniShop', 'TheMalteseFalcon', 'TheMalteseFalcon1931', 'TheMamboKings', 'TheManFromEarth', 'TheManFromHongKong', 'TheManFromKangaroo', 'TheManFromLaramie', 'TheManFromNowhere', 'TheManFromSnowyRiver', 'TheManFromUNCLE2015', 'TheManInGrey', 'TheManInTheGlassBooth', 'TheManInTheIronMask', 'TheManInTheMoon', 'TheManInTheWhiteSuit', 'TheManWhoFellToEarth', 'TheManWhoInventedChristmas', 'TheManWhoKilledDonQuixote', 'TheManWhoKilledHitlerAndThenTheBigfoot', 'TheManWhoKnewTooLittle', 'TheManWhoKnewTooMuch', 'TheManWhoNeverWas', 'TheManWhoSavesTheWorld', 'TheManWhoSawTomorrow', 'TheManWhoShotLibertyValance', 'TheManWhoSoldTheWorld', 'TheManWhoSuedGod', 'TheManWhoWasntThere1983', 'TheManWhoWasntThere2001', 'TheManWhoWouldBeKing', 'TheManWithOneRedShoe', 'TheManWithTheGoldenArm', 'TheManWithTheGoldenGun', 'TheManWithTheIronFists', 'TheManWithTheIronHeart', 'TheManWithTwoBrains', 'TheManchurianCandidate', 'TheMangler', 'TheManhattanProject', 'TheMansion', 'TheMarine', 'TheMarkOfZorro', 'TheMarkOfZorro1940', 'TheMarriageChronicles', 'TheMarriageOfMariaBraun', 'TheMarryingKind', 'TheMarryingMan', 'TheMartian', 'TheMask', 'TheMaskOfFuManchu', 'TheMaskOfZorro', 'TheMasqueOfTheRedDeath', 'TheMaster', 'TheMasterMystery', 'TheMasterOfDisguise', 'TheMatchFactoryGirl', 'TheMatingCall', 'TheMatingHabitsOfTheEarthboundHuman', 'TheMatrix', 'TheMatrixReloaded', 'TheMatrixRevolutions', 'TheMazeRunner2014', 'TheMazeRunnerSeries', 'TheMechanic1972', 'TheMechanic2011', 'TheMeg', 'TheMemphisBelle', 'TheMenWhoStareAtGoats', 'TheMenWhoTreadOnTheTigersTail', 'TheMerryWidow1925', 'TheMerryWidow1934', 'TheMessenger', 'TheMessengerTheStoryOfJoanOfArc', 'TheMessengers', 'TheMeteorMan', 'TheMexican', 'TheMeyerowitzStories', 'TheMidnightMeatTrain', 'TheMightyDucks', 'TheMilagroBeanfieldWar', 'TheMilitaryPolicemanAndTheDismemberedBeauty', 'TheMilkyWay', 'TheMillAndTheCross', 'TheMillionPoundNote', 'TheMiracleOfMorgansCreek', 'TheMiracleSeason', 'TheMiracleWoman', 'TheMirror', 'TheMirrorHasTwoFaces', 'TheMisfits', 'TheMissing', 'TheMission', 'TheMolePeople', 'TheMollyMaguires', 'TheMoneyPit', 'TheMonolithMonsters', 'TheMonster', 'TheMonsterClub', 'TheMonsterMaker', 'TheMonsterOfPhantomLake', 'TheMonsterSquad', 'TheMonsterThatChallengedTheWorld', 'TheMonumentsMen', 'TheMoreTheMerrier', 'TheMortalInstrumentsCityOfBones', 'TheMortalStorm', 'TheMosquitoCoast', 'TheMostBeautiful1944', 'TheMothmanProphecies', 'TheMotorcycleDiaries', 'TheMountainOfTheCannibalGod', 'TheMountie', 'TheMouseThatRoared', 'TheMule', 'TheMummy1932', 'TheMummy1959', 'TheMummy1999', 'TheMummy2017', 'TheMummyReturns', 'TheMummyTombOfTheDragonEmperor', 'TheMummyTrilogy', 'TheMummysHand', 'TheMummysShroud', 'TheMuppetChristmasCarol', 'TheMuppetMovie', 'TheMuppetMusiciansOfBremen', 'TheMuppets', 'TheMuppetsTakeManhattan', 'TheMurderMan', 'TheMurdererLivesAtNumber21', 'TheMusicBox', 'TheMusicRoom', 'TheMusketeer', 'TheMusketeersOfPigAlley', 'TheMustang', 'TheMutilator', 'TheMysterians', 'TheMysteriousLady', 'TheMysteryOfHenriPick', 'TheMysteryOfTheHoodedHorsemen', 'TheMysteryOfTheLeapingFish', 'TheMyth', 'TheNailGunMassacre', 'TheNakedCity', 'TheNakedGun', 'TheNakedKiss', 'TheNakedPrey', 'TheNakedSpur', 'TheNakedTruth', 'TheNamesake', 'TheNannyDiaries', 'TheNastyGirl', 'TheNationalShotgun', 'TheNativityStory', 'TheNatural', 'TheNavigator', 'TheNeanderthalMan', 'TheNeedle', 'TheNegotiator', 'TheNegroSoldier', 'TheNeighbor', 'TheNeonDemon', 'TheNet1995', 'TheNet2016', 'TheNeverEndingStory', 'TheNeverendingStory', 'TheNewDaughter', 'TheNewGuy', 'TheNewLand', 'TheNewLegendOfShaolin', 'TheNewMutants', 'TheNewSpirit', 'TheNewTenants', 'TheNewYorkHat', 'TheNewYorkRipper', 'TheNextGenerationPatlabor', 'TheNextKarateKid', 'TheNextThreeDays', 'TheNibelungs', 'TheNiceGuys', 'TheNightBefore', 'TheNightComesForUs', 'TheNightEatsTheWorld', 'TheNightFlier', 'TheNightOfTheGenerals', 'TheNightOfTheGrizzly', 'TheNightOfTheHunter', 'TheNightPorter', 'TheNightTheLightsWentOutInGeorgia', 'TheNightmareNeverEnds', 'TheNines', 'TheNinjaMission', 'TheNinthConfiguration', 'TheNinthGate', 'TheNorthAvenueIrregulars', 'TheNorthStar', 'TheNotebook', 'TheNotoriousBettiePage', 'TheNovemberMan', 'TheNumber23', 'TheNumbersStation', 'TheNun', 'TheNunsStory', 'TheNutcrackerAndTheFourRealms', 'TheNutcrackerIn3D', 'TheNuttHouse', 'TheNuttyProfessor', 'TheNuttyProfessor1963', 'TheNuttyProfessor1996', 'TheObjectOfMyAffection', 'TheObjective', 'TheOceanWaif', 'TheOctagon', 'TheOddCouple1968', 'TheOddCoupleII', 'TheOddLifeOfTimothyGreen', 'TheOfficialStory', 'TheOldDarkHouse1932', 'TheOldDarkHouse1963', 'TheOldManAndTheGun', 'TheOmegaCode', 'TheOmegaMan', 'TheOmen', 'TheOmen1976', 'TheOmen2006', 'TheOne', 'TheOneILove', 'TheOnesBelow', 'TheOnionMovie', 'TheOnlySon', 'TheOogielovesInTheBigBalloonAdventure', 'TheOpenHouse', 'TheOppositeOfSex', 'TheOracle', 'TheOrator', 'TheOrder', 'TheOriginalKingsOfComedy', 'TheOrphanage', 'TheOscar', 'TheOtherBoleynGirl', 'TheOtherGuys', 'TheOtherMe', 'TheOtherSideOfHeaven', 'TheOtherSideOfHope', 'TheOtherSideOfSunday', 'TheOtherSideOfTheWind', 'TheOtherSister', 'TheOtherWoman', 'TheOtherWoman2014', 'TheOthers', 'TheOuting', 'TheOutlawAndHisWife', 'TheOutlawJoseyWales', 'TheOutlawMichaelHowe', 'TheOxBowIncident', 'TheOysterPrincess', 'ThePacifier', 'ThePact', 'ThePagan', 'ThePaintedHills', 'ThePaintedVeil', 'ThePaleface', 'ThePalmBeachStory', 'ThePanicInNeedlePark', 'ThePaper', 'ThePaperChase', 'TheParadineCase', 'TheParallaxView', 'TheParentTrap', 'TheParoleOfficer', 'TheParty', 'TheParty2017', 'ThePassage', 'ThePassage2018', 'ThePassageOfVenus', 'ThePassenger', 'ThePassionOfJoanOfArc', 'ThePassionOfTheChrist', 'ThePassionateFriends', 'ThePatriot', 'ThePatsy', 'ThePeacemaker', 'ThePeanutButterSolution', 'ThePelicanBrief', 'ThePenalty', 'ThePentagonWars', 'ThePeopleUnderTheStairs', 'ThePeopleVsLarryFlynt', 'ThePerezFamily', 'ThePerfectGuy', 'ThePerfectHost', 'ThePerfectMatch', 'ThePerfectScore', 'ThePerfectStorm', 'ThePerilsOfPauline', 'ThePest', 'ThePet', 'ThePetrifiedForest', 'ThePhantom1943', 'ThePhantom1996', 'ThePhantomCarriage', 'ThePhantomEmpire', 'ThePhantomMenace', 'ThePhantomOfCrestwood', 'ThePhantomOfParis', 'ThePhantomOfTheOpera1925', 'ThePhantomOfTheOpera1962', 'ThePhantomOfTheOpera1983', 'ThePhantomOfTheOpera1989', 'ThePhantomOfTheOpera2004', 'ThePhantomPlanet', 'ThePhiladelphiaExperiment', 'ThePhiladelphiaExperimentII', 'ThePhiladelphiaStory', 'ThePianist', 'ThePiano', 'ThePianoTeacher', 'ThePictureOfDorianGray1945', 'ThePilgrim', 'ThePinkPanther1963', 'ThePinkPanther2', 'ThePinkPanther2006', 'ThePinkPantherStrikesAgain', 'ThePirate', 'ThePirateMovie', 'ThePit', 'ThePitAndThePendulum', 'ThePixarStory', 'ThePlaceBeyondThePines', 'ThePlagueOfTheZombies', 'ThePlayersClub', 'ThePlayhouse', 'ThePledge', 'ThePlowThatBrokeThePlains', 'ThePokerHouse', 'ThePolkaKing', 'ThePool', 'ThePoorLittleRichGirl', 'ThePoseidonAdventure', 'ThePossession', 'ThePossessionOfMichaelKing', 'ThePost', 'ThePostman', 'ThePostmanAlwaysRingsTwice1946', 'ThePostmanAlwaysRingsTwice1981', 'ThePoughkeepsieTapes', 'ThePower1968', 'ThePowerAndTheGlory', 'ThePowerOfThePress', 'ThePredator', 'ThePresidentsAnalyst', 'ThePresidentsLastBang', 'ThePresidio', 'ThePrestige', 'ThePrettyOne', 'ThePrey', 'ThePrideOfTheYankees', 'ThePrince', 'ThePrinceAndMe', 'ThePrinceAndThePagodaBoy', 'ThePrinceAndTheShowgirl', 'ThePrinceOfTides', 'ThePrincessAndThePirate', 'ThePrincessBride', 'ThePrincessDiaries', 'ThePrincessSwitch', 'ThePrincipal', 'ThePrisonerOfZenda', 'ThePrivateEyes', 'ThePrivateLifeOfDonJuan', 'ThePrivateLifeOfHenryVIII', 'ThePrivateLifeOfSherlockHolmes', 'TheProdigal', 'TheProdigy2019', 'TheProducers', 'TheProfessional', 'TheProfessionals', 'TheProgram', 'TheProjectedMan', 'ThePromise2016', 'TheProphecy', 'TheProphecy3TheAscent', 'TheProphecyII', 'TheProposal', 'TheProposition', 'TheProwler', 'ThePublicEnemy', 'ThePublicPays', 'ThePumpkinKarver', 'ThePunisher1989', 'ThePunisher2004', 'ThePuppetMasters', 'ThePurchasePrice', 'ThePurge', 'ThePurgeAnarchy', 'ThePurgeElectionYear', 'ThePurgeSurvival', 'ThePurpleRoseOfCairo', 'ThePursuitOfHappyness', 'ThePyramid', 'TheQuake', 'TheQueen', 'TheQuest', 'TheQuickAndTheDead', 'TheQuiet', 'TheQuietEarth', 'TheQuietMan', 'TheQuietOnes', 'TheRM', 'TheRacket', 'TheRadiolandMurders', 'TheRageCarrie2', 'TheRageInPlacidLake', 'TheRaid', 'TheRaid2Berandal', 'TheRailrodder', 'TheRainPeople', 'TheRanger2018', 'TheRapture', 'TheRaven1935', 'TheRaven1963', 'TheRaven2012', 'TheRavenTrilogy', 'TheRawhideTerror', 'TheRazorsEdge', 'TheRealMacaw', 'TheReaping', 'TheRebel', 'TheRebelSet', 'TheRebound', 'TheRecklessMoment', 'TheRecruit', 'TheRedBalloon', 'TheRedBaron', 'TheRedKimono', 'TheRedShoes1948', 'TheRedShoes2005', 'TheRedSpectacles', 'TheRedViolin', 'TheReef', 'TheRef', 'TheRelic', 'TheReluctantDragon', 'TheReplacementKillers', 'TheReplacements2000', 'TheResurrectionOfBronchoBilly', 'TheReturn1980', 'TheReturn2003', 'TheReturnOfCaptainInvincible', 'TheReturnOfGodzilla', 'TheReturnOfMartinGuerre', 'TheReturnOfSwampThing', 'TheReturnOfTheLivingDead', 'TheReturnOfTheMusketeers', 'TheReturnOfThePinkPanther', 'TheReturnOfTheTallBlondMan', 'TheReturner', 'TheRevenant', 'TheRevengeOfFrankenstein', 'TheRevengers', 'TheRewrite', 'TheRezort', 'TheRibaldTalesOfRobinHood', 'TheRichMansWife', 'TheRichestCatInTheWorld', 'TheRightOne', 'TheRightStuff', 'TheRing', 'TheRing1927', 'TheRingTwo', 'TheRinger', 'TheRiseOfSkywalker', 'TheRisingOfTheMoon', 'TheRite', 'TheRitual', 'TheRiver1951', 'TheRiverWild', 'TheRoadToWellville', 'TheRoaringTwenties1939', 'TheRobe', 'TheRobotVsTheAztecMummy', 'TheRock', 'TheRocker', 'TheRocketBoy', 'TheRocketeer', 'TheRockyHorrorPictureShow', 'TheRockyHorrorPictureShowLetsDoTheTimeWarpAgain', 'TheRookie1990', 'TheRookie2002', 'TheRoom', 'TheRoommate', 'TheRose', 'TheRoughHouse', 'TheRover', 'TheRoyalTenenbaums', 'TheRuins', 'TheRulesOfTheGame', 'TheRulingClass', 'TheRumDiary', 'TheRunaways', 'TheRundown', 'TheRunningJumpingAndStandingStillFilm', 'TheRunningMan', 'TheRussiaHouse', 'TheRussiansAreComingTheRussiansAreComing', 'TheSMJudge', 'TheSabataTrilogy', 'TheSacrament', 'TheSacrifice', 'TheSaddestMusicInTheWorld', 'TheSaint1997', 'TheSaint2017', 'TheSaintLiesInWait', 'TheSalesman', 'TheSaltonSea', 'TheSalvation', 'TheSand', 'TheSandPebbles', 'TheSandlot', 'TheSantaClause', 'TheSantaTrap', 'TheSapphires', 'TheSaragossaManuscript', 'TheSaratovApproach', 'TheSatanicRitesOfDracula', 'TheScarOfShame', 'TheScarecrow', 'TheScarletAndTheBlack', 'TheScarletEmpress', 'TheScarletLetter', 'TheScarletPimpernel1934', 'TheScarletPimpernel1982', 'TheSchoolgirlsDiary', 'TheScienceOfSleep', 'TheScore', 'TheScorpionKing', 'TheScreamingSkull', 'TheScribbler', 'TheSeaHawk', 'TheSeaInside', 'TheSeaOfTrees', 'TheSearch', 'TheSearchers', 'TheSecretGarden1949', 'TheSecretGarden1993', 'TheSecretInTheirEyes', 'TheSecretLand', 'TheSecretLifeOfWalterMitty', 'TheSecretLifeOfWalterMitty1947', 'TheSecretOfMySuccess', 'TheSecretOfRoanInish', 'TheSecretOfTheMagicGourd', 'TheSecrets', 'TheSeeker', 'TheSentimentalBloke', 'TheSentinel', 'TheSerpentAndTheRainbow', 'TheServant', 'TheSessions', 'TheSevenUps', 'TheSevenYearItch', 'TheSeventhCompany', 'TheSeventhContinent', 'TheSeventhCurse', 'TheSeventhSeal', 'TheSexLifeOfThePolyp', 'TheShack', 'TheShadow', 'TheShaggyDog', 'TheShallows', 'TheShapeOfThingsToCome', 'TheShapeOfWater', 'TheShawshankRedemption', 'TheSheCreature', 'TheSheriffOfFracturedJaw', 'TheShining', 'TheShooting', 'TheShootist', 'TheShopAroundTheCorner', 'TheShopOnMainStreet', 'TheShopwornAngel', 'TheShore', 'TheShow', 'TheShrine', 'TheSidehackers', 'TheSiege', 'TheSiegeOfFirebaseGloria', 'TheSiegeOfJadotville', 'TheSignOfFourSherlockHolmesGreatestCase', 'TheSignal2007', 'TheSignal2014', 'TheSilence2019', 'TheSilenceOfTheHams', 'TheSilenceOfTheLambs', 'TheSilentChild', 'TheSilentHouse', 'TheSilentWorld', 'TheSilverCord', 'TheSinfulDwarf', 'TheSingingNun', 'TheSingleStandard', 'TheSingles2ndWard', 'TheSinglesWard', 'TheSingularityIsNear', 'TheSinisterUrge', 'TheSinnersOfHell', 'TheSisterhoodOfNight', 'TheSistersBrothers', 'TheSitter', 'TheSixthSense', 'TheSkeletonKey', 'TheSkeletonTwins', 'TheSkeptic', 'TheSkulls', 'TheSkydivers', 'TheSlamminSalmon', 'TheSlaughter', 'TheSlipperAndTheRose', 'TheSlumberPartyMassacre', 'TheSmilingLieutenant', 'TheSmurfs', 'TheSmurfs2', 'TheSnakePit', 'TheSnapper', 'TheSnowballExpress', 'TheSnowman2017', 'TheSocialNetwork', 'TheSoldier', 'TheSoloist', 'TheSonOfTheSheik', 'TheSongOfBernadette', 'TheSongRemainsTheSame', 'TheSonsOfKatieElder', 'TheSorcererAndTheWhiteSnake', 'TheSorcerersApprentice', 'TheSorrowAndThePity', 'TheSoundOfMusic', 'TheSpaceBetweenUs', 'TheSpaceChildren', 'TheSpanishApartment', 'TheSpanishPrisoner', 'TheSpecialist', 'TheSpecials', 'TheSpectacularNow', 'TheSpiralStaircase', 'TheSpirit', 'TheSpiritOfTheBeehive', 'TheSpyInBlack', 'TheSpyNextDoor', 'TheSpyWhoDumpedMe', 'TheSpyWhoLovedMe', 'TheSquare', 'TheSquare2013', 'TheSquawMan', 'TheSquidAndTheWhale', 'TheStarChamber', 'TheStarWarsHolidaySpecial', 'TheStarfighters', 'TheStarvingGames', 'TheStationAgent', 'TheStatueOfLiberty', 'TheSteelHelmet', 'TheStepfather', 'TheSting', 'TheStoneAngel', 'TheStoneTape', 'TheStoningOfSorayaM', 'TheStormRiders', 'TheStoryOfACheat', 'TheStoryOfGIJoe', 'TheStoryOfLouisPasteur', 'TheStoryOfO', 'TheStoryOfRobinHoodAndHisMerrieMen', 'TheStoryOfTempleDrake', 'TheStoryOfTheKellyGang', 'TheStoryOfTheWeepingCamel', 'TheStraightStory', 'TheStrangeLoveOfMarthaIvers', 'TheStrangeThingAboutTheJohnsons', 'TheStranger', 'TheStrangers', 'TheStrangersPreyAtNight', 'TheStranglerOfBlackmoorCastle', 'TheStrawberryBlonde', 'TheStreetFighter', 'TheStrongMan', 'TheStrongestManInTheWorld', 'TheStudentOfPrague', 'TheStudentPrinceInOldHeidelberg', 'TheStuff', 'TheStuntMan', 'TheSubstitute', 'TheSucker', 'TheSuckling', 'TheSugarlandExpress', 'TheSuicideTheory', 'TheSumOfAllFears', 'TheSundowners', 'TheSunsetLimited', 'TheSunshineBoys', 'TheSureThing', 'TheSurvivalist', 'TheSwan', 'TheSwap', 'TheSwarm', 'TheSweatbox', 'TheSweeney', 'TheSweetHereafter', 'TheSweetestThing', 'TheSwimmer', 'TheSwitch', 'TheSwordAndTheSorcerer', 'TheSwordOfDoom', 'TheSymbolOfTheUnconquered', 'TheTailorOfPanama', 'TheTakingOfBeverlyHills', 'TheTakingOfDeborahLogan', 'TheTakingOfPelhamOneTwoThree', 'TheTalentedMrRipley', 'TheTallBlondManWithOneBlackShoe', 'TheTallGuy', 'TheTallMan', 'TheTallT', 'TheTempest2010', 'TheTemptress', 'TheTenCommandments', 'TheTenCommandments1923', 'TheTenant', 'TheTerminal', 'TheTerminator', 'TheTerror', 'TheTerrorOfTinyTown', 'TheTerrorist', 'TheTestamentOfDrMabuse', 'TheTestamentsOfOneFoldAndOneShepherd', 'TheTexasChainSawMassacre1974', 'TheTexasChainsawMassacre1974', 'TheTexasChainsawMassacre2', 'TheTexasChainsawMassacre2003', 'TheTexasChainsawMassacreTheBeginning', 'TheTheoryOfEverything', 'TheThief', 'TheThiefOfBagdad1924', 'TheThiefOfBagdad1940', 'TheThieves', 'TheThinBlueLine', 'TheThinMan', 'TheThinRedLine', 'TheThing1982', 'TheThing2011', 'TheThingCalledLove', 'TheThingFromAnotherWorld', 'TheThingThatCouldntDie', 'TheThinning', 'TheThirdMan', 'TheThirdMurder', 'TheThirteenthFloor', 'TheThirteenthWarrior', 'TheThirtyNineSteps', 'TheThirtyThree', 'TheThomasCrownAffair1968', 'TheThomasCrownAffair1999', 'TheThompsons', 'TheThreeBrothers', 'TheThreeBurialsOfMelquiadesEstrada', 'TheThreeFacesOfEve', 'TheThreeLivesOfThomasina', 'TheThreeMusketeers1921', 'TheThreeMusketeers1948', 'TheThreeMusketeers1953', 'TheThreeMusketeers1961', 'TheThreeMusketeers1973', 'TheThreeMusketeers1993', 'TheThreeMusketeers2011', 'TheThreeStooges', 'TheThreeTreasures', 'TheTimeMachine1960', 'TheTimeMachine2002', 'TheTimeTravelers', 'TheTimesOfHarveyMilk', 'TheTingler', 'TheTitfieldThunderbolt', 'TheToDoList', 'TheTollOfTheSea', 'TheToolboxMurders', 'TheToothFairy', 'TheToothFairy2006', 'TheTortureChamberOfDrSadism', 'TheTourist', 'TheTournament', 'TheTower', 'TheToweringInferno', 'TheTown', 'TheTownThatDreadedSundown', 'TheToxicAvenger', 'TheToy', 'TheTraceyFragments', 'TheTrain', 'TheTramp', 'TheTransporter', 'TheTransporterRefueled', 'TheTreasureOfSilverLake', 'TheTreasureOfTheSierraMadre', 'TheTreeOfLife', 'TheTreeOfWoodenClogs', 'TheTrial', 'TheTribe', 'TheTrip', 'TheTripAcrossParis', 'TheTripToBountiful', 'TheTrollHunter', 'TheTrotsky', 'TheTroubleWithAngels', 'TheTroubleWithHarry', 'TheTrumanShow', 'TheTruth1960', 'TheTruthAboutCatsAndDogs', 'TheTruthAboutCharlie', 'TheTurkishGambit', 'TheTurningPoint', 'TheTurningPoint1945', 'TheTuxedo', 'TheTwilightSamurai', 'TheTwinsEffect', 'TheTwoFacesOfDrJekyll', 'TheUglyDachshund', 'TheUglyTruth', 'TheUltimateGift', 'TheUmbrellaCoup', 'TheUmbrellasOfCherbourg', 'TheUnborn', 'TheUncanny', 'TheUndead', 'TheUnearthly', 'TheUnholyThree', 'TheUninvited1944', 'TheUninvited2009', 'TheUnknown', 'TheUnsuspected', 'TheUntoldStory', 'TheUntouchables', 'TheUsualSuspects', 'TheVagabond', 'TheVagrant', 'TheValachiPapers', 'TheValleyOfBees', 'TheValleyOfGwangi', 'TheVampire', 'TheVampireBat', 'TheVampireLovers', 'TheVanishing', 'TheVerdict', 'TheVictors', 'TheViewAskewniverse', 'TheVikings', 'TheVillage', 'TheVillain', 'TheVillainess', 'TheViolentMen', 'TheViolentYears', 'TheVirginSpring', 'TheVisit', 'TheVisitation', 'TheVisitor', 'TheVisualBibleMatthew', 'TheVoices', 'TheVoid', 'TheVoormanProblem', 'TheVow', 'TheVoyageOfTheDawnTreader', 'TheWackiestShipInTheArmy', 'TheWackness', 'TheWagesOfFear', 'TheWailing', 'TheWalk', 'TheWall2017', 'TheWallsOfMalapaga', 'TheWanderers', 'TheWanderingEarth', 'TheWar', 'TheWarGame', 'TheWarLord', 'TheWarOfTheRoses', 'TheWarOfTheWorlds', 'TheWarWagon', 'TheWarZone', 'TheWard', 'TheWarlords', 'TheWarpedOnes', 'TheWarriorAndTheSorceress', 'TheWarriors', 'TheWarriorsWay', 'TheWash', 'TheWaspWoman', 'TheWatch', 'TheWatcher', 'TheWatcherInTheWoods', 'TheWaterDiviner', 'TheWaterHorseLegendOfTheDeep', 'TheWaterboy', 'TheWave', 'TheWave2015', 'TheWay2010', 'TheWayBack', 'TheWayOfTheGun', 'TheWayWayBack', 'TheWayWeWere', 'TheWeatherUnderground', 'TheWeb', 'TheWeddingBanquet', 'TheWeddingMarch', 'TheWeddingPlanner', 'TheWeddingRinger', 'TheWeddingSinger', 'TheWeddingVideo', 'TheWeek', 'TheWerewolfOfWashington', 'TheWhalesOfAugust', 'TheWhispererInDarkness', 'TheWhiteBalloon', 'TheWhiteRibbon', 'TheWhiteSister', 'TheWholeNineYards', 'TheWholeTownsTalking', 'TheWholeWideWorld', 'TheWicked', 'TheWickedLady', 'TheWickerMan1973', 'TheWickerMan2006', 'TheWife', 'TheWigglesMovie', 'TheWildAndTheBrave', 'TheWildAngels', 'TheWildBunch', 'TheWildGeese', 'TheWildHunt', 'TheWildOne', 'TheWildWorldOfBatwoman', 'TheWildcat', 'TheWind', 'TheWindAndTheLion', 'TheWindInTheWillows1996', 'TheWindThatShakesTheBarley', 'TheWindWillCarryUs', 'TheWindmillMassacre', 'TheWindow', 'TheWingOrTheThigh', 'TheWingsOfTheDove', 'TheWinningOfBarbaraWorth', 'TheWinningTeam', 'TheWinslowBoy', 'TheWinslowBoy1948', 'TheWistfulWidowOfWagonGap', 'TheWitch', 'TheWitchPartOneSubversion', 'TheWitches1966', 'TheWitchesHammer', 'TheWitchesOfEastwick', 'TheWitchesOfOz', 'TheWiz', 'TheWizard', 'TheWizardOfGore', 'TheWizardOfOz', 'TheWizardOfSpeedAndTime', 'TheWolfMan1941', 'TheWolfOfWallStreet', 'TheWolfhound', 'TheWolfman2010', 'TheWolfsCall', 'TheWolverine', 'TheWoman', 'TheWomanChaser', 'TheWomanInBlack', 'TheWomanInRed', 'TheWomanInTheWindow', 'TheWomanOfMyDreams', 'TheWomen', 'TheWonderfulIceCreamSuit', 'TheWonderfulWizardOfOz1910', 'TheWood', 'TheWoods', 'TheWoodsman', 'TheWords', 'TheWorldIsNotEnough', 'TheWorldOfHenryOrient', 'TheWorldOfKanako', 'TheWorldOfSuzieWong', 'TheWorldsEnd', 'TheWorldsGreatestAthlete', 'TheWorldsGreatestSinner', 'TheWraith', 'TheWreckingCrew', 'TheWrestler', 'TheWrongArmOfTheLaw', 'TheWrongBox', 'TheWrongGuy', 'TheWrongGuys', 'TheWrongMan', 'TheXFilesFightTheFuture', 'TheXFilesIWantToBelieve', 'TheYakuza', 'TheYearOfLivingDangerously', 'TheYearOfTheSexOlympics', 'TheYearsBetween', 'TheYellowHandkerchief', 'TheYoungGirlsOfRochefort', 'TheYoungMessiah', 'TheYoungOffenders', 'TheYoungOnes1961', 'TheYoungVictoria', 'TheZeroTheorem', 'TheZombieDiaries', 'TheatreOfBlood', 'TheirFinest', 'ThelmaAndLouise', 'Them', 'TheodoraGoesWild', 'TheodoreRex', 'ThereItIs', 'ThereWasACrookedMan', 'ThereWillBeBlood', 'TheresAlwaysVanilla', 'TheresNothingOutThere', 'TheresSomethingAboutMary', 'TheseFinalHours', 'They', 'TheyDiedWithTheirBootsOn', 'TheyDriveByNight', 'TheyLive', 'TheyLookLikePeople', 'TheyMadeMeACriminal', 'TheyMadeMeAFugitive', 'TheyMightBeGiants', 'TheySavedHitlersBrain', 'TheyShallNotGrowOld', 'TheyShootHorsesDontThey', 'TheyWereExpendable', 'Thief', 'ThievesLikeUs', 'ThingsChange', 'ThingsToCome', 'ThingsToDoInDenverWhenYoureDead', 'ThinkBig', 'ThinkLikeAMan', 'Thir13enGhosts', 'ThirdFingerLeftHand', 'ThirdManOnTheMountain', 'ThirdStar', 'Thirst', 'Thirteen', 'ThirteenAssassins', 'ThirteenDays', 'ThirteenFrightenedGirls', 'ThirteenGhosts', 'ThirteenGoingOnThirty', 'ThirteenHoursTheSecretSoldiersOfBenghazi', 'ThirteenMinutes', 'ThirteenSins', 'ThirteenThirteenThirteen', 'ThirteenWomen', 'ThirtyDaysOfNight', 'ThirtyMinutesOrLess', 'ThirtyOne', 'ThirtySecondsOverTokyo', 'ThirtySixHours1965', 'ThirtyThree', 'ThisBeautifulFantastic', 'ThisFilmIsNotYetRated', 'ThisGunForHire', 'ThisHouseHasPeopleInIt', 'ThisIs40', 'ThisIsEngland', 'ThisIsNotAMovie', 'ThisIsSpinalTap', 'ThisIsTheEnd', 'ThisIsWhereILeaveYou', 'ThisIsYourDeath', 'ThisIslandEarth', 'ThisMeansWar', 'ThisMustBeThePlace', 'Thor', 'ThorRagnarok', 'ThorTheDarkWorld', 'Thoroughbreds', 'ThoroughlyModernMillie', 'ThoseMagnificentMenInTheirFlyingMachines', 'ThouShaltNotKillExcept', 'Thoughtcrimes', 'ThousandYardStare', 'Threads', 'Three', 'ThreeAges', 'ThreeAmigos', 'ThreeBigMen', 'ThreeBillboardsOutsideEbbingMissouri', 'ThreeBrothers', 'ThreeCoinsInTheFountain', 'ThreeColorsTrilogy', 'ThreeDaysOfTheCondor', 'ThreeExtremes', 'ThreeFugitives', 'ThreeGodfathers', 'ThreeHundred', 'ThreeHundredRiseOfAnEmpire', 'ThreeIdenticalStrangers', 'ThreeIron', 'ThreeKings', 'ThreeMenAndABaby', 'ThreeNinjas', 'ThreeOClockHigh', 'ThreeOhThreeFearFaithRevenge', 'ThreeOnAMatch', 'ThreeSeasons', 'ThreeSmartGirls', 'ThreeTenToYuma1957', 'ThreeTenToYuma2007', 'ThreeTheHardWay', 'ThreeThousandMilesToGraceland', 'ThreeTimes', 'ThreeToTango', 'ThreeWiseGirls', 'ThreeWomen', 'ThrillSeekers', 'ThrillerACruelPicture', 'ThroneOfBlood', 'ThroughAGlassDarkly', 'ThrowMommaFromTheTrain', 'ThugsOfHindostan', 'Thumbsucker', 'ThunderOnTheHill', 'ThunderRoad', 'Thunderball', 'Thunderbird6', 'Thunderbirds', 'ThunderbirdsAreGo', 'ThunderboltAndLightfoot', 'Thunderheart', 'Thunderpants', 'Thunderstruck', 'Thursday', 'TiMER', 'Ticker', 'Ticks', 'Tideland', 'TiesThatBind2006', 'TiesThatBind2010', 'TigerBay', 'TigerCruise', 'Tigerland', 'TilliesPuncturedRomance', 'TiltTheBattleToSavePinball', 'TimAndEricsBillionDollarMovie', 'Timbuktu', 'TimeAfterTime', 'TimeBandits', 'TimeChanger', 'TimeChasers', 'TimeLapse', 'TimeOfTheApes', 'TimeOfTheWolf', 'TimePiece', 'TimeRunner', 'TimeWalker', 'Timecop', 'Timecop2TheBerlinDecision', 'Timeline', 'Timequest', 'TimeriderTheAdventureOfLyleSwann', 'TinCup', 'TinMen', 'TinkerTailorSoldierSpy', 'TinyTiptoes', 'TitForTat', 'Titanic1943', 'Titanic1953', 'Titanic1997', 'Titus', 'ToAllTheBoysIveLovedBefore', 'ToBeFatLikeMe', 'ToBeOrNotToBe', 'ToCatchAThief', 'ToCatchAYeti', 'ToDieFor', 'ToEachHisOwn', 'ToEndAllWars', 'ToHaveAndHaveNot', 'ToKillADragon', 'ToKillAMockingbird', 'ToLiveAndDieInLA', 'ToRomeWithLove', 'ToSirWithLove', 'ToSleepWithAnger', 'ToTheBone', 'ToTheLimit', 'ToTheWonder', 'ToWalkInvisible', 'ToWongFooThanksForEverythingJulieNewmar', 'Tobruk', 'TocToc', 'ToeiHeroDaishugo', 'Together', 'TokumeiSentaiGobustersReturnsVsDobutsuSentaiGobusters', 'TokumeiSentaiGobustersTheMovieProtectTheTokyoEnetower', 'TokumeiSentaiGobustersVsKaizokuSentaiGokaigerTheMovie', 'TokusouRoboJanperson', 'TokusouSentaiDekarangerTheMovieFullBlastAction', 'TokusouSentaiDekarangerVsAbaranger', 'TokyoChorus', 'TokyoDrifter', 'TokyoGorePolice', 'TokyoOlympiad', 'TokyoStory', 'TokyoTwilight', 'TokyoZombie', 'TolableDavid', 'TomAndHuck', 'TomJones', 'TomYumGoong', 'TombRaider2018', 'Tomboy', 'TombsOfTheBlindDead', 'Tombstone', 'TommyBoy', 'TomorrowIsForever', 'TomorrowNeverDies', 'TomorrowWhenTheWarBegan', 'Tomorrowland', 'TonganNinja', 'TonightYoureMine', 'TonyManero', 'TonyRome', 'TonyTakitani', 'TooBigToFail', 'TooFatTooFurious', 'TooLateForTears', 'TooManyCooks', 'TooManyHusbands', 'TooMuchTheRobotWithAHeart', 'TooMuchTooSoon', 'TooYoungToKiss', 'Toothless', 'Tootsie', 'TopDog', 'TopFive', 'TopGun', 'TopGunMaverick', 'TopHat', 'TopSecret', 'Topaz', 'Topaze', 'Topkapi', 'Topper', 'TopperReturns', 'TopsyTurvy', 'ToraToraTora', 'TorchSong1953', 'Torment', 'Tormented', 'Tormented2009', 'TornCurtain', 'Torque', 'Torrent', 'TotalRecall1990', 'TotalRecall2012', 'TouchOfEvil', 'TouchOfSatan', 'TouchezPasAuGrisbi', 'ToughGuysDontDance', 'TourDePharmacy', 'TouristTrap', 'Tovarich', 'TowerBlock', 'TowerHeist', 'TowerOfTerror', 'TownAndCountry', 'ToySoldiers', 'Toyland', 'Toys', 'TrackOfTheMoonBeast', 'TraderHorn', 'TradingMom', 'TradingPlaces', 'Traffic', 'TrafficInSouls', 'Trafic', 'TragedyGirls', 'TrailerParkOfTerror', 'TrainToBusan', 'TrainedToKillUSA', 'TrainingDay', 'Trainwreck', 'Traitor', 'Trance', 'Trancers', 'Transamerica', 'Transcendence', 'Transformers', 'TransformersAgeOfExtinction', 'TransformersDarkOfTheMoon', 'TransformersFilmSeries', 'TransformersRevengeOfTheFallen', 'TransformersTheLastKnight', 'Transmorphers', 'Trash', 'TrashHumpers', 'Trauma', 'TravelingSalesman', 'Traxx', 'TreasureIsland1934', 'TreasureIsland1950', 'TreasureIsland1990', 'TreasureOfTheAmazon', 'TreiFratideBelea', 'Tremors', 'Tremors2Aftershocks', 'Tremors3BackToPerfection', 'Tremors4TheLegendBegins', 'Tremors5Bloodlines', 'Tremors6AColdDayInHell', 'Trench11', 'Trespass', 'Trevor', 'TriadElection', 'TrialByJury', 'Triangle', 'TrickOrTreat', 'TrickRTreat', 'TrickyBrains', 'TrickyPeople', 'Trigger', 'TrilogyOfTerror', 'TrilogyOfTerrorII', 'Trinity', 'Triple9', 'TripleAgent', 'TripleFrontier', 'TristanAndIsolde', 'Tristana', 'TriumphOfTheWill', 'Troll', 'Troll2', 'TromasWar', 'TromeoAndJuliet', 'Tron', 'TronLegacy', 'TroopBeverlyHills', 'TropicThunder', 'TroubleInMind', 'TroubleInParadise', 'TroubleTheWater', 'TroubleWithTheCurve', 'Troy', 'TrueBeliever', 'TrueConfession', 'TrueGrit', 'TrueLegend', 'TrueLies', 'TrueLifeAdventures', 'TrueMemoirsOfAnInternationalAssassin', 'TrueRomance', 'TrueStories', 'TrulyMadlyDeeply', 'Trumbo', 'Trust', 'Truth2015', 'TruthIn24', 'TruthOrConsequencesNM', 'TruthOrDare', 'TruthOrDareACriticalMadness', 'TsogtTaij', 'Tsotsi', 'TuckerAndDaleVsEvil', 'TuckerTheManAndHisDream', 'Tully', 'Tumbleweed', 'TumblingDollOfFlesh', 'Tunnel', 'Tunnelvision', 'TurboKid', 'Turbulence', 'Turbulence2FearOfFlying', 'Turbulence3HeavyMetal', 'Turistas', 'TurkeyShoot', 'TurkishDelight', 'TurksAndCaicos', 'TurnLeftAtTheEndOfTheWorld', 'TurnLeftTurnRight', 'TurnMeOnDammit', 'Turnabout', 'TurnerAndHooch', 'TurtlesCanFly', 'Tusk', 'Twelve', 'TwelveAngryMen', 'TwelveAngryMen1997', 'TwelveMonkeys', 'TwelveOClockHigh', 'TwelveOhOnePM', 'TwelveRounds', 'TwelveToTheMoon', 'TwelveTwelveTwelve', 'TwelveYearsASlave', 'TwentiethCentury', 'TwentiethCenturyWomen', 'TwentyEightDays', 'TwentyEightDaysLater', 'TwentyEightMinuteEpic', 'TwentyEightWeeksLater', 'TwentyFeetFromStardom', 'TwentyFifthHour', 'TwentyFourEyes', 'TwentyFourHourPartyPeople', 'TwentyFourHoursToLive', 'TwentyMillionMilesToEarth', 'TwentyNineteenAfterTheFallOfNewYork', 'TwentyOne', 'TwentyOneAndOver', 'TwentyOneGrams', 'TwentyOneJumpStreet', 'TwentySevenDresses', 'TwentyThousandLeaguesUnderTheSea', 'TwentyTwentyTexasGladiators', 'TwentyTwo', 'TwentyTwoBullets', 'TwentyTwoJumpStreet', 'TwentyYearsAfter', 'TwilightZoneTheMovie', 'TwilightsLastGleaming', 'TwinPeaksFireWalkWithMe', 'TwinSitters', 'Twins', 'Twist', 'TwistOfFaith', 'Twisted2004', 'Twister', 'Twixt', 'Two4One', 'TwoArabianKnights', 'TwoBellmen', 'TwoBrothers', 'TwoCanPlayThatGame', 'TwoFacedWoman', 'TwoForTheRoad', 'TwoGuns', 'TwoGuysFromTexas', 'TwoHands', 'TwoHundredCigarettes', 'TwoHundredFortySevenFahrenheit', 'TwoHundredMotels', 'TwoLaneBlacktop', 'TwoMinuteWarning', 'TwoMulesForSisterSara', 'TwoOfAKind1983', 'TwoOrThreeThingsIKnowAboutHer', 'TwoRodeTogether', 'TwoSoldiers', 'TwoThirtySeven', 'TwoThousandAndNineLostMemories', 'TwoThousandAndOneASpaceTravesty', 'TwoThousandFortySix', 'TwoThousandManiacs', 'TwoThousandOneASpaceOdyssey', 'TwoThousandTenTheYearWeMakeContact', 'TwoThousandTwelve', 'TwoWomen', 'TwoXTwoNehaFive', 'Tyrannosaur', 'Tyson', 'Tystnaden', 'U571', 'UHF', 'USMarshals', 'USSIndianapolisMenOfCourage', 'UTurn', 'Ugetsu', 'Ugly', 'Ujala', 'UltramanSaga', 'UltramanStory', 'UltramanTheNext', 'UltramanZeroTheRevengeOfBelial', 'Ultraviolet', 'Ulvesommer', 'UmbertoD', 'UnChienAndalou', 'UnbelievableAdventuresOfItaliansInRussia', 'Unbreakable', 'Unbroken', 'Uncaged', 'UncleBoonmeeWhoCanRecallHisPastLives', 'UncleBuck', 'UncleSam', 'UncommonValor', 'Unconscious', 'Undead', 'UndeadOrAlive', 'Undefeatable', 'Undefeated', 'UnderCapricorn', 'UnderInvestigation', 'UnderSiege', 'UnderSiege2DarkTerritory', 'UnderTheCherryMoon', 'UnderTheRomanSky', 'UnderTheSilverLake', 'UnderTheSkin', 'UnderTheTree', 'UnderTheTuscanSun', 'UnderWesternStars', 'UndercoverBlues', 'UndercoverBrother', 'UndercoverKitty', 'Underdog', 'Underground', 'UnderseaKingdom', 'Underworld', 'Underworld1927', 'Underworld2003', 'Undisputed', 'UndisputedIIIRedemption', 'UndisputedIILastManStanding', 'Undocumented', 'UneFemmeDouce', 'UneFemmeEstUneFemme', 'UneditedFootageOfABear', 'Unfaithful', 'UnfaithfullyYours', 'UnfinishedBusiness', 'Unforgettable2017', 'Unforgiven', 'Unfriended', 'UnfriendedDarkWeb', 'UnicornCity', 'Uninhabited', 'Uninvited1988', 'UnionPacific', 'United93', 'UnitedPassions', 'UniversalSoldier', 'UniversalSoldier1992', 'UniversalSoldierDayOfReckoning', 'UniversalSoldierRegeneration', 'UniversalSoldierTheReturn', 'Unknown2006', 'Unknown2011', 'UnknownIsland', 'UnlawfulEntry', 'UnmaskedPart25', 'Unsane', 'Unstoppable', 'UntamedYouth', 'Unthinkable', 'UntilTheEndOfTheWorld', 'Untraceable', 'UominiContro', 'UpInSmoke', 'UpTheAcademy', 'UpTheCreek', 'Upgrade', 'Upldr', 'UpsideDown', 'UpstreamColor', 'UptownGirls', 'UrbanCowboy', 'UrbanExplorer', 'UrbanLegend', 'UrbanLegendsBloodyMary', 'UrbanLegendsFinalCut', 'Urge', 'Us', 'Ushpizin', 'Utoya22Juli', 'Utu', 'VForVendetta', 'VHS', 'VHS2', 'VHSViral', 'VIP', 'Vabank', 'Vacancy', 'VacanzeDiNatale2000', 'Vacation', 'VacationFromMarriage', 'Vagabond1985', 'Valentine', 'ValentinesDay', 'ValerianAndTheCityOfAThousandPlanets', 'ValerieAndHerWeekOfWonders', 'ValhallaRising', 'Validation', 'Valkyrie', 'ValleyGirl', 'Vamp', 'VampireAcademy', 'VampireCircus', 'VampireCopRicky', 'VampireGirlVsFrankensteinGirl', 'VampireInBrooklyn', 'Vampirella', 'VampiresKiss', 'VampiresSuck', 'Vampyr', 'VanDiemensLand', 'VanHelsing', 'VanWilder', 'VanillaSky', 'VanishingOnSeventhStreet', 'VanishingPoint', 'VanishingTime', 'VantagePoint', 'VaranTheUnbelievable', 'VarsityBlues', 'VaseDeNoces', 'VaultOfHorror', 'VegasVacation', 'VelvetBuzzsaw', 'VelvetGoldmine', 'VendettaForASamurai', 'VengeanceIsMine', 'Venom2005', 'Venom2018', 'VeraCruz', 'VeraDrake', 'VeronicaGuerin', 'VeronicaMars', 'VeronikaVoss', 'Versus', 'VerticalLimit', 'Vertigo', 'VeryBadThings', 'VeryNiceVeryNice', 'Vibes', 'Vice2015', 'Vice2018', 'ViceAcademy', 'ViceVersa', 'VickyCristinaBarcelona', 'Victim', 'VictimOfTheBrain', 'VictorFrankenstein', 'VictorVictoria', 'Victoria2015', 'Victories', 'Videodrome', 'Vidocq', 'Vigilante', 'VikingWomenAndTheSeaSerpent', 'Vikingdom', 'Vile', 'VilenessFats', 'VillageByTheRiver', 'VillageOfTheDamned1960', 'VillageOfTheDamned1995', 'VillageOfTheGiants', 'Vincent', 'VincentWantsToSea', 'ViolentSaturday', 'ViolentShit', 'VirginTerritory', 'VirginiaCity', 'Viridiana', 'VirtualCombat', 'VirtualSexuality', 'Virtue', 'Virtuosity', 'Virunga', 'Virus', 'VisasAndVirtue', 'Visioneers', 'Visions', 'VisitingHours', 'VisitorQ', 'VivaKnievel', 'VivaLasVegas', 'VivaMaria', 'VivaMax', 'VivaVilla', 'VivaZapata', 'ViveLAmour', 'VivreSaVie', 'Vlad', 'VladTepes', 'Vlog', 'VoiceFromTheStone', 'Volcano', 'Volunteers', 'Volver', 'VonRyansExpress', 'VowsOfDeceit', 'VoyageOfTheUnicorn', 'VoyageToTheBottomOfTheSea', 'Vulgar', 'W', 'WE2011', 'WNUFHalloweenSpecial', 'WRMysteriesOfTheOrganism', 'Waar', 'WagKangLilingon', 'WagTheDog', 'WagonsEast', 'WaistDeep', 'Waiting', 'WaitingForGuffman', 'Waitress', 'WakeInFright', 'WakeIsland', 'WakeMeWhenItsOver', 'WakeWood', 'WakingNedDevine', 'WakingSleepingBeauty', 'WalkDontRun', 'WalkHard', 'WalkOnWater', 'WalkTheLine', 'Walkabout', 'WalkingOnSunshine', 'WalkingTall1973', 'WalkingTall2004', 'WalkingVengeance', 'WallStreet', 'WallStreetMoneyNeverSleeps', 'Wanda', 'WangDeShengYan', 'Wanted', 'War', 'War2002', 'WarAndPeace1966', 'WarCraft2016', 'WarDog', 'WarDogs', 'WarForThePlanetOfTheApes', 'WarGames', 'WarGoddess', 'WarInc', 'WarMachine', 'WarOfTheColossalBeast', 'WarOfTheGargantuas', 'WarOfTheWorlds', 'WarRoom', 'WarWitch', 'Warlock', 'Warlock1959', 'WarlockIIITheEndOfInnocence', 'WarlockTheArmageddon', 'WarmBodies', 'WarmSprings', 'Warrior', 'WarriorOfTheLostWorld', 'WarriorsOfTerra', 'WarriorsOfTheWasteland', 'WarriorsOfVirtue', 'WarriorsofFuture', 'WartimeRomance', 'Wasabi', 'Wasp2003', 'WastingAway', 'WatchIt', 'WatchOnTheRhine', 'WatchOutWereMad', 'WatchingTheDetectives', 'Watchmen', 'Water1985', 'Waterloo', 'WaterlooBridge', 'WatermelonMan', 'Waterworld', 'Waxwork', 'WayDownEast', 'WayOfTheDragon', 'WayOutWest', 'Waydowntown', 'WaynesWorld', 'WeAreMarshall', 'WeAreStillHere', 'WeAreTheNight', 'WeAreWhatWeAre', 'WeAreYourFriends', 'WeBoughtAZoo', 'WeLeaveForEngland', 'WeNeedToTalkAboutKevin', 'WeWereSoldiers', 'WeddingCrashers', 'Wedlock', 'WeeSing', 'WeeWillieWinkie', 'Weekend', 'WeekendAtBernies', 'WeekendAtDunkirk', 'WeirdScience', 'WelcomeHome', 'WelcomeMrMarshall', 'WelcomeToDongmakgol', 'WelcomeToMarwen', 'WelcomeToTheDollhouse', 'WelcomeToTheJungle', 'WelcomeToThePunch', 'WelcomeToTheRileys', 'WelcomeToWoopWoop', 'Welp', 'WendyWuHomecomingWarrior', 'WerckmeisterHarmonies', 'WereNoAngels', 'WereTheMillers', 'WereTheWorldMine', 'WeresquitoNaziHunter', 'Werewolf', 'WerewolfOfLondon', 'WerewolfTheBeastAmongUs', 'WerewolvesOnWheels', 'WesCravensNewNightmare', 'WestBankStory', 'WestOfZanzibar', 'WestSideStory', 'Westfront1918', 'Westworld', 'WetHotAmericanSummer', 'WeveNeverBeenLicked', 'WhaleMusic', 'WhaleRider', 'WhatACarveUp', 'WhatAGirlWants', 'WhatAWayToGo', 'WhatAboutBob', 'WhatAboutJuvenileDelinquency', 'WhatDreamsMayCome', 'WhatEverHappenedToBabyJane', 'WhatHappenedToMonday', 'WhatHappensInVegas', 'WhatHaveYouDoneToSolange', 'WhatJustHappened', 'WhatKeepsYouAlive', 'WhatLiesBeneath', 'WhatPlanetAreYouFrom', 'WhatPriceHollywood', 'WhatRichardDid', 'WhatTheBleepDoWeKnow', 'WhatWeBecome', 'WhatWeDidOnOurHoliday', 'WhatWeDoInTheShadows', 'WhatWomenWant', 'WhateverWorks', 'WhatsCooking', 'WhatsEatingGilbertGrape', 'WhatsInAName', 'WhatsLoveGotToDoWithIt', 'WhatsNewPussycat', 'WhatsTheMatterWithHelen', 'WhatsTheWorstThatCouldHappen', 'WhatsUpDoc', 'WhatsUpTigerLily', 'WhatsYourNumber', 'Wheelman', 'WheelsOnMeals', 'WhenAKillerCalls', 'WhenAStrangerCalls', 'WhenDinosaursRuledTheEarth', 'WhenGoodGhoulsGoBad', 'WhenHarryMetSally', 'WhenInRome', 'WhenKnighthoodWasInFlower', 'WhenLadiesMeet', 'WhenTheBoughBreaks', 'WhenTimeRanOut', 'WhenTrumpetsFade', 'WhenWeFirstMet', 'WhenWeWereKings', 'WhenWillIBeLoved', 'WhenWorldsCollide', 'WhereAreMyChildren', 'WhereAreWeGoing', 'WhereChildrenPlay', 'WhereEaglesDare', 'WhereEastIsEast', 'WhereTheBoysAre', 'WhereTheBuffaloRoam', 'WhereTheHeartIs', 'WhereTheSidewalkEnds', 'WhereTheTruthLies', 'WheredYouGoBernadette', 'WheresPoppa', 'WhileTheCitySleeps', 'WhileYouWereSleeping', 'WhipIt', 'Whiplash', 'Whirlpool', 'WhiskeyTangoFoxtrot', 'WhisperingCorridors', 'WhistleDownTheWind', 'WhiteBimBlackEar', 'WhiteChicks', 'WhiteChristmas', 'WhiteDog', 'WhiteDwarf', 'WhiteFawnsDevotion', 'WhiteGod', 'WhiteHeat', 'WhiteHouseDown', 'WhiteMansBurden', 'WhiteMenCantJump', 'WhiteNights', 'WhiteOleander', 'WhiteShadowsInTheSouthSeas', 'WhiteSunOfTheDesert', 'WhiteTheMelodyOfTheCurse', 'WhiteTiger', 'WhiteZombie', 'Whiteout', 'WhoAmI', 'WhoAmI1998', 'WhoCanKillAChild', 'WhoFramedRogerRabbit', 'WhoKilledCaptainAlex', 'WhoKilledTheElectricCar', 'WhosAfraidOfVirginiaWoolf', 'WhosBeenSleepingInMyBed', 'WhosHarryCrumb', 'WhosSingingOverThere', 'WhosThatGirl', 'WhyBeGood', 'WhyDidIGetMarried', 'WhyDidIGetMarriedToo', 'WhyDontYouPlayInHell', 'WhyHim', 'WhyWorry', 'WickedLittleThings', 'WickerPark', 'Widow', 'Widows', 'WienerDog', 'WifeVsSecretary', 'Wild', 'WildAndWoolly', 'WildAtHeart', 'WildBeasts', 'WildBill', 'WildBoysOfTheRoad', 'WildCats', 'WildChild', 'WildHogs', 'WildOranges', 'WildOrchids', 'WildRebels', 'WildRiver', 'WildRose', 'WildSide', 'WildStrawberries', 'WildTales', 'WildTarget', 'WildThings', 'WildThings2', 'WildWildWest', 'WildWind', 'WildZero', 'WillSuccessSpoilRockHunter', 'Willard', 'WilliamShakespearesRomeoAndJuliet', 'Willow', 'WillowCreek', 'WillyWonkaAndTheChocolateFactory', 'Wilson', 'Wimbledon', 'WinADateWithTadHamilton', 'WinWin', 'Winchester', 'Winchester73', 'WindRiver', 'Windigo', 'Windtalkers', 'WindyCity', 'WingCommander', 'Wings', 'Wings1966', 'WingsOfDesire', 'WingsOverEverest', 'WinnetouI', 'WinnetouII', 'WinnetouIII', 'WinterKills', 'WinterLight', 'WinterOnFire', 'WintersBone', 'Wish143', 'WishUpon', 'WishUponAStar', 'WishYouWereHere', 'Wishmaster', 'Wishmaster2EvilNeverDies', 'Wishmaster3BeyondTheGatesOfHell', 'Wishmaster4TheProphecyFulfilled', 'Witchboard', 'WitchfinderGeneral', 'Witchouse', 'WithHonors', 'WithSixYouGetEggroll', 'Wither', 'WithinOurGates', 'WithnailAndI', 'WithoutAClue', 'WithoutAPaddle', 'WithoutWarning1980', 'WithoutWarning1994', 'Witness', 'WitnessForTheProsecution', 'Wittgenstein', 'WizardsOfTheDemonSword', 'WizardsOfTheLostKingdom', 'WizardsOfTheLostKingdom2', 'Wolf', 'WolfCreek', 'WolfGirl', 'Wolfcop', 'Wolfen', 'Wolfman', 'WomanInBlackAngelOfDeath', 'WomanInGold', 'WomanInTheDunes', 'WomanInTheMoon', 'WomanOfTheYear', 'WomanOnTheRun', 'Womb', 'WomenOfThePrehistoricPlanet', 'WomenOnTheVergeOfANervousBreakdown', 'WonderBoys', 'WonderWoman1974', 'WonderWoman2017', 'WonderWomen', 'Wonderland', 'Woodstock', 'WoodyWoodpecker', 'Wooshi', 'WordWars', 'WorkExperience', 'WorkingGirl', 'WorldWarThree', 'WorldWarZ', 'WorldWithoutSun', 'WorldsGreatestDad', 'WouldYouRather', 'Wrestlemaniac', 'WristcuttersALoveStory', 'WrittenOnTheWind', 'WrongTurn', 'WrongTurn2DeadEnd', 'WrongTurn3LeftForDead', 'WrongTurn4BloodyBeginnings', 'WrongTurn5Bloodlines', 'WrongTurn6LastResort', 'WrongfullyAccused', 'WuDang', 'WutheringHeights', 'Wyrmwood', 'X2XMenUnited', 'XChange', 'XMarksTheSpot', 'XMen1', 'XMenApocalypse', 'XMenDaysOfFuturePast', 'XMenFilmSeries', 'XMenFirstClass', 'XMenOriginsWolverine', 'XMenTheLastStand', 'XPlusY', 'XX', 'XXY', 'XXx', 'XXxReturnOfXanderCage', 'XXxStateOfTheUnion', 'Xanadu', 'Xtro', 'YTuMamaTambien', 'Yakuza', 'YakuzaGraveyard', 'YamashitaTheTigersTreasure', 'Yamato', 'YamatoTakeru', 'Yambao', 'YankeeDoodleDandy', 'YankeeZulu', 'YearOne', 'Yeelen', 'YehJawaaniHaiDeewani', 'YellowBrickRoad', 'Yellowbeard', 'Yentl', 'YesMan', 'Yesterday2002', 'Yesterday2004', 'Yesterday2019', 'YesterdayOnceMore', 'YesterdayTodayAndTomorrow', 'YesterdayWasALie', 'YetiALoveStory', 'YiYi', 'YogaHosers', 'YogiBear', 'YogiBearAndTheMagicalFlightOfTheSpruceGoose', 'Yojimbo', 'Yolki', 'YongaryMonsterFromTheDeep', 'YorTheHunterFromTheFuture', 'YouAgain', 'YouAreHere', 'YouDontMessWithTheZohan', 'YouMeAndDupree', 'YouNaztySpy', 'YouNeverDreamed', 'YouOnlyLiveTwice', 'YouOughtToBeInPictures', 'YouWereNeverReallyHere', 'YouWillMeetATallDarkStranger', 'YoungAdult', 'YoungAndDangerous', 'YoungAtHeart1955', 'YoungAtHeart2007', 'YoungBess', 'YoungDoctorsInLove', 'YoungEinstein', 'YoungFrankenstein', 'YoungGuns', 'YoungGunsII', 'YoungLadyChatterleyII', 'YoungMansFancy', 'YoungMrLincoln', 'YoungSherlockHolmes', 'YourHighness', 'YourSistersSister', 'YoureNext', 'YoursMineAndOurs', 'YouthInRevolt', 'YouthOfTheBeast', 'YouthWithoutYouth', 'YouveGotMail', 'Yuma1971', 'Z', 'ZForZachariah', 'ZPG', 'ZStorm', 'ZabriskiePoint', 'ZackAndMiriMakeAPorno', 'Zama', 'Zapped', 'Zapped2014', 'Zardoz', 'Zathura', 'Zatoichi2003', 'Zebraman', 'Zeiram', 'Zelig', 'Zenon', 'Zero', 'ZeroDarkThirty', 'ZeroDay', 'ZeroEffect', 'ZeroFocus', 'ZeroForConduct', 'ZeroHour', 'ZeroMotivation', 'ZeusAndRoxanne', 'ZiegfeldGirl', 'ZindyTheSwampBoy', 'Zodiac', 'Zombi2', 'Zombi3D', 'ZombieAssToiletOfTheDead', 'ZombieBloodBath', 'ZombieCop', 'ZombieNightmare', 'ZombieStrippers', 'ZombieWars', 'Zombieland', 'ZombielandDoubleTap', 'Zombies2018', 'ZombiesAnonymous', 'Zonad', 'ZontarTheThingFromVenus', 'Zoo', 'Zookeeper', 'Zoolander', 'Zoolander2', 'Zoom2015', 'ZoomAcademyForSuperheroes', 'Zoombies', 'ZorbaTheGreek', 'Zulu', 'Zurich', 'ZusAndZo', 'Zwartboek', 'Zygote', 'ZyudenSentaiKyoryuger100YearsAfter', 'ZyudenSentaiKyoryugerGaburinchoOfMusic', 'ZyudenSentaiKyoryugerVsGobusters', 'ZyzzyxRoad'])"
      ]
     },
     "execution_count": 10,
     "metadata": {},
     "output_type": "execute_result"
    }
   ],
   "source": [
    "tvtropes_json_dict.keys()"
   ]
  },
  {
   "cell_type": "markdown",
   "metadata": {},
   "source": [
    "## Parse and pre-process movie script text,\n",
    "\n",
    "1. Parse json files with movie scripts and store them in a dict with movie name as key and script as value\n",
    "2. Additionally, preprocess the movie script text by converting them to lowercase  "
   ]
  },
  {
   "cell_type": "code",
   "execution_count": 11,
   "metadata": {},
   "outputs": [],
   "source": [
    "all_raw_movie_dialogs = defaultdict()\n",
    "all_preprocess_movie_dialogs = defaultdict()\n",
    "movie_trope_dict = defaultdict()\n",
    "CUSTOM_FILTERS = [lambda x: x.lower(), remove_stopwords, strip_punctuation, strip_short]\n",
    "\n",
    "for movie_row in movie_tropes_df.iterrows():\n",
    "    movie = movie_row[1].Movies\n",
    "    genre = movie_row[1].Genre\n",
    "    movie_filename = movie + '.json'\n",
    "    movie_dialog_list = []\n",
    "    movie_json_data = load_json_movie_dialog_file(genre, movie_filename)\n",
    "    # Parse movie dialogs and preprocess text\n",
    "    all_raw_movie_dialogs[movie] = parse_movie_dialog_data(movie_json_data)\n",
    "    all_raw_movie_dialogs[movie]['movie_dialog_list'] = []\n",
    "    \n",
    "#     for dialog in all_raw_movie_dialogs[movie]['dialogs_list']:\n",
    "#         movie_dialog_list += preprocess_string(dialog, CUSTOM_FILTERS)\n",
    "#         all_raw_movie_dialogs[movie]['movie_dialog_list'].append(list(movie_dialog_list))\n",
    "    \n",
    "    preprocess_movie_dialog = preprocess_string(all_raw_movie_dialogs[movie]['dialogs'], CUSTOM_FILTERS)\n",
    "    if len(preprocess_movie_dialog) > 0:\n",
    "        all_preprocess_movie_dialogs[movie] = preprocess_movie_dialog\n",
    "\n",
    "    # Collect list of tropes for the movie\n",
    "        movie_trope_dict[movie] = tvtropes_json_dict[movie_row[1].Tropes]"
   ]
  },
  {
   "cell_type": "code",
   "execution_count": 12,
   "metadata": {},
   "outputs": [
    {
     "data": {
      "text/plain": [
       "'CLOSE ON a Horimono Tattoo as it is being drawn into flesh. The ink is needled into the surface of the skin, raw and bloody, the needled brush tapped with the precision of ritual. The tattoo is in the style of a Kuniyoshi print: Miyamoto Musashi thrusting his spear into the writhing dragon. The image has beauty but retains the violence required to saturate flesh with art. The skin canvas shifts uncomfortably with the needle- work.'"
      ]
     },
     "execution_count": 12,
     "metadata": {},
     "output_type": "execute_result"
    }
   ],
   "source": [
    "all_raw_movie_dialogs['ninjaassassin']['dialogs_list'][0]"
   ]
  },
  {
   "cell_type": "code",
   "execution_count": 13,
   "metadata": {},
   "outputs": [
    {
     "data": {
      "text/plain": [
       "['ninjaassassin',\n",
       " 'landofthedead',\n",
       " 'meninblack3',\n",
       " 'perfectcreature',\n",
       " 'ghostandthedarknessthe']"
      ]
     },
     "execution_count": 13,
     "metadata": {},
     "output_type": "execute_result"
    }
   ],
   "source": [
    "list(all_raw_movie_dialogs.keys())[:5]"
   ]
  },
  {
   "cell_type": "code",
   "execution_count": 14,
   "metadata": {},
   "outputs": [
    {
     "data": {
      "text/plain": [
       "Movies    newsies\n",
       "Tropes    Newsies\n",
       "Genre      Family\n",
       "Name: 1595, dtype: object"
      ]
     },
     "execution_count": 14,
     "metadata": {},
     "output_type": "execute_result"
    }
   ],
   "source": [
    "movie_row[1]"
   ]
  },
  {
   "cell_type": "code",
   "execution_count": 15,
   "metadata": {},
   "outputs": [],
   "source": [
    "tropes_per_genre = defaultdict(list)\n",
    "movie_genre_list = []\n",
    "for movie_row in movie_tropes_df.iterrows():\n",
    "    movie = movie_row[1].Movies\n",
    "    genre = movie_row[1].Genre\n",
    "    movie_genre_list.append(genre)\n",
    "    if len(tvtropes_json_dict[movie_row[1].Tropes]) > 0:\n",
    "        tropes_per_genre[genre].append(len(tvtropes_json_dict[movie_row[1].Tropes])) "
   ]
  },
  {
   "cell_type": "code",
   "execution_count": 16,
   "metadata": {},
   "outputs": [
    {
     "name": "stdout",
     "output_type": "stream",
     "text": [
      "Action: 180.09923664122138, 146.5, 7, 843\n",
      "Drama: 77.03384615384616, 58.0, 1, 416\n",
      "Thriller: 98.9746835443038, 78.0, 12, 354\n",
      "Comedy: 103.82608695652173, 81.5, 11, 338\n",
      "Crime: 248.0, 248.0, 248, 248\n",
      "Adventure: 262.0, 262.0, 240, 284\n",
      "Sci-Fi: 78.33333333333333, 43.0, 20, 172\n",
      "Horror: 76.28571428571429, 57.0, 17, 144\n",
      "Animation: 11.0, 11.0, 11, 11\n",
      "Family: 70.0, 70.0, 70, 70\n"
     ]
    }
   ],
   "source": [
    "for genre, tropes in tropes_per_genre.items():\n",
    "    print(f\"{genre}: {np.mean(tropes)}, {np.median(tropes)}, {np.min(tropes)}, {np.max(tropes)}\")"
   ]
  },
  {
   "cell_type": "code",
   "execution_count": 17,
   "metadata": {},
   "outputs": [
    {
     "data": {
      "text/plain": [
       "Counter({'Action': 263,\n",
       "         'Drama': 327,\n",
       "         'Thriller': 79,\n",
       "         'Comedy': 92,\n",
       "         'Crime': 1,\n",
       "         'Adventure': 2,\n",
       "         'Sci-Fi': 3,\n",
       "         'Horror': 7,\n",
       "         'Animation': 1,\n",
       "         'Family': 1})"
      ]
     },
     "execution_count": 17,
     "metadata": {},
     "output_type": "execute_result"
    }
   ],
   "source": [
    "Counter(list(movie_genre_list))"
   ]
  },
  {
   "cell_type": "code",
   "execution_count": 18,
   "metadata": {},
   "outputs": [
    {
     "data": {
      "text/plain": [
       "(720, 720)"
      ]
     },
     "execution_count": 18,
     "metadata": {},
     "output_type": "execute_result"
    }
   ],
   "source": [
    "len(movie_trope_dict), len(all_preprocess_movie_dialogs)"
   ]
  },
  {
   "cell_type": "markdown",
   "metadata": {},
   "source": [
    "## Get list of all unique tropes per movie"
   ]
  },
  {
   "cell_type": "code",
   "execution_count": 19,
   "metadata": {},
   "outputs": [],
   "source": [
    "unique_tropes_set = list()\n",
    "for tropes in movie_trope_dict.values():\n",
    "    unique_tropes_set += list(set(tropes))\n",
    "    \n",
    "# Get movie count per trope\n",
    "tropes_count_dict = Counter(unique_tropes_set)"
   ]
  },
  {
   "cell_type": "code",
   "execution_count": 20,
   "metadata": {},
   "outputs": [],
   "source": [
    "# Select tropes which appear in at least min_trope_count movies\n",
    "min_movie_per_trope_count = 1\n",
    "tropes_subset_list = list()\n",
    "for trope, count in tropes_count_dict.items():\n",
    "    if count >= min_movie_per_trope_count:\n",
    "        tropes_subset_list.append(trope)"
   ]
  },
  {
   "cell_type": "code",
   "execution_count": 21,
   "metadata": {},
   "outputs": [
    {
     "name": "stdout",
     "output_type": "stream",
     "text": [
      "Number of tropes present in at least 1 movies: 14683\n"
     ]
    }
   ],
   "source": [
    "print(f'Number of tropes present in at least {min_movie_per_trope_count} movies: {len(tropes_subset_list)}')"
   ]
  },
  {
   "cell_type": "markdown",
   "metadata": {},
   "source": [
    "## Train TF-IDF vectors and train xgboost classifier"
   ]
  },
  {
   "cell_type": "code",
   "execution_count": 22,
   "metadata": {},
   "outputs": [],
   "source": [
    "def train_eval_classifiers(X_train, X_test, y_train, y_test, classifier = 'xgb', \n",
    "                           multi_output = False, n_estimators = 100) -> np.array:\n",
    "    if classifier == 'xgb':\n",
    "        _fit = XGBClassifier(eval_metric='logloss', use_label_encoder=False, n_estimators=n_estimators)\n",
    "    elif classifier == 'rf':\n",
    "        _fit = RandomForestClassifier(n_estimators=n_estimators)\n",
    "\n",
    "    if multi_output:\n",
    "        classifier = MultiOutputClassifier(estimator=_fit)\n",
    "        classifier.fit(X_train, y_train)\n",
    "        y_hat = mutli_out_classifier.predict(X_test)\n",
    "        auc_class = np.zeros(len(y_test[0]))\n",
    "        for i in range(len(y_test[0])):\n",
    "            auc_class[i] = roc_auc_score(y_test[:, i],y_hat[:, i])\n",
    "    else:\n",
    "        _fit.fit(X_train, y_train)\n",
    "        y_hat = _fit.predict_proba(X_test)\n",
    "        auc_class = roc_auc_score(y_test,y_hat[:, 1])\n",
    "\n",
    "    return auc_class"
   ]
  },
  {
   "cell_type": "markdown",
   "metadata": {},
   "source": [
    "## Remove movies with trope count less than threshold"
   ]
  },
  {
   "cell_type": "code",
   "execution_count": 23,
   "metadata": {},
   "outputs": [
    {
     "name": "stdout",
     "output_type": "stream",
     "text": [
      "avengersthe2012 has no tropes in json file\n",
      "autumninnewyork has no tropes in json file\n",
      "bigbluethe has no tropes in json file\n"
     ]
    }
   ],
   "source": [
    "# For each movie filter out tropes which appear in less than min_trope_count movies\n",
    "movie_tropes_subset_dict = defaultdict()\n",
    "for movie, trope in movie_trope_dict.items():\n",
    "    movie_tropes_subset_dict[movie] = list(set(tropes_subset_list).intersection(set(trope)))\n",
    "    if len(movie_tropes_subset_dict[movie]) == 0:\n",
    "        print(f'{movie} has no tropes in json file')"
   ]
  },
  {
   "cell_type": "code",
   "execution_count": 24,
   "metadata": {},
   "outputs": [
    {
     "data": {
      "text/plain": [
       "(720, 720)"
      ]
     },
     "execution_count": 24,
     "metadata": {},
     "output_type": "execute_result"
    }
   ],
   "source": [
    "len(movie_tropes_subset_dict), len(all_preprocess_movie_dialogs)"
   ]
  },
  {
   "cell_type": "code",
   "execution_count": 25,
   "metadata": {},
   "outputs": [
    {
     "name": "stdout",
     "output_type": "stream",
     "text": [
      "0\n"
     ]
    }
   ],
   "source": [
    "script_length = []\n",
    "count = 0\n",
    "for movie_name, script in all_preprocess_movie_dialogs.items():\n",
    "    script_length.append(len(script))\n",
    "    if len(script)==0:\n",
    "#         print(movie_name)\n",
    "#         print(script)\n",
    "        count += 1\n",
    "print(count)"
   ]
  },
  {
   "cell_type": "code",
   "execution_count": 26,
   "metadata": {},
   "outputs": [
    {
     "data": {
      "text/plain": [
       "(11175.259722222223, 67, 25095, 2579.4650442463476)"
      ]
     },
     "execution_count": 26,
     "metadata": {},
     "output_type": "execute_result"
    }
   ],
   "source": [
    "np.mean(script_length), np.min(script_length), np.max(script_length), np.std(script_length)"
   ]
  },
  {
   "cell_type": "markdown",
   "metadata": {},
   "source": [
    "## Split new set of documents into train and test set"
   ]
  },
  {
   "cell_type": "code",
   "execution_count": null,
   "metadata": {},
   "outputs": [],
   "source": [
    "# Sort tropes by their frequency count\n",
    "tropes_sorted_by_movie_count = {k: v for k, v in sorted(tropes_count_dict.items(), key=lambda item: item[1], reverse=True)}\n",
    "list(tropes_sorted_by_movie_count.keys())[:5], list(tropes_sorted_by_movie_count.values())[:5]"
   ]
  },
  {
   "cell_type": "code",
   "execution_count": null,
   "metadata": {},
   "outputs": [],
   "source": [
    "multi_label = MultiLabelBinarizer()\n",
    "y = multi_label.fit_transform([set(movie_tropes) for movie_tropes in movie_tropes_subset_dict.values()])\n",
    "y.shape"
   ]
  },
  {
   "cell_type": "code",
   "execution_count": 27,
   "metadata": {},
   "outputs": [
    {
     "data": {
      "text/plain": [
       "1384"
      ]
     },
     "execution_count": 27,
     "metadata": {},
     "output_type": "execute_result"
    }
   ],
   "source": [
    "max_features = [100]\n",
    "\n",
    "rf_estimators = 200\n",
    "xgb_estimators = 200\n",
    "multi_output = False\n",
    "\n",
    "trope_of_interest = \"BittersweetEnding\"\n",
    "\n",
    "multi_label = MultiLabelBinarizer()\n",
    "y = multi_label.fit_transform([set(movie_tropes) for movie_tropes in movie_tropes_subset_dict.values()])\n",
    "trope_idx = list(multi_label.classes_).index(trope_of_interest)\n",
    "trope_idx"
   ]
  },
  {
   "cell_type": "code",
   "execution_count": 37,
   "metadata": {},
   "outputs": [
    {
     "data": {
      "text/plain": [
       "(array([  4,   5,   6,  14,  17,  18,  19,  31,  37,  40,  43,  46,  47,\n",
       "         49,  50,  53,  54,  55,  59,  61,  62,  78,  79,  87,  89,  90,\n",
       "         91,  93,  95,  98, 101, 107, 109, 110, 113, 117, 118, 122, 123,\n",
       "        125, 129, 137, 140, 143, 145, 146, 148, 149, 154, 156, 158, 159,\n",
       "        161, 167, 168, 173, 177, 178, 179, 182, 183, 193, 195, 197, 198,\n",
       "        204, 206, 207, 209, 210, 220, 228, 229, 240, 242, 244, 249, 250,\n",
       "        252, 253, 255, 258, 261, 267, 274, 275, 280, 285, 287, 288, 293,\n",
       "        299, 303, 305, 308, 309, 311, 316, 322, 323, 324, 325, 327, 330,\n",
       "        331, 335, 337, 339, 342, 343, 353, 354, 361, 363, 364, 368, 371,\n",
       "        373, 379, 382, 384, 390, 391, 395, 401, 402, 408, 409, 419, 420,\n",
       "        422, 423, 424, 425, 427, 428, 429, 432, 438, 440, 441, 442, 448,\n",
       "        452, 453, 456, 459, 474, 475, 478, 485, 492, 500, 507, 510, 511,\n",
       "        513, 518, 519, 528, 531, 532, 534, 535, 542, 546, 554, 559, 577,\n",
       "        586, 588, 589, 594, 595, 596, 601, 603, 605, 606, 613, 615, 616,\n",
       "        620, 624, 631, 632, 637, 652, 661, 665, 700, 701, 702, 704, 706,\n",
       "        707, 711, 716]),)"
      ]
     },
     "execution_count": 37,
     "metadata": {},
     "output_type": "execute_result"
    }
   ],
   "source": [
    "np.where(y[:, trope_idx]==1)"
   ]
  },
  {
   "cell_type": "code",
   "execution_count": 38,
   "metadata": {},
   "outputs": [
    {
     "data": {
      "text/plain": [
       "['ninjaassassin',\n",
       " 'landofthedead',\n",
       " 'meninblack3',\n",
       " 'maxpayne',\n",
       " 'savingprivateryan',\n",
       " 'vforvendetta',\n",
       " 'programthe',\n",
       " 'next',\n",
       " 'jasonx',\n",
       " 'hudsonhawk']"
      ]
     },
     "execution_count": 38,
     "metadata": {},
     "output_type": "execute_result"
    }
   ],
   "source": [
    "list(all_preprocess_movie_dialogs.keys())[:10]"
   ]
  },
  {
   "cell_type": "code",
   "execution_count": 40,
   "metadata": {},
   "outputs": [
    {
     "data": {
      "text/plain": [
       "['ninjaassassin',\n",
       " 'landofthedead',\n",
       " 'meninblack3',\n",
       " 'maxpayne',\n",
       " 'savingprivateryan',\n",
       " 'vforvendetta',\n",
       " 'programthe',\n",
       " 'next',\n",
       " 'jasonx',\n",
       " 'hudsonhawk']"
      ]
     },
     "execution_count": 40,
     "metadata": {},
     "output_type": "execute_result"
    }
   ],
   "source": [
    "list(movie_tropes_subset_dict.keys())[:10]"
   ]
  },
  {
   "cell_type": "code",
   "execution_count": 44,
   "metadata": {},
   "outputs": [
    {
     "data": {
      "text/plain": [
       "['AFatherToHisMen',\n",
       " 'ARealManIsAKiller',\n",
       " 'Adorkable',\n",
       " 'AgeCut',\n",
       " 'AllGermansAreNazis',\n",
       " 'AllThereInTheManual',\n",
       " 'AlliterativeName',\n",
       " 'AlwaysABiggerFish',\n",
       " 'AmericaWonWorldWarII',\n",
       " 'AnyoneCanDie',\n",
       " 'ArchEnemy',\n",
       " 'ArmorIsUseless',\n",
       " 'ArtisticLicenseHistory',\n",
       " 'AudienceSurrogate',\n",
       " 'BadassAndChildDuo',\n",
       " 'BadassCrew',\n",
       " 'BaitAndSwitch',\n",
       " 'BaldOfEvil',\n",
       " 'BandOfBrothers',\n",
       " 'BigBadassBattleSequence',\n",
       " 'BilingualBonus',\n",
       " 'BittersweetEnding',\n",
       " 'BlackComedy',\n",
       " 'BlackGuyDiesFirst',\n",
       " 'BloodStainedLetter',\n",
       " 'BloodlessCarnage',\n",
       " 'BookEnds',\n",
       " 'BoomHeadshot',\n",
       " 'BoringButPractical',\n",
       " 'BottomlessMagazines',\n",
       " 'Bowdlerize',\n",
       " 'BreakTheCutie',\n",
       " 'BrokenTears',\n",
       " 'BrooklynRage',\n",
       " 'BulletSparks',\n",
       " 'BulletproofHumanShield',\n",
       " 'BulletproofVest',\n",
       " 'ButtMonkey',\n",
       " 'CallBack',\n",
       " 'CallForward',\n",
       " 'CameraAbuse',\n",
       " 'CannedOrdersOverLoudspeaker',\n",
       " 'CaptainSmoothAndSergeantRough',\n",
       " 'ChekhovsArmory',\n",
       " 'ChekhovsGunman',\n",
       " 'ChekhovsSkill',\n",
       " 'CherubicChoir',\n",
       " 'ClusterFBomb',\n",
       " 'ColdSniper',\n",
       " 'CompressedAdaptation',\n",
       " 'ConcealmentEqualsCover',\n",
       " 'Confessional',\n",
       " 'ContemplateOurNavels',\n",
       " 'CorrelationCausationGag',\n",
       " 'CunningLinguist',\n",
       " 'DarkerAndEdgier',\n",
       " 'DeathByIrony',\n",
       " 'DeathNotification',\n",
       " 'DiesWideOpen',\n",
       " 'DirtyCoward',\n",
       " 'DistractedFromDeath',\n",
       " 'DontCallMeSir',\n",
       " 'DramaticSitDown',\n",
       " 'DuringTheWar',\n",
       " 'DwindlingParty',\n",
       " 'EarnYourHappyEnding',\n",
       " 'EliteMooks',\n",
       " 'ElitesAreMoreGlamorous',\n",
       " 'EvenEvilHasStandards',\n",
       " 'EveryBulletIsATracer',\n",
       " 'EverybodyHasStandards',\n",
       " 'EverybodysDeadDave',\n",
       " 'ExplosiveStupidity',\n",
       " 'FamousLastWords',\n",
       " 'FatherToHisMen',\n",
       " 'FinalBattle',\n",
       " 'FlamethrowerBackfire',\n",
       " 'Foreshadowing',\n",
       " 'FramedForHeroism',\n",
       " 'FramingDevice',\n",
       " 'FreezeFrameBonus',\n",
       " 'FriendlySniper',\n",
       " 'GagBoobs',\n",
       " 'GeneralFailure',\n",
       " 'GloryHound',\n",
       " 'GoodNewsBadNews',\n",
       " 'Gorn',\n",
       " 'GrenadeHotPotato',\n",
       " 'GunshipRescue',\n",
       " 'HandSignals',\n",
       " 'HarmlessVillain',\n",
       " 'HeroicBSOD',\n",
       " 'HeroicSacrifice',\n",
       " 'HollywoodTactics',\n",
       " 'HomageShot',\n",
       " 'HonorBeforeReason',\n",
       " 'HopeSpot',\n",
       " 'IWantMyMommy',\n",
       " 'ImprovisedWeapon',\n",
       " 'InsertGrenadeHere',\n",
       " 'InstantDeathBullet',\n",
       " 'IronicEcho',\n",
       " 'ItNeverGetsAnyEasier',\n",
       " 'JitterCam',\n",
       " 'JustFollowingOrders',\n",
       " 'JustPlaneWrong',\n",
       " 'Justified',\n",
       " 'JustifiedTrope',\n",
       " 'KillEmAll',\n",
       " 'KnifeFight',\n",
       " 'KnightInSourArmor',\n",
       " 'LanguageBarrier',\n",
       " 'LastOfHisKind',\n",
       " 'LastRequest',\n",
       " 'LastStand',\n",
       " 'LudicrousGibs',\n",
       " 'MST3KMantra',\n",
       " 'MacGuffin',\n",
       " 'MadeOfPlasticine',\n",
       " 'ManBitesMan',\n",
       " 'ManOnFire',\n",
       " 'ManlyTears',\n",
       " 'MemeticMutation',\n",
       " 'MercyKill',\n",
       " 'MexicanStandoff',\n",
       " 'MilitaryAndWarfareTropes',\n",
       " 'MistakenIdentity',\n",
       " 'MoeGreeneSpecial',\n",
       " 'MohsScaleOfViolenceHardness',\n",
       " 'MoodWhiplash',\n",
       " 'Mook',\n",
       " 'MultipleChoicePast',\n",
       " 'MundaneMacGuffinPerson',\n",
       " 'MyGodWhatHaveIDone',\n",
       " 'NaiveNewcomer',\n",
       " 'NamesTheSame',\n",
       " 'NeedleInAStackOfNeedles',\n",
       " 'NewMeat',\n",
       " 'NoGoodDeedGoesUnpunished',\n",
       " 'NoOneGetsLeftBehind',\n",
       " 'NotWorthKilling',\n",
       " 'ObligatoryWarCrimeScene',\n",
       " 'ObstacleExposition',\n",
       " 'OffWithHisHead',\n",
       " 'OhCrap',\n",
       " 'OneLiner',\n",
       " 'OneSteveLimit',\n",
       " 'OnlyAFleshWound',\n",
       " 'PatrioticFervor',\n",
       " 'PinkMist',\n",
       " 'PinnedDown',\n",
       " 'PreWarCivilianCareer',\n",
       " 'PrecisionFStrike',\n",
       " 'ProperlyParanoid',\n",
       " 'RealLife',\n",
       " 'RealityHasNoSubtitles',\n",
       " 'RealityIsUnrealistic',\n",
       " 'Reconstruction',\n",
       " 'RedHerring',\n",
       " 'Retirony',\n",
       " 'RuleOfDrama',\n",
       " 'SceneryGorn',\n",
       " 'ScopeSnipe',\n",
       " 'SergeantRock',\n",
       " 'ShellShockSilence',\n",
       " 'ShellShockedVeteran',\n",
       " 'ShootTheMedicFirst',\n",
       " 'ShotInTheAss',\n",
       " 'ShoutOut',\n",
       " 'ShownTheirWork',\n",
       " 'SoldiersAtTheRear',\n",
       " 'SonOfAWhore',\n",
       " 'SpoilerOpening',\n",
       " 'SteelEarDrums',\n",
       " 'StickyBomb',\n",
       " 'StormingTheBeaches',\n",
       " 'StressVomit',\n",
       " 'SurrenderBackfire',\n",
       " 'SuspiciouslySmallArmy',\n",
       " 'TakeAMomentToCatchYourDeath',\n",
       " 'TakeAThirdOption',\n",
       " 'TankGoodness',\n",
       " 'TanksButNoTanks',\n",
       " 'TearJerker',\n",
       " 'ThatsWhatIWouldDo',\n",
       " 'TheCavalry',\n",
       " 'TheDeadHaveNames',\n",
       " 'TheHeart',\n",
       " 'TheMedic',\n",
       " 'TheNeidermeyer',\n",
       " 'TheNewTens',\n",
       " 'TheNineties',\n",
       " 'TheOner',\n",
       " 'TheReveal',\n",
       " 'TheScourgeOfGod',\n",
       " 'TheSiege',\n",
       " 'TheSquad',\n",
       " 'ThereIsNoKillLikeOverkill',\n",
       " 'ThoseWackyNazis',\n",
       " 'ThrowingYourGunAtTheEnemy',\n",
       " 'TitleDrop',\n",
       " 'TooDumbToLive',\n",
       " 'TookALevelInBadass',\n",
       " 'TranslationConvention',\n",
       " 'TropeCodifier',\n",
       " 'TrueCompanions',\n",
       " 'TruthInTelevision',\n",
       " 'TurnOfTheMillennium',\n",
       " 'UngratefulBastard',\n",
       " 'UnspokenPlanGuarantee',\n",
       " 'UrbanWarfare',\n",
       " 'VerbingNouny',\n",
       " 'VeryLooselyBasedOnATrueStory',\n",
       " 'VideoGames',\n",
       " 'WarIsHell',\n",
       " 'WarMemorial',\n",
       " 'WarMovies',\n",
       " 'WhatHappenedToTheMouse',\n",
       " 'WhatTheHellHero',\n",
       " 'WhatYouAreInTheDark',\n",
       " 'WhyDontYouJustShootHim',\n",
       " 'WouldntHurtAChild',\n",
       " 'YouShallNotPass',\n",
       " 'YourPrincessIsInAnotherCastle']"
      ]
     },
     "execution_count": 44,
     "metadata": {},
     "output_type": "execute_result"
    }
   ],
   "source": [
    "movie_tropes_subset_dict['savingprivateryan']"
   ]
  },
  {
   "cell_type": "code",
   "execution_count": 57,
   "metadata": {},
   "outputs": [],
   "source": [
    "X_train_docs, X_test_docs, y_train, y_test, train_idx, test_idx = train_test_split(list(all_preprocess_movie_dialogs.values()), \n",
    "                                                                      y[:, trope_idx], np.arange(len(all_preprocess_movie_dialogs)), train_size=0.8, \n",
    "                                                                      stratify=y[:, trope_idx])\n"
   ]
  },
  {
   "cell_type": "code",
   "execution_count": 58,
   "metadata": {},
   "outputs": [
    {
     "data": {
      "text/plain": [
       "(array([  0,   3,   8,  10,  17,  20,  21,  33,  36,  40,  41,  45,  48,\n",
       "         51,  52,  55,  60,  71,  74,  75,  76,  82,  83,  86,  89,  93,\n",
       "         95, 102, 103, 105, 106, 108, 116, 117, 118, 122, 124, 127, 139,\n",
       "        140]),)"
      ]
     },
     "execution_count": 58,
     "metadata": {},
     "output_type": "execute_result"
    }
   ],
   "source": [
    "np.where(y_test==1)"
   ]
  },
  {
   "cell_type": "code",
   "execution_count": 59,
   "metadata": {},
   "outputs": [],
   "source": [
    "X_train_tfidf_docs = [' '.join(list(x)) for x in X_train_docs]\n",
    "X_test_tfidf_docs = [' '.join(list(x)) for x in X_test_docs]\n",
    "\n",
    "tfidf_fit = TfidfVectorizer(max_features=200, ngram_range=(1, 2), stop_words='english').fit(raw_documents=X_train_tfidf_docs)\n",
    "X_tfidf_train_vec = tfidf_fit.transform(X_train_tfidf_docs)\n",
    "X_tfidf_test_vec = tfidf_fit.transform(X_test_tfidf_docs)"
   ]
  },
  {
   "cell_type": "code",
   "execution_count": 60,
   "metadata": {},
   "outputs": [],
   "source": [
    "rf_fit = RandomForestClassifier().fit(X_tfidf_train_vec, y_train)\n",
    "y_pred = rf_fit.predict_proba(X_tfidf_test_vec)"
   ]
  },
  {
   "cell_type": "code",
   "execution_count": 61,
   "metadata": {},
   "outputs": [
    {
     "data": {
      "text/plain": [
       "array([ 35,  68,  20, 122,  48, 128,  13, 121,  54,  21,  11,  22,  52,\n",
       "        87,  50, 139,  92,  98,  78, 109,  63,  66,  47,  33,  16,  15,\n",
       "        56, 133,  12, 101,  30,  37,  18,  26,  86,   0, 116,  10,  23,\n",
       "        57,  93, 141,  88,  53,  97,  34,  41, 110,   6,  42,  74, 105,\n",
       "       140,  58,  31,  43, 129,  77, 111, 131,  82,  27,  28,  32,   3,\n",
       "        73,  71,  84, 138,   8, 142,  19,  40,  62, 107, 119,  59,  60,\n",
       "         4, 113, 134, 127,  36,  94,  89, 130, 112,  75, 136,  95,  38,\n",
       "       123,  90, 126,  14, 106,  83, 104, 103,  25, 120,  45, 115,  99,\n",
       "         9,   5,  55, 114,  17,  44,  80,  72,  51,  64, 102,  69,  96,\n",
       "       135,  24,   2, 132, 137,  70, 100,  39,  65, 117, 124,   7,  46,\n",
       "         1, 143, 125,  29,  79,  91,  85, 118, 108,  67,  76,  81,  49,\n",
       "        61])"
      ]
     },
     "execution_count": 61,
     "metadata": {},
     "output_type": "execute_result"
    }
   ],
   "source": [
    "np.argsort(y_pred[:, 1])[::-1]"
   ]
  },
  {
   "cell_type": "code",
   "execution_count": 162,
   "metadata": {},
   "outputs": [
    {
     "data": {
      "text/plain": [
       "(1, 47, array([0.62, 0.38]))"
      ]
     },
     "execution_count": 162,
     "metadata": {},
     "output_type": "execute_result"
    }
   ],
   "source": [
    "movie_idx = 33\n",
    "y_test[movie_idx], test_idx[movie_idx], y_pred[movie_idx,]"
   ]
  },
  {
   "cell_type": "code",
   "execution_count": 163,
   "metadata": {},
   "outputs": [
    {
     "data": {
      "text/plain": [
       "'crouchingtigerhiddendragon'"
      ]
     },
     "execution_count": 163,
     "metadata": {},
     "output_type": "execute_result"
    }
   ],
   "source": [
    "movie_trope = list(all_preprocess_movie_dialogs.keys())[test_idx[movie_idx]]\n",
    "movie_trope"
   ]
  },
  {
   "cell_type": "code",
   "execution_count": 164,
   "metadata": {},
   "outputs": [],
   "source": [
    "movie_dialog_list = []\n",
    "y_movie_pred = []\n",
    "for dialog in all_raw_movie_dialogs[movie_trope]['dialogs_list']:\n",
    "    movie_dialog_list += preprocess_string(dialog, CUSTOM_FILTERS)\n",
    "    if len(movie_dialog_list) > 0:\n",
    "        movie_dialog_tfidf = tfidf_fit.transform([' '.join(movie_dialog_list)])\n",
    "        y_movie_pred.append(rf_fit.predict_proba(movie_dialog_tfidf)[:, 1])"
   ]
  },
  {
   "cell_type": "code",
   "execution_count": 165,
   "metadata": {},
   "outputs": [
    {
     "data": {
      "image/png": "[encoded data removed]",
      "text/plain": [
       "<Figure size 432x288 with 1 Axes>"
      ]
     },
     "metadata": {
      "needs_background": "light"
     },
     "output_type": "display_data"
    }
   ],
   "source": [
    "plt.plot(np.arange(len(y_movie_pred)), y_movie_pred, label='Dialog preidctions')\n",
    "plt.xlabel(\"Dialog Sequence\")\n",
    "plt.ylabel(\"Prediction Score\")\n",
    "plt.axhline(y_pred[movie_idx,][1], color='red', linestyle='--', label='Script prediction')\n",
    "plt.legend(loc='upper right')\n",
    "plt.title(f\"Dialog-by-dialog vs. Script Prediction for movie: {movie_trope}\")\n",
    "plt.show()"
   ]
  },
  {
   "cell_type": "code",
   "execution_count": 89,
   "metadata": {},
   "outputs": [
    {
     "data": {
      "text/plain": [
       "'Black and white. Street scene. People toing and froing. man rattles by.'"
      ]
     },
     "execution_count": 89,
     "metadata": {},
     "output_type": "execute_result"
    }
   ],
   "source": [
    "all_raw_movie_dialogs[movie]['dialogs_list'][1]"
   ]
  },
  {
   "cell_type": "code",
   "execution_count": 106,
   "metadata": {},
   "outputs": [
    {
     "name": "stdout",
     "output_type": "stream",
     "text": [
      "['black', 'white', 'street', 'scene', 'people', 'toing', 'froing', 'man', 'rattles']\n"
     ]
    }
   ],
   "source": [
    "dialog = 'Black and white. Street scene. People toing and froing. man rattles by.'\n",
    "preprocess_dialog = preprocess_string(dialog, CUSTOM_FILTERS)\n",
    "movie_dialog_tfidf = tfidf_fit.transform([' '.join(preprocess_dialog)])\n",
    "print(preprocess_dialog)"
   ]
  },
  {
   "cell_type": "code",
   "execution_count": 107,
   "metadata": {},
   "outputs": [
    {
     "data": {
      "text/plain": [
       "<1x200 sparse matrix of type '<class 'numpy.float64'>'\n",
       "\twith 5 stored elements in Compressed Sparse Row format>"
      ]
     },
     "execution_count": 107,
     "metadata": {},
     "output_type": "execute_result"
    }
   ],
   "source": [
    "movie_dialog_tfidf"
   ]
  },
  {
   "cell_type": "code",
   "execution_count": 108,
   "metadata": {},
   "outputs": [
    {
     "data": {
      "text/plain": [
       "(<1x200 sparse matrix of type '<class 'numpy.float64'>'\n",
       " \twith 5 stored elements in Compressed Sparse Row format>,\n",
       " array([[0.44, 0.56]]))"
      ]
     },
     "execution_count": 108,
     "metadata": {},
     "output_type": "execute_result"
    }
   ],
   "source": [
    "movie_dialog_tfidf, rf_fit.predict_proba(movie_dialog_tfidf)"
   ]
  },
  {
   "cell_type": "code",
   "execution_count": 95,
   "metadata": {},
   "outputs": [
    {
     "data": {
      "text/plain": [
       "['Black and white. Street scene. People toing and froing. man rattles by.']"
      ]
     },
     "execution_count": 95,
     "metadata": {},
     "output_type": "execute_result"
    }
   ],
   "source": [
    "[dialog]"
   ]
  },
  {
   "cell_type": "code",
   "execution_count": 84,
   "metadata": {},
   "outputs": [
    {
     "data": {
      "image/png": "[encoded data removed]",
      "text/plain": [
       "<Figure size 432x288 with 1 Axes>"
      ]
     },
     "metadata": {
      "needs_background": "light"
     },
     "output_type": "display_data"
    }
   ],
   "source": []
  },
  {
   "cell_type": "code",
   "execution_count": 168,
   "metadata": {
    "scrolled": false
   },
   "outputs": [
    {
     "name": "stdout",
     "output_type": "stream",
     "text": [
      "Train: 576, test: 144\n",
      "BittersweetEnding: train ([418 158]), test ([104  40])\n",
      "Train: 576, test: 144\n",
      "BittersweetEnding: train ([418 158]), test ([104  40])\n",
      "Train: 576, test: 144\n",
      "BittersweetEnding: train ([418 158]), test ([104  40])\n",
      "Train: 576, test: 144\n",
      "BittersweetEnding: train ([418 158]), test ([104  40])\n",
      "Train: 576, test: 144\n",
      "BittersweetEnding: train ([418 158]), test ([104  40])\n",
      "Train: 576, test: 144\n",
      "BittersweetEnding: train ([418 158]), test ([104  40])\n",
      "Train: 576, test: 144\n",
      "BittersweetEnding: train ([418 158]), test ([104  40])\n",
      "Train: 576, test: 144\n",
      "BittersweetEnding: train ([418 158]), test ([104  40])\n",
      "Train: 576, test: 144\n",
      "BittersweetEnding: train ([418 158]), test ([104  40])\n",
      "Train: 576, test: 144\n",
      "BittersweetEnding: train ([418 158]), test ([104  40])\n",
      "Features: 100, RF: 0.5528725961538462, XGB: 0.5422115384615385\n",
      "Train: 576, test: 144\n",
      "BittersweetEnding: train ([418 158]), test ([104  40])\n",
      "Train: 576, test: 144\n",
      "BittersweetEnding: train ([418 158]), test ([104  40])\n",
      "Train: 576, test: 144\n",
      "BittersweetEnding: train ([418 158]), test ([104  40])\n",
      "Train: 576, test: 144\n",
      "BittersweetEnding: train ([418 158]), test ([104  40])\n",
      "Train: 576, test: 144\n",
      "BittersweetEnding: train ([418 158]), test ([104  40])\n",
      "Train: 576, test: 144\n",
      "BittersweetEnding: train ([418 158]), test ([104  40])\n",
      "Train: 576, test: 144\n",
      "BittersweetEnding: train ([418 158]), test ([104  40])\n",
      "Train: 576, test: 144\n",
      "BittersweetEnding: train ([418 158]), test ([104  40])\n",
      "Train: 576, test: 144\n",
      "BittersweetEnding: train ([418 158]), test ([104  40])\n",
      "Train: 576, test: 144\n",
      "BittersweetEnding: train ([418 158]), test ([104  40])\n",
      "Features: 200, RF: 0.5763822115384616, XGB: 0.5802884615384615\n",
      "Train: 576, test: 144\n",
      "BittersweetEnding: train ([418 158]), test ([104  40])\n",
      "Train: 576, test: 144\n",
      "BittersweetEnding: train ([418 158]), test ([104  40])\n",
      "Train: 576, test: 144\n",
      "BittersweetEnding: train ([418 158]), test ([104  40])\n",
      "Train: 576, test: 144\n",
      "BittersweetEnding: train ([418 158]), test ([104  40])\n",
      "Train: 576, test: 144\n",
      "BittersweetEnding: train ([418 158]), test ([104  40])\n",
      "Train: 576, test: 144\n",
      "BittersweetEnding: train ([418 158]), test ([104  40])\n",
      "Train: 576, test: 144\n",
      "BittersweetEnding: train ([418 158]), test ([104  40])\n",
      "Train: 576, test: 144\n",
      "BittersweetEnding: train ([418 158]), test ([104  40])\n",
      "Train: 576, test: 144\n",
      "BittersweetEnding: train ([418 158]), test ([104  40])\n",
      "Train: 576, test: 144\n",
      "BittersweetEnding: train ([418 158]), test ([104  40])\n",
      "Features: 500, RF: 0.5631850961538463, XGB: 0.5481490384615385\n",
      "Train: 576, test: 144\n",
      "BittersweetEnding: train ([418 158]), test ([104  40])\n",
      "Train: 576, test: 144\n",
      "BittersweetEnding: train ([418 158]), test ([104  40])\n",
      "Train: 576, test: 144\n",
      "BittersweetEnding: train ([418 158]), test ([104  40])\n",
      "Train: 576, test: 144\n",
      "BittersweetEnding: train ([418 158]), test ([104  40])\n",
      "Train: 576, test: 144\n",
      "BittersweetEnding: train ([418 158]), test ([104  40])\n",
      "Train: 576, test: 144\n",
      "BittersweetEnding: train ([418 158]), test ([104  40])\n",
      "Train: 576, test: 144\n",
      "BittersweetEnding: train ([418 158]), test ([104  40])\n",
      "Train: 576, test: 144\n",
      "BittersweetEnding: train ([418 158]), test ([104  40])\n",
      "Train: 576, test: 144\n",
      "BittersweetEnding: train ([418 158]), test ([104  40])\n",
      "Train: 576, test: 144\n",
      "BittersweetEnding: train ([418 158]), test ([104  40])\n",
      "Features: 1000, RF: 0.5043509615384616, XGB: 0.5479807692307692\n"
     ]
    }
   ],
   "source": [
    "max_features = [100, 200, 500, 1000]\n",
    "\n",
    "rf_estimators = 100\n",
    "xgb_estimators = 100\n",
    "multi_output = False\n",
    "\n",
    "trope_of_interest = \"BittersweetEnding\"\n",
    "\n",
    "multi_label = MultiLabelBinarizer()\n",
    "y = multi_label.fit_transform([set(movie_tropes) for movie_tropes in movie_tropes_subset_dict.values()])\n",
    "trope_idx = list(multi_label.classes_).index(trope_of_interest)\n",
    "\n",
    "num_cv_folds = 10\n",
    "rf_tfidf_dict = defaultdict(int)\n",
    "xgb_tfidf_dict = defaultdict(int)\n",
    "\n",
    "for feature in max_features:\n",
    "    xgb_tfidf = []\n",
    "    rf_tfidf = []\n",
    "    for i in range(num_cv_folds):\n",
    "        X_train_docs, X_test_docs, y_train, y_test = train_test_split(list(all_preprocess_movie_dialogs.values()), \n",
    "                                                                      y[:, trope_idx], train_size=0.8, \n",
    "                                                                      stratify=y[:, trope_idx])\n",
    "        print(f'Train: {len(X_train_docs)}, test: {len(X_test_docs)}')\n",
    "        print(f\"{trope_of_interest}: train ({np.bincount(y_train)}), test ({np.bincount(y_test)})\")\n",
    "\n",
    "        X_train_tfidf_docs = [' '.join(list(x)) for x in X_train_docs]\n",
    "        X_test_tfidf_docs = [' '.join(list(x)) for x in X_test_docs]\n",
    "\n",
    "        tfidf_fit = TfidfVectorizer(max_features=feature, ngram_range=(1, 2), stop_words='english').fit(raw_documents=X_train_tfidf_docs)\n",
    "        X_tfidf_train_vec = tfidf_fit.transform(X_train_tfidf_docs)\n",
    "        X_tfidf_test_vec = tfidf_fit.transform(X_test_tfidf_docs)\n",
    "\n",
    "        rf_auc_class = train_eval_classifiers(X_tfidf_train_vec, X_tfidf_test_vec, y_train, y_test, classifier='rf', \n",
    "                                              n_estimators = rf_estimators)\n",
    "        xgb_auc_class = train_eval_classifiers(X_tfidf_train_vec, X_tfidf_test_vec, y_train, y_test, \n",
    "                                               n_estimators = xgb_estimators)\n",
    "\n",
    "        if multi_output:\n",
    "            print(f\"RF Mean AUC: {round(np.mean(rf_auc_class), 2)}, RF Median AUC: {round(np.median(rf_auc_class), 2)}, RF Min AUC: {round(np.min(rf_auc_class), 2)}, RF Max AUC: {round(np.max(rf_auc_class), 2)}\")\n",
    "            print(f\"XGB Mean AUC: {round(np.mean(xgb_auc_class), 2)}, XGB Median AUC: {round(np.median(xgb_auc_class), 2)}, XGB Min AUC: {round(np.min(xgb_auc_class), 2)}, XGB Max AUC: {round(np.max(xgb_auc_class), 2)}\")\n",
    "        else:\n",
    "            rf_tfidf.append(rf_auc_class)\n",
    "            xgb_tfidf.append(xgb_auc_class)\n",
    "    print(f\"Features: {feature}, RF: {np.mean(rf_tfidf)}, XGB: {np.mean(xgb_tfidf)}\")\n",
    "    rf_tfidf_dict[feature] = np.mean(rf_tfidf)\n",
    "    xgb_tfidf_dict[feature] = np.mean(xgb_tfidf)   "
   ]
  },
  {
   "cell_type": "code",
   "execution_count": null,
   "metadata": {},
   "outputs": [],
   "source": [
    "np.mean(rf_tfidf), np.mean(xgb_tfidf)"
   ]
  },
  {
   "cell_type": "markdown",
   "metadata": {},
   "source": [
    "## Train Doc2Vec model on Movie Scripts"
   ]
  },
  {
   "cell_type": "code",
   "execution_count": null,
   "metadata": {},
   "outputs": [],
   "source": [
    "# Convert documents to TaggedDocument to train doc2vec models\n",
    "documents = [TaggedDocument(doc, [i]) for i, doc in enumerate(all_preprocess_movie_dialogs.values())]\n",
    "len(documents)"
   ]
  },
  {
   "cell_type": "markdown",
   "metadata": {},
   "source": [
    "## Train doc2vec vectors and train xgboost classifier"
   ]
  },
  {
   "cell_type": "code",
   "execution_count": null,
   "metadata": {
    "scrolled": false
   },
   "outputs": [],
   "source": [
    "vector_size = [10, 50, 100, 200]\n",
    "\n",
    "xgb_d2v = []\n",
    "rf_d2v = []\n",
    "\n",
    "trope_of_interest = \"BittersweetEnding\"\n",
    "\n",
    "multi_label = MultiLabelBinarizer()\n",
    "y = multi_label.fit_transform([set(movie_tropes) for movie_tropes in movie_tropes_subset_dict.values()])\n",
    "trope_idx = trope_idx = list(multi_label.classes_).index(trope_of_interest)\n",
    "\n",
    "X_train_docs, X_test_docs, y_train, y_test = train_test_split(documents, y[:, trope_idx], train_size=0.8, \n",
    "                                                              stratify=y[:, trope_idx])\n",
    "\n",
    "for v in vector_size:\n",
    "    dm_model = Doc2Vec(X_train_docs, vector_size=v, min_count=5, dm=1)\n",
    "    dbow_model = Doc2Vec(X_train_docs, vector_size=v, min_count=5, dm=0)\n",
    "\n",
    "    X_train_dm_dv = []\n",
    "    X_train_dbow_dv = []\n",
    "\n",
    "    X_test_dm_dv = []\n",
    "    X_test_dbow_dv = []\n",
    "\n",
    "    for i in range(len(X_train_docs)):\n",
    "        X_train_dm_dv.append(dm_model.docvecs[i])\n",
    "        X_train_dbow_dv.append(dbow_model.docvecs[i])\n",
    "\n",
    "    for i in range(len(X_test_docs)):\n",
    "        X_test_dm_dv.append(dm_model.infer_vector(X_test_docs[i][0]))\n",
    "        X_test_dbow_dv.append(dbow_model.infer_vector(X_test_docs[i][0]))\n",
    "\n",
    "    X_train_dv = pd.concat([pd.DataFrame(X_train_dm_dv), pd.DataFrame(X_train_dbow_dv)], axis=1)\n",
    "    X_test_dv = pd.concat([pd.DataFrame(X_test_dm_dv), pd.DataFrame(X_test_dbow_dv)], axis=1)\n",
    "\n",
    "    X_train_dv.columns = np.arange(X_train_dv.shape[1])\n",
    "    X_test_dv.columns = np.arange(X_test_dv.shape[1])\n",
    "\n",
    "    xgb_auc_class = train_eval_classifiers(X_train_dv, X_test_dv, y_train, y_test)\n",
    "    rf_auc_class = train_eval_classifiers(X_train_dv, X_test_dv, y_train, y_test, classifier='rf')\n",
    "\n",
    "    xgb_d2v.append(xgb_auc_class)\n",
    "    rf_d2v.append(rf_auc_class)"
   ]
  },
  {
   "cell_type": "code",
   "execution_count": null,
   "metadata": {},
   "outputs": [],
   "source": [
    "def plot_auc_scores(rf_result, xgb_result, feature_extraction: str = None, vocab_size: List = None):\n",
    "    \n",
    "    plt.plot(np.arange(len(rf_result)), rf_result, color='red', marker='+', label='Random Forest')\n",
    "    plt.plot(np.arange(len(xgb_result)), xgb_result, color='black', marker='o', label='XGBoost')\n",
    "    plt.axhline(y=0.5, label='Random Guess', linestyle='--', color='blue')\n",
    "    plt.xlabel(f'{feature_extraction} Vocabulary Size')\n",
    "    plt.ylabel('AUC Score')\n",
    "    plt.ylim([0.0, 0.6])\n",
    "    plt.xticks(np.arange(len(vocab_size)), vocab_size, rotation=45)\n",
    "    plt.title(f\"AUC Scores {feature_extraction}\")\n",
    "    plt.legend(loc='upper right')\n",
    "    plt.show()"
   ]
  },
  {
   "cell_type": "code",
   "execution_count": null,
   "metadata": {},
   "outputs": [],
   "source": [
    "plot_auc_scores(rf_tfidf, xgb_tfidf, 'Tf-Idf', max_features)"
   ]
  }
 ],
 "metadata": {
  "kernelspec": {
   "display_name": "Python 3",
   "language": "python",
   "name": "python3"
  },
  "language_info": {
   "codemirror_mode": {
    "name": "ipython",
    "version": 3
   },
   "file_extension": ".py",
   "mimetype": "text/x-python",
   "name": "python",
   "nbconvert_exporter": "python",
   "pygments_lexer": "ipython3",
   "version": "3.6.9"
  }
 },
 "nbformat": 4,
 "nbformat_minor": 4
}
