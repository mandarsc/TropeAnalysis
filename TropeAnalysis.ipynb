{
 "cells": [
  {
   "cell_type": "code",
   "execution_count": 1,
   "metadata": {},
   "outputs": [],
   "source": [
    "import json\n",
    "import logging\n",
    "import os\n",
    "import pickle\n",
    "from typing import List\n",
    "\n",
    "from fuzzywuzzy import fuzz, process\n",
    "import numpy as np\n",
    "import pandas as pd\n",
    "\n",
    "\n",
    "logger = logging.getLogger(__name__)\n",
    "logger.setLevel(logging.INFO)\n",
    "\n",
    "# create console handler and set level to debug\n",
    "ch = logging.StreamHandler()\n",
    "ch.setLevel(logging.INFO)\n",
    "\n",
    "# create formatter\n",
    "formatter = logging.Formatter('%(asctime)s - %(levelname)s - %(message)s')\n",
    "\n",
    "# add formatter to ch\n",
    "ch.setFormatter(formatter)\n",
    "\n",
    "# add ch to logger\n",
    "logger.addHandler(ch)"
   ]
  },
  {
   "cell_type": "markdown",
   "metadata": {},
   "source": [
    "### Load TV Tropes json file"
   ]
  },
  {
   "cell_type": "code",
   "execution_count": 2,
   "metadata": {},
   "outputs": [
    {
     "name": "stderr",
     "output_type": "stream",
     "text": [
      "2020-12-27 23:23:01,284 - INFO - Loading tvtropes json file\n"
     ]
    }
   ],
   "source": [
    "logger.info('Loading tvtropes json file')\n",
    "with open('tvtropes.json', 'rb') as file:\n",
    "    tvtropes_dict = json.loads(file.read())"
   ]
  },
  {
   "cell_type": "code",
   "execution_count": 3,
   "metadata": {},
   "outputs": [
    {
     "data": {
      "text/plain": [
       "(13609,\n",
       " ['ABBATheMovie',\n",
       "  'ABCsOfDeath2',\n",
       "  'ABNKKBSNPLAko',\n",
       "  'ABattleOfWits',\n",
       "  'ABeautifulDayInTheNeighborhood'])"
      ]
     },
     "execution_count": 3,
     "metadata": {},
     "output_type": "execute_result"
    }
   ],
   "source": [
    "len(tvtropes_dict), list(tvtropes_dict.keys())[:5]"
   ]
  },
  {
   "cell_type": "code",
   "execution_count": 5,
   "metadata": {},
   "outputs": [],
   "source": [
    "movie_name_dict = dict()\n",
    "tvtropes_movies_list = list(tvtropes_dict.keys())\n",
    "for movie in tvtropes_movies_list:\n",
    "    movie_name_dict[movie.lower()] = movie"
   ]
  },
  {
   "cell_type": "markdown",
   "metadata": {},
   "source": [
    "### Load movie scripts"
   ]
  },
  {
   "cell_type": "code",
   "execution_count": 6,
   "metadata": {},
   "outputs": [],
   "source": [
    "subdirs = next(os.walk('ScreenPy/ParserOutput/'))[1]"
   ]
  },
  {
   "cell_type": "code",
   "execution_count": 9,
   "metadata": {},
   "outputs": [],
   "source": [
    "def fuzzy_string_match(movie_name:str, movie_list: List[str], partial_match=False):\n",
    "    if partial_match:\n",
    "        movie_match_score = [(x, fuzz.partial_ratio(movie_name, x)) for x in movie_list]\n",
    "    else:\n",
    "        movie_match_score = [(x, fuzz.token_sort_ratio(movie_name, x)) for x in movie_list]\n",
    "    movie_match_score = sorted(movie_match_score, key=lambda x: x[1], reverse=True)\n",
    "    return movie_match_score"
   ]
  },
  {
   "cell_type": "code",
   "execution_count": 10,
   "metadata": {},
   "outputs": [
    {
     "name": "stderr",
     "output_type": "stream",
     "text": [
      "2020-12-27 23:24:22,876 - INFO - Genre: Action\n"
     ]
    }
   ],
   "source": [
    "genre = 'Action'\n",
    "genre_idx = subdirs.index(genre)\n",
    "logger.info(f'Genre: {subdirs[genre_idx]}')\n",
    "movie_tropes_not_found = 0\n",
    "movie_tropes_found = 0\n",
    "movies_match_score_1 = dict()\n",
    "movies_match_score_2 = dict()\n",
    "\n",
    "for file in os.listdir(os.path.join('ScreenPy/ParserOutput/', subdirs[genre_idx])):\n",
    "    if file.endswith('.pkl'):\n",
    "        movie_name = file.split('.pkl')[0]\n",
    "        if movie_name in movie_name_dict.keys():\n",
    "            movies_match_score_1[movie_name] = (movie_name, 100)\n",
    "            movies_match_score_2[movie_name] = (movie_name, 100)\n",
    "        else:\n",
    "            partial_match_score = fuzzy_string_match(movie_name, list(movie_name_dict.keys()), partial_match=True)\n",
    "            token_match_score = fuzzy_string_match(movie_name, list(movie_name_dict.keys()))\n",
    "            \n",
    "            movies_match_score_1[movie_name] = partial_match_score[:5]\n",
    "            movies_match_score_2[movie_name] = token_match_score[:5]"
   ]
  },
  {
   "cell_type": "code",
   "execution_count": 11,
   "metadata": {},
   "outputs": [
    {
     "data": {
      "text/plain": [
       "['Music',\n",
       " 'Short',\n",
       " 'Mystery',\n",
       " 'Biography',\n",
       " 'Musical',\n",
       " 'History',\n",
       " 'Drama',\n",
       " 'Action',\n",
       " 'Sci-Fi',\n",
       " 'War',\n",
       " 'Film-Noir',\n",
       " 'Romance',\n",
       " 'Crime',\n",
       " 'Adventure',\n",
       " 'Animation',\n",
       " 'Horror',\n",
       " 'Family',\n",
       " 'Comedy',\n",
       " 'Western',\n",
       " 'Thriller',\n",
       " 'Fantasy',\n",
       " 'Sport']"
      ]
     },
     "execution_count": 11,
     "metadata": {},
     "output_type": "execute_result"
    }
   ],
   "source": []
  },
  {
   "cell_type": "code",
   "execution_count": 13,
   "metadata": {},
   "outputs": [],
   "source": [
    "for genre in os.listdir(os.path.join('ScreenPy', 'ParserOutput')):\n",
    "    if not os.path.exists(os.path.join('Movie_dialogs', genre)):\n",
    "        os.makedirs(os.path.join('Movie_dialogs', genre))\n",
    "    for file in os.listdir(os.path.join('ScreenPy', 'ParserOutput', genre)):\n",
    "        if file.endswith('.pkl'):\n",
    "            with open(os.path.join('ScreenPy', 'ParserOutput', genre, file), 'rb') as f:\n",
    "                movie_dialog = pickle.load(f)\n",
    "            with open(os.path.join('Movie_dialogs', genre, file), 'wb') as f:\n",
    "                pickle.dump(movie_dialog, f)"
   ]
  },
  {
   "cell_type": "code",
   "execution_count": null,
   "metadata": {},
   "outputs": [],
   "source": [
    "movies_match_score['fugitivethe']"
   ]
  },
  {
   "cell_type": "code",
   "execution_count": null,
   "metadata": {},
   "outputs": [],
   "source": [
    "count = 0\n",
    "for movie_name, trope_movie_name in movies_match_score.items():\n",
    "    if len(trope_movie_name) > 2:\n",
    "#         print(movie_name, trope_movie_name)\n",
    "        count += 1\n",
    "count"
   ]
  },
  {
   "cell_type": "code",
   "execution_count": null,
   "metadata": {},
   "outputs": [],
   "source": [
    "count"
   ]
  },
  {
   "cell_type": "code",
   "execution_count": null,
   "metadata": {},
   "outputs": [],
   "source": [
    "sample_movie = 'fugitive'\n",
    "for movie in movie_name_dict.keys():\n",
    "    if sample_movie in movie:\n",
    "        print(movie, sample_movie)\n",
    "        print(fuzz.token_sort_ratio(movie, sample_movie))"
   ]
  },
  {
   "cell_type": "code",
   "execution_count": null,
   "metadata": {},
   "outputs": [],
   "source": [
    "sorted(token_sort_ratio, key=lambda x: x[1], reverse=True)[:5]"
   ]
  },
  {
   "cell_type": "code",
   "execution_count": null,
   "metadata": {},
   "outputs": [],
   "source": [
    "for movie in movie_name_dict.keys():\n",
    "    if 'darkknight' in movie:\n",
    "        print(movie)"
   ]
  }
 ],
 "metadata": {
  "kernelspec": {
   "display_name": "Python 3",
   "language": "python",
   "name": "python3"
  },
  "language_info": {
   "codemirror_mode": {
    "name": "ipython",
    "version": 3
   },
   "file_extension": ".py",
   "mimetype": "text/x-python",
   "name": "python",
   "nbconvert_exporter": "python",
   "pygments_lexer": "ipython3",
   "version": "3.6.9"
  }
 },
 "nbformat": 4,
 "nbformat_minor": 2
}
