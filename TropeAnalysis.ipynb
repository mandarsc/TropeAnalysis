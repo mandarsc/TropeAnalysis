{
 "cells": [
  {
   "cell_type": "code",
   "execution_count": 1,
   "metadata": {},
   "outputs": [],
   "source": [
    "from collections import defaultdict\n",
    "import json\n",
    "import logging\n",
    "import os\n",
    "from os.path import join\n",
    "import pickle\n",
    "from typing import Dict, List, Tuple\n",
    "\n",
    "from fuzzywuzzy import fuzz, process\n",
    "import numpy as np\n",
    "import pandas as pd\n",
    "\n",
    "\n",
    "logger = logging.getLogger(__name__)\n",
    "logger.setLevel(logging.INFO)\n",
    "\n",
    "# create console handler and set level to debug\n",
    "ch = logging.StreamHandler()\n",
    "ch.setLevel(logging.INFO)\n",
    "\n",
    "# create formatter\n",
    "formatter = logging.Formatter('%(asctime)s - %(levelname)s - %(message)s')\n",
    "\n",
    "# add formatter to ch\n",
    "ch.setFormatter(formatter)\n",
    "\n",
    "# add ch to logger\n",
    "logger.addHandler(ch)"
   ]
  },
  {
   "cell_type": "code",
   "execution_count": 197,
   "metadata": {},
   "outputs": [],
   "source": [
    "DATA_DIR = '/home/mandar/Mandar/Trope Analysis/'"
   ]
  },
  {
   "cell_type": "markdown",
   "metadata": {},
   "source": [
    "## Load TV Tropes json file"
   ]
  },
  {
   "cell_type": "code",
   "execution_count": 198,
   "metadata": {},
   "outputs": [],
   "source": [
    "with open(join(DATA_DIR, 'TropesDataset', 'films_tropes_20190501.json'), 'rb') as file:\n",
    "    tvtropes_dict = json.loads(file.read())"
   ]
  },
  {
   "cell_type": "code",
   "execution_count": 199,
   "metadata": {},
   "outputs": [
    {
     "data": {
      "text/plain": [
       "(11846,\n",
       " ['ABCsOfDeath2',\n",
       "  'ABeautifulDayInTheNeighborhood',\n",
       "  'ABeautifulMind',\n",
       "  'ABetterTomorrow',\n",
       "  'ABirdersGuideToEverything'])"
      ]
     },
     "execution_count": 199,
     "metadata": {},
     "output_type": "execute_result"
    }
   ],
   "source": [
    "len(tvtropes_dict), list(tvtropes_dict.keys())[:5]"
   ]
  },
  {
   "cell_type": "code",
   "execution_count": 200,
   "metadata": {},
   "outputs": [],
   "source": [
    "movie_name_dict = dict()\n",
    "tvtropes_movies_list = list(tvtropes_dict.keys())\n",
    "for movie in tvtropes_movies_list:\n",
    "    movie_name_dict[movie.lower()] = movie"
   ]
  },
  {
   "cell_type": "markdown",
   "metadata": {},
   "source": [
    "## Read movie script filenames and match them with movies in tvtropes"
   ]
  },
  {
   "cell_type": "code",
   "execution_count": 201,
   "metadata": {},
   "outputs": [],
   "source": [
    "subdirs = next(os.walk(join(DATA_DIR, 'ScreenPy/ParserOutput/')))[1]"
   ]
  },
  {
   "cell_type": "code",
   "execution_count": 202,
   "metadata": {},
   "outputs": [],
   "source": [
    "def fuzzy_string_match(movie_name:str, movie_list: List[str], partial_match=False):\n",
    "    if partial_match:\n",
    "        movie_match_score = [(x, fuzz.partial_ratio(movie_name, x)) for x in movie_list]\n",
    "    else:\n",
    "        movie_match_score = [(x, fuzz.token_sort_ratio(movie_name, x)) for x in movie_list]\n",
    "    movie_match_score = sorted(movie_match_score, key=lambda x: x[1], reverse=True)\n",
    "    return movie_match_score"
   ]
  },
  {
   "cell_type": "markdown",
   "metadata": {},
   "source": [
    "## Perform fuzzy matching of movie names with scripts and movie names with tropes"
   ]
  },
  {
   "cell_type": "code",
   "execution_count": 203,
   "metadata": {},
   "outputs": [
    {
     "name": "stderr",
     "output_type": "stream",
     "text": [
      "2021-01-11 19:29:00,143 - INFO - Genre: Action\n"
     ]
    }
   ],
   "source": [
    "genre = 'Action'\n",
    "genre_idx = subdirs.index(genre)\n",
    "logger.info(f'Genre: {subdirs[genre_idx]}')\n",
    "movie_tropes_not_found = 0\n",
    "movie_tropes_found = 0\n",
    "movie_match_score_1 = dict()\n",
    "movie_match_score_2 = dict()\n",
    "\n",
    "for file in os.listdir(join(DATA_DIR, 'ScreenPy', 'ParserOutput', subdirs[genre_idx])):\n",
    "    if file.endswith('.pkl'):\n",
    "        movie_name = file.split('.pkl')[0]\n",
    "        if movie_name in movie_name_dict.keys():\n",
    "            movie_match_score_1[movie_name] = (movie_name, 100)\n",
    "            movie_match_score_2[movie_name] = (movie_name, 100)\n",
    "        else:\n",
    "            partial_match_score = fuzzy_string_match(movie_name, list(movie_name_dict.keys()), partial_match=True)\n",
    "            token_match_score = fuzzy_string_match(movie_name, list(movie_name_dict.keys()))\n",
    "            \n",
    "            movie_match_score_1[movie_name] = partial_match_score[:5]\n",
    "            movie_match_score_2[movie_name] = token_match_score[:5]"
   ]
  },
  {
   "cell_type": "code",
   "execution_count": 205,
   "metadata": {},
   "outputs": [],
   "source": [
    "def find_perfect_match_movies(movie_match_score: Dict[str, List[Tuple[str, int]]]):\n",
    "    perfect_match = 0\n",
    "    perfect_match_movie_dict = dict()\n",
    "    for movie, movie_match in movie_match_score.items():\n",
    "        if len(movie_match) == 2:\n",
    "            if movie == movie_match[0]:\n",
    "                perfect_match += 1\n",
    "                perfect_match_movie_dict[movie] = movie_match[0]\n",
    "        else:\n",
    "            for m in movie_match:\n",
    "                if movie == m[0] or sorted(movie) == sorted(m[0]):\n",
    "                    perfect_match += 1\n",
    "                    perfect_match_movie_dict[movie] = m[0]\n",
    "                    break\n",
    "    return perfect_match_movie_dict"
   ]
  },
  {
   "cell_type": "code",
   "execution_count": 206,
   "metadata": {},
   "outputs": [],
   "source": [
    "perfect_match_movie_dict_1 = find_perfect_match_movies(movie_match_score_1)\n",
    "perfect_match_movie_dict_2 = find_perfect_match_movies(movie_match_score_2)"
   ]
  },
  {
   "cell_type": "code",
   "execution_count": 207,
   "metadata": {},
   "outputs": [
    {
     "data": {
      "text/plain": [
       "(192, 195)"
      ]
     },
     "execution_count": 207,
     "metadata": {},
     "output_type": "execute_result"
    }
   ],
   "source": [
    "len(perfect_match_movie_dict_1), len(perfect_match_movie_dict_2)"
   ]
  },
  {
   "cell_type": "code",
   "execution_count": 208,
   "metadata": {},
   "outputs": [],
   "source": [
    "l1 = []\n",
    "l2 = []\n",
    "for movie, movie_match in perfect_match_movie_dict_2.items():\n",
    "    l1.append(movie)\n",
    "    l2.append(movie_name_dict[movie_match])"
   ]
  },
  {
   "cell_type": "code",
   "execution_count": 209,
   "metadata": {},
   "outputs": [],
   "source": [
    "movie_match_df = pd.DataFrame(l1, columns=['Movie_Script'])\n",
    "movie_match_df['Movie_trope'] = l2"
   ]
  },
  {
   "cell_type": "code",
   "execution_count": 210,
   "metadata": {},
   "outputs": [
    {
     "data": {
      "text/html": [
       "<div>\n",
       "<style scoped>\n",
       "    .dataframe tbody tr th:only-of-type {\n",
       "        vertical-align: middle;\n",
       "    }\n",
       "\n",
       "    .dataframe tbody tr th {\n",
       "        vertical-align: top;\n",
       "    }\n",
       "\n",
       "    .dataframe thead th {\n",
       "        text-align: right;\n",
       "    }\n",
       "</style>\n",
       "<table border=\"1\" class=\"dataframe\">\n",
       "  <thead>\n",
       "    <tr style=\"text-align: right;\">\n",
       "      <th></th>\n",
       "      <th>Movie_Script</th>\n",
       "      <th>Movie_trope</th>\n",
       "    </tr>\n",
       "  </thead>\n",
       "  <tbody>\n",
       "    <tr>\n",
       "      <th>0</th>\n",
       "      <td>ninjaassassin</td>\n",
       "      <td>NinjaAssassin</td>\n",
       "    </tr>\n",
       "    <tr>\n",
       "      <th>1</th>\n",
       "      <td>landofthedead</td>\n",
       "      <td>LandOfTheDead</td>\n",
       "    </tr>\n",
       "    <tr>\n",
       "      <th>2</th>\n",
       "      <td>meninblack3</td>\n",
       "      <td>MenInBlack3</td>\n",
       "    </tr>\n",
       "    <tr>\n",
       "      <th>3</th>\n",
       "      <td>perfectcreature</td>\n",
       "      <td>PerfectCreature</td>\n",
       "    </tr>\n",
       "    <tr>\n",
       "      <th>4</th>\n",
       "      <td>ghostandthedarknessthe</td>\n",
       "      <td>TheGhostAndTheDarkness</td>\n",
       "    </tr>\n",
       "  </tbody>\n",
       "</table>\n",
       "</div>"
      ],
      "text/plain": [
       "             Movie_Script             Movie_trope\n",
       "0           ninjaassassin           NinjaAssassin\n",
       "1           landofthedead           LandOfTheDead\n",
       "2             meninblack3             MenInBlack3\n",
       "3         perfectcreature         PerfectCreature\n",
       "4  ghostandthedarknessthe  TheGhostAndTheDarkness"
      ]
     },
     "execution_count": 210,
     "metadata": {},
     "output_type": "execute_result"
    }
   ],
   "source": [
    "movie_match_df.head()"
   ]
  },
  {
   "cell_type": "code",
   "execution_count": 211,
   "metadata": {},
   "outputs": [],
   "source": [
    "movie_match_df.to_csv('action_movie_script_trope_match_2.csv')"
   ]
  },
  {
   "cell_type": "code",
   "execution_count": 212,
   "metadata": {},
   "outputs": [
    {
     "name": "stdout",
     "output_type": "stream",
     "text": [
      "batman [('antman', 83), ('bataan', 83), ('thebatman', 80), ('batman1989', 75), ('blankman', 71)]\n",
      "godzilla [('godzilla1954', 80), ('godzilla1998', 80), ('godzilla2000', 80), ('godzilla2014', 80), ('shingodzilla', 80)]\n",
      "someonetowatchoverme [('iwantsomeonetoeatcheesewith', 64), ('somewhere', 62), ('sweetwater', 60), ('onetwothree', 58), ('onetouchofvenus', 57)]\n",
      "escapefroml.a. [('escapefromla', 88), ('escaperoom', 78), ('escapefromalcatraz', 71), ('escapefromnewyork', 67), ('escapefromsobibor', 67)]\n",
      "kingdomthe [('vikingdom', 74), ('kingdomofheaven', 72), ('kingofthieves', 70), ('kingdomofthespiders', 69), ('kingofhearts', 64)]\n",
      "rush [('crush', 89), ('hush', 75), ('push', 75), ('crash', 67), ('cyrus', 67)]\n",
      "heavymetal [('whenharrymetsally', 67), ('turbulence3heavymetal', 65), ('heavyweights', 64), ('heavytrip', 63), ('navyseals', 63)]\n",
      "megamind [('homeagain', 71), ('mermaid', 67), ('meganismissing', 64), ('masterminds', 63), ('theomegaman', 63)]\n",
      "maskthe [('askfather', 75), ('mash', 73), ('mask', 73), ('smashed', 71), ('maxsteel', 67)]\n",
      "hellboy [('thebellboy', 82), ('hellboy2004', 78), ('hellboy2019', 78), ('theboy', 77), ('hellbound', 75)]\n",
      "arcticblue [('arctic', 75), ('anarctictale', 73), ('catsickblues', 73), ('darkblue', 67), ('apatchofblue', 64)]\n",
      "conanthebarbarian [('conanthebarbarian1982', 89), ('conanthebarbarian2011', 89), ('thebarbarians', 80), ('thelibrarian', 69), ('thebargain', 67)]\n",
      "30minutesorless [('thirtyminutesorless', 76), ('tenitemsorless', 69), ('mindhunters', 62), ('mistress', 61), ('midnightexpress', 60)]\n",
      "austinpowersthespywhoshaggedme [('austinpowers', 57), ('thespywholovedme', 57), ('thespywhodumpedme', 55), ('frankensteinconquerstheworld', 52), ('northwestpassage', 52)]\n",
      "kungfupanda [('kungfury', 63), ('knightandday', 61), ('kundun', 59), ('kingpin', 56), ('onguard', 56)]\n",
      "piratesofthecaribbean [('piratesofthecaribbeanatworldsend', 79), ('piratesofthecaribbeandeadmanschest', 76), ('piratesofthecaribbeanonstrangertides', 74), ('piratesofthecaribbeandeadmentellnotales', 70), ('gatesofheaven', 65)]\n",
      "lordoftheringsfellowshipoftheringthe [('thelordoftheringsthefellowshipofthering', 88), ('thelordoftheringsthereturnoftheking', 65), ('thelordoftheringsthetwotowers', 62), ('fromthelifeofthemarionettes', 57), ('thelordofthegstrings', 57)]\n",
      "rambofirstbloodiithemission [('rambofirstbloodpartii', 75), ('amityvilleiithepossession', 58), ('tremors5bloodlines', 58), ('firstblood', 54), ('kamenriderblademissingace', 54)]\n",
      "dawnofthedead [('danceofthedead', 89), ('dawnofthedead1978', 87), ('dawnofthedead2004', 87), ('juanofthedead', 85), ('landofthedead', 85)]\n",
      "fantasticfour [('thefantasticfour', 90), ('fantasticfour2005', 87), ('fantasticfour2015', 87), ('fantastica', 78), ('afantasticwoman', 71)]\n",
      "batman2 [('antman', 77), ('bataan', 77), ('thebatman', 75), ('batman1989', 71), ('bat21', 67)]\n",
      "ghostbusters2 [('ghostbusters3', 92), ('ghostbusters2016', 90), ('ghostbustersii', 89), ('ghostbusters1984', 83), ('ghoststorm', 70)]\n",
      "jimmyandjudy [('momanddad', 57), ('julieandjulia', 56), ('jumanji', 53), ('christmasinjuly', 52), ('imaginemeandyou', 52)]\n",
      "freddyvs.jason [('freddyvsjason', 96), ('friendlypersuasion', 62), ('deadseason', 58), ('redsonja', 55), ('threeseasons', 54)]\n",
      "chroniclesofnarniathelionthewitchandthewardrobe [('thelionthewitchandthewardrobe', 76), ('thechroniclesofnarnia', 53), ('professormarstonandthewonderwomen', 52), ('childrenofthecornivthegathering', 51), ('conquestoftheplanetoftheapes', 51)]\n",
      "2012 [('safe2012', 67), ('ghost2012', 62), ('it2017', 60), ('we2011', 60), ('amy2015', 55)]\n",
      "walkingtall [('walkingtall1973', 85), ('walkingtall2004', 85), ('halonightfall', 67), ('atalkingcat', 64), ('darlinglili', 64)]\n",
      "diehard [('diehard2', 93), ('gethard', 71), ('diner', 67), ('dread', 67), ('firehead', 67)]\n",
      "terminator2judgementday [('terminator2judgmentday', 98), ('terminatorgenisys', 70), ('hellraiserjudgement', 62), ('terminatordarkfate', 59), ('angermanagement', 58)]\n",
      "lordoftheringsthetwotowers [('thelordoftheringsthetwotowers', 95), ('thelordoftheringsthereturnoftheking', 69), ('thelordoftheringsthefellowshipofthering', 68), ('thelordoftherings', 65), ('thelordofthegstrings', 61)]\n",
      "starwarstheempirestrikesback [('theempirestrikesback', 83), ('moscowstrikesback', 58), ('jayandsilentbobstrikeback', 57), ('journeytothewestthedemonsstrikeback', 57), ('startreknemesis', 56)]\n",
      "thelmalouise [('thelmaandlouise', 89), ('theplayhouse', 75), ('themountie', 73), ('themaids', 70), ('eloise', 67)]\n",
      "brokenarrow [('brokenarrow1950', 85), ('brokenarrow1996', 85), ('brokenflowers', 67), ('redsparrow', 67), ('brendastarr', 64)]\n",
      "wildthingsdiamondsintherough [('thegiantgilamonster', 60), ('theindianinthecupboard', 56), ('whiteshadowsinthesouthseas', 56), ('smilinthrough', 54), ('thewindandthelion', 53)]\n",
      "transformersthemovie [('transformersdarkofthemoon', 76), ('transformers', 75), ('talesfromthedarksidethemovie', 71), ('transformersfilmseries', 71), ('transformersthelastknight', 71)]\n",
      "priest [('priest1994', 75), ('priest2011', 75), ('pieta', 73), ('pride', 73), ('spies', 73)]\n",
      "iamnumberfour [('mumford', 60), ('magnumforce', 58), ('dumbanddumberto', 57), ('iamnotyournegro', 57), ('umbertod', 57)]\n",
      "perfectworlda [('supersentaiworld', 69), ('aperfectmurder', 67), ('aperfectgetaway', 64), ('perfectcreature', 64), ('perfectstranger', 64)]\n",
      "saintthe [('imnotthere', 67), ('lanotte', 67), ('safeinhell', 67), ('slither', 67), ('starinthenight', 64)]\n",
      "hellboy2thegoldenarmy [('hellboyiithegoldenarmy', 93), ('themanwiththegoldenarm', 65), ('hellofthelivingdead', 60), ('thelegendofthe7goldenvampires', 60), ('thegoldencoach', 57)]\n",
      "mechanicthe [('enchanted', 70), ('americanpie', 64), ('timechanger', 64), ('cmedance', 63), ('comanche', 63)]\n",
      "15minutes [('mindhunters', 70), ('minutemen', 67), ('mixednuts', 67), ('inbruges', 59), ('mistress', 59)]\n",
      "startrek [('startrek2009', 80), ('starstruck', 78), ('stargate', 75), ('startheatre', 74), ('startrekbeyond', 73)]\n",
      "starwarsthephantommenace [('thephantommenace', 80), ('starwarsrevelations', 60), ('thephantomempire', 60), ('thephantomplanet', 60), ('kissmeetsthephantomofthepark', 58)]\n",
      "starwarsreturnofthejedi [('returnofthejedi', 79), ('thereturnofthelivingdead', 60), ('returnofthefly', 59), ('returnofthelivingdead', 59), ('shaunofthedead', 59)]\n",
      "howtotrainyourdragon2 [('paintyourwagon', 63), ('thatthingyoudo', 57), ('wayofthedragon', 57), ('traintobusan', 55), ('facingyourdanger', 54)]\n",
      "missionimpossible [('missionimpossibleii', 94), ('missionimpossibleiii', 92), ('missionimpossible1996', 89), ('missionimpossiblefallout', 83), ('missionimpossiblefilmseries', 77)]\n",
      "thingthe [('theintern', 71), ('theringer', 71), ('hatchingpete', 70), ('theninthgate', 70), ('thingschange', 70)]\n",
      "cryinggame [('thecryinggame', 87), ('biggame', 71), ('survivingthegame', 62), ('thestarvinggames', 62), ('reindeergames', 61)]\n",
      "planetoftheapesthe [('planetoftheapes1968', 81), ('planetoftheapes2001', 81), ('planetofthevampires', 81), ('dawnoftheplanetoftheapes', 71), ('riseoftheplanetoftheapes', 71)]\n",
      "evildeadiideadbydawn [('evildeadtrap', 56), ('houseofthedeadiideadaim', 56), ('evildead2', 55), ('deadbeforedawn', 53), ('redheadedwoman', 53)]\n",
      "avengersthe [('avengersendgame', 69), ('avengersgrimm', 67), ('centerstage', 64), ('heavenandearth', 64), ('heavensgate', 64)]\n",
      "g.i.jane [('gijane', 86), ('giant', 62), ('vigilante', 59), ('gia', 55), ('bigjake', 53)]\n",
      "48hrs. [('horns', 60), ('shorts', 55), ('thirst', 55), ('hackers', 50), ('her', 50)]\n",
      "g.i.joetheriseofcobra [('gijoetheriseofcobra', 95), ('thearistocrats', 57), ('thecurseoflallorona', 55), ('thealienfactor', 51), ('thebarberofsiberia', 51)]\n",
      "cars2 [('icarus', 73), ('canaris', 67), ('carwash', 67), ('orcwars', 67), ('carriers', 62)]\n",
      "sherlockholmes [('sherlockholmes2009', 88), ('youngsherlockholmes', 85), ('sherlockholmesinnewyork', 76), ('theblackhole', 69), ('sherlockholmesagameofshadows', 67)]\n",
      "pointbreak [('pointbreak1991', 83), ('pointbreak2015', 83), ('pointblank', 80), ('outbreak', 78), ('dontbreathe', 67)]\n",
      "mummythe [('mammoth', 67), ('dummy', 62), ('luther', 57), ('mayhem', 57), ('themummyshand', 57)]\n",
      "terminator [('theterminator', 87), ('ninjaterminator', 80), ('theexterminator', 80), ('eliminators', 76), ('thecremator', 76)]\n",
      "indianajonesandtheraidersofthelostark [('indianajonesandthekingdomofthecrystalskull', 73), ('indianajonesandthelastcrusade', 70), ('raidersofthelostark', 68), ('indianajonesandthetempleofdoom', 66), ('dontbeafraidofthedark', 59)]\n",
      "threemusketeersthe [('themusketeer', 80), ('thethreemusketeers1921', 75), ('thethreemusketeers1948', 75), ('thethreemusketeers1953', 75), ('thethreemusketeers1961', 75)]\n",
      "debtthe [('butter', 62), ('deathbell', 62), ('deathrace', 62), ('identitythief', 60), ('odetomyfather', 60)]\n",
      "jurassicparkthelostworld [('jurassicworld', 70), ('jurassicpark', 67), ('thelostworld', 67), ('warriorofthelostworld', 67), ('jurassicparkiii', 62)]\n",
      "boondocksaints2allsaintsday [('theboondocksaints', 64), ('bloodontheland', 54), ('kidsinthehallbraincandy', 52), ('lindalindalinda', 52), ('sintakesaholiday', 51)]\n",
      "alienvs.predator [('alienvspredator', 97), ('aliensvspredatorrequiem', 77), ('predator', 67), ('thepredator', 67), ('predator2', 64)]\n",
      "killbillvolume12 [('killbill', 67), ('killingzoe', 54), ('biloxiblues', 52), ('wildbill', 50), ('hillbillysinahauntedhouse', 49)]\n",
      "xmen [('xmen1', 89), ('amen', 75), ('menu', 75), ('axeman', 60), ('gunmen', 60)]\n",
      "cirquedufreakthevampiresassistant [('creaturewiththeatombrain', 53), ('buffythevampireslayer', 52), ('deathofapresident', 52), ('graveofthevampire', 52), ('thevampirebat', 52)]\n",
      "austinpowersinternationalmanofmystery [('sanfranciscointernationalairport', 58), ('theinternational', 57), ('snowwhiteataleofterror', 54), ('irrationalman', 52), ('thenextgenerationpatlabor', 52)]\n",
      "aloneinthedark [('aloneinthedark1982', 88), ('aloneinthedark2005', 88), ('dancerinthedark', 83), ('ashotinthedark', 79), ('eyesinthedark', 74)]\n",
      "rockthe [('brother', 71), ('rockthekasbah', 70), ('brother2', 67), ('locke', 67), ('ricochet', 67)]\n",
      "lordoftheringsreturnoftheking [('thelordoftheringsthereturnoftheking', 91), ('thelordoftheringsthefellowshipofthering', 68), ('thelordoftheringsthetwotowers', 66), ('thelordofthegstrings', 65), ('dotherightthing', 64)]\n",
      "italianjobthe [('italianomedio', 69), ('theitalianjob1969', 67), ('theitalianjob2003', 67), ('latalante', 64), ('theitalian', 61)]\n",
      "tmnt [('torment', 73), ('atonement', 62), ('testament', 62), ('tormented', 62), ('antman', 60)]\n",
      "gonein60seconds [('goneinsixtyseconds1974', 70), ('goneinsixtyseconds2000', 70), ('seventeenseconds', 65), ('seconds', 64), ('ninesongs', 58)]\n",
      "americanshaolinkingofkickboxersii [('americansniper', 55), ('anamericanhaunting', 55), ('gamera3awakeningofirys', 55), ('americanpsycho2allamericangirl', 54), ('americangangster', 53)]\n",
      "clashofthetitans [('clashofthetitans1981', 89), ('clashofthetitans2010', 89), ('clashofthewolves', 69), ('thelastofthemohicans', 67), ('raisethetitanic', 65)]\n",
      "spiderman [('spiderman1', 95), ('spiderman2', 95), ('spiderman3', 95), ('superman', 82), ('spider', 80)]\n",
      "scarface [('scarface1932', 80), ('scarface1983', 80), ('scaramouche', 74), ('character', 71), ('carnage', 67)]\n",
      "threekingsspoilsofwar [('threekings', 65), ('thesinglesward', 63), ('theinvisiblewar', 61), ('thebeastofwar', 59), ('thekingsofsummer', 59)]\n",
      "siegethe [('siege', 77), ('siegeofthedead', 73), ('sweethome', 71), ('siegeofthesaxons', 67), ('slither', 67)]\n",
      "flashgordon [('flashgordon1980', 85), ('flashgordonserial', 79), ('flashpoint', 67), ('flashdance', 67), ('losthorizon', 64)]\n",
      "starwarsanewhope [('anewhope', 67), ('starwarsewokadventures', 63), ('thestarwarsholidayspecial', 59), ('starwarsrevelations', 57), ('starcrash', 56)]\n",
      "totalrecall [('totalrecall1990', 85), ('totalrecall2012', 85), ('thecall', 67), ('talesforall', 64), ('thewolfscall', 61)]\n",
      "crowthe [('brother', 71), ('brother2', 67), ('coldweather', 67), ('arrowhead', 62), ('capote', 62)]\n",
      "manintheironmask [('themanintheironmask', 91), ('theironmask', 81), ('theironmask1962', 71), ('womaninthemoon', 67), ('themaninthemoon', 65)]\n",
      "cowboysaliens [('cowboysandaliens', 90), ('cowboysvsdinosaurs', 65), ('borsalino', 64), ('aliens', 63), ('bodyoflies', 61)]\n",
      "badcountry [('darkcountry', 76), ('townandcountry', 75), ('badcompany', 70), ('thebigcountry', 70), ('thefarcountry', 70)]\n",
      "timemachinethe [('themachine', 75), ('hottubtimemachine', 71), ('hottubtimemachine2', 69), ('themachinist', 69), ('thetimemachine1960', 69)]\n",
      "oblivion [('oblivion1994', 80), ('oblivion2013', 80), ('coalition', 71), ('lion', 67), ('livinginoblivion', 67)]\n",
      "returnoftheapes [('returnofthejedi', 80), ('tarzanoftheapes', 80), ('returnofthefly', 76), ('timeoftheapes', 71), ('denofthieves', 67)]\n",
      "starwarsattackoftheclones [('attackoftheclones', 81), ('attackofthecrabmonsters', 67), ('attackofthemoonzombies', 64), ('trackofthemoonbeast', 64), ('attackofthekillertomatoes', 60)]\n",
      "indianajonesiv [('indian', 60), ('canadianbacon', 59), ('indigenous', 58), ('thedefiantones', 57), ('carmenjones', 56)]\n",
      "rushhour2 [('rushhour', 94), ('rushmore', 71), ('rush2013', 59), ('zerohour', 59), ('darkesthour2017', 58)]\n"
     ]
    }
   ],
   "source": [
    "for movie, movie_match in movie_match_score_2.items():\n",
    "    if movie not in perfect_match_movie_dict_2.keys():\n",
    "        print(movie, movie_match)"
   ]
  },
  {
   "cell_type": "code",
   "execution_count": 242,
   "metadata": {},
   "outputs": [
    {
     "name": "stdout",
     "output_type": "stream",
     "text": [
      "rushhour RushHour\n"
     ]
    }
   ],
   "source": [
    "for movie, trope_movie in movie_name_dict.items():\n",
    "    if 'rushhour' in movie:\n",
    "        print(movie, trope_movie)"
   ]
  },
  {
   "cell_type": "code",
   "execution_count": 244,
   "metadata": {},
   "outputs": [
    {
     "data": {
      "text/plain": [
       "814"
      ]
     },
     "execution_count": 244,
     "metadata": {},
     "output_type": "execute_result"
    }
   ],
   "source": [
    "len(tvtropes_dict['TheDarkKnightRises'])"
   ]
  },
  {
   "cell_type": "code",
   "execution_count": 245,
   "metadata": {},
   "outputs": [],
   "source": [
    "def save_movie_dialog_files():\n",
    "    for genre in os.listdir(os.path.join('ScreenPy', 'ParserOutput')):\n",
    "        if not os.path.exists(os.path.join('Movie_dialogs', genre)):\n",
    "            os.makedirs(os.path.join('Movie_dialogs', genre))\n",
    "        for file in os.listdir(os.path.join('ScreenPy', 'ParserOutput', genre)):\n",
    "            if file.endswith('.pkl'):\n",
    "                with open(os.path.join('ScreenPy', 'ParserOutput', genre, file), 'rb') as f:\n",
    "                    movie_dialog = pickle.load(f)\n",
    "                with open(os.path.join('Movie_dialogs', genre, file), 'wb') as f:\n",
    "                    pickle.dump(movie_dialog, f)"
   ]
  }
 ],
 "metadata": {
  "kernelspec": {
   "display_name": "Python 3",
   "language": "python",
   "name": "python3"
  },
  "language_info": {
   "codemirror_mode": {
    "name": "ipython",
    "version": 3
   },
   "file_extension": ".py",
   "mimetype": "text/x-python",
   "name": "python",
   "nbconvert_exporter": "python",
   "pygments_lexer": "ipython3",
   "version": "3.6.9"
  }
 },
 "nbformat": 4,
 "nbformat_minor": 2
}
